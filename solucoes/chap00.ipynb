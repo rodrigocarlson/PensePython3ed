{
  "cells": [
    {
      "cell_type": "markdown",
      "id": "1331faa1",
      "metadata": {
        "id": "1331faa1"
      },
      "source": [
        "Você pode adquirir versões impressas e de e-book do *Think Python 3e* (em inglês) em\n",
        "[Bookshop.org](https://bookshop.org/a/98697/9781098155438) e\n",
        "[Amazon](https://www.amazon.com/_/dp/1098155432?smid=ATVPDKIKX0DER&_encoding=UTF8&tag=oreilly20-20&_encoding=UTF8&tag=greenteapre01-20&linkCode=ur2&linkId=e2a529f94920295d27ec8a06e757dc7c&camp=1789&creative=9325).\n",
        "\n",
        "Uma versão em língua portuguesa da 3ª edição foi publicada pela editora [Novatec](https://novatec.com.br/livros/pense-em-python-3ed/)"
      ]
    },
    {
      "cell_type": "markdown",
      "id": "d9724920",
      "metadata": {
        "id": "d9724920"
      },
      "source": [
        "# Prefácio"
      ]
    },
    {
      "cell_type": "markdown",
      "id": "b76f38c6",
      "metadata": {
        "id": "b76f38c6"
      },
      "source": [
        "## Para quem é este livro?\n",
        "\n",
        "Se você quer aprender a programar, você veio ao lugar certo.\n",
        "Python é uma das melhores linguagens de programação para iniciantes -- e também é uma das habilidades mais procuradas.\n",
        "\n",
        "Você também veio na hora certa, porque aprender a programar agora é provavelmente mais fácil do que nunca.\n",
        "Com assistentes virtuais como ChatGPT, você não precisa aprender sozinho.\n",
        "Ao longo deste livro, sugerirei maneiras de usar essas ferramentas para acelerar seu aprendizado.\n",
        "\n",
        "Este livro é principalmente para pessoas que nunca programaram antes e pessoas que têm alguma experiência em outra linguagem de programação.\n",
        "Se você tem experiência substancial em Python, poderá achar os primeiros capítulos muito lentos.\n",
        "\n",
        "Um dos desafios de aprender a programar é que você tem que aprender *duas* linguagens: uma é a linguagem de programação em si; a outra é o vocabulário que usamos para falar sobre programas.\n",
        "Se você aprender apenas a linguagem de programação, provavelmente terá problemas quando precisar interpretar uma mensagem de erro, ler documentação, falar com outra pessoa ou usar assistentes virtuais.\n",
        "Se você já programou alguma vez mas não aprendeu essa segunda linguagem, espero que ache este livro útil."
      ]
    },
    {
      "cell_type": "markdown",
      "id": "b4dd57bc",
      "metadata": {
        "id": "b4dd57bc"
      },
      "source": [
        "## Objetivos do livro\n",
        "\n",
        "Ao escrever este livro, tentei ser cuidadoso com o vocabulário.\n",
        "Defino cada termo quando ele aparece pela primeira vez.\n",
        "E há um glossário no final de cada capítulo que revisa os termos que foram introduzidos.\n",
        "\n",
        "Também tentei ser conciso.\n",
        "Quanto menos esforço mental for necessário para ler o livro, mais capacidade você terá para programar.\n",
        "\n",
        "Mas você não pode aprender a programar apenas lendo um livro -- você tem que praticar.\n",
        "Por esse motivo, este livro inclui exercícios no final de cada capítulo, onde você pode praticar o que aprendeu.\n",
        "\n",
        "Se você ler com atenção e trabalhar nos exercícios consistentemente, você fará progresso.\n",
        "Mas vou avisá-lo agora -- aprender a programar não é fácil, e mesmo para programadores experientes pode ser frustrante.\n",
        "À medida que avançamos, sugerirei estratégias para ajudá-lo a escrever programas corretos e corrigir os incorretos."
      ]
    },
    {
      "cell_type": "markdown",
      "id": "6516d914",
      "metadata": {
        "id": "6516d914"
      },
      "source": [
        "## Navegando pelo livro\n",
        "\n",
        "Cada capítulo deste livro se baseia nos anteriores, então você deve lê-los em ordem e dedicar um tempo para trabalhar nos exercícios antes de prosseguir.\n",
        "\n",
        "Os seis primeiros capítulos apresentam elementos básicos como aritmética, condicionais e laços de repetição.\n",
        "Eles também apresentam o conceito mais importante em programação, funções, e uma maneira poderosa de usá-las, recursão.\n",
        "\n",
        "Os Capítulos 7 e 8 apresentam *strings* -- que podem representar letras, palavras e frases -- e algoritmos para trabalhar com elas.\n",
        "\n",
        "Os Capítulos 9 a 12 apresentam as principais estruturas de dados do Python — listas, dicionários e tuplas — que são ferramentas poderosas para escrever programas eficientes.\n",
        "O Capítulo 12 apresenta algoritmos para analisar texto e gerar novos textos aleatoriamente.\n",
        "Algoritmos como esses estão no centro de grandes modelos de linguagem (*Large Language Models* - LLMs), então este capítulo lhe dará uma ideia de como ferramentas como o ChatGPT funcionam.\n",
        "\n",
        "O Capítulo 13 é sobre maneiras de armazenar dados em armazenamento de longo prazo — arquivos e bancos de dados.\n",
        "Como exercício, você pode escrever um programa que pesquisa um sistema de arquivos e encontra arquivos duplicados.\n",
        "\n",
        "Os Capítulos 14 a 17 apresentam a programação orientada a objetos (POO), que é uma maneira de organizar programas e os dados com os quais eles trabalham.\n",
        "Muitas bibliotecas Python são escritas em estilo orientado a objetos, então esses capítulos ajudarão você a entender seu projeto -- e definir seus próprios objetos.\n",
        "\n",
        "O objetivo deste livro não é cobrir toda a linguagem Python.\n",
        "Em vez disso, concentro-me em um subconjunto da linguagem que fornece a maior capacidade com o menor número de conceitos.\n",
        "No entanto, Python tem muitos recursos que você pode usar para resolver problemas comuns de forma eficiente.\n",
        "O Capítulo 18 apresenta alguns desses recursos.\n",
        "\n",
        "Finalmente, o Capítulo 19 apresenta meus pensamentos de despedida e sugestões para continuar sua jornada de programação."
      ]
    },
    {
      "cell_type": "markdown",
      "id": "23013838",
      "metadata": {
        "id": "23013838"
      },
      "source": [
        "## O que há de novo na terceira edição?\n",
        "\n",
        "As maiores mudanças nesta edição foram impulsionadas por duas novas tecnologias -- Jupyter *notebooks* e assistentes virtuais.\n",
        "\n",
        "Cada capítulo deste livro é um Jupyter *notebook*, que é um documento que contém texto e código.\n",
        "Para mim, isso torna mais fácil escrever o código, testá-lo e mantê-lo consistente com o texto.\n",
        "Para você, significa que você pode executar o código, modificá-lo e trabalhar nos exercícios, tudo em um só lugar.\n",
        "As instruções para trabalhar com os notebooks estão no primeiro capítulo.\n",
        "\n",
        "A outra grande mudança é que adicionei conselhos para trabalhar com assistentes virtuais como o ChatGPT e usá-los para acelerar seu aprendizado.\n",
        "Quando a edição anterior deste livro foi publicada em 2016, os predecessores dessas ferramentas eram muito menos úteis e a maioria das pessoas não os conhecia.\n",
        "Agora, eles são uma ferramenta padrão para engenharia de software e acho que serão uma ferramenta transformadora para aprender a programar -- e aprender muitas outras coisas também.\n",
        "\n",
        "As outras mudanças no livro foram motivadas por meus arrependimentos sobre a segunda edição.\n",
        "\n",
        "A primeira é que não enfatizei os testes de software.\n",
        "Essa já era uma omissão lamentável em 2016, mas com o advento dos assistentes virtuais, os testes automatizados se tornaram ainda mais importantes.\n",
        "Então, esta edição apresenta as ferramentas de teste mais amplamente usadas do Python, `doctest` e `unittest`, e inclui vários exercícios com os quais você pode praticar trabalhar com elas.\n",
        "\n",
        "Meu outro arrependimento é que os exercícios na segunda edição eram desbalanceadps — alguns eram mais interessantes do que outros e alguns eram muito difíceis.\n",
        "Mudar para os *notebooks* Jupyter me ajudou a desenvolver e testar uma sequência de exercícios mais envolvente e eficaz.\n",
        "\n",
        "Nesta revisão, a sequência de tópicos é quase a mesma, mas reorganizei alguns capítulos e compactei dois capítulos curtos em um.\n",
        "Além disso, expandi a cobertura de strings para incluir expressões regulares.\n",
        "\n",
        "Alguns capítulos usam gráficos *turtle*.\n",
        "Em edições anteriores, usei o módulo `turtle` do Python, mas infelizmente ele não funciona em *notebooks* Jupyter.\n",
        "Então, substituí-o por um novo módulo *turtle* que deve ser mais fácil de usar.\n",
        "\n",
        "Finalmente, reescrevi uma fração substancial do texto, esclarecendo em lugares que precisavam e cortando em lugares onde não fui tão conciso quanto poderia ser.\n",
        "\n",
        "Estou muito orgulhoso desta nova edição -- espero que você goste!"
      ]
    },
    {
      "cell_type": "markdown",
      "id": "bfb779bb",
      "metadata": {
        "id": "bfb779bb"
      },
      "source": [
        "## Primeiros passos\n",
        "\n",
        "Para a maioria das linguagens de programação, incluindo Python, há muitas ferramentas que você pode usar para escrever e executar programas.\n",
        "Essas ferramentas são chamadas de ambientes de desenvolvimento integrados (*Integrated Development Environments* - IDEs).\n",
        "Em geral, há dois tipos de IDEs:\n",
        "\n",
        "* Algumas trabalham com arquivos que contêm código, então elas fornecem ferramentas para editar e executar esses arquivos.\n",
        "\n",
        "* Outras trabalham principalmente com *notebooks*, que são documentos que contêm texto e código.\n",
        "\n",
        "Para iniciantes, recomendo começar com um ambiente de desenvolvimento de *notebook* como o Jupyter.\n",
        "\n",
        "Os notebooks para este livro estão disponíveis em um repositório online em <https://rodrigocarlson.github.io/PensePython3ed/>.\n",
        "\n",
        "Há duas maneiras de usá-los:\n",
        "\n",
        "* Você pode baixar os *notebooks* e executá-los em seu próprio computador. Nesse caso, você tem que instalar o Python e o Jupyter, o que não é difícil. Mas se você quiser aprender Python, pode ser frustrante gastar muito tempo instalando software.\n",
        "\n",
        "* Uma alternativa é executar os notebooks no Colab, que é um ambiente Jupyter que roda em um navegador da web, então você não precisa instalar nada. O Colab é operado pelo Google e é e uso gratuito.\n",
        "\n",
        "Se você está apenas começando, recomendo fortemente que comece com o Colab."
      ]
    },
    {
      "cell_type": "markdown",
      "id": "2ebd2412",
      "metadata": {
        "id": "2ebd2412"
      },
      "source": [
        "## Recursos para professores\n",
        "\n",
        "Se você estiver ensinando com este livro, aqui estão alguns recursos que você pode achar úteis.\n",
        "\n",
        "* Você pode encontrar *notebooks* com soluções para os exercícios em <https://rodrigocarlson.github.io/PensePython3ed/> (em português) ou <https://allendowney.github.io/ThinkPython> (em inglês), junto com links para os recursos adicionais abaixo.\n",
        "\n",
        "* Questionários para cada capítulo e um questionário somativo para todo o livro estão disponíveis mediante solicitação (em inglês).\n",
        "\n",
        "* *Teaching and Learning with Jupyter* é um livro online com sugestões para usar o Jupyter efetivamente na sala de aula. Você pode ler o livro em <https://jupyter4edu.github.io/jupyter-edu-book> (em inglês).\n",
        "\n",
        "* Uma das melhores maneiras de usar *notebooks* é a codificação ao vivo, em que um instrutor escreve o código e os alunos acompanham em seus próprios *notebooks*. Para aprender sobre codificação ao vivo — e obter outros ótimos conselhos sobre como ensinar programação — recomendo o treinamento para instrutores fornecido pela The Carpentries, em <https://carpentries.github.io/instructor-training> (em inglês)."
      ]
    },
    {
      "cell_type": "markdown",
      "id": "28e7de55",
      "metadata": {
        "id": "28e7de55"
      },
      "source": [
        "## Agradecimentos\n",
        "\n",
        "Muito obrigado a Jeff Elkner, que traduziu meu livro Java para Python,\n",
        "que deu início a este projeto e me apresentou ao que se tornou\n",
        "minha linguagem favorita.\n",
        "Obrigado também a Chris Meyers, que contribuiu com várias seções para *How to Think Like a Computer Scientist*.\n",
        "\n",
        "Obrigado à *Free Software Foundation* por desenvolver a *GNU Free Documentation License*, que ajudou a tornar minha colaboração com Jeff e Chris possível, e obrigado à *Creative Commons* pela licença que estou usando agora.\n",
        "\n",
        "Obrigado aos desenvolvedores e mantenedores da linguagem Python e das bibliotecas que usei, incluindo o módulo gráfico Turtle; as ferramentas que usei para desenvolver o livro, incluindo Jupyter e JupyterBook; e os serviços que usei, incluindo ChatGPT, Copilot, Colab e GitHub.\n",
        "\n",
        "Obrigado aos editores da Lulu que trabalharam em *How to Think Like a Computer Scientist* e aos editores da O'Reilly Media que trabalharam em *Think Python*.\n",
        "\n",
        "Agradecimentos especiais aos revisores técnicos da segunda edição, Melissa Lewis e Luciano Ramalho, e da terceira edição, Sam Lau e Luciano Ramalho (de novo!).\n",
        "Também sou grato a Luciano por desenvolver o módulo de gráficos de tartaruga que uso em vários capítulos, chamado `jupyturtle`.\n",
        "\n",
        "Obrigado a todos os alunos que trabalharam com versões anteriores deste livro e a todos os colaboradores que enviaram correções e sugestões.\n",
        "Mais de 100 leitores atentos e atenciosos enviaram sugestões e correções nos últimos anos. Suas contribuições e entusiasmo por este projeto foram de grande ajuda.\n",
        "\n",
        "Se você tiver uma sugestão ou correção, envie um e-mail para `feedback@thinkpython.com` (versão em inglês). Para a versão em português envie um e-mail para `rodrigo.carlson@ufsc.br`.\n",
        "Se você incluir pelo menos parte da frase em que o erro aparece, isso\n",
        "facilita a minha pesquisa. Números de página e seção também são bons, mas não tão fáceis de trabalhar. Obrigado!"
      ]
    },
    {
      "cell_type": "code",
      "execution_count": null,
      "id": "4e31cebe",
      "metadata": {
        "id": "4e31cebe"
      },
      "outputs": [],
      "source": []
    },
    {
      "cell_type": "markdown",
      "id": "a7f4edf8",
      "metadata": {
        "tags": [],
        "id": "a7f4edf8"
      },
      "source": [
        "[Pense Python: 3ª Edição](https://rodrigocarlson.github.io/PensePython3ed/)\n",
        "\n",
        "Copyright 2024 [Allen B. Downey](https://allendowney.com/) (versão original)\n",
        "\n",
        "Copyright 2025 [Rodrigo Castelan Carlson](https://rodrigocarlson.paginas.ufsc.br/) (desta versão)\n",
        "\n",
        "Foram preservadas as mesmas licenças da versão original.\n",
        "\n",
        "Licença dos códigos: [MIT License](https://mit-license.org/)\n",
        "\n",
        "Licença dos textos: [Creative Commons Attribution-NonCommercial-ShareAlike 4.0 International](https://creativecommons.org/licenses/by-nc-sa/4.0/)"
      ]
    }
  ],
  "metadata": {
    "kernelspec": {
      "display_name": "Python 3 (ipykernel)",
      "language": "python",
      "name": "python3"
    },
    "language_info": {
      "codemirror_mode": {
        "name": "ipython",
        "version": 3
      },
      "file_extension": ".py",
      "mimetype": "text/x-python",
      "name": "python",
      "nbconvert_exporter": "python",
      "pygments_lexer": "ipython3",
      "version": "3.10.11"
    },
    "colab": {
      "provenance": []
    }
  },
  "nbformat": 4,
  "nbformat_minor": 5
}