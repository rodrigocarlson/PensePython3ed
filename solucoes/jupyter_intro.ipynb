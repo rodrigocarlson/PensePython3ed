{
  "cells": [
    {
      "cell_type": "markdown",
      "metadata": {
        "id": "WzCwnbY17x0O",
        "tags": []
      },
      "source": [
        "# *Pense Python* no Jupyter\n",
        "\n",
        "Esta é uma introdução aos *notebooks* Jupyter para pessoas que estão lendo a terceira edição de [*Pense Python*](https://rodrigocarlson.github.io/PensePython3ed/) de Allen B. Downey e traduzido por Rodrigo Castelan Carlson.\n",
        "\n",
        "Um *notebook* Jupyter é um documento que contém texto, código e resultados da execução do código.\n",
        "Você pode ler um *notebook* como um livro, mas também pode executar o código, modificá-lo e desenvolver novos programas.\n",
        "\n",
        "Os *notebooks* Jupyter são executados em um navegador da web, então você pode executá-los sem instalar nenhum software novo.\n",
        "Mas eles precisam se conectar a um servidor do Jupyter.\n",
        "\n",
        "Você pode instalar e executar um servidor sozinho, mas para começar é mais fácil usar um serviço como o [Colab](https://colab.research.google.com/), que é operado pelo Google.\n",
        "\n",
        "[Na página inicial do livro](https://rodrigocarlson.github.io/PensePython3ed/) você encontrará um link para cada capítulo.\n",
        "Se você clicar em um desses links, ele abrirá um notebook no Colab."
      ]
    },
    {
      "cell_type": "markdown",
      "metadata": {
        "tags": [],
        "id": "qHXDNnNk1jo3"
      },
      "source": [
        "Se você estiver lendo este *notebook* no Colab, deverá ver um logotipo laranja no canto superior esquerdo que se parece com as letras `CO`.\n",
        "\n",
        "Se você não estiver executando este *notebook* no Colab, [você pode clicar aqui para abri-lo no Colab](https://colab.research.google.com/github/rodrigocarlson/PensePython3ed/blob/main/capitulos/jupyter_intro.ipynb)."
      ]
    },
    {
      "cell_type": "markdown",
      "metadata": {
        "tags": [],
        "id": "V8QWzEYm1jo4"
      },
      "source": [
        "## O que é um *notebook*?\n",
        "\n",
        "Um *notebook* Jupyter é composto de células, onde cada célula contém texto ou código.\n",
        "Esta célula contém texto.\n",
        "\n",
        "A célula a seguir contém código."
      ]
    },
    {
      "cell_type": "code",
      "execution_count": null,
      "metadata": {
        "id": "Jk5K3awy1jo5",
        "outputId": "45c46a31-febb-4714-dc30-3ccf563075b7"
      },
      "outputs": [
        {
          "name": "stdout",
          "output_type": "stream",
          "text": [
            "Hello\n"
          ]
        }
      ],
      "source": [
        "print('Hello')"
      ]
    },
    {
      "cell_type": "markdown",
      "metadata": {
        "tags": [],
        "id": "gI7MqlFx1jo5"
      },
      "source": [
        "Clique na célula anterior para selecioná-la.\n",
        "Você deve ver um botão à esquerda com um triângulo dentro de um círculo, que é o ícone para \"Play\".\n",
        "Se você pressionar este botão, o Jupyter executa o código na célula e exibe o resultado.\n",
        "\n",
        "Quando você executa o código em um *notebook* pela primeira vez, pode levar alguns segundos para iniciar.\n",
        "E se for um *notebook* que você não escreveu, você pode receber uma mensagem de aviso.\n",
        "Se você estiver executando um *notebook* de uma fonte confiável, que espero que me inclua, você pode pressionar \"Executar mesmo assim\" (\"*Run Anyway*\")."
      ]
    },
    {
      "cell_type": "markdown",
      "metadata": {
        "tags": [],
        "id": "0Dep0GoP1jo6"
      },
      "source": [
        "Em vez de clicar no botão \"Play\", você também pode executar o código em uma célula mantendo pressionado `Shift` e pressionando `Enter`.\n",
        "\n",
        "Se você estiver executando este *notebook* no Colab, deverá ver botões no canto superior esquerdo que dizem \"+ Código\" e \"+ Texto\". O primeiro adiciona uma célula de código e o segundo adiciona uma célula de texto.\n",
        "Se quiser experimentá-los, selecione esta célula clicando nela e pressione o botão \"+ Texto\".\n",
        "Uma nova célula deverá aparecer abaixo desta."
      ]
    },
    {
      "cell_type": "markdown",
      "metadata": {
        "tags": [],
        "id": "1Ncl5lue1jo6"
      },
      "source": [
        "Adicione algum texto à célula.\n",
        "Você pode usar os botões para formatá-lo, ou pode marcar o texto usando [Markdown](https://www.markdownguide.org/basic-syntax/).\n",
        "Quando terminar, segure `Shift` e pressione `Enter`, o que formatará o texto que você acabou de digitar e então irá para a próxima célula."
      ]
    },
    {
      "cell_type": "markdown",
      "metadata": {
        "id": "CmW_oGTJ1jo6"
      },
      "source": [
        "A qualquer momento, o Jupyter está em um dos dois modos:\n",
        "\n",
        "* No **modo de comando**, você pode executar operações que afetam células, como adicionar e remover células inteiras.\n",
        "\n",
        "* No **modo de edição**, você pode editar o conteúdo de uma célula.\n",
        "\n",
        "Com células de texto, é óbvio em qual modo você está.\n",
        "No modo de edição, a célula é dividida verticalmente, com o texto que você está editando à esquerda e o texto formatado à direita.\n",
        "E você verá ferramentas de edição de texto na parte superior.\n",
        "No modo de comando, você vê apenas o texto formatado.\n",
        "\n",
        "Com células de código, a diferença é mais sutil, mas se houver um cursor na célula, você está no modo de edição.\n",
        "\n",
        "Para ir do modo de edição para o modo de comando, pressione `ESC`.\n",
        "Para ir do modo de comando para o modo de edição, pressione `Enter`."
      ]
    },
    {
      "cell_type": "markdown",
      "metadata": {
        "id": "EZfUcZyz1jo7"
      },
      "source": [
        "Quando terminar de trabalhar em um *notebook*, você pode fechar a janela, mas todas as alterações feitas desaparecerão.\n",
        "Se fizer alterações que deseja manter, abra o menu Arquivo no canto superior esquerdo.\n",
        "Você verá várias maneiras de salvar o *notebook*.\n",
        "\n",
        "* Se tiver uma conta do Google, você pode salvar o *notebook* no seu Drive.\n",
        "\n",
        "* Se tiver uma conta do GitHub, você pode salvá-lo no GitHub.\n",
        "\n",
        "* Ou se quiser salvar o *notebook* no seu computador, selecione \"Download\" e depois \"Download .ipynb\". O sufixo \".ipynb\" indica que é um arquivo de *notebook*, ao contrário de \".py\", que indica um arquivo que contém apenas código Python."
      ]
    },
    {
      "cell_type": "markdown",
      "metadata": {
        "id": "nbTKFM0I1jo8"
      },
      "source": [
        "## Código para *Pense Python*\n",
        "\n",
        "No início de cada *notebook*, você verá uma célula com um código como este:"
      ]
    },
    {
      "cell_type": "code",
      "execution_count": null,
      "metadata": {
        "id": "FWyNXaFv1jo8"
      },
      "outputs": [],
      "source": [
        "from os.path import basename, exists\n",
        "\n",
        "def download(url):\n",
        "    filename = basename(url)\n",
        "    if not exists(filename):\n",
        "        from urllib.request import urlretrieve\n",
        "\n",
        "        local, _ = urlretrieve(url, filename)\n",
        "        print(\"Downloaded \" + str(local))\n",
        "    return filename\n",
        "\n",
        "download('https://raw.githubusercontent.com/AllenDowney/ThinkPython/v3/thinkpython.py')\n",
        "\n",
        "import thinkpython"
      ]
    },
    {
      "cell_type": "markdown",
      "metadata": {
        "id": "g9KirmVT1jo9"
      },
      "source": [
        "Você não precisa saber como esse código funciona, mas quando chegar ao final do livro, a maior parte dele fará sentido.\n",
        "Como você pode imaginar, ele baixa um arquivo -- especificamente, ele baixa `thinkpython.py`, que contém o código Python fornecido especificamente para este livro.\n",
        "A última linha \"importa\" esse código, o que significa que podemos usar o código no notebook.\n",
        "\n",
        "Em outros capítulos, você verá o código que baixa `diagram.py`, que é usado para gerar os diagramas no livro, e `jupyturtle.py`, que é usado em vários capítulos para criar gráficos *turtle*.\n",
        "\n",
        "Em alguns lugares, você verá uma célula como esta que começa com `%%expect`:"
      ]
    },
    {
      "cell_type": "code",
      "execution_count": null,
      "metadata": {
        "id": "3lr_ouYJ1jo9",
        "outputId": "52041fed-039a-4cf3-9d7c-e375f9763d7c"
      },
      "outputs": [
        {
          "ename": "SyntaxError",
          "evalue": "invalid syntax (3827346253.py, line 1)",
          "output_type": "error",
          "traceback": [
            "\u001b[0;36m  Cell \u001b[0;32mIn[3], line 1\u001b[0;36m\u001b[0m\n\u001b[0;31m    abs 42\u001b[0m\n\u001b[0m        ^\u001b[0m\n\u001b[0;31mSyntaxError\u001b[0m\u001b[0;31m:\u001b[0m invalid syntax\n"
          ]
        }
      ],
      "source": [
        "%%expect SyntaxError\n",
        "\n",
        "abs 42"
      ]
    },
    {
      "cell_type": "markdown",
      "metadata": {
        "id": "tWOdL1Y21jo9"
      },
      "source": [
        "`%%expect` não faz parte do Python -- é um \"comando mágico\" do Jupyter que indica que esperamos que a célula produza um erro.\n",
        "Quando você vê esse comando, significa que o erro é deliberado, geralmente com a intenção de avisá-lo sobre uma armadilha comum."
      ]
    },
    {
      "cell_type": "markdown",
      "metadata": {
        "id": "diSQmjvN1jo-"
      },
      "source": [
        "Para mais informações sobre como executar *notebooks* Jupyter no Colab, [clique aqui](https://colab.research.google.com/notebooks/basic_features_overview.ipynb) (em inglês).\n",
        "\n",
        "Ou, se estiver pronto para começar, [clique aqui para ler o Capítulo 1](https://colab.research.google.com/github/rodrigocarlson/PensePython3ed/blob/main/solucoes/chap01.ipynb)."
      ]
    },
    {
      "cell_type": "markdown",
      "metadata": {
        "id": "M9yF11G47x0l",
        "tags": []
      },
      "source": [
        "[Pense Python: 3ª Edição](https://rodrigocarlson.github.io/PensePython3ed/)\n",
        "\n",
        "Copyright 2023 [Allen B. Downey](https://allendowney.com/) (versão original)\n",
        "\n",
        "Copyright 2025 [Rodrigo Castelan Carlson](https://rodrigocarlson.paginas.ufsc.br/) (desta versão)\n",
        "\n",
        "Foram preservadas as mesmas licenças da versão original.\n",
        "\n",
        "Licença dos códigos: [MIT License](https://mit-license.org/)\n",
        "\n",
        "Licença dos textos: [Creative Commons Attribution-NonCommercial-ShareAlike 4.0 International](https://creativecommons.org/licenses/by-nc-sa/4.0/)"
      ]
    },
    {
      "cell_type": "code",
      "execution_count": null,
      "metadata": {
        "id": "Cq6EYo057x0l"
      },
      "outputs": [],
      "source": []
    }
  ],
  "metadata": {
    "celltoolbar": "Tags",
    "colab": {
      "provenance": []
    },
    "kernelspec": {
      "display_name": "Python 3 (ipykernel)",
      "language": "python",
      "name": "python3"
    },
    "language_info": {
      "codemirror_mode": {
        "name": "ipython",
        "version": 3
      },
      "file_extension": ".py",
      "mimetype": "text/x-python",
      "name": "python",
      "nbconvert_exporter": "python",
      "pygments_lexer": "ipython3",
      "version": "3.10.11"
    }
  },
  "nbformat": 4,
  "nbformat_minor": 0
}