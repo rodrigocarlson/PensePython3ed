{
  "cells": [
    {
      "cell_type": "markdown",
      "id": "310cd93f",
      "metadata": {
        "id": "310cd93f"
      },
      "source": [
        "# Título\n",
        "Capítulo 1\n",
        "\n",
        "## Tipo de Questionário\n",
        "Formativo"
      ]
    },
    {
      "cell_type": "markdown",
      "id": "71c60f4c",
      "metadata": {
        "id": "71c60f4c"
      },
      "source": [
        "### Pergunta\n",
        "Qual desses tipos é usado para representar um número com uma parte fracionária?\n",
        "- [ ] `int`\n",
        "- [ ] `real`\n",
        "- [ ] `string`\n",
        "- [X] `float`\n",
        "\n",
        "### Justificativa\n",
        "- Valores `int` só podem ser inteiros.\n",
        "- Python não tem um tipo chamado `real`.\n",
        "- Valores `string` contêm uma sequência de caracteres.\n",
        "- Valores `float` representam números de ponto flutuante, que podem ter uma parte fracionária."
      ]
    },
    {
      "cell_type": "markdown",
      "id": "dae6997f",
      "metadata": {
        "id": "dae6997f"
      },
      "source": [
        "### Pergunta\n",
        "Qual destas é uma expressão legal?\n",
        "\n",
        "- [ ] `'1' / '2'`\n",
        "- [ ] `'1' * '2'`\n",
        "- [ ] `'1' / 2`\n",
        "- [X] `'1' * 2`\n",
        "\n",
        "### Fundamentação\n",
        "- O operador de divisão não funciona com *strings*.\n",
        "- Com o operador de multiplicação, o primeiro valor pode ser uma *string*, mas o segundo não.\n",
        "- O operador de divisão não funciona com *strings*.\n",
        "- Quando o primeiro operador é uma *string*, o operador de multiplicação repete a *string*, então o resultado é `'11'`."
      ]
    },
    {
      "cell_type": "markdown",
      "id": "51cc5f8b",
      "metadata": {
        "id": "51cc5f8b"
      },
      "source": [
        "### Pergunta\n",
        "Qual destas é a palavra geral para qualquer valor usado em uma operação matemática como adição ou multiplicação?\n",
        "\n",
        "- [ ] termo\n",
        "- [ ] fator\n",
        "- [ ] divisor\n",
        "- [X] operando\n",
        "\n",
        "### Justificativa\n",
        "- Um \"termo\" é um valor usado em adição, mas não é a palavra geral para qualquer valor usado em uma operação.\n",
        "- Um \"fator\" é um valor usado em multiplicação, mas não é a palavra geral para qualquer valor usado em uma operação.\n",
        "- Um \"divisor\" é um dos valores usados ​​em divisão, mas não é a palavra geral para qualquer valor usado em uma operação.\n",
        "- Um \"operando\" é um valor usado em uma operação."
      ]
    },
    {
      "cell_type": "markdown",
      "id": "42147377",
      "metadata": {
        "id": "42147377"
      },
      "source": [
        "### Pergunta\n",
        "Na internet, as pessoas às vezes discutem sobre o valor de uma expressão matemática ambígua como $8 ÷ 2(2+2)$. Como escrevemos essa expressão em Python?\n",
        "\n",
        "- [ ] `8 ÷ 2 (2 + 2)`\n",
        "- [ ] `8 / 2 (2 + 2)`\n",
        "- [ ] `8 ÷ 2 * (2 + 2)`\n",
        "- [X] `8 / 2 * (2 + 2)`\n",
        "\n",
        "### Justificativa\n",
        "- O operador para divisão é `/`, não `÷`. Além disso, não há multiplicação implícita em Python -- você tem que usar o operador `*`.\n",
        "- Não há multiplicação implícita em Python -- você tem que usar o operador `*`.\n",
        "- O operador para divisão é `/`, não `÷`.\n",
        "- Uma alternativa é colocar `8 / 2` entre parênteses para que a ordem das operações fique clara."
      ]
    },
    {
      "cell_type": "markdown",
      "id": "9b8674e6",
      "metadata": {
        "id": "9b8674e6"
      },
      "source": [
        "# Título\n",
        "Capítulo 2\n",
        "\n",
        "## Tipo de Questionário\n",
        "Formativo"
      ]
    },
    {
      "cell_type": "markdown",
      "id": "6e14b3e5",
      "metadata": {
        "id": "6e14b3e5"
      },
      "source": [
        "### Pergunta\n",
        "Qual destes é um nome de variável legal?\n",
        "- [ ] `2pi`\n",
        "- [ ] `question?`\n",
        "- [ ] `import`\n",
        "- [X] `is_even`\n",
        "\n",
        "### Justificativa\n",
        "- `2pi` não é um nome de variável legal porque começa com um número.\n",
        "- `question?` não é um nome de variável legal porque apenas letras, números e o caractere sublinhado, `_`, são permitidos.\n",
        "- `import` não é um nome de variável legal porque é uma das palavras-chave do Python.\n",
        "- `is_even` é um nome de variável legal porque letras, números e o caractere sublinhado, `_`, são permitidos."
      ]
    },
    {
      "cell_type": "markdown",
      "id": "49c8119c",
      "metadata": {
        "id": "49c8119c"
      },
      "source": [
        "### Pergunta\n",
        "Qual destas NÃO é uma maneira correta de elevar `2` à terceira potência?\n",
        "- [ ] `2 * 2 * 2`\n",
        "- [ ] `2 ** 3`\n",
        "- [ ] `math.pow(2, 3)`\n",
        "- [X] `2 ^ 3`\n",
        "\n",
        "### Justificativa\n",
        "- Multiplicação é uma maneira correta de elevar `2` à terceira potência.\n",
        "- O operador de exponenciação, `**`, é uma maneira correta de elevar `2` à terceira potência.\n",
        "- A função `pow` no módulo `math` é uma maneira correta de elevar `2` à terceira potência.\n",
        "- Em algumas linguagens, o operador `^` é usado para exponenciação, mas em Python significa outra coisa."
      ]
    },
    {
      "cell_type": "markdown",
      "id": "32123676",
      "metadata": {
        "id": "32123676"
      },
      "source": [
        "### Pergunta\n",
        "Quando você chama uma função, o quê são os valores que aparecem entre parênteses?\n",
        "- [ ] atribuições\n",
        "- [ ] comentários\n",
        "- [ ] exceções\n",
        "- [X] argumentos\n",
        "\n",
        "### Justificativa\n",
        "- Uma atribuição é uma instrução que atribui um valor a uma variável.\n",
        "- Um comentário é um texto que você adiciona a um programa para explicar como ele funciona.\n",
        "- Uma exceção é um erro detectado enquanto um programa está em execução.\n",
        "- Os valores que você passa para uma função são chamados de argumentos."
      ]
    },
    {
      "cell_type": "markdown",
      "id": "8f829deb",
      "metadata": {
        "id": "8f829deb"
      },
      "source": [
        "### Pergunta\n",
        "Se um programa roda sem produzir uma mensagem de erro, mas não faz a coisa certa, que tipo de erro é esse?\n",
        "- [ ] erro de sintaxe\n",
        "- [ ] erro de tempo de execução\n",
        "- [ ] exceção\n",
        "- [X] erro semântico\n",
        "\n",
        "### Justificativa\n",
        "- Um erro de sintaxe produz uma mensagem de erro.\n",
        "- Um erro de tempo de execução produz uma mensagem de erro.\n",
        "- Uma exceção produz uma mensagem de erro.\n",
        "- Um erro semântico é quando um programa roda, mas faz a coisa errada."
      ]
    },
    {
      "cell_type": "markdown",
      "id": "af4a5b86",
      "metadata": {
        "id": "af4a5b86"
      },
      "source": [
        "# Título\n",
        "Capítulo 3\n",
        "\n",
        "## Tipo de Questionário\n",
        "Formativo"
      ]
    },
    {
      "cell_type": "markdown",
      "id": "13f5b1df",
      "metadata": {
        "id": "13f5b1df"
      },
      "source": [
        "### Pergunta\n",
        "Quando você define uma função, o quê são as variáveis ​​que aparecem entre parênteses?\n",
        "- [ ] argumentos\n",
        "- [ ] variáveis ​​locais\n",
        "- [ ] objetos função\n",
        "- [X] parâmetros\n",
        "\n",
        "### Justificativa\n",
        "- Um argumento é um valor que você fornece quando chama uma função.\n",
        "- Uma variável local é uma variável que recebe um valor dentro de uma função.\n",
        "- Um objeto função é o resultado da definição de uma nova função.\n",
        "- Um parâmetro é uma variável que recebe um valor quando a função é chamada."
      ]
    },
    {
      "cell_type": "markdown",
      "id": "3873ea9d",
      "metadata": {
        "id": "3873ea9d"
      },
      "source": [
        "### Pergunta\n",
        "Que tipo de instrução pode ser usada para executar uma linha de código mais de uma vez?\n",
        "- [ ] instrução de atribuição\n",
        "- [ ] instrução de importação\n",
        "- [ ] instrução de exibição\n",
        "- [X] instrução `for`\n",
        "\n",
        "### Justificativa\n",
        "- Uma instrução de atribuição atribui um valor a uma variável.\n",
        "- Uma instrução de importação torna possível usar funções em um módulo.\n",
        "- Uma instrução de exibição exibe o valor de uma expressão.\n",
        "- Uma instrução `for` pode executar uma linha de código, ou várias linhas, mais de uma vez."
      ]
    },
    {
      "cell_type": "markdown",
      "id": "5b0854bc",
      "metadata": {
        "id": "5b0854bc"
      },
      "source": [
        "### Pergunta\n",
        "O que há de errado com esta função, se houver?\n",
        "\n",
        "```\n",
        "def bottle_line(n, suffix):\n",
        "    print(n)\n",
        "    print('bottles of beer')\n",
        "    print(suffix)\n",
        "```\n",
        "\n",
        "- [ ] Em vez de `def`, a primeira palavra deveria ser `define`.\n",
        "- [ ] Você não pode ter mais de um parâmetro entre parênteses.\n",
        "- [ ] Apenas a primeira instrução do corpo deveria ser recuada.\n",
        "- [X] Não há erros nesta função.\n",
        "\n",
        "### Justificativa\n",
        "- `def` é a palavra-chave correta para definir uma nova função, embora algumas outras linguagens usem `define`.\n",
        "- Você pode ter qualquer número de parâmetros entre parênteses, incluindo nenhum.\n",
        "- Todas as instruções no corpo da função devem ser recuadas.\n",
        "- Não há nada de errado com esta função."
      ]
    },
    {
      "cell_type": "markdown",
      "id": "c1bda75a",
      "metadata": {
        "id": "c1bda75a"
      },
      "source": [
        "# Título\n",
        "Capítulo 4\n",
        "\n",
        "## Tipo de Questionário\n",
        "Formativo"
      ]
    },
    {
      "cell_type": "markdown",
      "id": "1019abed",
      "metadata": {
        "id": "1019abed"
      },
      "source": [
        "### Pergunta\n",
        "O que há de errado com esta função, se houver algo?\n",
        "\n",
        "```\n",
        "def square(length):\n",
        "    for i in range(4):\n",
        "        forward(50)\n",
        "        left(90)\n",
        "```\n",
        "\n",
        "- [ ] O recuo das instruções no loop `for` está incorreto.\n",
        "- [ ] Ele não traz a Tartaruga de volta para onde começou.\n",
        "- [ ] Não há erros nesta função.\n",
        "- [X] Ela sempre desenha o mesmo tamanho de quadrado, independentemente de `length`.\n",
        "\n",
        "### Justificativa\n",
        "- O recuo nesta função está correto.\n",
        "- A `Tartaruga` termina onde começou, voltada para a mesma direção.\n",
        "- Há um erro!\n",
        "- O tamanho é sempre `50` -- o valor de `length` nunca é usado."
      ]
    },
    {
      "cell_type": "markdown",
      "id": "326c9bfd",
      "metadata": {
        "id": "326c9bfd"
      },
      "source": [
        "### Pergunta\n",
        "Como é chamado quando você coloca em uma nova definição de função insturçõe que já estão funcionando?\n",
        "- [ ] generalização\n",
        "- [ ] recuo\n",
        "- [ ] depuração\n",
        "- [X] encapsulamento\n",
        "\n",
        "### Justificativa\n",
        "- Generalização é quando você adiciona um parâmetro a uma função para torná-la mais geral.\n",
        "- Você pode ter que recuar as instruções quando as coloca em uma definição de função, mas não é assim que todo o processo é chamado.\n",
        "- Se as instruções estiverem funcionando, elas não precisam ser depuradas.\n",
        "- Encapsulamento é o processo de transformar uma sequência de instruções em uma definição de função."
      ]
    },
    {
      "cell_type": "markdown",
      "id": "09e143bc",
      "metadata": {
        "id": "09e143bc"
      },
      "source": [
        "### Pergunta\n",
        "Aqui estão duas versões da função `circle`.\n",
        "\n",
        "```\n",
        "def circle(radius):\n",
        "    circumference = 2 * math.pi * radius\n",
        "    n = 30\n",
        "    length = circumference / n\n",
        "    polygon(n, length)\n",
        "\n",
        "def circle(radius):\n",
        "    arc(radius, 360)\n",
        "```\n",
        "\n",
        "O que podemos dizer sobre essas funções?\n",
        "\n",
        "- [ ] Elas têm a mesma implementação, mas interfaces diferentes.\n",
        "- [ ] Elas têm a mesma interface _e_ a mesma implementação.\n",
        "- [ ] Elas não têm a mesma interface nem a mesma implementação.\n",
        "- [X] Elas têm a mesma interface, mas implementações diferentes.\n",
        "\n",
        "### Justificativa\n",
        "- Elas recebem o mesmo parâmetro e têm o mesmo efeito, então elas têm a mesma interface -- mas elas realizam o efeito de maneiras diferentes, então elas têm implementações diferentes.\n",
        "- Eles recebem o mesmo parâmetro e têm o mesmo efeito, então eles têm a mesma interface -- mas eles realizam o efeito de maneiras diferentes, então eles têm implementações diferentes.\n",
        "- Eles recebem o mesmo parâmetro e têm o mesmo efeito, então eles têm a mesma interface -- mas eles realizam o efeito de maneiras diferentes, então eles têm implementações diferentes.\n",
        "- Eles recebem o mesmo parâmetro e têm o mesmo efeito, então eles têm a mesma interface -- mas eles realizam o efeito de maneiras diferentes, então eles têm implementações diferentes."
      ]
    },
    {
      "cell_type": "markdown",
      "id": "7df231d6",
      "metadata": {
        "id": "7df231d6"
      },
      "source": [
        "# Título\n",
        "Capítulo 5\n",
        "\n",
        "## Tipo de Questionário\n",
        "Formativo"
      ]
    },
    {
      "cell_type": "markdown",
      "id": "a8e5e817",
      "metadata": {
        "id": "a8e5e817"
      },
      "source": [
        "### Pergunta\n",
        "Qual é o resultado dessas instruções de atribuição?\n",
        "\n",
        "```\n",
        "a = 25 // 10\n",
        "b = 25 % 10\n",
        "```\n",
        "- [ ] `a` é `2.5` e `b` é `5`\n",
        "- [ ] `a` é `2` e `b` é `250`\n",
        "- [ ] `a` é `2.5` e `b` é `250`\n",
        "- [X] `a` é `2` e `b` é `5`\n",
        "\n",
        "### Justificativa\n",
        "- O operador `//` faz divisão inteira, então `25 // 10` é `2`.\n",
        "- O operador `%` calcula o resto da divisão, então `25 % 10` é `5`.\n",
        "- O operador `//` faz divisão inteira, então `25 // 10` é `2`, e o operador `%` calcula o resto da divisão, então `25 % 10` é `5`.\n",
        "- O operador `//` faz divisão inteira e o operador `%` calcula o resto da divisão."
      ]
    },
    {
      "cell_type": "markdown",
      "id": "01d9a55a",
      "metadata": {
        "id": "01d9a55a"
      },
      "source": [
        "### Pergunta\n",
        "Qual é o resultado dessas instruções?\n",
        "```\n",
        "x = 5\n",
        "print(x > 5)\n",
        "print(x <= 5)\n",
        "```\n",
        "- [ ] Elas exibem os valores `True` e `True`\n",
        "- [ ] Elas exibem os valores `True` e `False`\n",
        "- [ ] Elas exibem os valores `False` e ​​`False`\n",
        "- [X] Elas exibem os valores `False` e ​​`True`\n",
        "\n",
        "### Justificativa\n",
        "- Se `x` for `5`, `x > 5` é o mesmo que `5 > 5`, que é `False`.\n",
        "- Se `x` for `5`, `x > 5` é o mesmo que `5 > 5`, que é `False`; também, `x <= 5` é o mesmo que `5 <= 5`, que é `True`.\n",
        "- Se `x` for `5`, `x <= 5` é o mesmo que `5 <= 5`, que é `True`.\n",
        "- Se `x` for `5`, `x > 5` é `False` e ​​`x <= 5` é `True`."
      ]
    },
    {
      "cell_type": "markdown",
      "id": "2fa1f2cd",
      "metadata": {
        "id": "2fa1f2cd"
      },
      "source": [
        "### Pergunta\n",
        "Qual é o resultado de chamar esta função?\n",
        "```\n",
        "def hello():\n",
        "    print('hello')\n",
        "    hello()\n",
        "```\n",
        "- [ ] Exibe `hello` uma vez.\n",
        "- [ ] Exibe `hello` para sempre.\n",
        "- [ ] Causa um erro na primeira vez que `hello` tenta chamar a si mesma.\n",
        "- [X] Exibe `hello` muitas vezes e então causa um erro.\n",
        "\n",
        "### Justificativa\n",
        "- Depois de exibir `hello` uma vez, ela chama a si mesmo, o que exibe `hello` muitas vezes e então causa um `RecursionError`.\n",
        "- Depois de exibir `hello` muitas vezes, ela causa um `RecursionError`.\n",
        "- Depois de exibir `hello` muitas vezes, ela causa um `RecursionError`.\n",
        "- Depois de exibir `hello` muitas vezes, ela causa um `RecursionError`."
      ]
    },
    {
      "cell_type": "markdown",
      "id": "316931ed",
      "metadata": {
        "id": "316931ed"
      },
      "source": [
        "### Pergunta\n",
        "Que tipo de operador é `or`?\n",
        "- [ ] aritmético\n",
        "- [ ] bitwise\n",
        "- [ ] relacional\n",
        "- [X] lógico\n",
        "\n",
        "### Justificativa\n",
        "- `or` é um operador lógico, junto com `and` e `not`.\n",
        "- `or` é um operador lógico, junto com `and` e `not`.\n",
        "- `or` é um operador lógico, junto com `and` e `not`.\n",
        "- `or` é um operador lógico, junto com `and` e `not`."
      ]
    },
    {
      "cell_type": "markdown",
      "id": "84ae0c85",
      "metadata": {
        "id": "84ae0c85"
      },
      "source": [
        "# Título\n",
        "Capítulo 6\n",
        "\n",
        "## Tipo de Questionário\n",
        "Formativo"
      ]
    },
    {
      "cell_type": "markdown",
      "id": "14f05708",
      "metadata": {
        "id": "14f05708"
      },
      "source": [
        "### Pergunta\n",
        "Qual é o valor devolvido se chamarmos esta função com o valor `3`?\n",
        "\n",
        "```\n",
        "def collatz(x):\n",
        "    if x % 2 == 0:\n",
        "        return x // 2\n",
        "    else:\n",
        "        return x * 3 + 1\n",
        "```\n",
        "\n",
        "- [ ] `1`\n",
        "- [ ] `1.5`\n",
        "- [ ] Causa um erro.\n",
        "- [X] `10`\n",
        "\n",
        "### Justificativa\n",
        "- Como `3 % 2` é `1`, o segundo ramo da condicional é executado.\n",
        "- Como `3 % 2` é `1`, o segundo ramo da condicional é executado. Além disso, como `//` faz divisão inteira, `3 // 2` é `1`.\n",
        "- Esta função funciona. Como `3 % 2` é `1`, o segundo ramo da condicional é executado, e o resultado é `3 * 3 + 1`, que é `10`.\n",
        "- Como `3 % 2` é `1`, o segundo ramo da condicional é executado, e o resultado é `3 * 3 + 1`, que é `10`."
      ]
    },
    {
      "cell_type": "markdown",
      "id": "3a6bff04",
      "metadata": {
        "id": "3a6bff04"
      },
      "source": [
        "### Pergunta\n",
        "Como chamamos uma função que não exibe nada ou tem qualquer efeito além de um valor devolvido?\n",
        "- [ ] recursiva\n",
        "- [ ] código morto\n",
        "- [ ] incremental\n",
        "- [X] função pura\n",
        "\n",
        "### Justificativa\n",
        "- Uma função recursiva chama a si mesma, mas pode exibir algo ou ter algum outro efeito.\n",
        "- Código morto é um código que nunca será executado, geralmente porque aparece após uma instrução `return`.\n",
        "- Desenvolvimento incremental é uma maneira de escrever programas fazendo pequenas alterações e testes.\n",
        "- Uma função pura não exibe nada ou tem qualquer efeito além de um valor devolvido."
      ]
    },
    {
      "cell_type": "markdown",
      "id": "c7f26556",
      "metadata": {
        "id": "c7f26556"
      },
      "source": [
        "### Pergunta\n",
        "Qual é o resultado de chamar esta função com os valores `x=1.5` e `y=1.6`?\n",
        "\n",
        "```\n",
        "def is_close(x, y):\n",
        "    return abs(x - y) < 0.2\n",
        "```\n",
        "\n",
        "- [ ] Há um erro de sintaxe.\n",
        "- [ ] Há um erro de tempo de execução.\n",
        "- [ ] `False`\n",
        "- [X] `True`\n",
        "\n",
        "### Justificativa\n",
        "- A sintaxe da função está correta.\n",
        "- A função está correta desde que os valores de `x` e `y` sejam números.\n",
        "- A diferença absoluta entre `1.5` e `1.6` é `0.1`, que é menor que `0.2`.\n",
        "- A diferença absoluta entre `1.5` e `1.6` é `0.1`, que é menor que `0.2`."
      ]
    },
    {
      "cell_type": "markdown",
      "id": "602f1f79",
      "metadata": {
        "id": "602f1f79"
      },
      "source": [
        "# Título\n",
        "Capítulo 7\n",
        "\n",
        "## Tipo de Questionário\n",
        "Formativo"
      ]
    },
    {
      "cell_type": "markdown",
      "id": "bf089576",
      "metadata": {
        "id": "bf089576"
      },
      "source": [
        "### Pergunta\n",
        "Esta função deve devolver `True` se `word` contiver `'A'` ou `'a'`, e `False` caso contrário. Mas não funciona. O que há de errado?\n",
        "\n",
        "```\n",
        "def has_a(word):\n",
        "    for letter in word.lower():\n",
        "        if letter == 'a':\n",
        "            return True\n",
        "        else:\n",
        "            return False\n",
        "        return False\n",
        "```\n",
        "\n",
        "- [ ] A primeira linha da instrução `for` tem um erro de sintaxe.\n",
        "- [ ] Ela verifica apenas o `'a'` minúsculo, não `'A'` maiúsculo.\n",
        "- [ ] Ela causa um erro de tempo de execução se `'word` for uma *string* vazia.\n",
        "- [X] Ela verifica apenas a primeira letra de `word`.\n",
        "\n",
        "### Justificativa\n",
        "- A sintaxe da função está correta.\n",
        "- Ele usa `lower` para converter `word` para minúsculas, então se o `'A'` maiúsculo estiver na *string*, ela seria encontrada.\n",
        "- Se `word` for uma *string* vazia, o corpo do laço de repetição nunca será executado e a função retornará `False`, o que está correto.\n",
        "- Ambos os ramos da condicional têm instruções `return`, então esta função termina após verificar a primeira letra."
      ]
    },
    {
      "cell_type": "markdown",
      "id": "21103f65",
      "metadata": {
        "id": "21103f65"
      },
      "source": [
        "### Pergunta\n",
        "Qual destas é uma maneira legal de incrementar `x`, assumindo que já tenha sido atribuído um valor.\n",
        "- [ ] `x++`\n",
        "- [ ] `x + 1 = x`\n",
        "- [ ] `x = +1`\n",
        "- [X] `x = x + 1`\n",
        "\n",
        "### Justificativa\n",
        "- Algumas linguagens de programação usam o operador `++` para incrementar uma variável, mas Python não.\n",
        "- O lado esquerdo de uma atribuição não pode ser uma expressão como `x + 1`.\n",
        "- O valor `+1` é o mesmo que `1`, então esta declaração atribui o valor `1` a `x`.\n",
        "- Esta é uma maneira legal de atualizar o valor de `x`."
      ]
    },
    {
      "cell_type": "markdown",
      "id": "4a5b5b3b",
      "metadata": {
        "id": "4a5b5b3b"
      },
      "source": [
        "### Pergunta\n",
        "O que esta função faz?\n",
        "\n",
        "```\n",
        "def check(word, letters):\n",
        "    for letter in word.lower():\n",
        "        if letter in letters.lower():\n",
        "            return False\n",
        "    return True\n",
        "```\n",
        "\n",
        "- [ ] Devolve `True` se alguma das letras em `letters` aparecer em `word`.\n",
        "- [ ] Devolve `True` se alguma das letras em `word` aparecer em `letter`.\n",
        "- [ ] Devolve `True` se nenhuma das letras em `word` aparecer em `letter`.\n",
        "- [X] Devolve `True` se nenhuma das letras em `letters` aparecer em `word`.\n",
        "\n",
        "### Justificativa\n",
        "- Ela só devolve `True` se chegar ao final de `word` e sair do laço de repetição sem encontrar nenhuma das letras em `letters`.\n",
        "- Ela só devolve `True` se chegar ao fim de `word` e sair do laço de repetição sem encontrar nenhuma das letras em `letters`.\n",
        "- Ela só devolve `True` se chegar ao fim de `word` e sair do laço de repetição sem encontrar nenhuma das letras em `letters`.\n",
        "- Ela devolve `True` se chegar ao fim de `word` e sair do laço de repetição sem encontrar nenhuma das letras em `letters`."
      ]
    },
    {
      "cell_type": "markdown",
      "id": "6c98c8b6",
      "metadata": {
        "id": "6c98c8b6"
      },
      "source": [
        "# Título\n",
        "Capítulo 8\n",
        "\n",
        "## Tipo de Questionário\n",
        "Formativo"
      ]
    },
    {
      "cell_type": "markdown",
      "id": "61658741",
      "metadata": {
        "id": "61658741"
      },
      "source": [
        "### Pergunta\n",
        "Qual é o resultado desta comparação: `'Orange' < 'apple'`?\n",
        "- [ ] `False`\n",
        "- [ ] Erro de sintaxe\n",
        "- [ ] Erro de tempo de execução, porque você não pode comparar maçãs e laranjas.\n",
        "- [X] `True`\n",
        "\n",
        "### Justificativa\n",
        "- Quando comparamos caracteres, o `'O'` maiúsculo vem antes do `'a'` minúsculo.\n",
        "- A sintaxe está correta.\n",
        "- É legal comparar quaisquer duas *strings*.\n",
        "- Porque quando comparamos caracteres, o `'O'` maiúsculo vem antes do `'a'` minúsculo."
      ]
    },
    {
      "cell_type": "markdown",
      "id": "3605679c",
      "metadata": {
        "id": "3605679c"
      },
      "source": [
        "### Pergunta\n",
        "Qual destas é a maneira correta de invocar o método `lower` em uma *string* chamada `s`?\n",
        "- [ ] lower(s)\n",
        "- [ ] string.lower(s)\n",
        "- [ ] s.lower(string)\n",
        "- [X] s.lower()\n",
        "\n",
        "### Justificativa\n",
        "- O método `lower` só pode ser invocado em uma *string* usando notação de ponto.\n",
        "- O método `lower` só pode ser invocado em uma *string* usando notação de ponto.\n",
        "- O método `lower` não recebe um argumento entre parênteses.\n",
        "- Esta é a sintaxe correta para invocar um método em um objeto."
      ]
    },
    {
      "cell_type": "markdown",
      "id": "e5db8516",
      "metadata": {
        "id": "e5db8516"
      },
      "source": [
        "### Pergunta\n",
        "Se usarmos a função `search` do módulo `re`, qual das seguintes *strings* corresponde a este padrão: `r'ab?c$'`?\n",
        "- [ ] `'ab?c$'`\n",
        "- [ ] `'abcd'`\n",
        "- [ ] `'abbc'`\n",
        "- [X] `'zac'`\n",
        "\n",
        "### Justificativa\n",
        "- O ponto de interrogação, `?`, e o cifrão, `$`, são caracteres especiais que alteram o comportamento do padrão -- eles não devem aparecer na *string*.\n",
        "- O padrão `c$` requer a letra `c` no final da *string*.\n",
        "- O padrão `b?` significa que `b` é opcional, mas não pode ser repetido.\n",
        "- Não tem problema ter letras extras no começo, e o `b` não é necessário."
      ]
    },
    {
      "cell_type": "markdown",
      "id": "30057bce",
      "metadata": {
        "id": "30057bce"
      },
      "source": [
        "# Título\n",
        "Capítulo 9\n",
        "\n",
        "## Tipo de Questionário\n",
        "Formativo"
      ]
    },
    {
      "cell_type": "markdown",
      "id": "e8cea4f9",
      "metadata": {
        "id": "e8cea4f9"
      },
      "source": [
        "### Pergunta\n",
        "Qual é o valor de `t` após executar essas instruções?\n",
        "\n",
        "```\n",
        "t = [1, 2, 3]\n",
        "t.pop(1)\n",
        "t.append(2)\n",
        "t.remove(3)\n",
        "```\n",
        "\n",
        "- [ ] `[2, 2]`\n",
        "- [ ] `[1, 3]`\n",
        "- [ ] `[1, 2, 3]`\n",
        "- [X] `[1, 2]`\n",
        "\n",
        "### Justificativa\n",
        "- `t.pop(1)` remove o segundo elemento, que é `2`.\n",
        "- Depois que `t.pop(1)` remove o segundo elemento, `t.append(2)` adiciona `2` ao final da lista e `t.remove(3)` remove `3`.\n",
        "- `t.pop(1)` remove o segundo elemento, que é `2`. `t.append(2)` adiciona `2` ao final da lista, e `t.remove(3)` remove `3`.\n",
        "- `t.pop(1)` remove o segundo elemento, que é `2`. `t.append(2)` adiciona `2` ao final da lista, e `t.remove(3)` remove `3`."
      ]
    },
    {
      "cell_type": "markdown",
      "id": "9fc37500",
      "metadata": {
        "id": "9fc37500"
      },
      "source": [
        "### Pergunta\n",
        "Qual é o valor de `b` após executar essas instruções?\n",
        "\n",
        "```\n",
        "a = [1, 2, 3]\n",
        "b = a\n",
        "a.remove(2)\n",
        "```\n",
        "\n",
        "- [ ] `[1, 2]`\n",
        "- [ ] `[1, 2, 3]`\n",
        "- [ ] Erro de tempo de execução.\n",
        "- [X] `[1, 3]`\n",
        "\n",
        "### Justificativa\n",
        "- `a.remove(2)` remove o valor `2` da lista.\n",
        "- `a` e `b` referem-se ao mesmo objeto, então quando modificamos `a`, o valor de `b` também muda.\n",
        "- Essas instruções são executadas sem causar um erro.\n",
        "- `a` e `b` referem-se ao mesmo objeto, então quando modificamos `a`, o valor de `b` também muda."
      ]
    },
    {
      "cell_type": "markdown",
      "id": "904a206e",
      "metadata": {
        "id": "904a206e"
      },
      "source": [
        "### Pergunta\n",
        "O que podemos dizer sobre duas listas criadas assim:\n",
        "\n",
        "```\n",
        "a = [1, 2, 3]\n",
        "b = [1, 2, 3]\n",
        "```\n",
        "\n",
        "- [ ] Elas são equivalentes e idênticas.\n",
        "- [ ] Elas são idênticas, mas não equivalentes.\n",
        "- [ ] Elas não são equivalentes e não idênticas.\n",
        "- [X] Elas são equivalentes, mas não idênticas.\n",
        "\n",
        "### Justificativa\n",
        "- `a` e `b` referem-se a listas diferentes, então não são idênticas.\n",
        "- `a` e `b` referem-se a listas com o mesmo valor, então são equivalentes, mas referem-se a listas diferentes, então não são idênticas.\n",
        "- `a` e `b` referem-se a listas com o mesmo valor, então são equivalentes, mas referem-se a listas diferentes, então não são idênticas.\n",
        "- `a` e `b` referem-se a listas com o mesmo valor, então são equivalentes, mas referem-se a listas diferentes, então não são idênticas."
      ]
    },
    {
      "cell_type": "markdown",
      "id": "cbacd607",
      "metadata": {
        "id": "cbacd607"
      },
      "source": [
        "# Título\n",
        "Capítulo 10\n",
        "\n",
        "## Tipo de Questionário\n",
        "Formativo"
      ]
    },
    {
      "cell_type": "markdown",
      "id": "0a6ce560",
      "metadata": {
        "id": "0a6ce560"
      },
      "source": [
        "### Pergunta\n",
        "Qual é o valor do dicionário `d` após essas instruções serem executadas?\n",
        "\n",
        "```\n",
        "d = {'a': 1, 'b': 2}\n",
        "d['a'] = 3\n",
        "```\n",
        "\n",
        "- [ ] `{'a': 1, 'b': 2, 'a': 3}`\n",
        "- [ ] `{'a': 1, 'b': 2}`\n",
        "- [ ] Essas instruções causam um erro de tempo de execução.\n",
        "- [X] `{'a': 3, 'b': 2}`\n",
        "\n",
        "### Justificativa\n",
        "- Cada chave só pode aparecer uma vez em um dicionário.\n",
        "- A segunda instrução de atribuição altera o valor associado à chave `'a'`.\n",
        "- Este código é executado sem causar um erro.\n",
        "- A segunda instrução de atribuição atualiza o valor associado à chave `'a'`."
      ]
    },
    {
      "cell_type": "markdown",
      "id": "bb023c2e",
      "metadata": {
        "id": "bb023c2e"
      },
      "source": [
        "### Pergunta\n",
        "Qual é o valor do dicionário `d` após executar essas instruções?\n",
        "\n",
        "```\n",
        "d = {'a': 1, 'b': 2}\n",
        "d['c'] += 1\n",
        "```\n",
        "\n",
        "- [ ] `{'a': 1, 'b': 2}`\n",
        "- [ ] `{'a': 1, 'b': 2, 'c': 1}`\n",
        "- [ ] `{'a': 1, 'b': 2, 'c': 3}`\n",
        "- [X] Essas instruções causam um erro de tempo de execução.\n",
        "\n",
        "### Justificativa\n",
        "- O operador `+=` procura a chave para obter o valor antigo antes de adicionar `1`.\n",
        "- O operador `+=` procura a chave para obter o valor antigo antes de adicionar `1`.\n",
        "- O operador `+=` procura a chave para obter o valor antigo antes de adicionar `1`.\n",
        "- Como `c` não aparece como uma chave no dicionário, a segunda instrução causa um `KeyError`."
      ]
    },
    {
      "cell_type": "markdown",
      "id": "5c02c39c",
      "metadata": {
        "id": "5c02c39c"
      },
      "source": [
        "### Pergunta\n",
        "O que acontece quando as seguintes instruções são executadas?\n",
        "\n",
        "```\n",
        "d1 = {'a': 1, 'b': 2}\n",
        "d2 = {d1: 3}\n",
        "```\n",
        "\n",
        "- [ ] Elas adicionam `d1` como uma chave em `d3`.\n",
        "- [ ] Elas causam um `KeyError` porque `d1` não está em `d2`.\n",
        "- [ ] Elas causam um `ValueError` porque `3` não pode aparecer como um valor em um dicionário.\n",
        "- [X] Elas causam um `TypeError` porque um dicionário não pode aparecer como uma chave em um dicionário.\n",
        "\n",
        "### Justificativa\n",
        "- Os dicionários são mutáveis, então eles não são hasheáveis. Portanto, eles não podem aparecer como uma chave em um dicionário.\n",
        "- Os dicionários são mutáveis, então eles não são hasheáveis. Portanto, eles não podem aparecer como uma chave em um dicionário, mas isso não é um `KeyError.`\n",
        "- Os dicionários são mutáveis, então eles não são hasheáveis. Portanto, eles não podem aparecer como uma chave em um dicionário, mas isso não é um `ValueError.`\n",
        "- Os dicionários são mutáveis, então eles não são hasheáveis. Portanto, eles não podem aparecer como uma chave em um dicionário."
      ]
    },
    {
      "cell_type": "markdown",
      "id": "bab73b0f",
      "metadata": {
        "id": "bab73b0f"
      },
      "source": [
        "# Título\n",
        "Capítulo 11\n",
        "\n",
        "## Tipo de Questionário\n",
        "Formativo"
      ]
    },
    {
      "cell_type": "markdown",
      "id": "4d3e93b2",
      "metadata": {
        "id": "4d3e93b2"
      },
      "source": [
        "### Pergunta\n",
        "Qual dessas expressões NÃO é uma tupla?\n",
        "\n",
        "- [ ] `tuple('abc')`\n",
        "- [ ] `'abc',`\n",
        "- [ ] `('abc',)`\n",
        "- [X] `('abc')`\n",
        "\n",
        "### Justificativa\n",
        "- O valor dessa expressão é uma tupla com os elementos `'a'`, `'b'` e `'c'`.\n",
        "- Por causa da vírgula no final, o valor dessa expressão é uma tupla com um elemento, `'abc'`.\n",
        "- Por causa da vírgula, o valor dessa expressão é uma tupla com um elemento, `'abc'`. Os parênteses não são necessários.\n",
        "- Os parênteses sozinhos não formam uma tupla, então o valor dessa expressão é apenas a *string* `'abc'`."
      ]
    },
    {
      "cell_type": "markdown",
      "id": "2b937230",
      "metadata": {
        "id": "2b937230"
      },
      "source": [
        "### Pergunta\n",
        "Qual é o resultado dessas instruções?\n",
        "\n",
        "```\n",
        "t = tuple('abc')\n",
        "s = [1, 2, 3]\n",
        "d = {t: s}\n",
        "```\n",
        "\n",
        "- [ ] Um `TypeError` porque uma tupla não pode aparecer como uma chave em um dicionário.\n",
        "- [ ] Um `TypeError` porque uma lista não pode aparecer como um valor em um dicionário.\n",
        "- [ ] Um erro de sintaxe porque deve haver uma vírgula antes da chave de fechamento na terceira linha.\n",
        "- [X] Um dicionário com um item que mapeia uma tupla para uma lista.\n",
        "\n",
        "### Justificativa\n",
        "- Uma tupla é imutável, então ela pode aparecer como uma chave em um dicionário -- desde que seus elementos também sejam imutáveis.\n",
        "- Qualquer tipo pode aparecer como um valor em um dicionário, incluindo listas.\n",
        "- A sintaxe está correta -- se houver um único item em um dicionário, uma vírgula é legal, mas não obrigatória.\n",
        "- Essas instruções criam um dicionário com um item que mapeia uma tupla para uma lista."
      ]
    },
    {
      "cell_type": "markdown",
      "id": "18d39979",
      "metadata": {
        "id": "18d39979"
      },
      "source": [
        "### Pergunta\n",
        "O que esta função faz?\n",
        "\n",
        "```\n",
        "def printall(*args):\n",
        "    for value in reversed(args):\n",
        "        print(value)\n",
        "```\n",
        "\n",
        "- [ ] Ela tem um erro de sintaxe porque o operador `*` não é legal antes de um parâmetro.\n",
        "- [ ] Ela causa um `TypeError` porque `args` é uma tupla, que é imutável e não pode ser invertida.\n",
        "- [ ] Ela recebe uma única lista ou tupla e exibe os valores em ordem reversa.\n",
        "- [X] Ela recebe qualquer número de argumentos e os exibe em ordem reversa.\n",
        "\n",
        "### Justificativa\n",
        "- Quando o operador `*` aparece antes de um parâmetro, ele \"empacota\" qualquer número de argumentos em uma tupla.\n",
        "- É verdade que `args` é uma tupla, que é imutável, mas `reversed` não modifica a tupla, ela cria um novo objeto que percorre a tupla em ordem reversa.\n",
        "- Esta função pode receber qualquer número de argumentos, não apenas um único argumento.\n",
        "- Ela recebe qualquer número de argumentos e os \"empacota\" em uma tupla, então percorre a tupla em ordem reversa e exibe os elementos."
      ]
    },
    {
      "cell_type": "markdown",
      "id": "99cd3f4f",
      "metadata": {
        "id": "99cd3f4f"
      },
      "source": [
        "### Pergunta\n",
        "Qual é o valor desta expressão?\n",
        "\n",
        "```\n",
        "('a', 3) < ('b', 1)\n",
        "```\n",
        "\n",
        "- [ ] `False` porque `3` é maior que `1`.\n",
        "- [ ] Esses valores não podem ser comparados porque `'a'` é menor que `'b'`, mas `3` é maior que `1`.\n",
        "- [ ] Um `TypeError` porque o operador `<` não funciona com tuplas.\n",
        "- [X] `True` porque `'a'` é menor que `'b'`.\n",
        "\n",
        "### Justificativa\n",
        "- Quando tuplas são comparadas, os primeiros elementos são comparados primeiro. Os outros elementos são comparados apenas se os primeiros elementos forem iguais.\n",
        "- Quando tuplas são comparadas, os primeiros elementos são comparados primeiro. Os outros elementos são comparados apenas se os primeiros elementos forem iguais.\n",
        "- O operador `<` compara os primeiros elementos de cada tupla e, em seguida, compara outros elementos em caso de empate.\n",
        "- Quando tuplas são comparadas, os primeiros elementos são comparados primeiro."
      ]
    },
    {
      "cell_type": "markdown",
      "id": "814010f6",
      "metadata": {
        "id": "814010f6"
      },
      "source": [
        "# Título\n",
        "Capítulo 12\n",
        "\n",
        "## Tipo de Questionário\n",
        "Formativo"
      ]
    },
    {
      "cell_type": "markdown",
      "id": "359e477c",
      "metadata": {
        "id": "359e477c"
      },
      "source": [
        "### Pergunta\n",
        "Supondo que `t` seja uma lista de *strings*, o que a linha de código a seguir faz?\n",
        "\n",
        "```\n",
        "sorted(t, key=len)\n",
        "```\n",
        "\n",
        "- [ ] Modifica `t` e ordena os elementos em ordem alfabética.\n",
        "- [ ] Cria uma nova lista que contém os elementos em ordem alfabética.\n",
        "- [ ] Modifica `t` e ordena os elementos do menor para o maior\n",
        "- [X] Cria uma nova lista que contém os elementos em ordem do menor para o maior.\n",
        "\n",
        "### Justificativa\n",
        "- `sorted` cria uma nova lista -- não modifica `t` -- e `key=len` ordena os elementos do menor para o maior.\n",
        "- Com `key=len`, `sorted` ordena os elementos do menor para o maior.\n",
        "- `sorted` cria uma nova lista -- não modifica `t`.\n",
        "- `sorted` cria uma nova lista, e `key=len` classifica os elementos do menor para o maior."
      ]
    },
    {
      "cell_type": "markdown",
      "id": "d086f791",
      "metadata": {
        "id": "d086f791"
      },
      "source": [
        "### Pergunta\n",
        "Qual é o efeito de executar este programa?\n",
        "\n",
        "```\n",
        "word_counter = {}\n",
        "for line in open(filename):\n",
        "    for word in split_line(line):\n",
        "        word_counter[word] += 1\n",
        "```\n",
        "\n",
        "- [ ] Ela cria um dicionário que mapeia cada palavra para o número de vezes que ela aparece.\n",
        "- [ ] Ela tem um erro de sintaxe porque o recuo não está correto.\n",
        "- [ ] Ela tem um erro semântico porque todas as chaves em `word_counter` mapeiam para o valor `1`.\n",
        "- [X] Ela causa um `KeyError` quando tenta incrementar um valor em `word_counter`.\n",
        "\n",
        "### Justificativa\n",
        "- Como `word_counter` está inicialmente vazio, o programa causa um `KeyError` quando tenta incrementar o valor em `word_counter`.\n",
        "- O recuo está correto, mas o programa causa um `KeyError` quando tenta incrementar o valor em `word_counter`.\n",
        "- Como `word_counter` está inicialmente vazio, o programa causa um `KeyError` quando tenta incrementar o valor em `word_counter`.\n",
        "- Como `word_counter` está inicialmente vazio, o programa causa um `KeyError` quando tenta incrementar o valor em `word_counter`."
      ]
    },
    {
      "cell_type": "markdown",
      "id": "6a695f2d",
      "metadata": {
        "id": "6a695f2d"
      },
      "source": [
        "### Pergunta\n",
        "\n",
        "Se executarmos as seguintes linhas de código, qual é a probabilidade de que o resultado seja `'a'`?\n",
        "\n",
        "```\n",
        "letters = ['a', 'b', 'c']\n",
        "weights = [1, 2, 3]\n",
        "random.choices(letters, weights=weights)\n",
        "```\n",
        "\n",
        "- [ ] 1/3\n",
        "- [ ] 1/4\n",
        "- [ ] 1/5\n",
        "- [X] 1/6\n",
        "\n",
        "### Justificativa\n",
        "- O peso associado a `'a'` é `1` e o total dos pesos é `6`.\n",
        "- O peso associado a `'a'` é `1` e o total dos pesos é `6`.\n",
        "- O peso associado a `'a'` é `1` e o total dos pesos é `6`.\n",
        "- O peso associado a `'a'` é `1` e o total dos pesos é `6`, então a probabilidade de escolher `'a'` é `1/6`."
      ]
    },
    {
      "cell_type": "markdown",
      "id": "045f5fa6",
      "metadata": {
        "id": "045f5fa6"
      },
      "source": [
        "# Título\n",
        "Capítulo 13\n",
        "\n",
        "## Tipo de Questionário\n",
        "Formativo"
      ]
    },
    {
      "cell_type": "markdown",
      "id": "7d0661f3",
      "metadata": {
        "id": "7d0661f3"
      },
      "source": [
        "### Pergunta\n",
        "Se o diretório de trabalho atual for `/home/dinsdale/photos` e você abrir um arquivo usando o caminho relativo `mar-2023/photo1.jpg`, qual dessas expressões computa o caminho absoluto do arquivo que é aberto?\n",
        "\n",
        "- [ ] `''.join('/home/dinsdale/photos', 'mar-2023/photo1.jpg')`\n",
        "- [ ] `'mar-2023/photo1.jpg' + '/home/dinsdale/photos'`\n",
        "- [ ] `'/home/dinsdale/photos' + 'mar-2023/photo1.jpg'`\n",
        "- [X] `os.path.join('/home/dinsdale/photos', 'mar-2023/photo1.jpg')`\n",
        "\n",
        "### Justificativa\n",
        "- Esta maneira de usar o método de *string* `join` não coloca uma barra entre os diretórios no caminho.\n",
        "- A ordem do diretório de trabalho e do caminho relativo está invertida. Além disso, essa maneira de usar a concatenação de *strings* não coloca uma barra entre os diretórios no caminho.\n",
        "- Esta maneira de usar a concatenação de *strings* não coloca uma barra entre os diretórios no caminho.\n",
        "- A função `os.path.join` une os dois caminhos com uma barra normal ou invertida, dependendo de qual sistema operacional está em execução."
      ]
    },
    {
      "cell_type": "markdown",
      "id": "f0acf2af",
      "metadata": {
        "id": "f0acf2af"
      },
      "source": [
        "### Pergunta\n",
        "Após a execução dessas instruções, qual é o valor de `s`?\n",
        "\n",
        "```\n",
        "x = 1\n",
        "t = 1,\n",
        "s = f'x is an int, {x}. t is a tuple, {t}'\n",
        "```\n",
        "\n",
        "- [ ] Isto é um erro porque `{x}` e `{t}` não são dicionários válidos.\n",
        "- [ ] Isto é um erro porque uma tupla não pode ser usada como um valor em uma *f-string*.\n",
        "- [ ] `'x is an int, {x}. t is a tuple, {t}'`\n",
        "- [X] `'x is an int, 1. t is a tuple, (1,)'`\n",
        "\n",
        "### Justificativa\n",
        "- `{x}` e `{t}` não são dicionários -- as chaves indicam que são expressões que são substituídas por *strings* que representam os seus valores.\n",
        "- Qualquer expressão válida pode ser usada em uma *f-string*.\n",
        "- Dentro da *f-string*, as expressões entre chaves são substituídas por *strings* que representam os seus valores.\n",
        "- Dentro da *f-string*, as expressões entre chaves são substituídas por *strings* que representam os seus valores."
      ]
    },
    {
      "cell_type": "markdown",
      "id": "39e2a09f",
      "metadata": {
        "id": "39e2a09f"
      },
      "source": [
        "### Pergunta\n",
        "\n",
        "Após a execução dessas instruções, qual é o valor de `db[key]`?\n",
        "\n",
        "```\n",
        "db = shelve.open('anagram_map', 'n')\n",
        "key = 'opst'\n",
        "db[key] = []\n",
        "db[key].append('stop')\n",
        "```\n",
        "\n",
        "- [ ] `['stop']`\n",
        "- [ ] `'stop'`\n",
        "- [ ] `[], 'stop'`\n",
        "- [X] `[]`\n",
        "\n",
        "### Justificativa\n",
        "- O método `append` não funciona como esperado aqui porque ele modifica apenas a lista na memória, não a do banco de dados.\n",
        "- O método `append` não funciona como esperado aqui porque ele modifica apenas a lista na memória, não a do banco de dados.\n",
        "- O método `append` não funciona como esperado aqui porque ele modifica apenas a lista na memória, não a do banco de dados.\n",
        "- O método `append` não funciona como esperado aqui porque ele modifica apenas a lista na memória, não a do banco de dados."
      ]
    },
    {
      "cell_type": "markdown",
      "id": "62d2634e",
      "metadata": {
        "id": "62d2634e"
      },
      "source": [
        "# Título\n",
        "Capítulo 14\n",
        "\n",
        "## Tipo de Questionário\n",
        "Formativo"
      ]
    },
    {
      "cell_type": "markdown",
      "id": "5256d8f2",
      "metadata": {
        "id": "5256d8f2"
      },
      "source": [
        "### Pergunta\n",
        "Para criar uma instância de um tipo definido pelo programador, qual é a ordem correta para essas etapas?\n",
        "- [ ] Atribuir valores a atributos, definir uma classe, instanciar um objeto.\n",
        "- [ ] Instanciar um objeto, definir uma classe, atribuir valores a atributos.\n",
        "- [ ] Definir uma classe, atribuir valores a atributos, instanciar um objeto.\n",
        "- [X] Definir uma classe, instanciar um objeto, atribuir valores a atributos.\n",
        "\n",
        "### Justificativa\n",
        "- Você não pode atribuir atributos antes de instanciar um objeto.\n",
        "- Você não pode instanciar um objeto antes de definir sua classe.\n",
        "- Você não pode atribuir atributos antes de instanciar um objeto.\n",
        "- Você tem que definir uma classe, instanciar um objeto e atribuir valores a atributos, nessa ordem."
      ]
    },
    {
      "cell_type": "markdown",
      "id": "c8af2365",
      "metadata": {
        "id": "c8af2365"
      },
      "source": [
        "### Pergunta\n",
        "\n",
        "Estas instruções têm como objetivo definir uma classe `Date` e criar um objeto `Date`. O que há de errado com elas?\n",
        "\n",
        "```\n",
        "def Date:\n",
        "    \"\"\"Representa uma dia do ano.\"\"\"\n",
        "    \n",
        "date = Date()\n",
        "date.year = 2024\n",
        "date.month = 'January'\n",
        "date.day = 11\n",
        "```\n",
        "\n",
        "- [ ] Você não pode ter uma classe chamada `Date` e uma variável chamada `date`.\n",
        "- [ ] Todos os atributos precisam ter o mesmo tipo.\n",
        "- [ ] A sintaxe não está correta para adicionar atributos ao objeto.\n",
        "- [X] Uma definição de classe precisa começar com `class`, não `def`.\n",
        "\n",
        "### Justificativa\n",
        "- É legal -- e comum -- que um nome de classe e uma variável sejam a mesma palavra, mas o nome da classe começa com uma letra maiúscula.\n",
        "- Os atributos de um objeto podem ser de qualquer tipo, e eles não precisam ser os mesmos.\n",
        "- A notação de ponto é usada para definir o valor de um atributo e para ler o valor.\n",
        "- Uma definição de classe tem que começar com `class`. Uma definição de função começa com `def`."
      ]
    },
    {
      "cell_type": "markdown",
      "id": "a3ac6661",
      "metadata": {
        "id": "a3ac6661"
      },
      "source": [
        "### Pergunta\n",
        "Qual destas é uma descrição correta desta função? Você pode assumir que `date` é um objeto `Date` que tem um atributo `day`.\n",
        "\n",
        "```\n",
        "def increment_day(date):\n",
        "    date.day += 1\n",
        "    return date\n",
        "```\n",
        "\n",
        "- [ ] É uma função pura que devolve `None`.\n",
        "- [ ] É uma função impura que devolve `None`.\n",
        "- [ ] É uma função pura que devolve um objeto `Date`.\n",
        "- [X] É uma função impura que devolve um objeto `Date`.\n",
        "\n",
        "### Justificativa\n",
        "- Esta função modifica um atributo do objeto `Date` que ela recebe como parâmetro, portanto é uma função impura. E devolve uma referência ao mesmo objeto, não `None`.\n",
        "- Esta função devolve uma referência a um objeto `Date`, não `None`.\n",
        "- Esta função modifica um atributo do objeto `Date` que ela recebe como parâmetro, portanto é uma função impura.\n",
        "- Esta função modifica um atributo do objeto `Date` que ela recebe como parâmetro, portanto é uma função impura. E devolve uma referência ao mesmo objeto `Date`."
      ]
    },
    {
      "cell_type": "markdown",
      "id": "41eedc46",
      "metadata": {
        "id": "41eedc46"
      },
      "source": [
        "# Título\n",
        "Capítulo 15\n",
        "\n",
        "## Tipo de Questionário\n",
        "Formativo"
      ]
    },
    {
      "cell_type": "markdown",
      "id": "7a3ede50",
      "metadata": {
        "id": "7a3ede50"
      },
      "source": [
        "### Pergunta\n",
        "Suponha que `time` seja um objeto `Time` e `increment` seja um método de instância definido na classe `Time`.\n",
        "O que acontece quando invocamos `increment` assim?\n",
        "\n",
        "```\n",
        "time.increment(42)\n",
        "```\n",
        "\n",
        "- [ ] `42` é atribuído ao primeiro parâmetro do método e `time` é atribuído ao segundo.\n",
        "- [ ] Isto é um erro porque `increment` requer um argumento e dois são fornecidos.\n",
        "- [ ] Isto é um erro porque `increment` requer dois argumentos e apenas um é fornecido.\n",
        "- [X] `time` é atribuído ao primeiro parâmetro do método e `42` é atribuído ao segundo.\n",
        "\n",
        "### Justificativa\n",
        "- `time` é atribuído ao primeiro parâmetro do método.\n",
        "- Este método requer dois argumentos -- `time` é o primeiro e `42` é o segundo.\n",
        "- Apenas um argumento aparece entre parênteses, mas `time` é passado para `increment` como o primeiro argumento.\n",
        "- `time` é atribuído ao primeiro parâmetro do método, que é convencionalmente chamado de `self`, e `42` é atribuído ao segundo.\n"
      ]
    },
    {
      "cell_type": "markdown",
      "id": "aab20e8f",
      "metadata": {
        "id": "aab20e8f"
      },
      "source": [
        "### Pergunta\n",
        "Suponha que `time` seja um objeto `Time` e `int_to_time` seja um método estático definido na classe `Time`.\n",
        "O que acontece quando invocamos `int_to_time` assim?\n",
        "\n",
        "```\n",
        "start = Time.int_to_time(34800)\n",
        "```\n",
        "\n",
        "- [ ] Isso é um erro porque `int_to_time` requer um argumento e dois são fornecidos.\n",
        "- [ ] O objeto da classe `Time` é atribuído ao primeiro parâmetro do método e `34800` é atribuído ao segundo.\n",
        "- [ ] `34800` é atribuído ao primeiro parâmetro do método e o objeto da classe `Time` é atribuído ao segundo.\n",
        "- [X] `34800` é atribuído ao primeiro parâmetro de `int_to_time`.\n",
        "\n",
        "### Justificativa\n",
        "- Há apenas um argumento aqui, `34800`.\n",
        "- Como `Time` é uma classe, ela não é passada como argument.\n",
        "- Como `Time` é uma classe, ela não é passada como argumento.\n",
        "- `34800` é atribuído ao primeiro parâmetro de `int_to_time`. Como `Time` é uma classe, ela não é passada como argumento."
      ]
    },
    {
      "cell_type": "markdown",
      "id": "aa6725d9",
      "metadata": {
        "id": "aa6725d9"
      },
      "source": [
        "### Pergunta\n",
        "Qual das seguintes afirmações NÃO está correta?\n",
        "\n",
        "- [ ] Quando instanciamos um objeto, seu método `__init__` é invocado.\n",
        "- [ ] Quando usamos o operador `+` com um objeto, seu método `__add__` é invocado.\n",
        "- [ ] Quando exibimos um objeto, seu método `__str__` é invocado.\n",
        "- [X] Quando definimos uma nova classe, seu método `__init__` é invocado.\n",
        "\n",
        "### Justificativa\n",
        "- Esta afirmação está correta.\n",
        "- Esta afirmação está correta.\n",
        "- Esta afirmação está correta.\n",
        "- Definir uma nova classe não invoca seu método `__init__`."
      ]
    },
    {
      "cell_type": "markdown",
      "id": "1d033c6e",
      "metadata": {
        "id": "1d033c6e"
      },
      "source": [
        "# Título\n",
        "Capítulo 16\n",
        "\n",
        "## Tipo de Questionário\n",
        "Formativo"
      ]
    },
    {
      "cell_type": "markdown",
      "id": "80ba124c",
      "metadata": {
        "id": "80ba124c"
      },
      "source": [
        "### Pergunta\n",
        "Qual destes é o termo para uma função ou método que funciona com mais de um tipo de objeto?\n",
        "- [ ] puro\n",
        "- [ ] equivalente\n",
        "- [ ] estático\n",
        "- [X] polimórfico\n",
        "\n",
        "### Justificativa\n",
        "- Uma função ou método puro não modifica os parâmetros nem tem outros efeitos.\n",
        "- Se dois valores são considerados iguais, eles são equivalentes.\n",
        "- Um método estático é associado a uma classe, em vez de um objeto.\n",
        "- Uma função que funciona com mais de um tipo é polimórfica."
      ]
    },
    {
      "cell_type": "markdown",
      "id": "4a7b31e7",
      "metadata": {
        "id": "4a7b31e7"
      },
      "source": [
        "### Pergunta\n",
        "\n",
        "O que há de errado com esta definição de classe?\n",
        "\n",
        "```\n",
        "class Point:\n",
        "    \"\"\"Representa um ponto no espaço 2-D.\"\"\"\n",
        "    \n",
        "    def __init__(self, x, y):\n",
        "        x = self.x\n",
        "        y = self.y\n",
        "```\n",
        "\n",
        "- [ ] `__init__` não é um nome legal para um método porque não começa com uma letra.\n",
        "- [ ] A *string* entre aspas triplas deve estar dentro de uma definição de método.\n",
        "- [ ] O primeiro parâmetro do método deve ser chamado de `point`, não `self`.\n",
        "- [X] As instruções de atribuição devem ser o contrário, como em `self.x = x` e `self.y = y`.\n",
        "\n",
        "### Justificativa\n",
        "- Os nomes de métodos especiais como `__init__` começam e terminam com dois caracteres de sublinhado.\n",
        "- Uma *string* entre aspas triplas dentro de uma definição de classe é uma *docstring* que fornece informações sobre a classe.\n",
        "- O primeiro parâmetro de um método é convencionalmente chamado de `self`.\n",
        "- As instruções de atribuição devem ser o contrário, como em `self.x = x` e `self.y = y`."
      ]
    },
    {
      "cell_type": "markdown",
      "id": "5c215fb2",
      "metadata": {
        "id": "5c215fb2"
      },
      "source": [
        "### Pergunta\n",
        "Suponha que definimos uma classe `Line` para que cada objeto `Line` tenha dois atributos que se referem a objetos `Point`.\n",
        "\n",
        "```\n",
        "class Line:\n",
        "    def __init__(self, p1, p2):\n",
        "        self.p1 = p1\n",
        "        self.p2 = p2\n",
        "```\n",
        "\n",
        "Se importarmos a função `copy` do módulo `copy` e a usarmos para fazer uma cópia de um objeto `Line`, qual destas afirmações é verdadeira?\n",
        "\n",
        "- [ ] O resultado é uma cópia profunda que copia o objeto `Line` e os objetos `Point` que ele contém.\n",
        "- [ ] O resultado é uma cópia profunda que copia o objeto `Line`, mas não os objetos `Point` que ele contém.\n",
        "- [ ] O resultado é uma cópia rasa que copia o objeto `Line` e os objetos `Point` que ele contém.\n",
        "- [X] O resultado é uma cópia rasa que copia o objeto `Line`, mas não os objetos `Point` que ele contém.\n",
        "\n",
        "### Justificativa\n",
        "- A função `copy` copia o objeto `Line`, mas não os objetos `Point` que ele contém.\n",
        "- A função `copy` faz uma cópia superficial.\n",
        "- A função `copy` copia o objeto `Line`, mas não os objetos `Point` que ele contém.\n",
        "- A função `copy` faz uma cópia rasa, que copia o objeto `Line`, mas não os objetos `Point` que ele contém."
      ]
    },
    {
      "cell_type": "markdown",
      "id": "6ed0a5c6",
      "metadata": {
        "id": "6ed0a5c6"
      },
      "source": [
        "# Título\n",
        "Capítulo 17\n",
        "\n",
        "## Tipo de Questionário\n",
        "Formativo"
      ]
    },
    {
      "cell_type": "markdown",
      "id": "272a2085",
      "metadata": {
        "id": "272a2085"
      },
      "source": [
        "### Pergunta\n",
        "Qual das seguintes NÃO é uma afirmação correta sobre variáveis de classe.\n",
        "- [ ] Elas são definidas dentro de uma definição de classe, mas não dentro de uma definição de método.\n",
        "- [ ] Elas podem ser acessadas usando um objeto classe.\n",
        "- [ ] Elas podem ser de qualquer tipo.\n",
        "- [X] Elas são imutáveis.\n",
        "\n",
        "### Justificativa\n",
        "- É verdade que variáveis de classe são definidas dentro de uma definição de classe, mas não dentro de uma definição de método\n",
        "- É verdade que variáveis de classe podem ser acessadas usando um objeto classe.\n",
        "- É verdade que variáveis de classe podem ter qualquer tipo.\n",
        "- Esta afirmação é falsa -- isto é, variáveis classe são mutáveis."
      ]
    },
    {
      "cell_type": "markdown",
      "id": "96353e23",
      "metadata": {
        "id": "96353e23"
      },
      "source": [
        "### Pergunta\n",
        "Suponha que definimos uma classe `Card` assim:\n",
        "\n",
        "```\n",
        "class Card:\n",
        "    \n",
        "    def __init__(self, suit, rank):\n",
        "        self.suit = suit\n",
        "        self.rank = rank\n",
        "```\n",
        "\n",
        "Se esta classe não fornecer um método `__eq__`, o que acontece se compararmos duas cartas usando o operador `==`.\n",
        "\n",
        "- [ ] Isso é um erro.\n",
        "- [ ] Por padrão, apenas o primeiro atributo é comparado.\n",
        "- [ ] Por padrão, todos os atributos são comparados como se estivessem em uma tupla.\n",
        "- [X] Por padrão, os objetos são iguais apenas se forem idênticos.\n",
        "\n",
        "### Justificativa\n",
        "- Não é um erro -- se uma classe não fornecer `__eq__`, o operador `==` tem um comportamento padrão.\n",
        "- Se uma classe não fornecer `__eq__`, o operador `==` verifica se os objetos são idênticos.\n",
        "- Se uma classe não fornece `__eq__`, o operador `==` verifica se os objetos são idênticos.\n",
        "- Se uma classe não fornece `__eq__`, o operador `==` verifica se os objetos são idênticos."
      ]
    },
    {
      "cell_type": "markdown",
      "id": "8442a26a",
      "metadata": {
        "id": "8442a26a"
      },
      "source": [
        "### Pergunta\n",
        "Qual das seguintes afirmações é verdadeira quando uma classe herda de outra, assim:\n",
        "\n",
        "```\n",
        "class Hand(Deck):\n",
        "    \"\"\"Representa uma hand de cartas de baralho.\"\"\"\n",
        "```\n",
        "\n",
        "- [ ] `Hand` é uma classe mãe e `Deck` é uma classe filha.\n",
        "- [ ] Toda função que funciona com `Hand` também deve funcionar com `Deck`.\n",
        "- [ ] Todo objeto `Hand` tem os mesmos atributos que todo objeto `Deck`, nem mais nem menos.\n",
        "- [X] Todo método definido na classe `Deck` também pode ser invocado em um objeto `Hand`.\n",
        "\n",
        "### Justificativa\n",
        "- Neste exemplo, `Hand` herda de `Deck`, então `Hand` é a classe filha e `Deck` é a mãe.\n",
        "- Se `Hand` herda de `Deck`, ela pode ter métodos adicionais que não funcionam com `Deck`.\n",
        "- Se `Hand` herda de `Deck`, um objeto `Hand` deve ter todos os atributos de um objeto `Deck`, mas pode ter mais.\n",
        "- Se `Hand` herda de `Deck`, cada método definido na classe `Deck` deve funcionar com um objeto `Hand`."
      ]
    },
    {
      "cell_type": "markdown",
      "id": "2c93496a",
      "metadata": {
        "id": "2c93496a"
      },
      "source": [
        "### Pergunta\n",
        "Como chamamos quando um método invoca outro para fazer a maior parte ou todo o trabalho?\n",
        "- [ ] herança\n",
        "- [ ] generalização\n",
        "- [ ] especialização\n",
        "- [X] delegação\n",
        "\n",
        "### Justificativa\n",
        "- Herança é a capacidade de definir uma nova classe que é uma versão modificada de uma classe previamente definida.\n",
        "- Generalização é quando adicionamos um parâmetro a uma função para tornar suas capacidades mais gerais.\n",
        "- Especialização é uma maneira de usar herança para criar uma nova classe que é uma versão especializada de uma classe existente.\n",
        "- Delegação é quando um método passa a responsabilidade para outro método para fazer a maior parte ou todo o trabalho."
      ]
    },
    {
      "cell_type": "markdown",
      "id": "37cb87e7",
      "metadata": {
        "id": "37cb87e7"
      },
      "source": [
        "# Título\n",
        "Capítulo 18\n",
        "\n",
        "## Tipo de Questionário\n",
        "Formativo"
      ]
    },
    {
      "cell_type": "markdown",
      "id": "bdafbab3",
      "metadata": {
        "id": "bdafbab3"
      },
      "source": [
        "### Pergunta\n",
        "Qual é o resultado desta operação?\n",
        "\n",
        "```\n",
        "set('abba') <= set('abc')\n",
        "```\n",
        "\n",
        "- [ ] `False` porque `'abba'` é maior que `'abc'`.\n",
        "- [ ] Um erro de tempo de execução porque `'abba'` contém elementos duplicados, então não é um `set`.\n",
        "- [ ] Um erro de tempo de execução porque uma *string* é imutável, então não pode ser transformada em um `set`.\n",
        "- [X] `True` porque os elementos de `'abba'` são um subconjunto dos elementos de `'abc'`.\n",
        "\n",
        "### Justificativa\n",
        "- Com objetos `set`, o operador `<=` verifica se um conjunto é um subconjunto de outro -- ele não compara o comprimento das *strings*.\n",
        "- Quando o conjunto é criado, os elementos duplicados da *string* são removidos.\n",
        "- A função `set` cria um novo conjunto -- ela não modifica a *string*.\n",
        "- Com objetos `set`, o operador `<=` verifica se um conjunto é um subconjunto de outro -- incluindo a possibilidade de que eles sejam iguais."
      ]
    },
    {
      "cell_type": "markdown",
      "id": "2fef69b0",
      "metadata": {
        "id": "2fef69b0"
      },
      "source": [
        "### Pergunta\n",
        "Qual é o valor de `counter` após a execução dessas instruções?\n",
        "\n",
        "```\n",
        "from collections import Counter\n",
        "\n",
        "t = (1, 1, 1, 2, 2, 3)\n",
        "counter = Counter(t)\n",
        "```\n",
        "\n",
        "- [ ] `(1, 1, 1, 2, 2, 3)`\n",
        "- [ ] `{1: 3, 2: 2, 3: 1}`\n",
        "- [ ] `Counter(1, 1, 1, 2, 2, 3)`\n",
        "- [X] `Counter({1: 3, 2: 2, 3: 1})`\n",
        "\n",
        "### Justificativa\n",
        "- O resultado é um objeto `Counter`, não uma tupla.\n",
        "- O resultado é um objeto `Counter`, não um dicionário.\n",
        "- O resultado é um objeto `Counter` que contém itens como um dicionário, não uma tupla.\n",
        "- O resultado é um objeto `Counter` que contém os elementos da lista e o número de vezes que cada um aparece."
      ]
    },
    {
      "cell_type": "markdown",
      "id": "6e5d8032",
      "metadata": {
        "id": "6e5d8032"
      },
      "source": [
        "### Pergunta\n",
        "Qual comentário sobre esta definição de classe está correto?\n",
        "\n",
        "```\n",
        "class Game:\n",
        "    \"\"\"Representa um jogo com um dicionário que mapeia times para pontuações.\"\"\"\n",
        "    \n",
        "    def __init__(self, scores={}):\n",
        "        self.scores = score\n",
        "```\n",
        "\n",
        "- [ ] Todos os objetos `Game` referem-se a dicionários diferentes.\n",
        "- [ ] Todos os objetos `Game` referem-se ao mesmo dicionário.\n",
        "- [ ] Todos os objetos `Game` criados com o valor padrão de `scores` referem-se a um dicionário vazio.\n",
        "- [X] Todos os objetos `Game` criados com o valor padrão de `scores` referem-se ao mesmo dicionário.\n",
        "\n",
        "### Justificativa\n",
        "- O valor padrão de `scores` é um dicionário que é criado quando a função é definida. Todos os objetos `Game` criados com o valor padrão recebem uma referência a ele.\n",
        "- Todos os objetos `Game` criados com o valor padrão recebem uma referência a ele, mas um objeto `Game` que substitui `scores` fará referência a um dicionário diferente.\n",
        "- O valor inicial de `scores` é um dicionário vazio, mas itens podem ser adicionados a ele mais tarde.\n",
        "- Todos os objetos `Game` criados com o valor padrão recebem uma referência ao mesmo dicionário -- então se algum deles o modificar, todos verão a alteração."
      ]
    },
    {
      "cell_type": "markdown",
      "id": "40504671",
      "metadata": {
        "id": "40504671"
      },
      "source": [
        "### Pergunta\n",
        "\n",
        "Qual é o valor desta expressão?\n",
        "\n",
        "```\n",
        "all(number < 10 for number in [2, 4, 6, 8])\n",
        "```\n",
        "\n",
        "- [ ] `[2, 4, 6, 8]`, que contém todos os números na lista menores que `10`.\n",
        "- [ ] Um erro porque a abrangência de lista tem que estar entre colchetes.\n",
        "- [ ] `False` porque não há números na lista que não sejam menores que `10`.\n",
        "- [X] `True` porque todos os números na lista são menores que `10`.\n",
        "\n",
        "### Justificativa\n",
        "- A função `all` retorna `True` se todos os elementos de uma sequência forem `True`, e `False` caso contrário.\n",
        "- A expressão entre parênteses está correta -- é uma expressão geradora, não uma abrangência de lista.\n",
        "- Os valores produzidos pela expressão geradora são todos `True`.\n",
        "- Os valores produzidos pela expressão geradora são todos `True`, então o resultado da função `all` é `True`."
      ]
    },
    {
      "cell_type": "markdown",
      "id": "65f160e0",
      "metadata": {
        "id": "65f160e0"
      },
      "source": [
        "### Pergunta\n",
        "Qual é o valor de `d[key]` após a execução dessas instruções? Ou há um erro?\n",
        "\n",
        "```\n",
        "from collections import defaultdict\n",
        "\n",
        "d = defaultdict(list)\n",
        "key = ('into', 'the')\n",
        "d[key].append('woods')\n",
        "```\n",
        "\n",
        "- [ ] Um erro porque uma tupla não pode ser usada como uma chave em um `defaultdict`.\n",
        "- [ ] Um erro porque temos que adicionar a chave ao `defaultdict` antes de podermos procurá-la.\n",
        "- [ ] `'woods'`\n",
        "- [X] `['woods']`\n",
        "\n",
        "### Justificativa\n",
        "- Uma tupla pode aparecer como uma chave em um `defaultdict`, assim como em um dicionário.\n",
        "- Quando você procura uma chave que ainda não está neste `defaultdict`, a chave é adicionada com uma nova lista vazia como valor.\n",
        "- Quando a chave é adicionada ao `defaultdict`, o valor correspondente é uma lista vazia. Então o método `append` adiciona um elemento à lista.\n",
        "- Quando a chave é adicionada ao `defaultdict`, o valor correspondente é uma lista vazia. Depois que o método `append` é invocado, a lista contém um único elemento, a *string* `'woods'`."
      ]
    },
    {
      "cell_type": "markdown",
      "id": "f3c72a61",
      "metadata": {
        "id": "f3c72a61"
      },
      "source": [
        "### Pergunta\n",
        "\n",
        "Qual valor é exibido quando esta função é executada?\n",
        "\n",
        "```\n",
        "def pack_and_print(**kwargs):\n",
        "    print(kwargs)\n",
        "    \n",
        "pack_and_print(a=1, b=2)\n",
        "```\n",
        "\n",
        "- [ ] Este é um erro porque o operador de exponenciação `**` não pode aparecer em uma lista de parâmetros.\n",
        "- [ ] `[(a, 1), (b, 2)]`\n",
        "- [ ] `{'a', 'b'}, [1, 2]`\n",
        "- [X] `{'a': 1, 'b': 2}`\n",
        "\n",
        "### Justificativa\n",
        "- Em uma lista de parâmetros, `**` é o operador de empacotamento, não o operador de exponenciação.\n",
        "- O operador de empacotamento, `**`, empacota os argumentos palavra-chave em um dicionário, não em uma lista de tuplas.\n",
        "- O operador de empacotamento, `**`, empacota os argumentos palavra-chave em um dicionário, não um conjunto e uma lista.\n",
        "- O operador de empacotamento, `**`, empacota os argumentos de palavra-chave em um dicionário que mapeia de nomes de palavra-chave para valores."
      ]
    },
    {
      "cell_type": "markdown",
      "id": "5abb187f",
      "metadata": {
        "id": "5abb187f"
      },
      "source": [
        "# Título\n",
        "Pense em Python\n",
        "\n",
        "## Tipo de questionário\n",
        "Sumativo"
      ]
    },
    {
      "cell_type": "markdown",
      "id": "2f7b7148",
      "metadata": {
        "id": "2f7b7148"
      },
      "source": [
        "### Pergunta\n",
        "Qual é a saída deste programa?\n",
        "\n",
        "```\n",
        "s = '3'\n",
        "str(s) * int(s)\n",
        "```\n",
        "\n",
        "- [ ] O inteiro `9`\n",
        "- [ ] A *string* `'9'`\n",
        "- [ ] O inteiro `333`\n",
        "- [X] A *string* `'333'`\n",
        "\n",
        "### Justificativa\n",
        "- `str(s)` é a *string* `'3'`, e `int(s)` é o inteiro `3`. Veja o Capítulo 1.\n",
        "- Multiplicar uma *string* pelo inteiro `3` repete a *string* três vezes. Veja o Capítulo 1.\n",
        "- Quando multiplicamos uma *string* por um inteiro, o resultado é uma *string*. Veja o Capítulo 1.\n",
        "- Multiplicar uma *string* pelo inteiro `3` repete a *string* três vezes. Veja o Capítulo 1."
      ]
    },
    {
      "cell_type": "markdown",
      "id": "5f08ffe4",
      "metadata": {
        "id": "5f08ffe4"
      },
      "source": [
        "### Pergunta\n",
        "Para que esta função funcione sem causar um erro, quais são as pré-condições para `n`?\n",
        "\n",
        "```\n",
        "def countdown(n):\n",
        "    if n == 0:\n",
        "        print('Blastoff!')\n",
        "    else:\n",
        "        print(n)\n",
        "        countdown(n-1)\n",
        "```\n",
        "\n",
        "- [ ] `n` deve ser um `float`.\n",
        "- [ ] `n` deve ser negativo.\n",
        "- [ ] `n` deve ser estritamente positivo, não `0`.\n",
        "- [X] `n` deve ser um inteiro positivo ou `0`.\n",
        "\n",
        "### Justificativa\n",
        "- `n` pode ser um `float` sem parte fracionária, mas também pode ser um `int`. Veja o Capítulo 5.\n",
        "- Se `n` for negativo, a função faz chamaadas recursivas até que a pilha atinja seu limite e cause um `RecursionError`. Veja o Capítulo 5.\n",
        "- Se `n` for `0`, a função exibe `'Blastoff!'` e encerra sem fazer uma chamada recursiva. Veja o Capítulo 5.\n",
        "- `n` tem que ser não negativo -- isto é, positivo ou `0`. Veja o Capítulo 5."
      ]
    },
    {
      "cell_type": "markdown",
      "id": "73d19844",
      "metadata": {
        "id": "73d19844"
      },
      "source": [
        "### Pergunta\n",
        "O que há de errado com o programa a seguir?\n",
        "\n",
        "```\n",
        "def compare(x, y):\n",
        "    if x < y:\n",
        "        return -1\n",
        "    else:\n",
        "        return 1    \n",
        "    return 0\n",
        "```\n",
        "\n",
        "- [ ] Ele tem um erro de sintaxe porque a última linha não está recuada.\n",
        "- [ ] Ele tem um erro de tempo de execução porque o valor devolvidonão pode ser negativo.\n",
        "- [ ] Ele tem um erro de sintaxe porque tem mais de uma instrução `return`.\n",
        "- [X] Ele tem um erro de lógica porque a última linha é um código morto.\n",
        "\n",
        "### Justificativa\n",
        "- A sintaxe do programa está correta, mas há um erro. Veja o Capítulo 6.\n",
        "- Qualquer valor é um valor devolvido legal -- mas há um erro de lógica porque a última linha nunca pode ser executada. Veja o Capítulo 6.\n",
        "- A sintaxe do programa está correta, mas há um erro de lógica porque a última linha nunca pode ser executada. Veja o Capítulo 6.\n",
        "- Há uma instrução `return` em ambos os ramos da instrução `if`, então a última linha nunca pode ser executada -- é um código morto. Veja o Capítulo 6."
      ]
    },
    {
      "cell_type": "markdown",
      "id": "c6e6e8bf",
      "metadata": {
        "id": "c6e6e8bf"
      },
      "source": [
        "### Pergunta\n",
        "Qual é a saída deste programa? Ou há um erro?\n",
        "\n",
        "```\n",
        "def rectangle_area(length, width):\n",
        "    return length * width\n",
        "    \n",
        "area = rectangle_area(3, 5)\n",
        "print(length)\n",
        "```\n",
        "\n",
        "- [ ] `3` porque o primeiro argumento é atribuído a `length`.\n",
        "- [ ] `5` porque o segundo argumento é atribuído a `length`.\n",
        "- [ ] Erro de sintaxe porque há duas variáveis na instrução `return`.\n",
        "- [X] Erro de tempo de execução porque o parâmetro `length` não existe fora da função.\n",
        "\n",
        "### Justificativa\n",
        "- `3` é atribuído a `length`, mas o parâmetro só existe dentro da função. Veja o Capítulo 6.\n",
        "- O primeiro argumento é atribuído a `length`, mas o parâmetro só existe dentro da função. Veja o Capítulo 6.\n",
        "- As variáveis são parte de uma expressão aritmética, que pode ser usada em uma instrução `return`. Veja o Capítulo 6.\n",
        "- Parâmetros e variáveis locais só existem dentro das funções onde são definidos. Veja o Capítulo 6."
      ]
    },
    {
      "cell_type": "markdown",
      "id": "72c71ebd",
      "metadata": {
        "id": "72c71ebd"
      },
      "source": [
        "### Pergunta\n",
        "O que há de errado com o programa a seguir?\n",
        "\n",
        "```\n",
        "s = int('123')\n",
        "for digit in s:\n",
        "    print(digit)\n",
        "```\n",
        "\n",
        "- [ ] Não há nada errado -- o programa está correto.\n",
        "- [ ] `digit` não é um nome legal para uma variável de laço de repetição.\n",
        "- [ ] `int` é um tipo, não uma função.\n",
        "- [X] `s` não é uma sequência, então não podemos percorrer os seus elementos.\n",
        "\n",
        "### Justificativa\n",
        "- O programa gera um `TypeError`. Veja o Capítulo 7.\n",
        "- Qualquer nome de variável legal pode ser usado como uma variável de laço de repetição. Veja o Capítulo 7.\n",
        "- `int` é um tipo, mas pode ser usado como uma função para converter outros tipos em inteiros. Veja o Capítulo 7.\n",
        "- `s` é um inteiro, que não é uma sequência, então não pode ser percorrido em um laço de repetição. Veja o Capítulo 7."
      ]
    },
    {
      "cell_type": "markdown",
      "id": "06298b2e",
      "metadata": {
        "id": "06298b2e"
      },
      "source": [
        "### Pergunta\n",
        "Qual destas é a maneira correta de converter uma *string* para minúsculas?\n",
        "\n",
        "- [ ] `lower(str)`\n",
        "- [ ] `str = lower(str)`\n",
        "- [ ] `str.lower()`\n",
        "- [X] `str = str.lower()`\n",
        "\n",
        "### Justificativa\n",
        "- `lower` é um método, então ele tem que ser invocado em uma *string*, como em `str.lower()`; e ele cria uma nova *string*, que deve ser atribuída a uma variável. Veja o Capítulo 7.\n",
        "- `lower` é um método, então ele tem que ser invocado em uma *string*, como em `str.lower()`. Veja o Capítulo 7.\n",
        "- `str.lower()` cria uma nova *string*, mas se a *string* não for atribuída a uma variável, não há como acessá-la. Veja o Capítulo 7.\n",
        "- `str.lower()` cria uma nova *string* -- se atribuímos de volta a `str`, a nova *string* substitui a antiga. Veja Capítulo 7."
      ]
    },
    {
      "cell_type": "markdown",
      "id": "9a2cc192",
      "metadata": {
        "id": "9a2cc192"
      },
      "source": [
        "### Pergunta\n",
        "A função a seguir recebe duas *strings* como parâmetros e devolve uma *string*.\n",
        "Qual das seguintes *docstrings* é uma descrição correta do que esta função faz?\n",
        "\n",
        "```\n",
        "def compute(word1, word2):\n",
        "    t = []\n",
        "    for letter in word1:\n",
        "        if letter in word2:\n",
        "            t.append(letter)\n",
        "    return ''.join(t)\n",
        "```\n",
        "\n",
        "- [ ] Devolve as letras que aparecem em `word1` ou `word2` ou ambas.\n",
        "- [ ] Devolve as letras que aparecem em `word1` ou `word2`, mas não em ambas.\n",
        "- [ ] Devolve as letras que aparecem em `word1`, mas não em `word2`.\n",
        "- [X] Devolve as letras que aparecem em `word1` e `word2`.\n",
        "\n",
        "### Justificativa\n",
        "- Para chegar ao método `append`, `letter` precisa aparecer em ambas as palavras. Veja o Capítulo 7.\n",
        "- Para chegar ao método `append`, `letter` tem que aparecer em ambas as palavras. Veja o Capítulo 7.\n",
        "- Para chegar ao método `append`, `letter` tem que aparecer em ambas as palavras. Veja o Capítulo 7.\n",
        "- Esta função devolve uma *string* que contém as letras que aparecem em `word1` e `word2`. Veja Capítulo 7."
      ]
    },
    {
      "cell_type": "markdown",
      "id": "8b73c088",
      "metadata": {
        "id": "8b73c088"
      },
      "source": [
        "### Pergunta\n",
        "Esta função tem como objetivo converter a primeira letra de uma palavra para minúscula e o restante das letras para maiúscula.\n",
        "\n",
        "```\n",
        "def lower_upper(word):\n",
        "    first = word[0]\n",
        "    rest = word[1:]\n",
        "    word = first.lower() + rest.upper()\n",
        "```\n",
        "\n",
        "Qual é o valor de `word` se chamarmos esta função assim? Ou há um erro?\n",
        "\n",
        "```\n",
        "word = lower_upper('Python')\n",
        "```\n",
        "\n",
        "- [ ] O resultado é um erro de sintaxe porque o caractere `:` não pode aparecer dentro do operador de colchetes.\n",
        "- [ ] O resultado é um erro de tempo de execução porque `0` não é um índice válido.\n",
        "- [ ] O programa está correto -- o valor de `word` é `'pYTHON'`.\n",
        "- [X] O programa contém um erro de lógica -- o valor de `word` é `None`.\n",
        "\n",
        "### Justificativa\n",
        "- Dois pontos dentro de um operador de colchetes indicam um fatiamento -- neste caso, ele seleciona todos os caracteres do segundo ao final. Veja o Capítulo 8.\n",
        "- `0` é um índice válido -- ele seleciona o primeiro caractere na *string*. Veja o Capítulo 8.\n",
        "- A função não tem nenhuma instrução `return`, então ela devolve `None`. Atribuir um novo valor ao parâmetro `word` não tem efeito fora da função. Veja o Capítulo 9.\n",
        "- A função não tem nenhuma instrução `return`, então ela devolve `None`. Atribuir um novo valor ao parâmetro `word` não tem efeito fora da função. Veja o Capítulo 9."
      ]
    },
    {
      "cell_type": "markdown",
      "id": "120f9574",
      "metadata": {
        "id": "120f9574"
      },
      "source": [
        "### Pergunta\n",
        "Se usarmos a função `search` do módulo `re`, qual das seguintes *strings* corresponde a este padrão: `r'^a(bc|de)f$'`?\n",
        "\n",
        "- [ ] `'abcdef'`\n",
        "- [ ] `'zadef'`\n",
        "- [ ] `'abc'`\n",
        "- [X] `'adef'`\n",
        "\n",
        "### Justificativa\n",
        "- O padrão `'(bc|de)'` requer `'bc'` ou `'de'`, mas não ambos. Veja o Capítulo 8.\n",
        "- O padrão `^a` requer a letra `a` no início da *string*. Veja o Capítulo 8.\n",
        "- O padrão `f$` requer a letra `f` no final da *string*. Veja o Capítulo 8.\n",
        "- Esta *string* tem `'a'` no início, `'f'` no final e `'de'` no meio. Veja o Capítulo 8."
      ]
    },
    {
      "cell_type": "markdown",
      "id": "6675ebc9",
      "metadata": {
        "id": "6675ebc9"
      },
      "source": [
        "### Pergunta\n",
        "Qual é o resultado deste programa?\n",
        "\n",
        "```\n",
        "t = [1, 2, 3, 4]\n",
        "t[1:-1]\n",
        "```\n",
        "\n",
        "- [ ] Um `IndexError` porque `-1` não é um índice legal.\n",
        "- [ ] `[1, 2, 3]`\n",
        "- [ ] `[2, 3, 4]`\n",
        "- [X] `[2, 3]`\n",
        "\n",
        "### Justificativa\n",
        "- Índices negativos contam de trás para frente a partir do final da sequência, então o índice de fatiamento `1:-1` seleciona elementos do segundo ao penúltimo, incluindo ambos. Veja o Capítulo 9.\n",
        "- O índice de fatiamento `1:-1` exclui o primeiro elemento da lista. Veja o Capítulo 9.\n",
        "- O índice de fatiamento `1:-1` exclui o último elemento da lista. Veja o Capítulo 9.\n",
        "- O índice de fatiamento `1:-1` seleciona elementos do segundo ao penúltimo, incluindo ambos. Veja o Capítulo 9."
      ]
    },
    {
      "cell_type": "markdown",
      "id": "ab0ec97f",
      "metadata": {
        "id": "ab0ec97f"
      },
      "source": [
        "### Pergunta\n",
        "Após a execução dessas instruções, quais são os valores de `a` e `b`? Ou há um erro?\n",
        "\n",
        "```\n",
        "a, b = 1, 2\n",
        "a, b = b, a\n",
        "```\n",
        "\n",
        "- [ ] Há um erro de tempo de execução porque os valores à direita são tuplas.\n",
        "- [ ] Há um erro de sintaxe porque a instrução de atribuição tem mais de uma variável.\n",
        "- [ ] `a` é `1` e `b` é `2`.\n",
        "- [X] `a` é `2` e `b` é `1`.\n",
        "\n",
        "### Justificativa\n",
        "- Os valores à direita são tuplas, mas essas são instruções de atribuição legais. Veja o Capítulo 11.\n",
        "- Uma instrução de atribuição pode ter uma tupla de variáveis ​​à esquerda. Veja o Capítulo 11.\n",
        "- Após a primeira atribuição `a` é `1` e `b` é `2`, mas a segunda atribuição troca os valores. Veja o Capítulo 11.\n",
        "- Após a primeira atribuição `a` é `1` e `b` é `2`, e então a segunda atribuição troca os valores. Veja o Capítulo 11."
      ]
    },
    {
      "cell_type": "markdown",
      "id": "53f30a6a",
      "metadata": {
        "id": "53f30a6a"
      },
      "source": [
        "### Pergunta\n",
        "Por que uma lista não pode aparecer como uma chave em um dicionário?\n",
        "\n",
        "- [ ] Os elementos em uma lista podem não ser totalmente ordenados.\n",
        "- [ ] Os elementos em uma lista podem ser de tipos diferentes.\n",
        "- [ ] As listas podem conter qualquer número de elementos.\n",
        "- [X] As listas são mutáveis, o que as torna não hasheáveis.\n",
        "\n",
        "### Justificativa\n",
        "- Se os elementos de uma lista não forem totalmente ordenados, eles não podem ser ordenados, mas essa não é a razão pela qual uma lista não pode aparecer como uma chave em um dicionário. Veja o Capítulo 10.\n",
        "- Os elementos em uma lista podem ser de tipos diferentes, mas essa não é a razão pela qual uma lista não pode aparecer como uma chave em um dicionário. Veja o Capítulo 10 e o Capítulo 11.\n",
        "- Listas podem conter qualquer número de elementos, mas essa não é a razão pela qual uma lista não pode aparecer como uma chave em um dicionário. Veja o Capítulo 10 e o Capítulo 11.\n",
        "- Se um objeto é mutável, ele não é hasheável, o que significa que ele não pode ser usado como uma chave em um dicionário. Veja o Capítulo 10 e o Capítulo 11."
      ]
    },
    {
      "cell_type": "markdown",
      "id": "411f2b24",
      "metadata": {
        "id": "411f2b24"
      },
      "source": [
        "### Pergunta\n",
        "Qual é a principal diferença entre uma lista e uma tupla?\n",
        "\n",
        "- [ ] Uma lista pode conter qualquer tipo; uma tupla pode conter apenas tipos hasheáveis.\n",
        "- [ ] Uma tupla pode conter qualquer tipo; uma lista pode conter apenas tipos hasheáveis.\n",
        "- [ ] Uma tupla é mutável; uma lista é imutável.\n",
        "- [X] Uma lista é mutável; uma tupla é imutável.\n",
        "\n",
        "### Justificativa\n",
        "- Ambas, listas e tuplas, podem conter qualquer tipo. Chaves em dicionários devem ser hasheáveis. Veja o Capítulo 11.\n",
        "- Ambas, listas e tuplas, podem conter qualquer tipo. Chaves em dicionários devem ser hasheáveis. Veja o Capítulo 11.\n",
        "- É o contrário: uma lista é mutável; uma tupla é imutável. Veja o Capítulo 11.\n",
        "- Uma tupla é imutável. Veja o Capítulo 11."
      ]
    },
    {
      "cell_type": "markdown",
      "id": "4734e696",
      "metadata": {
        "id": "4734e696"
      },
      "source": [
        "### Pergunta\n",
        "Qual destas é uma maneira correta de inverter a ordem dos elementos de uma lista no lugar -- isto é, modificando uma lista existente sem criar uma nova lista?\n",
        "\n",
        "- [ ] `t = reversed(t)`\n",
        "- [ ] `reversed(t)`\n",
        "- [ ] `t = t.reverse()`\n",
        "- [X] `t.reverse()`\n",
        "\n",
        "### Justificativa\n",
        "- Esta instrução funciona, mas cria uma nova lista e não modifica `t`. Veja o Capítulo 11.\n",
        "- `reverse(t)` cria uma nova lista, mas se a lista não for atribuída a uma variável, não há como acessá-la. Veja o Capítulo 11.\n",
        "- O valor devolvido de `t.reverse()` é `None`, então esta declaração define `t` como `None`. Veja o Capítulo 11.\n",
        "- `t.reverse()` inverte os elementos de `t` sem criar uma nova lista. Veja o Capítulo 11."
      ]
    },
    {
      "cell_type": "markdown",
      "id": "f4211c9c",
      "metadata": {
        "id": "f4211c9c"
      },
      "source": [
        "### Pergunta\n",
        "Qual é o resultado deste programa?\n",
        "\n",
        "```\n",
        "s = ['bbb', 'aa', 'c']\n",
        "sorted(s, key=len, reverse=True)\n",
        "```\n",
        "\n",
        "- [ ] `['aa', 'bbb', 'c']`\n",
        "- [ ] `['c', 'aa', 'bbb']`\n",
        "- [ ] `['c', 'bbb', 'aa']`\n",
        "- [X] `['bbb', 'aa', 'c']`\n",
        "\n",
        "### Justificativa\n",
        "- `key=len` ordena por comprimento, em vez de ordem alfabética, e `reverse=True` ordena em ordem decrescente. Veja o Capítulo 12.\n",
        "- `reverse=True` ordena em ordem decrescente. Veja o Capítulo 12.\n",
        "- `key=len` ordena por comprimento, em vez de ordem alfabética. Veja o Capítulo 12.\n",
        "- `key=len` ordena por comprimento, em vez de ordem alfabética, e `reverse=True` ordena em ordem decrescente, então o resultado é `['bbb', 'aa', 'c']`. Veja o Capítulo 12."
      ]
    },
    {
      "cell_type": "markdown",
      "id": "8a2962d5",
      "metadata": {
        "id": "8a2962d5"
      },
      "source": [
        "### Pergunta\n",
        "O que a função a seguir faz?\n",
        "\n",
        "```\n",
        "def compute(d1, d2):\n",
        "    res = {}\n",
        "    for key in d1:\n",
        "        res[key] = d1[key]\n",
        "    for key in d2:\n",
        "        res[key] = d2[key]\n",
        "    return res\n",
        "```\n",
        "\n",
        "- [ ] Adiciona as chaves de `d1` a `d2`.\n",
        "- [ ] Adiciona as chaves de `d2` a `d1`.\n",
        "- [ ] Cria um novo dicionário com todas as chaves que estão em `d1` e `d2`.\n",
        "- [X] Cria um novo dicionário com todas as chaves que estão em `d1` ou `d2`.\n",
        "\n",
        "### Justificativa\n",
        "- Esta função cria e devolve um novo dicionário. Veja o Capítulo 12.\n",
        "- Esta função cria e devolve um novo dicionário. Veja o Capítulo 12.\n",
        "- O novo dicionário tem todas as chaves de qualquer dicionário. Veja o Capítulo 12.\n",
        "- O novo dicionário tem todas as chaves de qualquer dicionário. Se a mesma chave aparecer em ambos, ele obtém o valor de `d2`. Veja o Capítulo 12."
      ]
    },
    {
      "cell_type": "markdown",
      "id": "e7023368",
      "metadata": {
        "id": "e7023368"
      },
      "source": [
        "### Pergunta\n",
        "Suponha que executamos o seguinte programa para obter o diretório de trabalho atual:\n",
        "\n",
        "```\n",
        "import os\n",
        "\n",
        "os.getcwd()\n",
        "```\n",
        "\n",
        "E o resultado é `/home/dinsdale/photos`.\n",
        "Agora, suponha que executamos o seguinte programa para verificar a existência de um arquivo:\n",
        "\n",
        "```\n",
        "os.path.exists('apr-2023/photo1.jpg')\n",
        "```\n",
        "\n",
        "Qual é o caminho absoluto do arquivo que é verificado?\n",
        "\n",
        "- [ ] `'photo1.jpg'`\n",
        "- [ ] `'apr-2023/photo1.jpg'`\n",
        "- [ ] `'/home/dinsdale/photo1.jpg'`\n",
        "- [X] `'/home/dinsdale/photos/apr-2023/photo1.jpg'`\n",
        "\n",
        "### Justificativa\n",
        "- Como `'apr-2023/photo1.jpg'` é um caminho relativo, ele é unido ao diretório de trabalho atual. Veja o Capítulo 13.\n",
        "- Como `'apr-2023/photo1.jpg'` é um caminho relativo, ele é unido ao diretório de trabalho atual. Veja o Capítulo 13.\n",
        "- Como `'apr-2023/photo1.jpg'` é um caminho relativo, ele é unido ao diretório de trabalho atual. Veja o Capítulo 13.\n",
        "- Como `'apr-2023/photo1.jpg'` é um caminho relativo, ele é unido ao diretório de trabalho atual. Veja o Capítulo 13."
      ]
    },
    {
      "cell_type": "markdown",
      "id": "46db3dd4",
      "metadata": {
        "id": "46db3dd4"
      },
      "source": [
        "### Pergunta\n",
        "Qual é o resultado deste programa?\n",
        "\n",
        "```\n",
        "class Day:\n",
        "    def __init__(self, day):\n",
        "        self.day = day\n",
        "\n",
        "    def __str__(date):\n",
        "        return f'Today is {date.day}'\n",
        "    \n",
        "print(Day('Wednesday'))\n",
        "```\n",
        "\n",
        "- [ ] `f'Today is Wednesday'`\n",
        "- [ ] `'Today is {Wednesday}'`\n",
        "- [ ] `f'Today is {date.day}'`\n",
        "- [X] `'Today is Wednesday'`\n",
        "\n",
        "### Justificativa\n",
        "- O `f` antes da *string* indica que é uma *string* de formato. Veja o Capítulo 15.\n",
        "- As chaves não aparecem no valor devolvido. Veja o Capítulo 15.\n",
        "- O `f` antes da *string* indica que é uma *string* de formato, e a expressão entre chaves é substituída por seu valor. Veja o Capítulo 15.\n",
        "- Em uma *string* de formato, a expressão entre chaves é substituída por seu valor. Veja o Capítulo 15."
      ]
    },
    {
      "cell_type": "markdown",
      "id": "73844cfb",
      "metadata": {
        "id": "73844cfb"
      },
      "source": [
        "### Pergunta\n",
        "Supondo que a classe `Animal` exista, qual é a saída deste programa?\n",
        "\n",
        "```\n",
        "class Cat(Animal):\n",
        "    \"\"\"Representa um cat.\"\"\"\n",
        "    \n",
        "cat = Cat()\n",
        "isinstance(cat, Animal)\n",
        "```\n",
        "\n",
        "- [ ] `False` porque uma instância de uma classe mãe não é uma instância da classe filha.\n",
        "- [ ] `False` porque uma instância de uma classe filha não é uma instância da classe mãe.\n",
        "- [ ] `True` porque cada instância de uma classe mãe também é uma instância da classe filha.\n",
        "- [X] `True` porque cada instância de uma classe filha também é uma instância da classe mãe.\n",
        "\n",
        "### Justificativa\n",
        "- É verdade que uma instância de uma classe mãe não é uma instância da classe filha, mas não é isso que está sendo verificado aqui. Veja o Capítulo 17.\n",
        "- Cada instância de uma classe filha também é uma instância da classe mãe. Veja o Capítulo 17.\n",
        "- Uma instância de uma classe mãe não é uma instância da classe filha. Veja o Capítulo 17.\n",
        "- Neste exemplo, `Cat` é uma classe filha de `Animal`, então cada objeto `Cat` também é uma instância de `Animal`. Veja o Capítulo 17."
      ]
    },
    {
      "cell_type": "markdown",
      "id": "5f34fbc5",
      "metadata": {
        "id": "5f34fbc5"
      },
      "source": [
        "### Pergunta\n",
        "Qual é o resultado deste programa?\n",
        "\n",
        "```\n",
        "from collections import namedtuple\n",
        "\n",
        "Point = namedtuple('Point', ['x', 'y'])\n",
        "p = Point(3, 4)\n",
        "p[1]\n",
        "```\n",
        "\n",
        "- [ ] `AttributeError` porque os atributos de `p` são `x` e `y`.\n",
        "- [ ] `IndexError` porque os atributos de `p` são `x` e `y`.\n",
        "- [ ] `3` porque `p` é uma `namedtuple` e o elemento com índice `1` é `3`.\n",
        "- [X] `4` porque `p` é uma `namedtuple` e o elemento com índice `1` é `4`.\n",
        "\n",
        "### Justificativa\n",
        "- Os atributos de `p` são `x` e `y`, mas como `p` é uma `namedtuple`, podemos usar o operador de colchetes para acessar os elementos por índice. Veja o Capítulo 18.\n",
        "- Os atributos de `p` são `x` e `y`, mas como `p` é uma `namedtuple`, podemos usar o operador de colchetes para acessar os elementos por índice. Veja o Capítulo 18.\n",
        "- Em uma tupla nomeada -- como em uma tupla -- o índice do primeiro elemento é `0`. Veja o Capítulo 18.\n",
        "- Em uma tupla nomeada -- como em uma tupla -- o índice do segundo elemento é `1`. Veja o Capítulo 18."
      ]
    },
    {
      "cell_type": "markdown",
      "id": "d217780d",
      "metadata": {
        "id": "d217780d"
      },
      "source": [
        "### Pergunta\n",
        "Podemos chamar a função interna `round` assim:\n",
        "\n",
        "```\n",
        "import math\n",
        "\n",
        "round(math.pi, ndigits=3)\n",
        "```\n",
        "\n",
        "O resultado é o valor de `math.pi` arredondado para três casas decimais.\n",
        "Agora, suponha que temos o argumento posicional em uma tupla e o argumento de palavra-chave em um dicionário, assim:\n",
        "\n",
        "```\n",
        "args = (math.pi,)\n",
        "kwargs = {\"ndigits\": 3}\n",
        "```\n",
        "\n",
        "Qual dessas é a maneira correta de chamar `round` e obter o mesmo resultado?\n",
        "\n",
        "- [ ] `round(args, kwargs)`\n",
        "- [ ] `round(*args, *kwargs)`\n",
        "- [ ] `round(**args, **kwargs)`\n",
        "- [X] `round(*args, **kwargs)`\n",
        "\n",
        "### Justificativa\n",
        "- Para passar os elementos de `args` como argumentos posicionais, temos que desempacotá-los com o operador `*`. Da mesma forma, para passar os itens em `kwargs` como argumentos de palavra-chave, temos que desempacotá-los com o operador `**`. Veja o Capítulo 18.\n",
        "- Para passar os itens em `kwargs` como argumentos de palavra-chave, temos que desempacotá-los com o operador `**`. Veja o Capítulo 18.\n",
        "- Para passar os elementos de `args` como argumentos posicionais, temos que desempacotá-los com o operador `*`. Veja o Capítulo 18.\n",
        "- O operador `*` desempacota os elementos de `args` e o operador `**` desempacota os itens em `kwargs`. Veja o Capítulo 18."
      ]
    }
  ],
  "metadata": {
    "kernelspec": {
      "display_name": "Python 3 (ipykernel)",
      "language": "python",
      "name": "python3"
    },
    "language_info": {
      "codemirror_mode": {
        "name": "ipython",
        "version": 3
      },
      "file_extension": ".py",
      "mimetype": "text/x-python",
      "name": "python",
      "nbconvert_exporter": "python",
      "pygments_lexer": "ipython3",
      "version": "3.10.11"
    },
    "colab": {
      "provenance": []
    }
  },
  "nbformat": 4,
  "nbformat_minor": 5
}