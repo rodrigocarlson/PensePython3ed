{
  "cells": [
    {
      "cell_type": "markdown",
      "id": "1331faa1",
      "metadata": {
        "id": "1331faa1"
      },
      "source": [
        "Você pode adquirir versões impressas e de e-book do *Think Python 3e* (em inglês) em\n",
        "[Bookshop.org](https://bookshop.org/a/98697/9781098155438) e\n",
        "[Amazon](https://www.amazon.com/_/dp/1098155432?smid=ATVPDKIKX0DER&_encoding=UTF8&tag=oreilly20-20&_encoding=UTF8&tag=greenteapre01-20&linkCode=ur2&linkId=e2a529f94920295d27ec8a06e757dc7c&camp=1789&creative=9325).\n",
        "\n",
        "Uma versão em língua portuguesa da 3ª edição foi publicada pela editora [Novatec](https://novatec.com.br/livros/pense-em-python-3ed/)."
      ]
    },
    {
      "cell_type": "code",
      "execution_count": null,
      "id": "1a0a6ff4",
      "metadata": {
        "tags": [
          "remove-cell",
          "keep"
        ],
        "id": "1a0a6ff4"
      },
      "outputs": [],
      "source": [
        "from os.path import basename, exists\n",
        "\n",
        "def download(url):\n",
        "    filename = basename(url)\n",
        "    if not exists(filename):\n",
        "        from urllib.request import urlretrieve\n",
        "\n",
        "        local, _ = urlretrieve(url, filename)\n",
        "        print(\"Downloaded \" + str(local))\n",
        "    return filename\n",
        "\n",
        "download('https://github.com/AllenDowney/ThinkPython/raw/v3/thinkpython.py');\n",
        "download('https://github.com/AllenDowney/ThinkPython/raw/v3/diagram.py');\n",
        "\n",
        "import thinkpython"
      ]
    },
    {
      "cell_type": "markdown",
      "id": "d0286422",
      "metadata": {
        "id": "d0286422"
      },
      "source": [
        "# Variáveis ​​e Instruções\n",
        "\n",
        "No capítulo anterior, usamos operadores para escrever expressões que realizam cálculos aritméticos.\n",
        "\n",
        "Neste capítulo, você aprenderá sobre variáveis ​​e instruções, a instrução `import` e a função `print`.\n",
        "E apresentarei mais do vocabulário que usamos para falar sobre programas, incluindo \"argumento\" e \"módulo\"."
      ]
    },
    {
      "cell_type": "markdown",
      "id": "4ac44f0c",
      "metadata": {
        "id": "4ac44f0c"
      },
      "source": [
        "## Variáveis\n",
        "\n",
        "Uma **variável** é um nome que se refere a um valor.\n",
        "Para criar uma variável, podemos escrever uma **instrução de atribuição** como esta:"
      ]
    },
    {
      "cell_type": "code",
      "execution_count": null,
      "id": "59f6db42",
      "metadata": {
        "id": "59f6db42"
      },
      "outputs": [],
      "source": [
        "n = 17"
      ]
    },
    {
      "cell_type": "markdown",
      "id": "52f187f1",
      "metadata": {
        "id": "52f187f1"
      },
      "source": [
        "Uma instrução de atribuição tem três partes: o nome da variável à esquerda, o operador igual, `=`, e uma expressão à direita.\n",
        "Neste exemplo, a expressão é um inteiro.\n",
        "No exemplo a seguir, a expressão é um número de ponto flutuante:"
      ]
    },
    {
      "cell_type": "code",
      "execution_count": null,
      "id": "1301f6af",
      "metadata": {
        "id": "1301f6af"
      },
      "outputs": [],
      "source": [
        "pi = 3.141592653589793"
      ]
    },
    {
      "cell_type": "markdown",
      "id": "3e27e65c",
      "metadata": {
        "id": "3e27e65c"
      },
      "source": [
        "E no exemplo a seguir, a expressão é uma string:"
      ]
    },
    {
      "cell_type": "code",
      "execution_count": null,
      "id": "f7adb732",
      "metadata": {
        "id": "f7adb732"
      },
      "outputs": [],
      "source": [
        "message = 'And now for something completely different'"
      ]
    },
    {
      "cell_type": "markdown",
      "id": "cb5916ea",
      "metadata": {
        "id": "cb5916ea"
      },
      "source": [
        "Quando você executa uma instrução de atribuição, não há saída.\n",
        "Python cria a variável e dá a ela um valor, mas a instrução de atribuição não tem efeito visível.\n",
        "No entanto, após criar uma variável, você pode usá-la como uma expressão.\n",
        "Então podemos exibir o valor de `message` assim:"
      ]
    },
    {
      "cell_type": "code",
      "execution_count": null,
      "id": "6bcc0a66",
      "metadata": {
        "id": "6bcc0a66",
        "outputId": "e9d1a668-6a3e-46e3-8622-93054da9a93d"
      },
      "outputs": [
        {
          "data": {
            "text/plain": [
              "'And now for something completely different'"
            ]
          },
          "execution_count": 5,
          "metadata": {},
          "output_type": "execute_result"
        }
      ],
      "source": [
        "message"
      ]
    },
    {
      "cell_type": "markdown",
      "id": "e3fd81de",
      "metadata": {
        "id": "e3fd81de"
      },
      "source": [
        "Você também pode usar uma variável como parte de uma expressão com operadores aritméticos:"
      ]
    },
    {
      "cell_type": "code",
      "execution_count": null,
      "id": "3f11f497",
      "metadata": {
        "id": "3f11f497",
        "outputId": "ca260734-0c80-4853-9abe-fe07c93ef2ce"
      },
      "outputs": [
        {
          "data": {
            "text/plain": [
              "42"
            ]
          },
          "execution_count": 6,
          "metadata": {},
          "output_type": "execute_result"
        }
      ],
      "source": [
        "n + 25"
      ]
    },
    {
      "cell_type": "code",
      "execution_count": null,
      "id": "6b2dafea",
      "metadata": {
        "id": "6b2dafea",
        "outputId": "b9bee3d3-50c5-429c-d422-a6bc15d05b32"
      },
      "outputs": [
        {
          "data": {
            "text/plain": [
              "6.283185307179586"
            ]
          },
          "execution_count": 7,
          "metadata": {},
          "output_type": "execute_result"
        }
      ],
      "source": [
        "2 * pi"
      ]
    },
    {
      "cell_type": "markdown",
      "id": "97396e7d",
      "metadata": {
        "id": "97396e7d"
      },
      "source": [
        "E você pode usar uma variável em uma chamda de função:"
      ]
    },
    {
      "cell_type": "code",
      "execution_count": null,
      "id": "72c45ac5",
      "metadata": {
        "id": "72c45ac5",
        "outputId": "50a53692-3e1f-44b4-a7eb-75a4511041ec"
      },
      "outputs": [
        {
          "data": {
            "text/plain": [
              "3"
            ]
          },
          "execution_count": 8,
          "metadata": {},
          "output_type": "execute_result"
        }
      ],
      "source": [
        "round(pi)"
      ]
    },
    {
      "cell_type": "code",
      "execution_count": null,
      "id": "6bf81c52",
      "metadata": {
        "id": "6bf81c52",
        "outputId": "d00a404a-e8ae-49df-de32-cd30f111965a"
      },
      "outputs": [
        {
          "data": {
            "text/plain": [
              "42"
            ]
          },
          "execution_count": 9,
          "metadata": {},
          "output_type": "execute_result"
        }
      ],
      "source": [
        "len(message)"
      ]
    },
    {
      "cell_type": "markdown",
      "id": "397d9da3",
      "metadata": {
        "id": "397d9da3"
      },
      "source": [
        "## Diagramas de estado\n",
        "\n",
        "Uma maneira comum de representar variáveis ​​no papel é escrever o nome com uma seta apontando para seu valor."
      ]
    },
    {
      "cell_type": "code",
      "execution_count": null,
      "id": "2c25e84e",
      "metadata": {
        "tags": [
          "remove-cell",
          "keep"
        ],
        "id": "2c25e84e"
      },
      "outputs": [],
      "source": [
        "import math\n",
        "\n",
        "from diagram import make_binding, Frame\n",
        "\n",
        "binding = make_binding(\"message\", 'And now for something completely different')\n",
        "binding2 = make_binding(\"n\", 17)\n",
        "binding3 = make_binding(\"pi\", 3.141592653589793)\n",
        "\n",
        "frame = Frame([binding2, binding3, binding])"
      ]
    },
    {
      "cell_type": "code",
      "execution_count": null,
      "id": "5b27a635",
      "metadata": {
        "tags": [
          "remove-input",
          "keep"
        ],
        "id": "5b27a635",
        "outputId": "da556048-2d63-4e0a-f8ea-4786724f3a8f"
      },
      "outputs": [
        {
          "data": {
            "image/png": "[encoded data removed]",
            "text/plain": [
              "<Figure size 362x101 with 1 Axes>"
            ]
          },
          "metadata": {},
          "output_type": "display_data"
        }
      ],
      "source": [
        "from diagram import diagram, adjust\n",
        "\n",
        "\n",
        "width, height, x, y = [3.62, 1.01, 0.6, 0.76]\n",
        "ax = diagram(width, height)\n",
        "bbox = frame.draw(ax, x, y, dy=-0.25)\n",
        "# adjust(x, y, bbox)"
      ]
    },
    {
      "cell_type": "markdown",
      "id": "6f40da93",
      "metadata": {
        "id": "6f40da93"
      },
      "source": [
        "Esse tipo de figura é chamado de **diagrama de estado** porque mostra em que estado cada uma das variáveis ​​está (pense nisso como o estado de espírito da variável).\n",
        "Usaremos diagramas de estado ao longo do livro para representar um modelo de como o Python armazena variáveis ​​e seus valores."
      ]
    },
    {
      "cell_type": "markdown",
      "id": "ba252c85",
      "metadata": {
        "id": "ba252c85"
      },
      "source": [
        "## Nomes de variáveis\n",
        "\n",
        "Os nomes de variáveis ​​podem ser tão longos quanto você quiser. Eles podem conter letras e números, mas não podem começar com um número.\n",
        "É legal usar letras maiúsculas, mas é convencional usar apenas letras minúsculas para nomes de variáveis.\n",
        "\n",
        "A única pontuação que pode aparecer em um nome de variável é o caractere sublinhado, `_`. Ele é frequentemente usado em nomes com várias palavras, como `your_name` ou `airspeed_of_unladen_swallow`.\n",
        "\n",
        "Se você der a uma variável um nome ilegal, você obtém um erro de sintaxe.\n",
        "O nome `million!` é ilegal porque contém pontuação:"
      ]
    },
    {
      "cell_type": "code",
      "execution_count": null,
      "id": "ac2620ef",
      "metadata": {
        "tags": [
          "raises-exception"
        ],
        "id": "ac2620ef",
        "outputId": "f1a7c162-2138-483a-eebe-2c1ac0c85381"
      },
      "outputs": [
        {
          "ename": "SyntaxError",
          "evalue": "invalid syntax (4061783710.py, line 1)",
          "output_type": "error",
          "traceback": [
            "\u001b[0;36m  Cell \u001b[0;32mIn[12], line 1\u001b[0;36m\u001b[0m\n\u001b[0;31m    million! = 1000000\u001b[0m\n\u001b[0m           ^\u001b[0m\n\u001b[0;31mSyntaxError\u001b[0m\u001b[0;31m:\u001b[0m invalid syntax\n"
          ]
        }
      ],
      "source": [
        "%%expect SyntaxError\n",
        "\n",
        "million! = 1000000"
      ]
    },
    {
      "cell_type": "markdown",
      "id": "a1cefe3e",
      "metadata": {
        "id": "a1cefe3e"
      },
      "source": [
        "`76trombones` é ilegal porque começa com um número:"
      ]
    },
    {
      "cell_type": "code",
      "execution_count": null,
      "id": "1a8b8382",
      "metadata": {
        "tags": [
          "raises-exception"
        ],
        "id": "1a8b8382",
        "outputId": "6e16ce26-6586-40cc-ed5d-9d3208e10ef5"
      },
      "outputs": [
        {
          "ename": "SyntaxError",
          "evalue": "invalid decimal literal (3636686625.py, line 1)",
          "output_type": "error",
          "traceback": [
            "\u001b[0;36m  Cell \u001b[0;32mIn[13], line 1\u001b[0;36m\u001b[0m\n\u001b[0;31m    76trombones = 'big parade'\u001b[0m\n\u001b[0m     ^\u001b[0m\n\u001b[0;31mSyntaxError\u001b[0m\u001b[0;31m:\u001b[0m invalid decimal literal\n"
          ]
        }
      ],
      "source": [
        "%%expect SyntaxError\n",
        "\n",
        "76trombones = 'big parade'"
      ]
    },
    {
      "cell_type": "markdown",
      "id": "94aa7e60",
      "metadata": {
        "id": "94aa7e60"
      },
      "source": [
        "`class` também é ilegal, mas pode não ser óbvio o motivo:"
      ]
    },
    {
      "cell_type": "code",
      "execution_count": null,
      "id": "b6938851",
      "metadata": {
        "tags": [
          "raises-exception"
        ],
        "id": "b6938851",
        "outputId": "08004b73-4357-4c03-c58e-fb0c07ae83a5"
      },
      "outputs": [
        {
          "ename": "SyntaxError",
          "evalue": "invalid syntax (3285659805.py, line 1)",
          "output_type": "error",
          "traceback": [
            "\u001b[0;36m  Cell \u001b[0;32mIn[14], line 1\u001b[0;36m\u001b[0m\n\u001b[0;31m    class = 'Self-Defence Against Fresh Fruit'\u001b[0m\n\u001b[0m          ^\u001b[0m\n\u001b[0;31mSyntaxError\u001b[0m\u001b[0;31m:\u001b[0m invalid syntax\n"
          ]
        }
      ],
      "source": [
        "%%expect SyntaxError\n",
        "\n",
        "class = 'Self-Defence Against Fresh Fruit'"
      ]
    },
    {
      "cell_type": "markdown",
      "id": "784cfb5c",
      "metadata": {
        "id": "784cfb5c"
      },
      "source": [
        "Acontece que `class` é uma **palavra-chave**, que é uma palavra especial usada para especificar a estrutura de um programa.\n",
        "Palavras-chave não podem ser usadas como nomes de variáveis.\n",
        "\n",
        "Aqui está uma lista completa de palavras-chave do Python:"
      ]
    },
    {
      "cell_type": "markdown",
      "id": "127c07e8",
      "metadata": {
        "id": "127c07e8"
      },
      "source": [
        "```\n",
        "False      await      else       import     pass\n",
        "None       break      except     in         raise\n",
        "True       class      finally    is         return\n",
        "and        continue   for        lambda     try\n",
        "as         def        from       nonlocal   while\n",
        "assert     del        global     not        with\n",
        "async      elif       if         or         yield\n",
        "```"
      ]
    },
    {
      "cell_type": "code",
      "execution_count": null,
      "id": "4a8f4b3e",
      "metadata": {
        "tags": [
          "remove-cell"
        ],
        "id": "4a8f4b3e",
        "outputId": "df80ca37-2979-4aaa-e253-9fe4595153bd"
      },
      "outputs": [
        {
          "data": {
            "text/plain": [
              "35"
            ]
          },
          "execution_count": 15,
          "metadata": {},
          "output_type": "execute_result"
        }
      ],
      "source": [
        "from keyword import kwlist\n",
        "\n",
        "len(kwlist)"
      ]
    },
    {
      "cell_type": "markdown",
      "id": "6f14d301",
      "metadata": {
        "id": "6f14d301"
      },
      "source": [
        "Você não precisa memorizar esta lista. Na maioria dos ambientes de desenvolvimento, as palavras-chave são exibidas em uma cor diferente; se você tentar usar uma como nome de variável, você saberá."
      ]
    },
    {
      "cell_type": "markdown",
      "id": "c954a3b0",
      "metadata": {
        "id": "c954a3b0"
      },
      "source": [
        "## A instrução import\n",
        "\n",
        "Para usar alguns recursos do Python, você precisa **importá-los**.\n",
        "Por exemplo, a instrução a seguir importa o módulo `math`:"
      ]
    },
    {
      "cell_type": "code",
      "execution_count": null,
      "id": "98c268e9",
      "metadata": {
        "id": "98c268e9"
      },
      "outputs": [],
      "source": [
        "import math"
      ]
    },
    {
      "cell_type": "markdown",
      "id": "ea4f75ec",
      "metadata": {
        "id": "ea4f75ec"
      },
      "source": [
        "Um **módulo** é uma coleção de variáveis ​​e funções.\n",
        "O módulo math fornece uma variável chamada `pi` que contém o valor da constante matemática denotada $\\pi$.\n",
        "Podemos exibir seu valor assim:"
      ]
    },
    {
      "cell_type": "code",
      "execution_count": null,
      "id": "47bc17c9",
      "metadata": {
        "id": "47bc17c9",
        "outputId": "034f7a6d-42c9-4e6b-e3aa-1eb2a9d01215"
      },
      "outputs": [
        {
          "data": {
            "text/plain": [
              "3.141592653589793"
            ]
          },
          "execution_count": 17,
          "metadata": {},
          "output_type": "execute_result"
        }
      ],
      "source": [
        "math.pi"
      ]
    },
    {
      "cell_type": "markdown",
      "id": "c96106e4",
      "metadata": {
        "id": "c96106e4"
      },
      "source": [
        "Para usar uma variável em um módulo, você tem que usar o **operador ponto** (`.`) entre o nome do módulo e o nome da variável.\n",
        "\n",
        "O módulo math também contém funções.\n",
        "Por exemplo, `sqrt` calcula raízes quadradas:"
      ]
    },
    {
      "cell_type": "code",
      "execution_count": null,
      "id": "fd1cec63",
      "metadata": {
        "id": "fd1cec63",
        "outputId": "e3fef44b-c8c2-495c-f355-a1002aad375d"
      },
      "outputs": [
        {
          "data": {
            "text/plain": [
              "5.0"
            ]
          },
          "execution_count": 18,
          "metadata": {},
          "output_type": "execute_result"
        }
      ],
      "source": [
        "math.sqrt(25)"
      ]
    },
    {
      "cell_type": "markdown",
      "id": "185e94a3",
      "metadata": {
        "id": "185e94a3"
      },
      "source": [
        "E `pow` eleva um número à potência de um segundo número:"
      ]
    },
    {
      "cell_type": "code",
      "execution_count": null,
      "id": "87316ddd",
      "metadata": {
        "id": "87316ddd",
        "outputId": "f13c25a4-5983-469c-bb1d-4814bf36963f"
      },
      "outputs": [
        {
          "data": {
            "text/plain": [
              "25.0"
            ]
          },
          "execution_count": 19,
          "metadata": {},
          "output_type": "execute_result"
        }
      ],
      "source": [
        "math.pow(5, 2)"
      ]
    },
    {
      "cell_type": "markdown",
      "id": "5df25a9a",
      "metadata": {
        "id": "5df25a9a"
      },
      "source": [
        "Neste ponto, já vimos duas maneiras de elevar um número a uma potência: podemos usar a função `math.pow` ou o operador de exponenciação, `**`.\n",
        "Qualquer um deles está bom, mas o operador é usado com mais frequência do que a função."
      ]
    },
    {
      "cell_type": "markdown",
      "id": "6538f22b",
      "metadata": {
        "id": "6538f22b"
      },
      "source": [
        "## Expressões e instruções\n",
        "\n",
        "Até agora, vimos alguns tipos de expressões.\n",
        "Uma expressão pode ser um único valor, como um inteiro, número de ponto flutuante ou string.\n",
        "Também pode ser uma coleção de valores e operadores.\n",
        "E pode incluir nomes de variáveis ​​e chamadas de função.\n",
        "Aqui está uma expressão que inclui vários desses elementos:"
      ]
    },
    {
      "cell_type": "code",
      "execution_count": null,
      "id": "7f0b92df",
      "metadata": {
        "id": "7f0b92df",
        "outputId": "8ff4ca8c-a6af-4a98-e453-4f886f356b1a"
      },
      "outputs": [
        {
          "data": {
            "text/plain": [
              "42"
            ]
          },
          "execution_count": 20,
          "metadata": {},
          "output_type": "execute_result"
        }
      ],
      "source": [
        "19 + n + round(math.pi) * 2"
      ]
    },
    {
      "cell_type": "markdown",
      "id": "000dd2ba",
      "metadata": {
        "id": "000dd2ba"
      },
      "source": [
        "Também vimos alguns tipos de instruções.\n",
        "Uma **instrução** é uma unidade de código que tem um efeito, mas nenhum valor.\n",
        "Por exemplo, uma instrução de atribuição cria uma variável e dá a ela um valor, mas a instrução em si não tem valor:"
      ]
    },
    {
      "cell_type": "code",
      "execution_count": null,
      "id": "b882c340",
      "metadata": {
        "id": "b882c340"
      },
      "outputs": [],
      "source": [
        "n = 17"
      ]
    },
    {
      "cell_type": "markdown",
      "id": "cff0414b",
      "metadata": {
        "id": "cff0414b"
      },
      "source": [
        "Da mesma forma, uma instrução import tem um efeito -- ela importa um módulo para que possamos usar as variáveis ​​e funções que ele contém -- mas não tem efeito visível:"
      ]
    },
    {
      "cell_type": "code",
      "execution_count": null,
      "id": "299817d8",
      "metadata": {
        "id": "299817d8"
      },
      "outputs": [],
      "source": [
        "import math"
      ]
    },
    {
      "cell_type": "markdown",
      "id": "2aeb1000",
      "metadata": {
        "id": "2aeb1000"
      },
      "source": [
        "Calcular o valor de uma expressão é chamado de **avaliação**.\n",
        "Executar uma instrução é chamado de **execução**."
      ]
    },
    {
      "cell_type": "markdown",
      "id": "f61601e4",
      "metadata": {
        "id": "f61601e4"
      },
      "source": [
        "## A função `print`\n",
        "\n",
        "Quando você avalia uma expressão, o resultado é exibido:"
      ]
    },
    {
      "cell_type": "code",
      "execution_count": null,
      "id": "805977c6",
      "metadata": {
        "id": "805977c6",
        "outputId": "ce6360a2-44d5-442e-ca67-debc17e63228"
      },
      "outputs": [
        {
          "data": {
            "text/plain": [
              "18"
            ]
          },
          "execution_count": 23,
          "metadata": {},
          "output_type": "execute_result"
        }
      ],
      "source": [
        "n + 1"
      ]
    },
    {
      "cell_type": "markdown",
      "id": "efacf0fa",
      "metadata": {
        "id": "efacf0fa"
      },
      "source": [
        "Mas se você avaliar mais de uma expressão, somente o valor da última será exibido:"
      ]
    },
    {
      "cell_type": "code",
      "execution_count": null,
      "id": "962e08ab",
      "metadata": {
        "id": "962e08ab",
        "outputId": "d5717769-d10f-4cb9-f314-fd8ea58e825c"
      },
      "outputs": [
        {
          "data": {
            "text/plain": [
              "20"
            ]
          },
          "execution_count": 24,
          "metadata": {},
          "output_type": "execute_result"
        }
      ],
      "source": [
        "n + 2\n",
        "n + 3"
      ]
    },
    {
      "cell_type": "markdown",
      "id": "cf2b991d",
      "metadata": {
        "id": "cf2b991d"
      },
      "source": [
        "Para exibir mais de um valor, você pode usar a função `print`:"
      ]
    },
    {
      "cell_type": "code",
      "execution_count": null,
      "id": "a797e44d",
      "metadata": {
        "id": "a797e44d",
        "outputId": "a81bf702-8b31-48ee-bfc9-e773d13a5845"
      },
      "outputs": [
        {
          "name": "stdout",
          "output_type": "stream",
          "text": [
            "19\n",
            "20\n"
          ]
        }
      ],
      "source": [
        "print(n+2)\n",
        "print(n+3)"
      ]
    },
    {
      "cell_type": "markdown",
      "id": "29af1f89",
      "metadata": {
        "id": "29af1f89"
      },
      "source": [
        "Ela também funciona com números de ponto flutuante e *strings*:"
      ]
    },
    {
      "cell_type": "code",
      "execution_count": null,
      "id": "73428520",
      "metadata": {
        "id": "73428520",
        "outputId": "4c834e53-8c97-4bec-da10-cd466ff23fe5"
      },
      "outputs": [
        {
          "name": "stdout",
          "output_type": "stream",
          "text": [
            "The value of pi is approximately\n",
            "3.141592653589793\n"
          ]
        }
      ],
      "source": [
        "print('The value of pi is approximately')\n",
        "print(math.pi)"
      ]
    },
    {
      "cell_type": "markdown",
      "id": "8b4d7f4a",
      "metadata": {
        "id": "8b4d7f4a"
      },
      "source": [
        "Você também pode usar uma sequência de expressões separadas por vírgulas:"
      ]
    },
    {
      "cell_type": "code",
      "execution_count": null,
      "id": "9ad5bddd",
      "metadata": {
        "id": "9ad5bddd",
        "outputId": "f756e62a-b433-4d9d-d013-e0aed27576b3"
      },
      "outputs": [
        {
          "name": "stdout",
          "output_type": "stream",
          "text": [
            "The value of pi is approximately 3.141592653589793\n"
          ]
        }
      ],
      "source": [
        "print('The value of pi is approximately', math.pi)"
      ]
    },
    {
      "cell_type": "markdown",
      "id": "af447ec4",
      "metadata": {
        "id": "af447ec4"
      },
      "source": [
        "Observe que a função `print` coloca um espaço entre os valores."
      ]
    },
    {
      "cell_type": "markdown",
      "id": "7c73a2fa",
      "metadata": {
        "id": "7c73a2fa"
      },
      "source": [
        "## Argumentos\n",
        "\n",
        "Quando você chama uma função, a expressão entre parênteses é chamada de **argumento**.\n",
        "Normalmente eu explicaria o porquê, mas neste caso o significado técnico de um termo não tem quase nada a ver com o significado comum da palavra, então nem vou tentar.\n",
        "\n",
        "Algumas das funções que vimos até agora aceitam apenas um argumento, como `int`:"
      ]
    },
    {
      "cell_type": "code",
      "execution_count": null,
      "id": "060c60cf",
      "metadata": {
        "id": "060c60cf",
        "outputId": "ca96d1bf-8649-46d8-ec6a-84eeb2746d28"
      },
      "outputs": [
        {
          "data": {
            "text/plain": [
              "101"
            ]
          },
          "execution_count": 28,
          "metadata": {},
          "output_type": "execute_result"
        }
      ],
      "source": [
        "int('101')"
      ]
    },
    {
      "cell_type": "markdown",
      "id": "c4ad4f2c",
      "metadata": {
        "id": "c4ad4f2c"
      },
      "source": [
        "Alguns usam dois, como `math.pow`:"
      ]
    },
    {
      "cell_type": "code",
      "execution_count": null,
      "id": "2875d9e0",
      "metadata": {
        "id": "2875d9e0",
        "outputId": "186a7439-7844-4021-8f53-bbda61a1ea9a"
      },
      "outputs": [
        {
          "data": {
            "text/plain": [
              "25.0"
            ]
          },
          "execution_count": 29,
          "metadata": {},
          "output_type": "execute_result"
        }
      ],
      "source": [
        "math.pow(5, 2)"
      ]
    },
    {
      "cell_type": "markdown",
      "id": "17293749",
      "metadata": {
        "id": "17293749"
      },
      "source": [
        "Alguns podem receber argumentos adicionais que são opcionais.\n",
        "Por exemplo, `int` pode receber um segundo argumento que especifica a base do número:"
      ]
    },
    {
      "cell_type": "code",
      "execution_count": null,
      "id": "43b9cf38",
      "metadata": {
        "id": "43b9cf38",
        "outputId": "9f5ccf6d-8c43-4398-ed55-84698b05176d"
      },
      "outputs": [
        {
          "data": {
            "text/plain": [
              "5"
            ]
          },
          "execution_count": 30,
          "metadata": {},
          "output_type": "execute_result"
        }
      ],
      "source": [
        "int('101', 2)"
      ]
    },
    {
      "cell_type": "markdown",
      "id": "c95589a1",
      "metadata": {
        "id": "c95589a1"
      },
      "source": [
        "A sequência de dígitos `101` na base 2 representa o número 5 na base 10.\n",
        "\n",
        "`round` também recebe um segundo argumento opcional, que é o número de casas decimais para arredondar:"
      ]
    },
    {
      "cell_type": "code",
      "execution_count": null,
      "id": "e8a21d05",
      "metadata": {
        "id": "e8a21d05",
        "outputId": "f9ec2e5a-40c2-42dd-cdc0-6920992d51ca"
      },
      "outputs": [
        {
          "data": {
            "text/plain": [
              "3.142"
            ]
          },
          "execution_count": 31,
          "metadata": {},
          "output_type": "execute_result"
        }
      ],
      "source": [
        "round(math.pi, 3)"
      ]
    },
    {
      "cell_type": "markdown",
      "id": "21e4a448",
      "metadata": {
        "id": "21e4a448"
      },
      "source": [
        "Algumas funções podem receber qualquer número de argumentos, como `print`:"
      ]
    },
    {
      "cell_type": "code",
      "execution_count": null,
      "id": "724128f4",
      "metadata": {
        "id": "724128f4",
        "outputId": "33f39e03-61c5-41f2-f5f0-e1b9c3730135"
      },
      "outputs": [
        {
          "name": "stdout",
          "output_type": "stream",
          "text": [
            "Any number of arguments\n"
          ]
        }
      ],
      "source": [
        "print('Any', 'number', 'of', 'arguments')"
      ]
    },
    {
      "cell_type": "markdown",
      "id": "667cff14",
      "metadata": {
        "id": "667cff14"
      },
      "source": [
        "Se você chamar uma função e fornecer argumentos a mais, isso é um `TypeError`:"
      ]
    },
    {
      "cell_type": "code",
      "execution_count": null,
      "id": "69295e52",
      "metadata": {
        "tags": [
          "raises-exception"
        ],
        "id": "69295e52",
        "outputId": "b51bd8f4-8b31-4609-8f26-079abd6ae79c"
      },
      "outputs": [
        {
          "ename": "TypeError",
          "evalue": "float expected at most 1 argument, got 2",
          "output_type": "error",
          "traceback": [
            "\u001b[0;31mTypeError\u001b[0m\u001b[0;31m:\u001b[0m float expected at most 1 argument, got 2\n"
          ]
        }
      ],
      "source": [
        "%%expect TypeError\n",
        "\n",
        "float('123.0', 2)"
      ]
    },
    {
      "cell_type": "markdown",
      "id": "5103368e",
      "metadata": {
        "id": "5103368e"
      },
      "source": [
        "Se você fornecer argumentos a menos, isso também será um `TypeError`:"
      ]
    },
    {
      "cell_type": "code",
      "execution_count": null,
      "id": "edec7064",
      "metadata": {
        "tags": [
          "raises-exception"
        ],
        "id": "edec7064",
        "outputId": "d9dfc40d-cd68-46be-c312-4ffeb2a45f1a"
      },
      "outputs": [
        {
          "ename": "TypeError",
          "evalue": "pow expected 2 arguments, got 1",
          "output_type": "error",
          "traceback": [
            "\u001b[0;31mTypeError\u001b[0m\u001b[0;31m:\u001b[0m pow expected 2 arguments, got 1\n"
          ]
        }
      ],
      "source": [
        "%%expect TypeError\n",
        "\n",
        "math.pow(2)"
      ]
    },
    {
      "cell_type": "markdown",
      "id": "5333c416",
      "metadata": {
        "id": "5333c416"
      },
      "source": [
        "E se você fornecer um argumento com um tipo que a função não pode manipular, isso também é um `TypeError`:"
      ]
    },
    {
      "cell_type": "code",
      "execution_count": null,
      "id": "f86b2896",
      "metadata": {
        "tags": [
          "raises-exception"
        ],
        "id": "f86b2896",
        "outputId": "eb28817a-2856-4f98-e5f7-c6e666e368b2"
      },
      "outputs": [
        {
          "ename": "TypeError",
          "evalue": "must be real number, not str",
          "output_type": "error",
          "traceback": [
            "\u001b[0;31mTypeError\u001b[0m\u001b[0;31m:\u001b[0m must be real number, not str\n"
          ]
        }
      ],
      "source": [
        "%%expect TypeError\n",
        "\n",
        "math.sqrt('123')"
      ]
    },
    {
      "cell_type": "markdown",
      "id": "548828af",
      "metadata": {
        "id": "548828af"
      },
      "source": [
        "Esse tipo de verificação pode ser irritante quando você está começando, mas ajuda a detectar e corrigir erros."
      ]
    },
    {
      "cell_type": "markdown",
      "id": "be2b6a9b",
      "metadata": {
        "id": "be2b6a9b"
      },
      "source": [
        "## Comentários\n",
        "\n",
        "À medida que os programas ficam maiores e mais complicados, eles ficam mais difíceis de ler.\n",
        "Linguagens formais são densas, e geralmente é difícil olhar para um pedaço de código e descobrir o que ele está fazendo e por quê.\n",
        "\n",
        "Por esse motivo, é uma boa ideia adicionar notas aos seus programas para explicar em linguagem natural o que o programa está fazendo.\n",
        "Essas notas são chamadas de **comentários**, e começam com o símbolo `#`:"
      ]
    },
    {
      "cell_type": "code",
      "execution_count": null,
      "id": "607893a6",
      "metadata": {
        "id": "607893a6"
      },
      "outputs": [],
      "source": [
        "# número de segundos em 42:42\n",
        "seconds = 42 * 60 + 42"
      ]
    },
    {
      "cell_type": "markdown",
      "id": "519c83a9",
      "metadata": {
        "id": "519c83a9"
      },
      "source": [
        "Neste caso, o comentário aparece em uma linha por si só. Você também pode colocar comentários no final de uma linha:"
      ]
    },
    {
      "cell_type": "code",
      "execution_count": null,
      "id": "615a11e7",
      "metadata": {
        "id": "615a11e7"
      },
      "outputs": [],
      "source": [
        "miles = 10 / 1.61     # 10 quilômetros em milhas"
      ]
    },
    {
      "cell_type": "markdown",
      "id": "87c8d10c",
      "metadata": {
        "id": "87c8d10c"
      },
      "source": [
        "Tudo do `#` até o fim da linha é ignorado---não tem efeito na execução do programa.\n",
        "\n",
        "Comentários são mais úteis quando documentam características não óbvias do código.\n",
        "É razoável supor que o leitor pode descobrir *o que* o código faz; é mais útil explicar *por que*.\n",
        "\n",
        "Este comentário é redundante com o código e inútil:"
      ]
    },
    {
      "cell_type": "code",
      "execution_count": null,
      "id": "cc7fe2e6",
      "metadata": {
        "id": "cc7fe2e6"
      },
      "outputs": [],
      "source": [
        "v = 8     # atribuir 8 a v"
      ]
    },
    {
      "cell_type": "markdown",
      "id": "eb83b14a",
      "metadata": {
        "id": "eb83b14a"
      },
      "source": [
        "Este comentário contém informações úteis que não estão no código:"
      ]
    },
    {
      "cell_type": "code",
      "execution_count": null,
      "id": "7c93a00d",
      "metadata": {
        "id": "7c93a00d"
      },
      "outputs": [],
      "source": [
        "v = 8     # velocity in miles per hour"
      ]
    },
    {
      "cell_type": "markdown",
      "id": "6cd60d4f",
      "metadata": {
        "id": "6cd60d4f"
      },
      "source": [
        "Bons nomes de variáveis ​​podem reduzir a necessidade de comentários, mas nomes longos podem tornar expressões complexas difíceis de ler, então há uma compromisso."
      ]
    },
    {
      "cell_type": "markdown",
      "id": "7d61e416",
      "metadata": {
        "id": "7d61e416"
      },
      "source": [
        "## Depuração\n",
        "\n",
        "Três tipos de erros podem ocorrer em um programa: erros de sintaxe, erros de tempo de execução e erros semânticos.\n",
        "É útil distingui-los para rastreá-los mais rapidamente.\n",
        "\n",
        "* **Erro de sintaxe**: \"Sintaxe\" se refere à estrutura de um programa e às regras sobre essa estrutura. Se houver um erro de sintaxe em qualquer lugar do seu programa, o Python não executa o programa. Ele exibe uma mensagem de erro imediatamente.\n",
        "\n",
        "* **Erro de tempo de execução**: Se não houver erros de sintaxe no seu programa, ele pode começar a ser executado. Mas se algo der errado, o Python exibe uma mensagem de erro e para. Esse tipo de erro é chamado de erro de tempo de execução. Também é chamado de **exceção** porque indica que algo excepcional aconteceu.\n",
        "\n",
        "* **Erro semântico**: O terceiro tipo de erro é \"semântico\", que quer dizer relacionado ao significado. Se houver um erro semântico no seu programa, ele é executado sem gerar mensagens de erro, mas não faz o que você pretendia. Identificar erros semânticos pode ser complicado porque exige que você trabalhe de trás para frente, observando a saída do programa e tentando descobrir o que ele está fazendo."
      ]
    },
    {
      "cell_type": "markdown",
      "id": "6cd52721",
      "metadata": {
        "id": "6cd52721"
      },
      "source": [
        "Como vimos, um nome de variável ilegal é um erro de sintaxe:"
      ]
    },
    {
      "cell_type": "code",
      "execution_count": null,
      "id": "86f07f6e",
      "metadata": {
        "tags": [
          "raises-exception"
        ],
        "id": "86f07f6e",
        "outputId": "775a5554-e5db-4e3f-da84-74b024427a1e"
      },
      "outputs": [
        {
          "ename": "SyntaxError",
          "evalue": "invalid syntax (4061783710.py, line 1)",
          "output_type": "error",
          "traceback": [
            "\u001b[0;36m  Cell \u001b[0;32mIn[40], line 1\u001b[0;36m\u001b[0m\n\u001b[0;31m    million! = 1000000\u001b[0m\n\u001b[0m           ^\u001b[0m\n\u001b[0;31mSyntaxError\u001b[0m\u001b[0;31m:\u001b[0m invalid syntax\n"
          ]
        }
      ],
      "source": [
        "%%expect SyntaxError\n",
        "\n",
        "million! = 1000000"
      ]
    },
    {
      "cell_type": "markdown",
      "id": "b8971d33",
      "metadata": {
        "id": "b8971d33"
      },
      "source": [
        "Se você usar um operador com um tipo que ele não suporta, isso é um erro de tempo de execução:"
      ]
    },
    {
      "cell_type": "code",
      "execution_count": null,
      "id": "682395ea",
      "metadata": {
        "tags": [
          "raises-exception"
        ],
        "id": "682395ea",
        "outputId": "0f7bcd8a-e3aa-4f1a-f3a3-ebe61fec3a67"
      },
      "outputs": [
        {
          "ename": "TypeError",
          "evalue": "unsupported operand type(s) for /: 'str' and 'int'",
          "output_type": "error",
          "traceback": [
            "\u001b[0;31mTypeError\u001b[0m\u001b[0;31m:\u001b[0m unsupported operand type(s) for /: 'str' and 'int'\n"
          ]
        }
      ],
      "source": [
        "%%expect TypeError\n",
        "\n",
        "'126' / 3"
      ]
    },
    {
      "cell_type": "markdown",
      "id": "e51fa6e2",
      "metadata": {
        "id": "e51fa6e2"
      },
      "source": [
        "Finalmente, aqui está um exemplo de um erro semântico.\n",
        "Suponha que queremos calcular a média de `1` e `3`, mas esquecemos da ordem das operações e escrevemos isto:"
      ]
    },
    {
      "cell_type": "code",
      "execution_count": null,
      "id": "2ff25bda",
      "metadata": {
        "id": "2ff25bda",
        "outputId": "07174d13-05ce-45aa-e2d0-3173e5cdcb09"
      },
      "outputs": [
        {
          "data": {
            "text/plain": [
              "2.5"
            ]
          },
          "execution_count": 42,
          "metadata": {},
          "output_type": "execute_result"
        }
      ],
      "source": [
        "1 + 3 / 2"
      ]
    },
    {
      "cell_type": "markdown",
      "id": "0828afc0",
      "metadata": {
        "id": "0828afc0"
      },
      "source": [
        "Quando essa expressão é avaliada, ela não produz uma mensagem de erro, então não há erro de sintaxe ou erro de tempo de execução.\n",
        "Mas o resultado não é a média de `1` e `3`, então o programa não está correto.\n",
        "Este é um erro semântico porque o programa é executado, mas não faz o que é pretendido."
      ]
    },
    {
      "cell_type": "markdown",
      "id": "07396f3d",
      "metadata": {
        "id": "07396f3d"
      },
      "source": [
        "## Glossário\n",
        "\n",
        "**variável** (*variable*)**:**\n",
        "Um nome que se refere a um valor.\n",
        "\n",
        "**instrução de atribuição** (*assignment statement*)**:**\n",
        "Uma instrução que atribui um valor a uma variável.\n",
        "\n",
        "**diagrama de estado** (*state diagram*)**:**\n",
        "Uma representação gráfica de um conjunto de variáveis ​​e os valores aos quais elas se referem.\n",
        "\n",
        "**palavra-chave** (*keyword*)**:**\n",
        "Uma palavra especial usada para especificar a estrutura de um programa.\n",
        "\n",
        "**instrução de importação** (*import statement*)**:**\n",
        "Uma instrução que lê um arquivo de módulo para que possamos usar as variáveis ​​e funções que ele contém.\n",
        "\n",
        "**módulo** (*module*)**:**\n",
        "Um arquivo que contém código Python, incluindo definições de função e, às vezes, outras instruções.\n",
        "\n",
        "**operador ponto** (*dot operator*)**:**\n",
        "O operador ponto, `.`, é usado para acessar uma função em outro módulo especificando o nome do módulo seguido por um ponto e o nome da função.\n",
        "\n",
        "**avaliar** (*evaluate*)**:**\n",
        "Executa as operações em uma expressão para calcular um valor.\n",
        "\n",
        "**instrução** (*statement*)**:**\n",
        "Uma ou mais linhas de código que representam um comando ou ação.\n",
        "\n",
        "**executa** (*execute*)**:**\n",
        "Executa uma instrução e faça o que ela diz.\n",
        "\n",
        "**argumento** (*argument*)**:**\n",
        "Um valor fornecido a uma função quando a função é chamada.\n",
        "\n",
        "**comentário** (*comment*)**:**\n",
        "Texto incluído em um programa que fornece informações sobre o programa, mas não tem efeito sobre sua execução.\n",
        "\n",
        "**Erro de tempo de execução (*runtime error*)**:**\n",
        "Um erro que faz com que um programa exiba uma mensagem de erro e saia.\n",
        "\n",
        "**exceção** (*exception*)**:**\n",
        "Um erro que é detectado enquanto o programa está em execução.\n",
        "\n",
        "**erro semântico** ou **erro de semântica** (*semantic error*)**:**\n",
        "Um erro que faz com que um programa faça a coisa errada, mas não exiba uma mensagem de erro."
      ]
    },
    {
      "cell_type": "markdown",
      "id": "70ee273d",
      "metadata": {
        "id": "70ee273d"
      },
      "source": [
        "## Exercícios"
      ]
    },
    {
      "cell_type": "code",
      "execution_count": null,
      "id": "c9e6cab4",
      "metadata": {
        "tags": [
          "remove-print",
          "keep"
        ],
        "id": "c9e6cab4",
        "outputId": "d131ad19-7850-43c4-ea21-37e00c7354bb"
      },
      "outputs": [
        {
          "name": "stdout",
          "output_type": "stream",
          "text": [
            "Exception reporting mode: Verbose\n"
          ]
        }
      ],
      "source": [
        "# Esta célula diz ao Jupyter para fornecer informações detalhadas de depuração\n",
        "# quando ocorre um erro de tempo de execução. Execute-o antes de trabalhar nos\n",
        "# exercícios.\n",
        "\n",
        "%xmode Verbose"
      ]
    },
    {
      "cell_type": "markdown",
      "id": "7256a9b2",
      "metadata": {
        "id": "7256a9b2"
      },
      "source": [
        "### Pergunte a um assistente virtual\n",
        "\n",
        "Mais uma vez, eu o encorajo a usar um assistente virtual para aprender mais sobre qualquer um dos tópicos deste capítulo.\n",
        "\n",
        "Se você estiver curioso sobre qualquer uma das palavras-chave que listei, você pode perguntar \"Por que class é uma palavra-chave?\" ou \"Por que nomes de variáveis ​​não podem ser palavras-chave?\" (\"*Why is class a keyword?*\" ou \"*Why can't variable names be keywords?*\").\n",
        "\n",
        "Você deve ter notado que `int`, `float` e `str` não são palavras-chave do Python. Elas são variáveis ​​que representam tipos e podem ser usadas como funções. Portanto, é *legal* ter uma variável ou função com um desses nomes, mas é fortemente desencorajado. Pergunte a um assistente \"Por que é ruim usar int, float e str como nomes de variáveis?\" (\"*Why is it bad to use int, float, and str as variable names?*\").\n",
        "\n",
        "Pergunte também: \"Quais são as funções internas do Python?\" (\"*What are the built-in functions in Python?*\").\n",
        "Se você estiver curioso sobre qualquer uma delas, peça mais informações.\n",
        "\n",
        "Neste capítulo, importamos o módulo `math` e usamos algumas das variáveis ​​e funções que ele fornece. Pergunte a um assistente: \"Quais variáveis ​​e funções estão no módulo math?\" e \"Além de math, quais módulos são considerados essenciais do Python?\" (\"*What variables and functions are in the math module?*\" e \"Other than math, what modules are considered core Python?*\")"
      ]
    },
    {
      "cell_type": "markdown",
      "id": "f92afde0",
      "metadata": {
        "id": "f92afde0"
      },
      "source": [
        "### Exercício\n",
        "\n",
        "Repetindo meu conselho do capítulo anterior, sempre que você aprender um novo recurso, você deve cometer erros de propósito para ver o que dá errado.\n",
        "\n",
        "- Vimos que `n = 17` é legal. E quanto a `17 = n`?\n",
        "\n",
        "- Que tal `x = y = 1`?\n",
        "\n",
        "- Em algumas linguagens, toda instrução termina com um ponto e vírgula (`;`). O que acontece se você colocar um ponto e vírgula no final de uma instrução Python?\n",
        "\n",
        "- E se você colocar um ponto no final de uma instrução?\n",
        "\n",
        "- O que acontece se você digitar o nome de um módulo errado e tentar importar `maath`?"
      ]
    },
    {
      "cell_type": "markdown",
      "id": "9d562609",
      "metadata": {
        "id": "9d562609"
      },
      "source": [
        "### Exercício\n",
        "Pratique usando o interpretador Python como uma calculadora:\n",
        "\n",
        "**Parte 1.** O volume de uma esfera com raio $r$ é $\\frac{4}{3} \\pi r^3$.\n",
        "Qual é o volume de uma esfera com raio 5? Comece com uma variável chamada `radius` e então atribua o resultado a uma variável chamada `volume`. Exiba o resultado. Adicione comentários para indicar que `radius` está em centímetros e `volume` em centímetros cúbicos."
      ]
    },
    {
      "cell_type": "code",
      "execution_count": null,
      "id": "18de7d96",
      "metadata": {
        "id": "18de7d96",
        "outputId": "7612b497-8d15-46e5-eb62-1ced8df028e4"
      },
      "outputs": [
        {
          "data": {
            "text/plain": [
              "523.5987755982989"
            ]
          },
          "execution_count": 44,
          "metadata": {},
          "output_type": "execute_result"
        }
      ],
      "source": [
        "# Solução\n",
        "\n",
        "radius = 5                            # em cm\n",
        "volume = 4 / 3 * math.pi * radius**3  # em cm cúbicos\n",
        "volume"
      ]
    },
    {
      "cell_type": "markdown",
      "id": "6449b12b",
      "metadata": {
        "id": "6449b12b"
      },
      "source": [
        "**Parte 2.** Uma regra de trigonometria diz que para qualquer valor de $x$, $(\\cos x)^2 + (\\sin x)^2 = 1$. Vamos ver se é verdade para um valor específico de $x$ como 42.\n",
        "\n",
        "Crie uma variável chamada `x` com este valor.\n",
        "Então use `math.cos` e `math.sin` para calcular o seno e o cosseno de $x$, e a soma de seus quadrados.\n",
        "\n",
        "O resultado deve ser próximo de 1. Pode não ser exatamente 1 porque a aritmética de ponto flutuante não é exata---ela é apenas aproximadamente correta."
      ]
    },
    {
      "cell_type": "code",
      "execution_count": null,
      "id": "de812cff",
      "metadata": {
        "id": "de812cff",
        "outputId": "a88cc22d-3c12-4eb8-93de-6bf4a23e816c"
      },
      "outputs": [
        {
          "data": {
            "text/plain": [
              "1.0"
            ]
          },
          "execution_count": 52,
          "metadata": {},
          "output_type": "execute_result"
        }
      ],
      "source": [
        "# Solução\n",
        "\n",
        "x = 42\n",
        "math.cos(x)**2 + math.sin(x)**2"
      ]
    },
    {
      "cell_type": "markdown",
      "id": "4986801f",
      "metadata": {
        "id": "4986801f"
      },
      "source": [
        "**Parte 3.** Além de `pi`, a outra variável definida no módulo `math` é `e`, que representa a base do logaritmo natural, escrito em notação matemática como $e$. Se você não estiver familiarizado com esse valor, pergunte a um assistente virtual \"O que é `math.e`?\" (\"*What is `math.e`?*\"). Agora vamos calcular $e^2$ de três maneiras:\n",
        "\n",
        "* Use `math.e` e o operador de exponenciação (`**`).\n",
        "\n",
        "* Use `math.pow` para elevar `math.e` à potência `2`.\n",
        "\n",
        "* Use `math.exp`, que recebe como argumento um valor, $x$, e calcula $e^x$.\n",
        "\n",
        "Você pode notar que o último resultado é ligeiramente diferente dos outros dois.\n",
        "Veja se consegue descobrir qual é o correto."
      ]
    },
    {
      "cell_type": "code",
      "execution_count": null,
      "id": "b4ada618",
      "metadata": {
        "id": "b4ada618",
        "outputId": "2d78b016-d47f-4cb8-b625-bb2ac48422b1"
      },
      "outputs": [
        {
          "data": {
            "text/plain": [
              "7.3890560989306495"
            ]
          },
          "execution_count": 46,
          "metadata": {},
          "output_type": "execute_result"
        }
      ],
      "source": [
        "# Solução\n",
        "\n",
        "math.e ** 2"
      ]
    },
    {
      "cell_type": "code",
      "execution_count": null,
      "id": "4424940f",
      "metadata": {
        "id": "4424940f",
        "outputId": "c8c703b8-6910-4868-c980-a35b35911bab"
      },
      "outputs": [
        {
          "data": {
            "text/plain": [
              "7.3890560989306495"
            ]
          },
          "execution_count": 47,
          "metadata": {},
          "output_type": "execute_result"
        }
      ],
      "source": [
        "# Solução\n",
        "\n",
        "math.pow(math.e, 2)"
      ]
    },
    {
      "cell_type": "code",
      "execution_count": null,
      "id": "50e8393a",
      "metadata": {
        "id": "50e8393a",
        "outputId": "191b9785-e1b6-435e-f00e-5163d6d6e74a"
      },
      "outputs": [
        {
          "data": {
            "text/plain": [
              "7.38905609893065"
            ]
          },
          "execution_count": 48,
          "metadata": {},
          "output_type": "execute_result"
        }
      ],
      "source": [
        "# Solução\n",
        "\n",
        "math.exp(2)"
      ]
    },
    {
      "cell_type": "code",
      "execution_count": null,
      "id": "91e5a869",
      "metadata": {
        "id": "91e5a869"
      },
      "outputs": [],
      "source": []
    },
    {
      "cell_type": "markdown",
      "id": "a7f4edf8",
      "metadata": {
        "tags": [],
        "id": "a7f4edf8"
      },
      "source": [
        "[Pense Python: 3ª Edição](https://rodrigocarlson.github.io/PensePython3ed/)\n",
        "\n",
        "Copyright 2024 [Allen B. Downey](https://allendowney.com/) (versão original)\n",
        "\n",
        "Copyright 2025 [Rodrigo Castelan Carlson](https://rodrigocarlson.paginas.ufsc.br/) (desta versão)\n",
        "\n",
        "Foram preservadas as mesmas licenças da versão original.\n",
        "\n",
        "Licença dos códigos: [MIT License](https://mit-license.org/)\n",
        "\n",
        "Licença dos textos: [Creative Commons Attribution-NonCommercial-ShareAlike 4.0 International](https://creativecommons.org/licenses/by-nc-sa/4.0/)"
      ]
    }
  ],
  "metadata": {
    "celltoolbar": "Tags",
    "kernelspec": {
      "display_name": "Python 3 (ipykernel)",
      "language": "python",
      "name": "python3"
    },
    "language_info": {
      "codemirror_mode": {
        "name": "ipython",
        "version": 3
      },
      "file_extension": ".py",
      "mimetype": "text/x-python",
      "name": "python",
      "nbconvert_exporter": "python",
      "pygments_lexer": "ipython3",
      "version": "3.10.11"
    },
    "vscode": {
      "interpreter": {
        "hash": "357b915890fbc73e00b3ee3cc7035b34e6189554c2854644fe780ff20c2fdfc0"
      }
    },
    "colab": {
      "provenance": []
    }
  },
  "nbformat": 4,
  "nbformat_minor": 5
}