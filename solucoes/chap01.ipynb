{
  "cells": [
    {
      "cell_type": "markdown",
      "id": "1331faa1",
      "metadata": {
        "id": "1331faa1"
      },
      "source": [
        "Você pode adquirir versões impressas e de e-book do *Think Python 3e* (em inglês) em\n",
        "[Bookshop.org](https://bookshop.org/a/98697/9781098155438) e\n",
        "[Amazon](https://www.amazon.com/_/dp/1098155432?smid=ATVPDKIKX0DER&_encoding=UTF8&tag=oreilly20-20&_encoding=UTF8&tag=greenteapre01-20&linkCode=ur2&linkId=e2a529f94920295d27ec8a06e757dc7c&camp=1789&creative=9325).\n",
        "\n",
        "Uma versão em língua portuguesa da 3ª edição foi publicada pela editora [Novatec](https://novatec.com.br/livros/pense-em-python-3ed/)."
      ]
    },
    {
      "cell_type": "markdown",
      "id": "a14edb7e",
      "metadata": {
        "tags": [
          "remove-cell"
        ],
        "id": "a14edb7e"
      },
      "source": [
        "# Bem-vindo\n",
        "\n",
        "Este é o *notebook* Jupyter para o Capítulo 1 de [*Pense Python*, 3ª edição](https://rodrigocarlson.github.io/PensePython3ed/), por Allen B. Downey e traduzido por Rodrigo Castelan Carlson.\n",
        "\n",
        "Se você não estiver familiarizado com os notebooks Jupyter,\n",
        "[clique aqui para uma breve introdução](https://colab.research.google.com/github/rodrigocarlson/PensePython3ed/blob/main/capitulos/jupyter_intro.ipynb).\n",
        "\n",
        "E, se você ainda não estiver executando este notebook no Colab, [clique aqui para executar este notebook no Colab](https://colab.research.google.com/github/rodrigocarlson/PensePython3ed/blob/main/capitulos/chap01.ipynb)."
      ]
    },
    {
      "cell_type": "markdown",
      "id": "3b4a1f57",
      "metadata": {
        "tags": [
          "remove-cell"
        ],
        "id": "3b4a1f57"
      },
      "source": [
        "A célula a seguir baixa um arquivo e executa um código que é usado especificamente para este livro.\n",
        "Você não precisa entender este código ainda, mas deve executá-lo antes de fazer qualquer outra coisa neste *notebook*.\n",
        "Lembre-se de que você pode executar o código selecionando a célula e pressionando o botão *play* (um triângulo em um círculo) ou mantendo pressionado `Shift` e pressionando `Enter`."
      ]
    },
    {
      "cell_type": "code",
      "execution_count": null,
      "id": "213f9d96",
      "metadata": {
        "tags": [
          "remove-cell",
          "keep"
        ],
        "id": "213f9d96"
      },
      "outputs": [],
      "source": [
        "from os.path import basename, exists\n",
        "\n",
        "def download(url):\n",
        "    filename = basename(url)\n",
        "    if not exists(filename):\n",
        "        from urllib.request import urlretrieve\n",
        "\n",
        "        local, _ = urlretrieve(url, filename)\n",
        "        print(\"Downloaded \" + str(local))\n",
        "    return filename\n",
        "\n",
        "download('https://github.com/AllenDowney/ThinkPython/raw/v3/thinkpython.py');\n",
        "\n",
        "import thinkpython"
      ]
    },
    {
      "cell_type": "markdown",
      "source": [
        "NOTA DO TRADUTOR: as *strings* e nomes de variáveis em inglês presentes nos códigos apresentados no livro não foram traduzidos para o português, apenas os comentários."
      ],
      "metadata": {
        "id": "reYR3xUG2tEW"
      },
      "id": "reYR3xUG2tEW"
    },
    {
      "cell_type": "markdown",
      "id": "333a6fc9",
      "metadata": {
        "tags": [
          "chapter_programming"
        ],
        "id": "333a6fc9"
      },
      "source": [
        "# Programação como uma forma de pensar\n",
        "\n",
        "O primeiro objetivo deste livro é ensinar você a programar em Python.\n",
        "Mas aprender a programar significa aprender uma nova maneira de pensar, então o segundo objetivo deste livro é ajudar você a pensar como um cientista da computação.\n",
        "Essa maneira de pensar combina algumas das melhores características da matemática, engenharia e ciências naturais.\n",
        "Como matemáticos, cientistas da computação usam linguagens formais para denotar ideias -- especificamente computações.\n",
        "Como engenheiros, eles projetam coisas, montando componentes em sistemas e avaliando compromissos entre alternativas.\n",
        "Como cientistas, eles observam o comportamento de sistemas complexos, formam hipóteses e testam previsões.\n",
        "\n",
        "Começaremos com os elementos mais básicos da programação e avançaremos.\n",
        "Neste capítulo, veremos como Python representa números, letras e palavras.\n",
        "E você aprenderá a executar operações aritméticas.\n",
        "\n",
        "Você também começará a aprender o vocabulário da programação, incluindo termos como operador, expressão, valor e tipo.\n",
        "Esse vocabulário é importante -- você precisará dele para entender o restante do livro, para se comunicar com outros programadores e para usar e entender assistentes virtuais."
      ]
    },
    {
      "cell_type": "markdown",
      "id": "a371aea3",
      "metadata": {
        "id": "a371aea3"
      },
      "source": [
        "## Operadores aritméticos\n",
        "\n",
        "Um **operador aritmético** é um símbolo que representa uma computação aritmética. Por exemplo, o sinal de mais, `+`, realiza a adição:"
      ]
    },
    {
      "cell_type": "code",
      "execution_count": null,
      "id": "2568ec84",
      "metadata": {
        "id": "2568ec84",
        "outputId": "6980ff26-2dbe-4b31-9309-ab923761e52f"
      },
      "outputs": [
        {
          "data": {
            "text/plain": [
              "42"
            ]
          },
          "execution_count": 2,
          "metadata": {},
          "output_type": "execute_result"
        }
      ],
      "source": [
        "30 + 12"
      ]
    },
    {
      "cell_type": "markdown",
      "id": "fc0e7ce8",
      "metadata": {
        "id": "fc0e7ce8"
      },
      "source": [
        "O sinal de menos, `-`, é o operador que realiza a subtração:"
      ]
    },
    {
      "cell_type": "code",
      "execution_count": null,
      "id": "c4e75456",
      "metadata": {
        "id": "c4e75456",
        "outputId": "1621e2d3-b3e2-43ab-fe22-85d2eb80148b"
      },
      "outputs": [
        {
          "data": {
            "text/plain": [
              "42"
            ]
          },
          "execution_count": 3,
          "metadata": {},
          "output_type": "execute_result"
        }
      ],
      "source": [
        "43 - 1"
      ]
    },
    {
      "cell_type": "markdown",
      "id": "63e4e780",
      "metadata": {
        "id": "63e4e780"
      },
      "source": [
        "O asterisco, `*`, realiza a multiplicação:"
      ]
    },
    {
      "cell_type": "code",
      "execution_count": null,
      "id": "022a7b16",
      "metadata": {
        "id": "022a7b16",
        "outputId": "60e3716b-1338-4370-f2f2-524e398f9311"
      },
      "outputs": [
        {
          "data": {
            "text/plain": [
              "42"
            ]
          },
          "execution_count": 4,
          "metadata": {},
          "output_type": "execute_result"
        }
      ],
      "source": [
        "6 * 7"
      ]
    },
    {
      "cell_type": "markdown",
      "id": "a6192d13",
      "metadata": {
        "id": "a6192d13"
      },
      "source": [
        "E a barra, `/`, realiza a divisão:"
      ]
    },
    {
      "cell_type": "code",
      "execution_count": null,
      "id": "05ae1098",
      "metadata": {
        "id": "05ae1098",
        "outputId": "d8ca6989-fe8e-45ba-e490-2d09de604178"
      },
      "outputs": [
        {
          "data": {
            "text/plain": [
              "42.0"
            ]
          },
          "execution_count": 5,
          "metadata": {},
          "output_type": "execute_result"
        }
      ],
      "source": [
        "84 / 2"
      ]
    },
    {
      "cell_type": "markdown",
      "id": "641ad233",
      "metadata": {
        "id": "641ad233"
      },
      "source": [
        "Observe que o resultado da divisão é `42.0` em vez de `42`. Isso ocorre porque há dois tipos de números em Python:\n",
        "\n",
        "* **inteiros**, que representam números sem parte fracionária ou decimal, e\n",
        "\n",
        "* **números de ponto flutuante**, que representam números inteiros e números com ponto decimal.\n",
        "\n",
        "Se você adicionar, subtrair ou multiplicar dois inteiros, o resultado será um inteiro.\n",
        "Mas se você dividir dois inteiros, o resultado será um número de ponto flutuante.\n",
        "Python fornece outro operador, `//`, que realiza a **divisão inteira**.\n",
        "O resultado da divisão inteira é sempre um inteiro:"
      ]
    },
    {
      "cell_type": "code",
      "execution_count": null,
      "id": "4df5bcaa",
      "metadata": {
        "id": "4df5bcaa",
        "outputId": "5903c3cf-3f32-4a6d-894f-0c5f87485866"
      },
      "outputs": [
        {
          "data": {
            "text/plain": [
              "42"
            ]
          },
          "execution_count": 6,
          "metadata": {},
          "output_type": "execute_result"
        }
      ],
      "source": [
        "84 // 2"
      ]
    },
    {
      "cell_type": "markdown",
      "id": "b2a620ab",
      "metadata": {
        "id": "b2a620ab"
      },
      "source": [
        "A divisão inteira também é chamada de \"divisão de piso\" (\"*floor division*\") porque sempre arredonda para baixo (em direção ao \"piso\"):"
      ]
    },
    {
      "cell_type": "code",
      "execution_count": null,
      "id": "ef08d549",
      "metadata": {
        "id": "ef08d549",
        "outputId": "7496d93d-859e-4716-dfcd-413e28b44bbc"
      },
      "outputs": [
        {
          "data": {
            "text/plain": [
              "42"
            ]
          },
          "execution_count": 7,
          "metadata": {},
          "output_type": "execute_result"
        }
      ],
      "source": [
        "85 // 2"
      ]
    },
    {
      "cell_type": "markdown",
      "id": "41e2886a",
      "metadata": {
        "id": "41e2886a"
      },
      "source": [
        "Finalmente, o operador `**` realiza a exponenciação; ou seja, eleva um\n",
        "número a uma potência:"
      ]
    },
    {
      "cell_type": "code",
      "execution_count": null,
      "id": "df933e80",
      "metadata": {
        "id": "df933e80",
        "outputId": "1b3c3e59-dbe0-4c43-e393-5e6b1c457dc3"
      },
      "outputs": [
        {
          "data": {
            "text/plain": [
              "49"
            ]
          },
          "execution_count": 8,
          "metadata": {},
          "output_type": "execute_result"
        }
      ],
      "source": [
        "7 ** 2"
      ]
    },
    {
      "cell_type": "markdown",
      "id": "b2502fb6",
      "metadata": {
        "id": "b2502fb6"
      },
      "source": [
        "Em algumas outras linguagens, o acento circunflexo, `^`, é usado para exponenciação, mas em Python é um operador bit a bit ('bitwise') chamado XOR.\n",
        "Se você não estiver familiarizado com operadores bit a bit, o resultado pode ser inesperado:"
      ]
    },
    {
      "cell_type": "code",
      "execution_count": null,
      "id": "306b6b88",
      "metadata": {
        "id": "306b6b88",
        "outputId": "de658b83-015c-4d88-e12d-0494efacad61"
      },
      "outputs": [
        {
          "data": {
            "text/plain": [
              "5"
            ]
          },
          "execution_count": 9,
          "metadata": {},
          "output_type": "execute_result"
        }
      ],
      "source": [
        "7 ^ 2"
      ]
    },
    {
      "cell_type": "markdown",
      "id": "30078370",
      "metadata": {
        "id": "30078370"
      },
      "source": [
        "Não abordarei operadores bitwise neste livro, mas você pode ler sobre\n",
        "eles em <http://wiki.python.org/moin/BitwiseOperators> (em inglês)."
      ]
    },
    {
      "cell_type": "markdown",
      "id": "0f5b7e97",
      "metadata": {
        "id": "0f5b7e97"
      },
      "source": [
        "## Expressões\n",
        "\n",
        "Uma coleção de operadores e números é chamada de **expressão**.\n",
        "Uma expressão pode conter qualquer número de operadores e números.\n",
        "Por exemplo, aqui está uma expressão que contém dois operadores:"
      ]
    },
    {
      "cell_type": "code",
      "execution_count": null,
      "id": "6e68101d",
      "metadata": {
        "id": "6e68101d",
        "outputId": "41829765-7bf1-4ed1-b8dd-5ae0959509ec"
      },
      "outputs": [
        {
          "data": {
            "text/plain": [
              "42"
            ]
          },
          "execution_count": 10,
          "metadata": {},
          "output_type": "execute_result"
        }
      ],
      "source": [
        "6 + 6 ** 2"
      ]
    },
    {
      "cell_type": "markdown",
      "id": "8e95039c",
      "metadata": {
        "id": "8e95039c"
      },
      "source": [
        "Observe que a exponenciação acontece antes da adição.\n",
        "Python segue a ordem de operações que você pode ter aprendido em uma aula de matemática: a exponenciação acontece antes da multiplicação e divisão, que acontecem antes da adição e subtração.\n",
        "\n",
        "No exemplo a seguir, a multiplicação acontece antes da adição:"
      ]
    },
    {
      "cell_type": "code",
      "execution_count": null,
      "id": "ffc25598",
      "metadata": {
        "id": "ffc25598",
        "outputId": "ccaa28ad-d274-4636-c4d9-8b3810e52939"
      },
      "outputs": [
        {
          "data": {
            "text/plain": [
              "42"
            ]
          },
          "execution_count": 11,
          "metadata": {},
          "output_type": "execute_result"
        }
      ],
      "source": [
        "12 + 5 * 6"
      ]
    },
    {
      "cell_type": "markdown",
      "id": "914a60d8",
      "metadata": {
        "id": "914a60d8"
      },
      "source": [
        "Se você quiser que a adição aconteça primeiro, você pode usar parênteses."
      ]
    },
    {
      "cell_type": "code",
      "execution_count": null,
      "id": "8dd1bd9a",
      "metadata": {
        "id": "8dd1bd9a",
        "outputId": "06b2fb7e-172d-4e1c-f200-be2c0bafb83e"
      },
      "outputs": [
        {
          "data": {
            "text/plain": [
              "102"
            ]
          },
          "execution_count": 12,
          "metadata": {},
          "output_type": "execute_result"
        }
      ],
      "source": [
        "(12 + 5) * 6"
      ]
    },
    {
      "cell_type": "markdown",
      "id": "67ae0ae9",
      "metadata": {
        "id": "67ae0ae9"
      },
      "source": [
        "Toda expressão tem um **valor**.\n",
        "Por exemplo, a expressão `6 * 7` tem o valor `42`."
      ]
    },
    {
      "cell_type": "markdown",
      "id": "caebaa51",
      "metadata": {
        "id": "caebaa51"
      },
      "source": [
        "## Funções aritméticas\n",
        "\n",
        "Além dos operadores aritméticos, Python fornece algumas **funções** que funcionam com números.\n",
        "Por exemplo, a função `round` recebe um número de ponto flutuante e o arredonda para o inteiro mais próximo:"
      ]
    },
    {
      "cell_type": "code",
      "execution_count": null,
      "id": "1e3d5e01",
      "metadata": {
        "id": "1e3d5e01",
        "outputId": "9d34c0af-ac76-45a7-e155-e7359d048e36"
      },
      "outputs": [
        {
          "data": {
            "text/plain": [
              "42"
            ]
          },
          "execution_count": 13,
          "metadata": {},
          "output_type": "execute_result"
        }
      ],
      "source": [
        "round(42.4)"
      ]
    },
    {
      "cell_type": "code",
      "execution_count": null,
      "id": "d1b220b9",
      "metadata": {
        "id": "d1b220b9",
        "outputId": "a516e0e8-9e8e-4e0c-d7a5-2964d14dafa7"
      },
      "outputs": [
        {
          "data": {
            "text/plain": [
              "43"
            ]
          },
          "execution_count": 14,
          "metadata": {},
          "output_type": "execute_result"
        }
      ],
      "source": [
        "round(42.6)"
      ]
    },
    {
      "cell_type": "markdown",
      "id": "f5738b4b",
      "metadata": {
        "id": "f5738b4b"
      },
      "source": [
        "A função `abs` calcula o valor absoluto de um número.\n",
        "Para um número positivo, o valor absoluto é o próprio número:"
      ]
    },
    {
      "cell_type": "code",
      "execution_count": null,
      "id": "ff742476",
      "metadata": {
        "id": "ff742476",
        "outputId": "2a46090b-ac7c-4651-b023-9ef10ac8fe1c"
      },
      "outputs": [
        {
          "data": {
            "text/plain": [
              "42"
            ]
          },
          "execution_count": 15,
          "metadata": {},
          "output_type": "execute_result"
        }
      ],
      "source": [
        "abs(42)"
      ]
    },
    {
      "cell_type": "markdown",
      "id": "e518494a",
      "metadata": {
        "id": "e518494a"
      },
      "source": [
        "Para um número negativo, o valor absoluto é positivo:"
      ]
    },
    {
      "cell_type": "code",
      "execution_count": null,
      "id": "9247c1a3",
      "metadata": {
        "id": "9247c1a3",
        "outputId": "3f3028d6-694b-48c2-bc1d-cbc1c0fe4fd5"
      },
      "outputs": [
        {
          "data": {
            "text/plain": [
              "42"
            ]
          },
          "execution_count": 16,
          "metadata": {},
          "output_type": "execute_result"
        }
      ],
      "source": [
        "abs(-42)"
      ]
    },
    {
      "cell_type": "markdown",
      "id": "6969ce45",
      "metadata": {
        "id": "6969ce45"
      },
      "source": [
        "Quando usamos uma função como essa, dizemos que estamos **chamando** a função.\n",
        "Uma expressão que chama uma função é uma **chamada de função**.\n",
        "\n",
        "Quando você chama uma função, os parênteses são necessários.\n",
        "Se você os deixar de fora, receberá uma mensagem de erro."
      ]
    },
    {
      "cell_type": "markdown",
      "id": "5a73bfd5",
      "metadata": {
        "tags": [
          "remove-cell"
        ],
        "id": "5a73bfd5"
      },
      "source": [
        "OBSERVAÇÃO: A célula a seguir usa `%%expect`, que é um \"comando mágico\" do Jupyter, o que significa que esperamos que o código nesta célula produza um erro. Para mais informações sobre este tópico, consulte a\n",
        "[introdução ao *notebook* Jupyter](https://colab.research.google.com/github/rodrigocarlson/PensePython3ed/blob/main/capitulos/jupyter_intro.ipynb)."
      ]
    },
    {
      "cell_type": "code",
      "execution_count": null,
      "id": "4674b7ca",
      "metadata": {
        "tags": [
          "raises-exception"
        ],
        "id": "4674b7ca",
        "outputId": "73630b22-0c36-4e19-fc25-a7f3266cbd84"
      },
      "outputs": [
        {
          "ename": "SyntaxError",
          "evalue": "invalid syntax (3827346253.py, line 1)",
          "output_type": "error",
          "traceback": [
            "\u001b[0;36m  Cell \u001b[0;32mIn[17], line 1\u001b[0;36m\u001b[0m\n\u001b[0;31m    abs 42\u001b[0m\n\u001b[0m        ^\u001b[0m\n\u001b[0;31mSyntaxError\u001b[0m\u001b[0;31m:\u001b[0m invalid syntax\n"
          ]
        }
      ],
      "source": [
        "%%expect SyntaxError\n",
        "\n",
        "abs 42"
      ]
    },
    {
      "cell_type": "markdown",
      "id": "7d356f1b",
      "metadata": {
        "id": "7d356f1b"
      },
      "source": [
        "Você pode ignorar a primeira linha desta mensagem; ela não contém nenhuma informação que precisamos entender agora.\n",
        "A segunda linha é o código que contém o erro, com um acento circunflexo (`^`) abaixo dele para indicar onde o erro foi descoberto.\n",
        "\n",
        "A última linha indica que este é um **erro de sintaxe**, o que significa que há algo errado com a estrutura da expressão.\n",
        "Neste exemplo, o problema é que uma chamada de função requer parênteses.\n",
        "\n",
        "Vamos ver o que acontece se você deixar de fora os parênteses *e* o valor:"
      ]
    },
    {
      "cell_type": "code",
      "execution_count": null,
      "id": "7d3e8127",
      "metadata": {
        "id": "7d3e8127",
        "outputId": "06f2ffca-3fb6-4ca5-8ff3-4babbac2a594"
      },
      "outputs": [
        {
          "data": {
            "text/plain": [
              "<function abs(x, /)>"
            ]
          },
          "execution_count": 18,
          "metadata": {},
          "output_type": "execute_result"
        }
      ],
      "source": [
        "abs"
      ]
    },
    {
      "cell_type": "markdown",
      "id": "94478885",
      "metadata": {
        "id": "94478885"
      },
      "source": [
        "Um nome de função por si só é uma expressão legal que tem um valor.\n",
        "Quando é exibido, o valor indica que `abs` é uma função e inclui algumas informações adicionais que explicarei mais tarde."
      ]
    },
    {
      "cell_type": "markdown",
      "id": "31a85d17",
      "metadata": {
        "id": "31a85d17"
      },
      "source": [
        "## *Strings*\n",
        "Além de números, Python também pode representar sequências de letras, que são chamadas de ***strings*** porque as letras são encadeadas juntas como contas em um colar.\n",
        "Para escrever uma *string*, podemos colocar uma sequência de letras dentro de aspas simples:"
      ]
    },
    {
      "cell_type": "code",
      "execution_count": null,
      "id": "bd8ae45f",
      "metadata": {
        "id": "bd8ae45f",
        "outputId": "3d4f39a4-3d58-49a6-93e2-ab3ebf863cac"
      },
      "outputs": [
        {
          "data": {
            "text/plain": [
              "'Hello'"
            ]
          },
          "execution_count": 19,
          "metadata": {},
          "output_type": "execute_result"
        }
      ],
      "source": [
        "'Hello'"
      ]
    },
    {
      "cell_type": "markdown",
      "id": "d20050d8",
      "metadata": {
        "id": "d20050d8"
      },
      "source": [
        "Também é legal usar aspas duplas:"
      ]
    },
    {
      "cell_type": "code",
      "execution_count": null,
      "id": "01d0055e",
      "metadata": {
        "id": "01d0055e",
        "outputId": "cf6f1b17-db20-49f9-f5ab-fe0da5711ae6"
      },
      "outputs": [
        {
          "data": {
            "text/plain": [
              "'world'"
            ]
          },
          "execution_count": 20,
          "metadata": {},
          "output_type": "execute_result"
        }
      ],
      "source": [
        "\"world\""
      ]
    },
    {
      "cell_type": "markdown",
      "id": "76f5edb7",
      "metadata": {
        "id": "76f5edb7"
      },
      "source": [
        "Aspas duplas facilitam a escrita de uma *string* que contém um apóstrofo, que é o mesmo símbolo de uma aspa simples:"
      ]
    },
    {
      "cell_type": "code",
      "execution_count": null,
      "id": "0295acab",
      "metadata": {
        "id": "0295acab",
        "outputId": "9f9123cf-2d00-4785-8a56-fd56c9dd1567"
      },
      "outputs": [
        {
          "data": {
            "text/plain": [
              "\"it's a small \""
            ]
          },
          "execution_count": 21,
          "metadata": {},
          "output_type": "execute_result"
        }
      ],
      "source": [
        "\"it's a small \""
      ]
    },
    {
      "cell_type": "markdown",
      "id": "d62d4b1c",
      "metadata": {
        "id": "d62d4b1c"
      },
      "source": [
        "*Strings* também podem conter espaços, pontuação e dígitos:"
      ]
    },
    {
      "cell_type": "code",
      "execution_count": null,
      "id": "cf918917",
      "metadata": {
        "id": "cf918917",
        "outputId": "4b466fc2-ca68-439b-eeb9-f4faaf4735c3"
      },
      "outputs": [
        {
          "data": {
            "text/plain": [
              "'Well, '"
            ]
          },
          "execution_count": 22,
          "metadata": {},
          "output_type": "execute_result"
        }
      ],
      "source": [
        "'Well, '"
      ]
    },
    {
      "cell_type": "markdown",
      "id": "9ad47f7a",
      "metadata": {
        "id": "9ad47f7a"
      },
      "source": [
        "O operador `+` funciona com *strings*; ele une duas *strings* em uma única *string*, o que é chamado de **concatenação**:"
      ]
    },
    {
      "cell_type": "code",
      "execution_count": null,
      "id": "aefe6af1",
      "metadata": {
        "id": "aefe6af1",
        "outputId": "eed3f31b-9d0b-4491-f494-9db52f1f290e"
      },
      "outputs": [
        {
          "data": {
            "text/plain": [
              "\"Well, it's a small world.\""
            ]
          },
          "execution_count": 23,
          "metadata": {},
          "output_type": "execute_result"
        }
      ],
      "source": [
        "'Well, ' + \"it's a small \" + 'world.'"
      ]
    },
    {
      "cell_type": "markdown",
      "id": "0ad969a3",
      "metadata": {
        "id": "0ad969a3"
      },
      "source": [
        "O operador `*` também funciona com *strings*; ele faz várias cópias de uma *string* e as concatena:"
      ]
    },
    {
      "cell_type": "code",
      "execution_count": null,
      "id": "42e9e4e2",
      "metadata": {
        "id": "42e9e4e2",
        "outputId": "50653e13-5184-4cdf-97c3-313ff2ece7af"
      },
      "outputs": [
        {
          "data": {
            "text/plain": [
              "'Spam, Spam, Spam, Spam, '"
            ]
          },
          "execution_count": 24,
          "metadata": {},
          "output_type": "execute_result"
        }
      ],
      "source": [
        "'Spam, ' * 4"
      ]
    },
    {
      "cell_type": "markdown",
      "id": "dfba16a5",
      "metadata": {
        "id": "dfba16a5"
      },
      "source": [
        "Os outros operadores aritméticos não funcionam com strings.\n",
        "\n",
        "Python fornece uma função chamada `len` que calcula o comprimento de uma string:"
      ]
    },
    {
      "cell_type": "code",
      "execution_count": null,
      "id": "a5e837db",
      "metadata": {
        "id": "a5e837db",
        "outputId": "8e5d1a48-c49c-451f-c93d-cfe22e6ca2b6"
      },
      "outputs": [
        {
          "data": {
            "text/plain": [
              "4"
            ]
          },
          "execution_count": 25,
          "metadata": {},
          "output_type": "execute_result"
        }
      ],
      "source": [
        "len('Spam')"
      ]
    },
    {
      "cell_type": "markdown",
      "id": "d91e00b3",
      "metadata": {
        "id": "d91e00b3"
      },
      "source": [
        "Observe que `len` conta as letras entre aspas, mas não as aspas.\n",
        "\n",
        "Ao criar uma string, certifique-se de usar aspas simples.\n",
        "A crase, também conhecida como acento grave, causa um erro de sintaxe:"
      ]
    },
    {
      "cell_type": "code",
      "execution_count": null,
      "id": "e3f65f19",
      "metadata": {
        "tags": [
          "raises-exception"
        ],
        "id": "e3f65f19",
        "outputId": "1d3b758f-c36d-4bdf-8dab-5f3a22baa8e3"
      },
      "outputs": [
        {
          "ename": "SyntaxError",
          "evalue": "invalid syntax (1580190030.py, line 1)",
          "output_type": "error",
          "traceback": [
            "\u001b[0;36m  Cell \u001b[0;32mIn[26], line 1\u001b[0;36m\u001b[0m\n\u001b[0;31m    `Hello`\u001b[0m\n\u001b[0m    ^\u001b[0m\n\u001b[0;31mSyntaxError\u001b[0m\u001b[0;31m:\u001b[0m invalid syntax\n"
          ]
        }
      ],
      "source": [
        "%%expect SyntaxError\n",
        "\n",
        "`Hello`"
      ]
    },
    {
      "cell_type": "markdown",
      "id": "40d893d1",
      "metadata": {
        "id": "40d893d1"
      },
      "source": [
        "Aspas inglesas, também conhecidas como aspas curvas, também são ilegais:"
      ]
    },
    {
      "cell_type": "code",
      "execution_count": null,
      "id": "a705b980",
      "metadata": {
        "tags": [
          "raises-exception",
          "remove-cell"
        ],
        "id": "a705b980",
        "outputId": "ab207db7-f9de-4984-82fa-eaa963715789"
      },
      "outputs": [
        {
          "ename": "SyntaxError",
          "evalue": "invalid character '‘' (U+2018) (232449189.py, line 1)",
          "output_type": "error",
          "traceback": [
            "\u001b[0;36m  Cell \u001b[0;32mIn[27], line 1\u001b[0;36m\u001b[0m\n\u001b[0;31m    ‘Hello’\u001b[0m\n\u001b[0m    ^\u001b[0m\n\u001b[0;31mSyntaxError\u001b[0m\u001b[0;31m:\u001b[0m invalid character '‘' (U+2018)\n"
          ]
        }
      ],
      "source": [
        "%%expect SyntaxError\n",
        "\n",
        "‘Hello’"
      ]
    },
    {
      "cell_type": "markdown",
      "id": "5471d4f8",
      "metadata": {
        "id": "5471d4f8"
      },
      "source": [
        "## Valores e tipos\n",
        "\n",
        "Até agora, vimos três tipos de valores:\n",
        "\n",
        "* `2` é um inteiro,\n",
        "\n",
        "* `42.0` é um número de ponto flutuante e\n",
        "\n",
        "* `'Hello'` é uma string.\n",
        "\n",
        "Um tipo de valor é chamado de **tipo**.\n",
        "Todo valor tem um tipo -- ou às vezes dizemos que ele \"pertence a\" um tipo.\n",
        "\n",
        "O Python fornece uma função chamada `type` que informa o tipo de qualquer valor.\n",
        "O tipo de um inteiro é `int`:"
      ]
    },
    {
      "cell_type": "code",
      "execution_count": null,
      "id": "3df8e2c5",
      "metadata": {
        "id": "3df8e2c5",
        "outputId": "6dcc8836-3ff2-46bc-934b-a7dc3662a7e4"
      },
      "outputs": [
        {
          "data": {
            "text/plain": [
              "int"
            ]
          },
          "execution_count": 28,
          "metadata": {},
          "output_type": "execute_result"
        }
      ],
      "source": [
        "type(2)"
      ]
    },
    {
      "cell_type": "markdown",
      "id": "b137814c",
      "metadata": {
        "id": "b137814c"
      },
      "source": [
        "O tipo de um número de ponto flutuante é `float`:"
      ]
    },
    {
      "cell_type": "code",
      "execution_count": null,
      "id": "c4732c8d",
      "metadata": {
        "id": "c4732c8d",
        "outputId": "a4ae71d0-788a-47a7-b107-556f2b13d120"
      },
      "outputs": [
        {
          "data": {
            "text/plain": [
              "float"
            ]
          },
          "execution_count": 29,
          "metadata": {},
          "output_type": "execute_result"
        }
      ],
      "source": [
        "type(42.0)"
      ]
    },
    {
      "cell_type": "markdown",
      "id": "266dea4e",
      "metadata": {
        "id": "266dea4e"
      },
      "source": [
        "E o tipo de uma string é `str`:"
      ]
    },
    {
      "cell_type": "code",
      "execution_count": null,
      "id": "8f65ac45",
      "metadata": {
        "id": "8f65ac45",
        "outputId": "b9b3d75b-8a66-47ff-c13b-bfd3bafe1fa8"
      },
      "outputs": [
        {
          "data": {
            "text/plain": [
              "str"
            ]
          },
          "execution_count": 30,
          "metadata": {},
          "output_type": "execute_result"
        }
      ],
      "source": [
        "type('Hello, World!')"
      ]
    },
    {
      "cell_type": "markdown",
      "id": "76d216ed",
      "metadata": {
        "id": "76d216ed"
      },
      "source": [
        "Os tipos `int`, `float` e `str` podem ser usados ​​como funções.\n",
        "Por exemplo, `int` pode receber um número de ponto flutuante e convertê-lo em um inteiro (sempre arredondando para baixo):"
      ]
    },
    {
      "cell_type": "code",
      "execution_count": null,
      "id": "84b22f2f",
      "metadata": {
        "id": "84b22f2f",
        "outputId": "b7a71ee8-e419-4fd6-dd56-61a86bed8ef6"
      },
      "outputs": [
        {
          "data": {
            "text/plain": [
              "42"
            ]
          },
          "execution_count": 31,
          "metadata": {},
          "output_type": "execute_result"
        }
      ],
      "source": [
        "int(42.9)"
      ]
    },
    {
      "cell_type": "markdown",
      "id": "dcd8d114",
      "metadata": {
        "id": "dcd8d114"
      },
      "source": [
        "E `float` pode converter um inteiro em um valor de ponto flutuante:"
      ]
    },
    {
      "cell_type": "code",
      "execution_count": null,
      "id": "9b66ee21",
      "metadata": {
        "id": "9b66ee21",
        "outputId": "09b8c13d-feb4-457e-bde1-d6a3dcc1cbd2"
      },
      "outputs": [
        {
          "data": {
            "text/plain": [
              "42.0"
            ]
          },
          "execution_count": 32,
          "metadata": {},
          "output_type": "execute_result"
        }
      ],
      "source": [
        "float(42)"
      ]
    },
    {
      "cell_type": "markdown",
      "id": "eda70b61",
      "metadata": {
        "id": "eda70b61"
      },
      "source": [
        "Agora, aqui está algo que pode ser confuso.\n",
        "O que você obtém se colocar uma sequência de dígitos entre aspas?"
      ]
    },
    {
      "cell_type": "code",
      "execution_count": null,
      "id": "f64e107c",
      "metadata": {
        "id": "f64e107c",
        "outputId": "c4e5aa57-da82-4238-ec9a-263843d97297"
      },
      "outputs": [
        {
          "data": {
            "text/plain": [
              "'126'"
            ]
          },
          "execution_count": 33,
          "metadata": {},
          "output_type": "execute_result"
        }
      ],
      "source": [
        "'126'"
      ]
    },
    {
      "cell_type": "markdown",
      "id": "fdded653",
      "metadata": {
        "id": "fdded653"
      },
      "source": [
        "Parece um número, mas na verdade é uma *string*:"
      ]
    },
    {
      "cell_type": "code",
      "execution_count": null,
      "id": "609a8153",
      "metadata": {
        "id": "609a8153",
        "outputId": "28231010-7f30-4023-a74c-faec3d59f0db"
      },
      "outputs": [
        {
          "data": {
            "text/plain": [
              "str"
            ]
          },
          "execution_count": 34,
          "metadata": {},
          "output_type": "execute_result"
        }
      ],
      "source": [
        "type('126')"
      ]
    },
    {
      "cell_type": "markdown",
      "id": "2683ac35",
      "metadata": {
        "id": "2683ac35"
      },
      "source": [
        "Se você tentar usá-la como um número, poderá obter um erro:"
      ]
    },
    {
      "cell_type": "code",
      "execution_count": null,
      "id": "1cf21da4",
      "metadata": {
        "tags": [
          "raises-exception"
        ],
        "id": "1cf21da4",
        "outputId": "ce43f5a8-342c-4231-8cb0-5835ce5e2393"
      },
      "outputs": [
        {
          "ename": "TypeError",
          "evalue": "unsupported operand type(s) for /: 'str' and 'int'",
          "output_type": "error",
          "traceback": [
            "\u001b[0;31mTypeError\u001b[0m\u001b[0;31m:\u001b[0m unsupported operand type(s) for /: 'str' and 'int'\n"
          ]
        }
      ],
      "source": [
        "%%expect TypeError\n",
        "\n",
        "'126' / 3"
      ]
    },
    {
      "cell_type": "markdown",
      "id": "32c11cc4",
      "metadata": {
        "id": "32c11cc4"
      },
      "source": [
        "Este exemplo gera um `TypeError`, o que significa que os valores na expressão, que são chamados de **operandos**, têm o tipo errado.\n",
        "A mensagem de erro indica que o operador `/` não suporta os tipos desses valores, que são `str` e `int`.\n",
        "\n",
        "Se você tiver uma *string* que contém dígitos, você pode usar `int` para convertê-la em um inteiro:"
      ]
    },
    {
      "cell_type": "code",
      "execution_count": null,
      "id": "d45e6a60",
      "metadata": {
        "id": "d45e6a60",
        "outputId": "a3579823-2b69-4281-f7a6-7b485df69548"
      },
      "outputs": [
        {
          "data": {
            "text/plain": [
              "42.0"
            ]
          },
          "execution_count": 36,
          "metadata": {},
          "output_type": "execute_result"
        }
      ],
      "source": [
        "int('126') / 3"
      ]
    },
    {
      "cell_type": "markdown",
      "id": "86935d56",
      "metadata": {
        "id": "86935d56"
      },
      "source": [
        "Se você tiver uma *string* que contém dígitos e um ponto decimal, você pode usar `float` para convertê-la em um número de ponto flutuante:"
      ]
    },
    {
      "cell_type": "code",
      "execution_count": null,
      "id": "db30b719",
      "metadata": {
        "id": "db30b719",
        "outputId": "047b7b84-5c80-4562-a993-4757f6da01bf"
      },
      "outputs": [
        {
          "data": {
            "text/plain": [
              "12.6"
            ]
          },
          "execution_count": 37,
          "metadata": {},
          "output_type": "execute_result"
        }
      ],
      "source": [
        "float('12.6')"
      ]
    },
    {
      "cell_type": "markdown",
      "id": "03103ef4",
      "metadata": {
        "id": "03103ef4"
      },
      "source": [
        "Ao escrever um inteiro grande, você pode ficar tentado a usar vírgulas\n",
        "entre grupos de dígitos, como em `1,000,000`.\n",
        "Esta é uma expressão legal em Python, mas o resultado não é um inteiro:\n",
        "\n",
        "NOTA DO TRADUTOR: os números em Python seguem a conveção da língua inglesa em que o separador decimal é um ponto e o separador de milhar é uma vírgula."
      ]
    },
    {
      "cell_type": "code",
      "execution_count": null,
      "id": "d72b6af1",
      "metadata": {
        "id": "d72b6af1",
        "outputId": "bb5d3d98-92ca-4e82-defc-770541f55808"
      },
      "outputs": [
        {
          "data": {
            "text/plain": [
              "(1, 0, 0)"
            ]
          },
          "execution_count": 38,
          "metadata": {},
          "output_type": "execute_result"
        }
      ],
      "source": [
        "1,000,000"
      ]
    },
    {
      "cell_type": "markdown",
      "id": "3d24af71",
      "metadata": {
        "id": "3d24af71"
      },
      "source": [
        "Python interpreta `1.000.000` como uma sequência de inteiros separados por vírgulas.\n",
        "Aprenderemos mais sobre esse tipo de sequência mais tarde.\n",
        "\n",
        "Você pode usar sublinhados para tornar números grandes mais fáceis de ler:"
      ]
    },
    {
      "cell_type": "code",
      "execution_count": null,
      "id": "e19bf7e7",
      "metadata": {
        "id": "e19bf7e7",
        "outputId": "496d1166-8fa5-471c-b1af-472ddab3334a"
      },
      "outputs": [
        {
          "data": {
            "text/plain": [
              "1000000"
            ]
          },
          "execution_count": 39,
          "metadata": {},
          "output_type": "execute_result"
        }
      ],
      "source": [
        "1_000_000"
      ]
    },
    {
      "cell_type": "markdown",
      "id": "1761cbac",
      "metadata": {
        "id": "1761cbac"
      },
      "source": [
        "## Linguagens formais e naturais\n",
        "\n",
        "**Linguagens naturais** são as linguagens (línguas) que as pessoas falam, como inglês, espanhol e francês. Elas não foram projetadas por pessoas; elas evoluíram naturalmente.\n",
        "\n",
        "**Linguagens formais** são linguagens projetadas por pessoas para aplicações específicas.\n",
        "Por exemplo, a notação que os matemáticos usam é uma linguagem formal que é particularmente boa em denotar relacionamentos entre números e símbolos.\n",
        "Da mesma forma, linguagens de programação são linguagens formais que foram projetadas para expressar computações."
      ]
    },
    {
      "cell_type": "markdown",
      "id": "1bf3d2dc",
      "metadata": {
        "id": "1bf3d2dc"
      },
      "source": [
        "Embora as linguagens formais e naturais tenham algumas características em\n",
        "comum, há diferenças importantes:\n",
        "\n",
        "* Ambiguidade: As linguagens naturais são cheias de ambiguidade, com as quais as pessoas lidam usando pistas contextuais e outras informações. As linguagens formais são projetadas para serem quase ou completamente inequívocas, o que significa que qualquer programa tem exatamente um significado, independentemente do contexto.\n",
        "\n",
        "* Redundância: Para compensar a ambiguidade e reduzir mal-entendidos,\n",
        "as linguagens naturais usam redundância. Como resultado, elas são\n",
        "frequentemente prolixas. As linguagens formais são menos redundantes e mais concisas.\n",
        "\n",
        "* Literalidade: As linguagens naturais são cheias de expressões idiomáticas e metáforas. As linguagens formais significam exatamente o que dizem."
      ]
    },
    {
      "cell_type": "markdown",
      "id": "78a1cec8",
      "metadata": {
        "id": "78a1cec8"
      },
      "source": [
        "Como todos nós crescemos falando línguas naturais, às vezes é difícil se adaptar a linguagens formais.\n",
        "As linguagens formais são mais densas do que as línguas naturais, então leva mais tempo para lê-las.\n",
        "Além disso, a estrutura é importante, então nem sempre é melhor ler de cima para baixo, da esquerda para a direita.\n",
        "Finalmente, os detalhes importam. Pequenos erros de ortografia e\n",
        "pontuação, que você pode ignorar em línguas naturais, podem fazer uma grande diferença em uma linguagem formal."
      ]
    },
    {
      "cell_type": "markdown",
      "id": "4358fa9a",
      "metadata": {
        "id": "4358fa9a"
      },
      "source": [
        "## Depuração (*Debbuging*)\n",
        "\n",
        "Programadores cometem erros. Por motivos caprichosos, erros de programação são chamados de ***bugs*** e o processo de rastreá-los é chamado de **depuração** (*Debbuging*).\n",
        "\n",
        "Programação, e especialmente depuração, às vezes traz emoções fortes. Se você está lutando com um *bug* difícil, você pode se sentir bravo, triste ou envergonhado.\n",
        "\n",
        "Preparar-se para essas reações pode ajudá-lo a lidar com elas. Uma abordagem é pensar no computador como um funcionário com certos pontos fortes, como velocidade e precisão, e fraquezas específicas, como falta de empatia e incapacidade de entender o panorama geral.\n",
        "\n",
        "Seu trabalho é ser um bom gerente: encontre maneiras de aproveitar os pontos fortes e mitigar os pontos fracos. E encontre maneiras de usar suas emoções para se envolver com o problema, sem deixar que suas reações interfiram em sua capacidade de trabalhar efetivamente.\n",
        "\n",
        "Aprender a depurar pode ser frustrante, mas é uma habilidade valiosa que é útil para muitas atividades além da programação. No final de cada capítulo, há uma seção, como esta, com minhas sugestões para depuração. Espero que ajudem!"
      ]
    },
    {
      "cell_type": "markdown",
      "id": "33b8ad00",
      "metadata": {
        "id": "33b8ad00"
      },
      "source": [
        "## Glossário\n",
        "\n",
        "NOTA DO TRADUTOR: no glossário optou-se por manter entre parênteses a palavara ou expressão original em inglês mesmo quando não é usada corriqueiramente em língua portuguesa. O objetivo é expor o leitor à terminologia em língua inglesa. Esta familiarização pode ser útil ao ler documentação ou outros livros disponíveis apenas em inglês.\n",
        "\n",
        "**operador aritmético** (*arithmetic operator*)**:**\n",
        "Um símbolo, como `+` e `*`, que denota uma operação aritmética como adição ou multiplicação.\n",
        "\n",
        "**inteiro** (*integer*)**:**\n",
        "Um tipo que representa números sem parte fracionária ou decimal.\n",
        "\n",
        "**ponto flutuante** (*floating-point*)**:**\n",
        "Um tipo que representa números inteiros e números com partes decimais.\n",
        "\n",
        "**divisão inteira** (*integer division*)**:**\n",
        "Um operador, `//`, que divide dois números e arredonda o resultado para baixo para um inteiro.\n",
        "\n",
        "**expressão** (*expression*)**:**\n",
        "Uma combinação de variáveis, valores e operadores.\n",
        "\n",
        "**valor** (*value*)**:**\n",
        "Um número inteiro, número de ponto flutuante ou *string* -- ou um dos outros tipos de valores que veremos mais tarde.\n",
        "\n",
        "**função** (*function)**:**\n",
        "Uma sequência de instruções com um nome e que executa alguma operação útil.\n",
        "As funções podem ou não receber argumentos e podem ou não produzir um resultado.\n",
        "\n",
        "**chamada de função** (*function call*)**:**\n",
        "Uma expressão -- ou parte de uma expressão -- que executa uma função.\n",
        "Consiste no nome da função seguido por uma lista de argumentos entre parênteses.\n",
        "\n",
        "**erro de sintaxe** (*syntax error*)**:**\n",
        "Um erro em um programa que o torna impossível de ser analisado -- e, portanto, impossível de executar.\n",
        "\n",
        "NOTA DO TRADUTOR: no texto original é usada a palavra *parse* no lugar de \"ser analisado\". Neste contexto, a definição refere-se à análise realizada por um interpretador ou compilador.\n",
        "\n",
        "***string*:**\n",
        "Um tipo que representa sequências de caracteres.\n",
        "\n",
        "**concatenação** (*concatenation*)**:**\n",
        "Unir duas *strings* de ponta a ponta.\n",
        "\n",
        "**tipo** (*type*)**:**\n",
        "Uma categoria de valores.\n",
        "Os tipos que vimos até agora são inteiros (tipo `int`), números de ponto flutuante (tipo `float`) e *strings* (tipo `str`).\n",
        "\n",
        "**operando** (*operand*)**:**\n",
        "Um dos valores nos quais um operador opera.\n",
        "\n",
        "**linguagem natural** (*natural language*)**:**\n",
        "Qualquer uma das línguas que as pessoas falam e que evoluíram naturalmente.\n",
        "\n",
        "**linguagem formal** (*formal language*)**:**\n",
        "Qualquer uma das línguas que as pessoas projetaram para propósitos específicos, como representar ideias matemáticas ou programas de computador.\n",
        "Todas as linguagens de programação são linguagens formais.\n",
        "\n",
        "**bug:**\n",
        "Um erro em um programa.\n",
        "\n",
        "**depuração** (*debugging*)**:**\n",
        "O processo de encontrar e corrigir erros."
      ]
    },
    {
      "cell_type": "markdown",
      "id": "ed4ec01b",
      "metadata": {
        "id": "ed4ec01b"
      },
      "source": [
        "## Exercises"
      ]
    },
    {
      "cell_type": "code",
      "execution_count": null,
      "id": "06d3e72c",
      "metadata": {
        "tags": [
          "remove-print",
          "keep"
        ],
        "id": "06d3e72c",
        "outputId": "fb6e4841-ac92-4bda-fcdf-7c5ba7fa331d"
      },
      "outputs": [
        {
          "name": "stdout",
          "output_type": "stream",
          "text": [
            "Exception reporting mode: Verbose\n"
          ]
        }
      ],
      "source": [
        "# Esta célula diz ao Jupyter para fornecer informações detalhadas de depuração\n",
        "# quando ocorre um erro de tempo de execução. Execute-a antes de trabalhar nos\n",
        "# exercícios.\n",
        "\n",
        "%xmode Verbose"
      ]
    },
    {
      "cell_type": "markdown",
      "id": "23adf208",
      "metadata": {
        "id": "23adf208"
      },
      "source": [
        "### Pergunte a um assistente virtual\n",
        "\n",
        "À medida que você trabalha neste livro, há várias maneiras de usar um assistente virtual ou *chatbot* para ajudá-lo a aprender.\n",
        "\n",
        "* Se quiser saber mais sobre um tópico do capítulo ou se algo não estiver claro, você pode pedir uma explicação.\n",
        "\n",
        "* Se estiver com dificuldade em algum dos exercícios, pode pedir ajuda.\n",
        "\n",
        "Em cada capítulo, sugerirei exercícios que você pode fazer com um assistente virtual, mas recomendo que você tente as coisas sozinho e veja o que funciona para você."
      ]
    },
    {
      "cell_type": "markdown",
      "id": "ebf1a451",
      "metadata": {
        "id": "ebf1a451"
      },
      "source": [
        "NOTA DO TRADUTOR: os exemplos de uso do assitente virtual serão mantidas em inglês e português.\n",
        "\n",
        "Aqui estão alguns tópicos sobre os quais você pode perguntar a um assistente virtual:\n",
        "\n",
        "* Anteriormente, mencionei operadores bit a bit, mas não expliquei por que o valor de `7 ^ 2` é 5. Tente perguntar \"Quais são os operadores bit a bit em Python?\" ou \"Qual é o valor de `7 XOR 2`?\" (\"*What are the bitwise operators in Python?*\" ou \"*What is the value of `7 XOR 2`?*\")\n",
        "\n",
        "* Também mencionei a ordem das operações. Para mais detalhes, pergunte \"Qual é a ordem das operações em Python?\" (\"*What is the order of operations in Python?*\")\n",
        "\n",
        "* A função `round`, que usamos para arredondar um número de ponto flutuante para o inteiro mais próximo, pode receber um segundo argumento. Tente perguntar \"Quais são os argumentos da função round?\" ou \"Como arredondo pi para três casas decimais?\" (\"*What are the arguments of the round function?*\" ou \"*How do I round pi off to three decimal places?*\")\n",
        "\n",
        "* Há mais um operador aritmético que não mencionei; tente perguntar \"Qual é o operador de módulo em Python?\" (\"*What is the modulus operator in Python?*\")\n",
        "\n",
        "NOTA DO TRADUTOR: em português o operador módulo tende a ser confundido com módulo ou valor absoluto."
      ]
    },
    {
      "cell_type": "markdown",
      "id": "9be3e1c7",
      "metadata": {
        "id": "9be3e1c7"
      },
      "source": [
        "A maioria dos assistentes virtuais conhece Python, então eles respondem perguntas como essas de forma bastante confiável.\n",
        "Mas lembre-se de que essas ferramentas cometem erros.\n",
        "Se você obtiver código de um *chatbot*, teste-o!"
      ]
    },
    {
      "cell_type": "markdown",
      "id": "03c1ef93",
      "metadata": {
        "id": "03c1ef93"
      },
      "source": [
        "### Exercise\n",
        "\n",
        "Você pode estar se perguntando o que `round` faz se um número termina em `0.5`.\n",
        "A resposta é que às vezes ele arredonda para cima e às vezes para baixo.\n",
        "Experimente estes exemplos e veja se consegue descobrir qual regra ele segue:"
      ]
    },
    {
      "cell_type": "code",
      "execution_count": null,
      "id": "5d358f37",
      "metadata": {
        "id": "5d358f37",
        "outputId": "c1dad717-578e-4b00-d749-9944b7c298d1"
      },
      "outputs": [
        {
          "data": {
            "text/plain": [
              "42"
            ]
          },
          "execution_count": 41,
          "metadata": {},
          "output_type": "execute_result"
        }
      ],
      "source": [
        "round(42.5)"
      ]
    },
    {
      "cell_type": "code",
      "execution_count": null,
      "id": "12aa59a3",
      "metadata": {
        "id": "12aa59a3",
        "outputId": "2c40b3a4-81dd-4d13-e9a6-46284cb8d98c"
      },
      "outputs": [
        {
          "data": {
            "text/plain": [
              "44"
            ]
          },
          "execution_count": 42,
          "metadata": {},
          "output_type": "execute_result"
        }
      ],
      "source": [
        "round(43.5)"
      ]
    },
    {
      "cell_type": "markdown",
      "id": "dd2f890e",
      "metadata": {
        "id": "dd2f890e"
      },
      "source": [
        "Se você estiver curioso, pergunte a um assistente virtual: \"Se um número termina em 0.5, o Python arredonda para cima ou para baixo?\" (\"*If a number ends in 0.5, does Python round up or down?*\")"
      ]
    },
    {
      "cell_type": "markdown",
      "id": "2cd03bcb",
      "metadata": {
        "id": "2cd03bcb"
      },
      "source": [
        "### Exercício\n",
        "Quando você aprende sobre um novo recurso, você deve experimentá-lo e cometer erros de propósito.\n",
        "Dessa forma, você aprende as mensagens de erro e, quando as vir novamente, saberá o que elas significam.\n",
        "É melhor cometer erros agora e deliberadamente do que mais tarde e acidentalmente.\n",
        "\n",
        "1. Você pode usar um sinal de menos para fazer um número negativo como `-2`. O que acontece se você colocar um sinal de mais antes de um número? E quanto a `2++2`?\n",
        "\n",
        "2. O que acontece se você tiver dois valores sem operador entre eles, como `4 2`?\n",
        "\n",
        "3. Se você chamar uma função como `round(42.5)`, o que acontece se você deixar de fora um ou ambos os parênteses?"
      ]
    },
    {
      "cell_type": "markdown",
      "id": "1fb0adfe",
      "metadata": {
        "id": "1fb0adfe"
      },
      "source": [
        "### Exercício\n",
        "\n",
        "Lembre-se de que toda expressão tem um valor, todo valor tem um tipo, e que podemos usar a função `type` para encontrar o tipo de qualquer valor.\n",
        "\n",
        "Qual é o tipo do valor das seguintes expressões? Dê o seu melhor palpite para cada uma delas e então use `type` para descobrir.\n",
        "\n",
        "* `765`\n",
        "\n",
        "* `2.718`\n",
        "\n",
        "* `'2 pi'`\n",
        "\n",
        "* `abs(-7)`\n",
        "\n",
        "* `abs(-7.0)`\n",
        "\n",
        "* `abs`\n",
        "\n",
        "* `int`\n",
        "\n",
        "* `type`"
      ]
    },
    {
      "cell_type": "markdown",
      "id": "23762eec",
      "metadata": {
        "id": "23762eec"
      },
      "source": [
        "### Exercício\n",
        "\n",
        "As perguntas a seguir dão a você uma chance de praticar a escrita de expressões aritméticas.\n",
        "\n",
        "1. Quantos segundos há em 42 minutos e 42 segundos?\n",
        "\n",
        "2. Quantas milhas há em 10 quilômetros? Dica: há 1,61 quilômetros em uma milha.\n",
        "\n",
        "3. Se você corre uma corrida de 10 quilômetros em 42 minutos e 42 segundos, qual é seu ritmo médio em segundos por milha?\n",
        "\n",
        "4. Qual é seu ritmo médio em minutos e segundos por milha?\n",
        "\n",
        "5. Qual é sua velocidade média em milhas por hora?\n",
        "\n",
        "Se você já sabe sobre variáveis, pode usá-las para este exercício.\n",
        "Se não sabe, pode fazer o exercício sem elas -- as veremos no próximo capítulo."
      ]
    },
    {
      "cell_type": "code",
      "execution_count": null,
      "id": "8fb50f30",
      "metadata": {
        "id": "8fb50f30",
        "outputId": "57c026ad-c21f-4b88-f49e-3fac1d26c8fc"
      },
      "outputs": [
        {
          "data": {
            "text/plain": [
              "2562"
            ]
          },
          "execution_count": 43,
          "metadata": {},
          "output_type": "execute_result"
        }
      ],
      "source": [
        "# Solução\n",
        "# total de segundos\n",
        "42 * 60 + 42"
      ]
    },
    {
      "cell_type": "code",
      "execution_count": null,
      "id": "5eceb4fb",
      "metadata": {
        "id": "5eceb4fb",
        "outputId": "78724fa3-34f8-4998-ba6f-5f7250ab049e"
      },
      "outputs": [
        {
          "data": {
            "text/plain": [
              "6.211180124223602"
            ]
          },
          "execution_count": 44,
          "metadata": {},
          "output_type": "execute_result"
        }
      ],
      "source": [
        "# Solução\n",
        "# número de milhas\n",
        "10 / 1.61"
      ]
    },
    {
      "cell_type": "code",
      "execution_count": null,
      "id": "fee97d8d",
      "metadata": {
        "id": "fee97d8d",
        "outputId": "890b9a05-9e46-4210-9975-5d86b5b840e4"
      },
      "outputs": [
        {
          "data": {
            "text/plain": [
              "412.48200824964016"
            ]
          },
          "execution_count": 45,
          "metadata": {},
          "output_type": "execute_result"
        }
      ],
      "source": [
        "# Solução\n",
        "# segundos por milha\n",
        "2562 / 6.21118"
      ]
    },
    {
      "cell_type": "code",
      "execution_count": null,
      "id": "a998258c",
      "metadata": {
        "id": "a998258c",
        "outputId": "6a4ee6f2-69ef-4428-a561-b376d929288a"
      },
      "outputs": [
        {
          "data": {
            "text/plain": [
              "6.0"
            ]
          },
          "execution_count": 46,
          "metadata": {},
          "output_type": "execute_result"
        }
      ],
      "source": [
        "# Solução\n",
        "# parte dos minutos do ritmo\n",
        "412.48 // 60"
      ]
    },
    {
      "cell_type": "code",
      "execution_count": null,
      "id": "2e0fc7a9",
      "metadata": {
        "id": "2e0fc7a9",
        "outputId": "635648d0-204a-48d7-fc85-049ffb7337ed"
      },
      "outputs": [
        {
          "data": {
            "text/plain": [
              "52.48000000000002"
            ]
          },
          "execution_count": 47,
          "metadata": {},
          "output_type": "execute_result"
        }
      ],
      "source": [
        "# Solução\n",
        "# parte dos segundos do ritmo\n",
        "412.48 % 60"
      ]
    },
    {
      "cell_type": "code",
      "execution_count": null,
      "id": "d25268d8",
      "metadata": {
        "id": "d25268d8",
        "outputId": "df73ec3e-1816-4fca-fabf-1d8636162046"
      },
      "outputs": [
        {
          "data": {
            "text/plain": [
              "0.7116666666666667"
            ]
          },
          "execution_count": 48,
          "metadata": {},
          "output_type": "execute_result"
        }
      ],
      "source": [
        "# Solução\n",
        "# horas\n",
        "2562 / 60 / 60"
      ]
    },
    {
      "cell_type": "code",
      "execution_count": null,
      "id": "523d9b0f",
      "metadata": {
        "id": "523d9b0f",
        "outputId": "e4b5f367-2073-4b7e-c865-af2c439359b6"
      },
      "outputs": [
        {
          "data": {
            "text/plain": [
              "8.727661571579926"
            ]
          },
          "execution_count": 49,
          "metadata": {},
          "output_type": "execute_result"
        }
      ],
      "source": [
        "# Solução\n",
        "# milhas por hora\n",
        "6.21118 / 0.711666"
      ]
    },
    {
      "cell_type": "code",
      "execution_count": null,
      "id": "ca083ccf",
      "metadata": {
        "id": "ca083ccf"
      },
      "outputs": [],
      "source": []
    },
    {
      "cell_type": "markdown",
      "id": "a7f4edf8",
      "metadata": {
        "tags": [],
        "id": "a7f4edf8"
      },
      "source": [
        "[Pense Python: 3ª Edição](https://rodrigocarlson.github.io/PensePython3ed/)\n",
        "\n",
        "Copyright 2024 [Allen B. Downey](https://allendowney.com/) (versão original)\n",
        "\n",
        "Copyright 2025 [Rodrigo Castelan Carlson](https://rodrigocarlson.paginas.ufsc.br/) (desta versão)\n",
        "\n",
        "Foram preservadas as mesmas licenças da versão original.\n",
        "\n",
        "Licença dos códigos: [MIT License](https://mit-license.org/)\n",
        "\n",
        "Licença dos textos: [Creative Commons Attribution-NonCommercial-ShareAlike 4.0 International](https://creativecommons.org/licenses/by-nc-sa/4.0/)"
      ]
    }
  ],
  "metadata": {
    "celltoolbar": "Tags",
    "kernelspec": {
      "display_name": "Python 3 (ipykernel)",
      "language": "python",
      "name": "python3"
    },
    "language_info": {
      "codemirror_mode": {
        "name": "ipython",
        "version": 3
      },
      "file_extension": ".py",
      "mimetype": "text/x-python",
      "name": "python",
      "nbconvert_exporter": "python",
      "pygments_lexer": "ipython3",
      "version": "3.10.11"
    },
    "colab": {
      "provenance": []
    }
  },
  "nbformat": 4,
  "nbformat_minor": 5
}