{
  "cells": [
    {
      "cell_type": "markdown",
      "id": "1331faa1",
      "metadata": {
        "id": "1331faa1"
      },
      "source": [
        "Você pode adquirir versões impressas e de e-book do *Think Python 3e* (em inglês) em\n",
        "[Bookshop.org](https://bookshop.org/a/98697/9781098155438) e\n",
        "[Amazon](https://www.amazon.com/_/dp/1098155432?smid=ATVPDKIKX0DER&_encoding=UTF8&tag=oreilly20-20&_encoding=UTF8&tag=greenteapre01-20&linkCode=ur2&linkId=e2a529f94920295d27ec8a06e757dc7c&camp=1789&creative=9325).\n",
        "\n",
        "Uma versão em língua portuguesa da 3ª edição foi publicada pela editora [Novatec](https://novatec.com.br/livros/pense-em-python-3ed/)."
      ]
    },
    {
      "cell_type": "code",
      "execution_count": null,
      "id": "260216be",
      "metadata": {
        "tags": [],
        "id": "260216be"
      },
      "outputs": [],
      "source": [
        "from os.path import basename, exists\n",
        "\n",
        "def download(url):\n",
        "    filename = basename(url)\n",
        "    if not exists(filename):\n",
        "        from urllib.request import urlretrieve\n",
        "\n",
        "        local, _ = urlretrieve(url, filename)\n",
        "        print(\"Downloaded \" + str(local))\n",
        "    return filename\n",
        "\n",
        "download('https://github.com/AllenDowney/ThinkPython/raw/v3/thinkpython.py');\n",
        "download('https://github.com/AllenDowney/ThinkPython/raw/v3/diagram.py');\n",
        "\n",
        "import thinkpython"
      ]
    },
    {
      "cell_type": "markdown",
      "id": "f5cb253c",
      "metadata": {
        "tags": [],
        "id": "f5cb253c"
      },
      "source": [
        "Aqui estão versões das classes `Card`, `Deck` e `Hand` do Capítulo 17, que usaremos em alguns exemplos neste capítulo:"
      ]
    },
    {
      "cell_type": "code",
      "execution_count": null,
      "id": "ad0da137",
      "metadata": {
        "tags": [],
        "id": "ad0da137"
      },
      "outputs": [],
      "source": [
        "class Card:\n",
        "    suit_names = ['Clubs', 'Diamonds', 'Hearts', 'Spades']\n",
        "    rank_names = [None, 'Ace', '2', '3', '4', '5', '6', '7',\n",
        "                  '8', '9', '10', 'Jack', 'Queen', 'King', 'Ace']\n",
        "\n",
        "    def __init__(self, suit, rank):\n",
        "        self.suit = suit\n",
        "        self.rank = rank\n",
        "\n",
        "    def __str__(self):\n",
        "        rank_name = Card.rank_names[self.rank]\n",
        "        suit_name = Card.suit_names[self.suit]\n",
        "        return f'{rank_name} of {suit_name}'"
      ]
    },
    {
      "cell_type": "code",
      "execution_count": null,
      "id": "8b00461b",
      "metadata": {
        "tags": [],
        "id": "8b00461b"
      },
      "outputs": [],
      "source": [
        "import random\n",
        "\n",
        "class Deck:\n",
        "    def __init__(self, cards):\n",
        "        self.cards = cards\n",
        "\n",
        "    def __str__(self):\n",
        "        res = []\n",
        "        for card in self.cards:\n",
        "            res.append(str(card))\n",
        "        return '\\n'.join(res)\n",
        "\n",
        "    def make_cards():\n",
        "        cards = []\n",
        "        for suit in range(4):\n",
        "            for rank in range(2, 15):\n",
        "                card = Card(suit, rank)\n",
        "                cards.append(card)\n",
        "        return cards\n",
        "\n",
        "    def shuffle(self):\n",
        "        random.shuffle(self.cards)\n",
        "\n",
        "    def pop_card(self):\n",
        "        return self.cards.pop()\n",
        "\n",
        "    def add_card(self, card):\n",
        "        self.cards.append(card)"
      ]
    },
    {
      "cell_type": "code",
      "execution_count": null,
      "id": "737b8979",
      "metadata": {
        "tags": [],
        "id": "737b8979"
      },
      "outputs": [],
      "source": [
        "class Hand(Deck):\n",
        "    def __init__(self, label=''):\n",
        "        self.label = label\n",
        "        self.cards = []"
      ]
    },
    {
      "cell_type": "markdown",
      "id": "27e8d827",
      "metadata": {
        "id": "27e8d827"
      },
      "source": [
        "# Python Extras\n",
        "\n",
        "Um dos meus objetivos para este livro foi ensinar o mínimo possível de Python.\n",
        "Quando havia duas maneiras de fazer algo, eu escolhia uma e evitava mencionar a outra.\n",
        "Ou às vezes eu colocava a segunda em um exercício.\n",
        "\n",
        "Agora eu quero voltar para algumas das boas partes que ficaram para trás.\n",
        "O Python fornece uma série de recursos que não são realmente necessários -- você pode escrever um bom código sem eles -- mas com eles você pode escrever um código mais conciso, legível ou eficiente, e às vezes todos os três."
      ]
    },
    {
      "cell_type": "markdown",
      "id": "7ddcece8",
      "metadata": {
        "id": "7ddcece8"
      },
      "source": [
        "## Conjuntos\n",
        "\n",
        "Python fornece uma classe chamada `set` que representa uma coleção de elementos únicos.\n",
        "Para criar um conjunto vazio, podemos usar o objeto classe como uma função:"
      ]
    },
    {
      "cell_type": "code",
      "execution_count": null,
      "id": "77f98242",
      "metadata": {
        "id": "77f98242"
      },
      "outputs": [],
      "source": [
        "s1 = set()\n",
        "s1"
      ]
    },
    {
      "cell_type": "markdown",
      "id": "904e2071",
      "metadata": {
        "id": "904e2071"
      },
      "source": [
        "Podemos usar o método `add` para adicionar elementos:"
      ]
    },
    {
      "cell_type": "code",
      "execution_count": null,
      "id": "85157902",
      "metadata": {
        "id": "85157902"
      },
      "outputs": [],
      "source": [
        "s1.add('a')\n",
        "s1.add('b')\n",
        "s1"
      ]
    },
    {
      "cell_type": "markdown",
      "id": "beee02fc",
      "metadata": {
        "id": "beee02fc"
      },
      "source": [
        "Ou podemos passar qualquer tipo de sequência para `set`:"
      ]
    },
    {
      "cell_type": "code",
      "execution_count": null,
      "id": "b470e34a",
      "metadata": {
        "id": "b470e34a"
      },
      "outputs": [],
      "source": [
        "s2 = set('acd')\n",
        "s2"
      ]
    },
    {
      "cell_type": "markdown",
      "id": "42f99153",
      "metadata": {
        "id": "42f99153"
      },
      "source": [
        "Um elemento só pode aparecer uma vez em um `set`.\n",
        "Se você adicionar um elemento que já está lá, ele não tem efeito:"
      ]
    },
    {
      "cell_type": "code",
      "execution_count": null,
      "id": "e6a2d78b",
      "metadata": {
        "id": "e6a2d78b"
      },
      "outputs": [],
      "source": [
        "s1.add('a')\n",
        "s1"
      ]
    },
    {
      "cell_type": "markdown",
      "id": "9b0a82ee",
      "metadata": {
        "id": "9b0a82ee"
      },
      "source": [
        "Ou se você criar um conjunto com uma sequência que contém duplicatas, o resultado conterá apenas elementos únicos:"
      ]
    },
    {
      "cell_type": "code",
      "execution_count": null,
      "id": "a4f5ff4f",
      "metadata": {
        "id": "a4f5ff4f"
      },
      "outputs": [],
      "source": [
        "set('banana')"
      ]
    },
    {
      "cell_type": "markdown",
      "id": "328e2009",
      "metadata": {
        "id": "328e2009"
      },
      "source": [
        "Alguns dos exercícios neste livro podem ser feitos de forma concisa e eficiente com conjuntos.\n",
        "Por exemplo, aqui está uma solução para um exercício no Capítulo 11 que usa um dicionário para verificar se há elementos duplicados em uma sequência:"
      ]
    },
    {
      "cell_type": "code",
      "execution_count": null,
      "id": "483046f2",
      "metadata": {
        "id": "483046f2"
      },
      "outputs": [],
      "source": [
        "def has_duplicates(t):\n",
        "    d = {}\n",
        "    for x in t:\n",
        "        d[x] = True\n",
        "    return len(d) < len(t)"
      ]
    },
    {
      "cell_type": "markdown",
      "id": "0b250e58",
      "metadata": {
        "id": "0b250e58"
      },
      "source": [
        "Esta versão adiciona o elemento `t` como chaves em um dicionário e, em seguida, verifica se há menos chaves do que elementos.\n",
        "Usando conjuntos, podemos escrever a mesma função assim:"
      ]
    },
    {
      "cell_type": "code",
      "execution_count": null,
      "id": "fe22c739",
      "metadata": {
        "id": "fe22c739"
      },
      "outputs": [],
      "source": [
        "def has_duplicates(t):\n",
        "    s = set(t)\n",
        "    return len(s) < len(t)"
      ]
    },
    {
      "cell_type": "code",
      "execution_count": null,
      "id": "3bbd3b72",
      "metadata": {
        "tags": [],
        "id": "3bbd3b72"
      },
      "outputs": [],
      "source": [
        "has_duplicates('abba')"
      ]
    },
    {
      "cell_type": "markdown",
      "id": "30cf3158",
      "metadata": {
        "id": "30cf3158"
      },
      "source": [
        "Um elemento só pode aparecer em um conjunto uma vez, então se um elemento em `t` aparecer mais de uma vez, o conjunto será menor que `t`.\n",
        "Se não houver duplicatas, o conjunto terá o mesmo tamanho que `t`.\n",
        "\n",
        "Objetos `set` fornecem métodos que realizam operações de conjuntos.\n",
        "Por exemplo, `union` computa a união de dois conjuntos, que é um novo conjunto que contém todos os elementos que aparecem em qualquer um dos conjuntos:"
      ]
    },
    {
      "cell_type": "code",
      "execution_count": null,
      "id": "0a8234b1",
      "metadata": {
        "id": "0a8234b1"
      },
      "outputs": [],
      "source": [
        "s1.union(s2)"
      ]
    },
    {
      "cell_type": "markdown",
      "id": "57b1d50c",
      "metadata": {
        "id": "57b1d50c"
      },
      "source": [
        "Alguns operadores aritméticos funcionam com conjuntos.\n",
        "Por exemplo, o operador `-` realiza a subtração de conjuntos -- o resultado é um novo conjunto que contém todos os elementos do primeiro conjunto que _não_ estão no segundo conjunto:"
      ]
    },
    {
      "cell_type": "code",
      "execution_count": null,
      "id": "5b81bb56",
      "metadata": {
        "id": "5b81bb56"
      },
      "outputs": [],
      "source": [
        "s1 - s2"
      ]
    },
    {
      "cell_type": "markdown",
      "id": "5099226c",
      "metadata": {
        "id": "5099226c"
      },
      "source": [
        "No [Capítulo 12](https://colab.research.google.com/github/rodrigocarlson/PensePython3ed/blob/main/capitulos/chap12.ipynb) usamos dicionários para encontrar as palavras que aparecem em um documento, mas não em uma lista de palavras.\n",
        "Usamos a seguinte função, que recebe dois dicionários e devolve um novo dicionário que contém apenas as chaves do primeiro que não aparecem no segundo:"
      ]
    },
    {
      "cell_type": "code",
      "execution_count": null,
      "id": "06a94266",
      "metadata": {
        "id": "06a94266"
      },
      "outputs": [],
      "source": [
        "def subtract(d1, d2):\n",
        "    res = {}\n",
        "    for key in d1:\n",
        "        if key not in d2:\n",
        "            res[key] = d1[key]\n",
        "    return res"
      ]
    },
    {
      "cell_type": "markdown",
      "id": "455c3e34",
      "metadata": {
        "id": "455c3e34"
      },
      "source": [
        "Com conjuntos, não precisamos escrever essa função nós mesmos.\n",
        "Se `word_counter` for um dicionário que contém as palavras únicas no documento e `word_list` for uma lista de palavras válidas, podemos calcular a diferença de conjuntos assim:"
      ]
    },
    {
      "cell_type": "code",
      "execution_count": null,
      "id": "3f303544",
      "metadata": {
        "tags": [],
        "id": "3f303544"
      },
      "outputs": [],
      "source": [
        "# esta célula cria um pequeno exemplo para que possamos executar a célula\n",
        "# seguinte sem carregar os dados reais\n",
        "\n",
        "word_counter = {'word': 1}\n",
        "word_list = ['word']"
      ]
    },
    {
      "cell_type": "code",
      "execution_count": null,
      "id": "b200cbc2",
      "metadata": {
        "tags": [],
        "id": "b200cbc2"
      },
      "outputs": [],
      "source": [
        "set(word_counter) - set(word_list)"
      ]
    },
    {
      "cell_type": "markdown",
      "id": "91efe708",
      "metadata": {
        "id": "91efe708"
      },
      "source": [
        "O resultado é um conjunto que contém as palavras no documento que não aparecem na lista de palavras.\n",
        "\n",
        "Os operadores relacionais funcionam com conjuntos.\n",
        "Por exemplo, `<=` verifica se um conjunto é um subconjunto de outro, incluindo a possibilidade de que sejam iguais:"
      ]
    },
    {
      "cell_type": "code",
      "execution_count": null,
      "id": "15919aca",
      "metadata": {
        "id": "15919aca"
      },
      "outputs": [],
      "source": [
        "set('ab') <= set('abc')"
      ]
    },
    {
      "cell_type": "markdown",
      "id": "74d4d824",
      "metadata": {
        "id": "74d4d824"
      },
      "source": [
        "Com esses operadores, podemos usar conjuntos para fazer alguns dos exercícios do Capítulo 7.\n",
        "Por exemplo, aqui está uma versão de `uses_only` que usa um laço de repetição:"
      ]
    },
    {
      "cell_type": "code",
      "execution_count": null,
      "id": "21940f25",
      "metadata": {
        "id": "21940f25"
      },
      "outputs": [],
      "source": [
        "def uses_only(word, available):\n",
        "    for letter in word:\n",
        "        if letter not in available:\n",
        "            return False\n",
        "    return True"
      ]
    },
    {
      "cell_type": "markdown",
      "id": "58c1da26",
      "metadata": {
        "id": "58c1da26"
      },
      "source": [
        "`uses_only` verifica se todas as letras em `word` estão em `available`.\n",
        "Com conjuntos, podemos reescrevê-la assim:"
      ]
    },
    {
      "cell_type": "code",
      "execution_count": null,
      "id": "5769968e",
      "metadata": {
        "id": "5769968e"
      },
      "outputs": [],
      "source": [
        "def uses_only(word, available):\n",
        "    return set(word) <= set(available)"
      ]
    },
    {
      "cell_type": "markdown",
      "id": "01ce8cff",
      "metadata": {
        "id": "01ce8cff"
      },
      "source": [
        "Se as letras em `word` forem um subconjunto das letras em `available`, isso significa que `word` usa apenas letras em `available`."
      ]
    },
    {
      "cell_type": "markdown",
      "id": "d7c22ef5",
      "metadata": {
        "id": "d7c22ef5"
      },
      "source": [
        "## Contadores\n",
        "\n",
        "Um `Contador` é como um conjunto, exceto que se um elemento aparece mais de uma vez, o `Contador` mantém o controle de quantas vezes ele aparece.\n",
        "Se você está familiarizado com a ideia matemática de um \"multiconjunto\", um `Contador` é uma\n",
        "maneira natural de representar um multiconjunto.\n",
        "\n",
        "A classe `Contador` é definida em um módulo chamado `coleções`, então você tem que importá-la.\n",
        "Então você pode usar o objeto classe como uma função e passar como argumento uma *string*, lista ou qualquer outro tipo de sequência:"
      ]
    },
    {
      "cell_type": "code",
      "execution_count": null,
      "id": "1baff39a",
      "metadata": {
        "id": "1baff39a"
      },
      "outputs": [],
      "source": [
        "from collections import Counter\n",
        "\n",
        "counter = Counter('banana')\n",
        "counter"
      ]
    },
    {
      "cell_type": "code",
      "execution_count": null,
      "id": "14d5aee5",
      "metadata": {
        "id": "14d5aee5"
      },
      "outputs": [],
      "source": [
        "from collections import Counter\n",
        "\n",
        "t = (1, 1, 1, 2, 2, 3)\n",
        "counter = Counter(t)\n",
        "counter"
      ]
    },
    {
      "cell_type": "markdown",
      "id": "8da28fe5",
      "metadata": {
        "id": "8da28fe5"
      },
      "source": [
        "Um objeto `Counter` é como um dicionário que mapeia cada chave para o número de vezes que ela aparece.\n",
        "Como nos dicionários, as chaves precisam ser hasheáveis.\n",
        "\n",
        "Ao contrário dos dicionários, os objetos `Counter` não provocam uma exceção se você acessar um elemento que não aparece.\n",
        "Em vez disso, eles devolvem `0`:"
      ]
    },
    {
      "cell_type": "code",
      "execution_count": null,
      "id": "28eb9235",
      "metadata": {
        "id": "28eb9235"
      },
      "outputs": [],
      "source": [
        "counter['d']"
      ]
    },
    {
      "cell_type": "markdown",
      "id": "9bb2b650",
      "metadata": {
        "id": "9bb2b650"
      },
      "source": [
        "Podemos usar objetos `Counter` para resolver um dos exercícios do Capítulo 10, que pede uma função que recebe duas palavras e verifica se elas são anagramas -- isto é, se as letras de uma podem ser rearranjadas para formar a outra.\n",
        "\n",
        "Aqui está uma solução usando objetos `Counter`:"
      ]
    },
    {
      "cell_type": "code",
      "execution_count": null,
      "id": "67aadb0b",
      "metadata": {
        "id": "67aadb0b"
      },
      "outputs": [],
      "source": [
        "def is_anagram(word1, word2):\n",
        "    return Counter(word1) == Counter(word2)"
      ]
    },
    {
      "cell_type": "markdown",
      "id": "6907f368",
      "metadata": {
        "id": "6907f368"
      },
      "source": [
        "Se duas palavras são anagramas, elas contêm as mesmas letras com as mesmas contagens, então seus objetos `Counter` são equivalentes.\n",
        "\n",
        "`Counter` fornece um método chamado `most_common` que devolve uma lista de pares valor-frequência, ordenados do mais comum para o menos comum:"
      ]
    },
    {
      "cell_type": "code",
      "execution_count": null,
      "id": "0c771fb9",
      "metadata": {
        "id": "0c771fb9"
      },
      "outputs": [],
      "source": [
        "counter.most_common()"
      ]
    },
    {
      "cell_type": "markdown",
      "id": "b02b7dff",
      "metadata": {
        "id": "b02b7dff"
      },
      "source": [
        "Eles também fornecem métodos e operadores para executar operações semelhantes a conjuntos, incluindo adição, subtração, união e interseção.\n",
        "Por exemplo, o operador `+` combina dois objetos `Counter` e cria um novo `Counter` que contém as chaves de ambos e as somas das contagens.\n",
        "\n",
        "Podemos testá-lo criando um `Counter` com as letras de `'bans'` e adicionando-o às letras de `'banana'`:"
      ]
    },
    {
      "cell_type": "code",
      "execution_count": null,
      "id": "38a511cc",
      "metadata": {
        "id": "38a511cc"
      },
      "outputs": [],
      "source": [
        "counter2 = Counter('bans')\n",
        "counter + counter2"
      ]
    },
    {
      "cell_type": "markdown",
      "id": "5461328e",
      "metadata": {
        "id": "5461328e"
      },
      "source": [
        "Você terá a oportunidade de explorar outras operações `Counter` nos exercícios no final deste capítulo:"
      ]
    },
    {
      "cell_type": "markdown",
      "id": "7cf47e67",
      "metadata": {
        "id": "7cf47e67"
      },
      "source": [
        "## defaultdict\n",
        "\n",
        "O módulo `collections` também possui `defaultdict`, que é como um dicionário, exceto que se você acessar uma chave que não existe, ele gera um novo valor automaticamente.\n",
        "\n",
        "Quando você cria um `defaultdict`, você fornece uma função que é usada para criar novos valores.\n",
        "Uma função que cria objetos às vezes é chamada de **fábrica**.\n",
        "As funções internas que criam listas, conjuntos e outros tipos podem ser usadas como fábricas.\n",
        "\n",
        "Por exemplo, aqui está um `defaultdict` que cria uma nova `list` quando necessário:"
      ]
    },
    {
      "cell_type": "code",
      "execution_count": null,
      "id": "5303812d",
      "metadata": {
        "id": "5303812d"
      },
      "outputs": [],
      "source": [
        "from collections import defaultdict\n",
        "\n",
        "d = defaultdict(list)\n",
        "d"
      ]
    },
    {
      "cell_type": "markdown",
      "id": "9f43d537",
      "metadata": {
        "id": "9f43d537"
      },
      "source": [
        "Observe que o argumento é `list`, que é um objeto classe, não `list()`, que é uma chamada de função que cria uma nova lista.\n",
        "A função fábrica não é chamada a menos que acessemos uma chave que não existe:"
      ]
    },
    {
      "cell_type": "code",
      "execution_count": null,
      "id": "4955b14f",
      "metadata": {
        "id": "4955b14f"
      },
      "outputs": [],
      "source": [
        "t = d['new key']\n",
        "t"
      ]
    },
    {
      "cell_type": "markdown",
      "id": "01f87415",
      "metadata": {
        "id": "01f87415"
      },
      "source": [
        "A nova lista, que estamos chamando de `t`, também é adicionada ao dicionário.\n",
        "Então, se modificarmos `t`, a mudança aparece em `d`:"
      ]
    },
    {
      "cell_type": "code",
      "execution_count": null,
      "id": "d6a771af",
      "metadata": {
        "id": "d6a771af"
      },
      "outputs": [],
      "source": [
        "t.append('new value')\n",
        "d['new key']"
      ]
    },
    {
      "cell_type": "markdown",
      "id": "3e5d0151",
      "metadata": {
        "id": "3e5d0151"
      },
      "source": [
        "Se você estiver criando um dicionário de listas, você pode frequentemente escrever um código mais simples usando `defaultdict`.\n",
        "\n",
        "Em um dos exercícios no [Capítulo 11](https://colab.research.google.com/github/rodrigocarlson/PensePython3ed/blob/main/capitulos/chap11.ipynb), eu criei um dicionário que mapeia uma *string* ordenada de letras para a lista de palavras que podem ser escritas com essas letras.\n",
        "Por exemplo, a *string* `'opst'` mapeia para a lista `['opts', 'post', 'pots', 'spot', 'stop', 'tops']`.\n",
        "Aqui está o código original:"
      ]
    },
    {
      "cell_type": "code",
      "execution_count": null,
      "id": "9c4166e4",
      "metadata": {
        "id": "9c4166e4"
      },
      "outputs": [],
      "source": [
        "def all_anagrams(filename):\n",
        "    d = {}\n",
        "    for line in open(filename):\n",
        "        word = line.strip().lower()\n",
        "        t = signature(word)\n",
        "        if t not in d:\n",
        "            d[t] = [word]\n",
        "        else:\n",
        "            d[t].append(word)\n",
        "    return d"
      ]
    },
    {
      "cell_type": "markdown",
      "id": "8e9a0a2b",
      "metadata": {
        "id": "8e9a0a2b"
      },
      "source": [
        "E aqui está uma versão mais simples usando um `defaultdict`:"
      ]
    },
    {
      "cell_type": "code",
      "execution_count": null,
      "id": "e908188e",
      "metadata": {
        "id": "e908188e"
      },
      "outputs": [],
      "source": [
        "def all_anagrams(filename):\n",
        "    d = defaultdict(list)\n",
        "    for line in open(filename):\n",
        "        word = line.strip().lower()\n",
        "        t = signature(word)\n",
        "        d[t].append(word)\n",
        "    return d"
      ]
    },
    {
      "cell_type": "markdown",
      "id": "cccdd46c",
      "metadata": {
        "id": "cccdd46c"
      },
      "source": [
        "Nos exercícios no final do capítulo, você terá a chance de praticar o uso de objetos `defaultdict`:"
      ]
    },
    {
      "cell_type": "code",
      "execution_count": null,
      "id": "4e1e35f7",
      "metadata": {
        "id": "4e1e35f7"
      },
      "outputs": [],
      "source": [
        "from collections import defaultdict\n",
        "\n",
        "d = defaultdict(list)\n",
        "key = ('into', 'the')\n",
        "d[key].append('woods')\n",
        "d[key]"
      ]
    },
    {
      "cell_type": "markdown",
      "id": "610359c1",
      "metadata": {
        "id": "610359c1"
      },
      "source": [
        "## Expressões condicionais\n",
        "\n",
        "Instruções condicionais são frequentemente usadas para escolher um de dois valores, como aqui:"
      ]
    },
    {
      "cell_type": "code",
      "execution_count": null,
      "id": "25ff32b9",
      "metadata": {
        "tags": [],
        "id": "25ff32b9"
      },
      "outputs": [],
      "source": [
        "import math\n",
        "x = 5"
      ]
    },
    {
      "cell_type": "code",
      "execution_count": null,
      "id": "11676b80",
      "metadata": {
        "id": "11676b80"
      },
      "outputs": [],
      "source": [
        "if x > 0:\n",
        "    y = math.log(x)\n",
        "else:\n",
        "    y = float('nan')"
      ]
    },
    {
      "cell_type": "code",
      "execution_count": null,
      "id": "0249c4c8",
      "metadata": {
        "tags": [],
        "id": "0249c4c8"
      },
      "outputs": [],
      "source": [
        "y"
      ]
    },
    {
      "cell_type": "markdown",
      "id": "2c5fc3dd",
      "metadata": {
        "id": "2c5fc3dd"
      },
      "source": [
        "Esta instrução verifica se `x` é positivo. Se for, ele calcula seu logaritmo.\n",
        "Se não for, `math.log` causaria um ValueError.\n",
        "Para evitar parar o programa, geramos um `NaN`, que é um valor especial de ponto flutuante que representa \"Não é um número\" (\"*Not a number*\").\n",
        "\n",
        "Podemos escrever esta instrução de forma mais concisa usando uma **expressão condicional**:"
      ]
    },
    {
      "cell_type": "code",
      "execution_count": null,
      "id": "803a39c4",
      "metadata": {
        "id": "803a39c4"
      },
      "outputs": [],
      "source": [
        "y = math.log(x) if x > 0 else float('nan')"
      ]
    },
    {
      "cell_type": "code",
      "execution_count": null,
      "id": "03b1afa9",
      "metadata": {
        "tags": [],
        "id": "03b1afa9"
      },
      "outputs": [],
      "source": [
        "y"
      ]
    },
    {
      "cell_type": "markdown",
      "id": "6a7cf27b",
      "metadata": {
        "id": "6a7cf27b"
      },
      "source": [
        "Você quase pode ler esta linha como em inglês: \"*`y` gets log-`x` if `x` is greater than 0; otherwise it gets `NaN`*\" (\"`y` recebe log de `x` se `x` for maior que 0; caso contrário, recebe `NaN`\").\n",
        "\n",
        "Às vezes, funções recursivas podem ser escritas concisamente usando expressões condicionais.\n",
        "Por exemplo, aqui está uma versão de `factorial` com uma _instrução_ condicional:"
      ]
    },
    {
      "cell_type": "code",
      "execution_count": null,
      "id": "73d3e7e9",
      "metadata": {
        "id": "73d3e7e9"
      },
      "outputs": [],
      "source": [
        "def factorial(n):\n",
        "    if n == 0:\n",
        "        return 1\n",
        "    else:\n",
        "        return n * factorial(n-1)"
      ]
    },
    {
      "cell_type": "markdown",
      "id": "56052b5c",
      "metadata": {
        "id": "56052b5c"
      },
      "source": [
        "E aqui está uma versão com uma _expressão_ condicional:"
      ]
    },
    {
      "cell_type": "code",
      "execution_count": null,
      "id": "d14e82df",
      "metadata": {
        "id": "d14e82df"
      },
      "outputs": [],
      "source": [
        "def factorial(n):\n",
        "    return 1 if n == 0 else n * factorial(n-1)"
      ]
    },
    {
      "cell_type": "markdown",
      "id": "d53fbc15",
      "metadata": {
        "id": "d53fbc15"
      },
      "source": [
        "Outro uso de expressões condicionais é manipular argumentos opcionais.\n",
        "Por exemplo, aqui está a definição de classe com um método `__init__` que usa uma instrução condicional para verificar um parâmetro com um valor padrão:"
      ]
    },
    {
      "cell_type": "code",
      "execution_count": null,
      "id": "aa8fcfe5",
      "metadata": {
        "id": "aa8fcfe5"
      },
      "outputs": [],
      "source": [
        "class Kangaroo:\n",
        "    def __init__(self, name, contents=None):\n",
        "        self.name = name\n",
        "        if contents is None:\n",
        "            contents = []\n",
        "        self.contents = contents"
      ]
    },
    {
      "cell_type": "markdown",
      "id": "655bfc46",
      "metadata": {
        "id": "655bfc46"
      },
      "source": [
        "Aqui está uma versão que usa uma expressão condicional:"
      ]
    },
    {
      "cell_type": "code",
      "execution_count": null,
      "id": "fcb67453",
      "metadata": {
        "id": "fcb67453"
      },
      "outputs": [],
      "source": [
        "def __init__(self, name, contents=None):\n",
        "    self.name = name\n",
        "    self.contents = [] if contents is None else contents"
      ]
    },
    {
      "cell_type": "markdown",
      "id": "fef85229",
      "metadata": {
        "id": "fef85229"
      },
      "source": [
        "Em geral, você pode substituir uma instrução condicional por uma expressão condicional se ambas as ramificações contiverem uma única expressão e nenhuma instrução."
      ]
    },
    {
      "cell_type": "markdown",
      "id": "45d3b306",
      "metadata": {
        "id": "45d3b306"
      },
      "source": [
        "## Abrangências de listas\n",
        "\n",
        "Em capítulos anteriores, vimos alguns exemplos em que começamos com uma lista vazia e adicionamos elementos, um de cada vez, usando o método `append`.\n",
        "Por exemplo, suponha que temos uma *string* que contém o título de um filme e queremos colocar todas as palavras em maiúsculas:"
      ]
    },
    {
      "cell_type": "code",
      "execution_count": null,
      "id": "a1d31625",
      "metadata": {
        "id": "a1d31625"
      },
      "outputs": [],
      "source": [
        "title = 'monty python and the holy grail'"
      ]
    },
    {
      "cell_type": "markdown",
      "id": "9eeb45a6",
      "metadata": {
        "id": "9eeb45a6"
      },
      "source": [
        "Podemos dividí-la em uma lista de *strings*, percorrer as *strings*, colocá-las em maiúsculas e adicioná-las a uma lista:"
      ]
    },
    {
      "cell_type": "code",
      "execution_count": null,
      "id": "595cdbc8",
      "metadata": {
        "id": "595cdbc8"
      },
      "outputs": [],
      "source": [
        "t = []\n",
        "for word in title.split():\n",
        "    t.append(word.capitalize())\n",
        "\n",
        "' '.join(t)"
      ]
    },
    {
      "cell_type": "markdown",
      "id": "b96197c2",
      "metadata": {
        "id": "b96197c2"
      },
      "source": [
        "Podemos fazer a mesma coisa de forma mais concisa usando uma **abrangência de lista**:"
      ]
    },
    {
      "cell_type": "code",
      "execution_count": null,
      "id": "ac327d75",
      "metadata": {
        "id": "ac327d75"
      },
      "outputs": [],
      "source": [
        "t = [word.capitalize() for word in title.split()]\n",
        "\n",
        "' '.join(t)"
      ]
    },
    {
      "cell_type": "markdown",
      "id": "e5b565ad",
      "metadata": {
        "id": "e5b565ad"
      },
      "source": [
        "Os operadores de colchetes indicam que estamos construindo uma nova lista.\n",
        "A expressão dentro dos colchetes especifica os elementos da lista, e a cláusula `for` indica qual sequência estamos percorrendo.\n",
        "\n",
        "A sintaxe de uma abrangência de lista pode parecer estranha, porque a variável do laço -- `word` neste exemplo -- aparece na expressão antes de chegarmos à sua definição.\n",
        "Mas você se acostuma.\n",
        "\n",
        "Como outro exemplo, no [Capítulo 9](https://colab.research.google.com/github/rodrigocarlson/PensePython3ed/blob/main/capitulos/chap09.ipynb) usamos esse laço de repetição para ler palavras de um arquivo e anexá-las a uma lista:"
      ]
    },
    {
      "cell_type": "code",
      "execution_count": null,
      "id": "036ec803",
      "metadata": {
        "tags": [],
        "id": "036ec803"
      },
      "outputs": [],
      "source": [
        "download('https://raw.githubusercontent.com/AllenDowney/ThinkPython2/master/code/words.txt');"
      ]
    },
    {
      "cell_type": "code",
      "execution_count": null,
      "id": "1437f1f1",
      "metadata": {
        "id": "1437f1f1"
      },
      "outputs": [],
      "source": [
        "word_list = []\n",
        "\n",
        "for line in open('words.txt'):\n",
        "    word = line.strip()\n",
        "    word_list.append(word)"
      ]
    },
    {
      "cell_type": "code",
      "execution_count": null,
      "id": "c9c2a932",
      "metadata": {
        "tags": [],
        "id": "c9c2a932"
      },
      "outputs": [],
      "source": [
        "len(word_list)"
      ]
    },
    {
      "cell_type": "markdown",
      "id": "2d1df49b",
      "metadata": {
        "id": "2d1df49b"
      },
      "source": [
        "Veja como podemos escrever isso como uma abrangência de lista:"
      ]
    },
    {
      "cell_type": "code",
      "execution_count": null,
      "id": "d4f854c6",
      "metadata": {
        "id": "d4f854c6"
      },
      "outputs": [],
      "source": [
        "word_list = [line.strip() for line in open('words.txt')]"
      ]
    },
    {
      "cell_type": "code",
      "execution_count": null,
      "id": "3d797346",
      "metadata": {
        "tags": [],
        "id": "3d797346"
      },
      "outputs": [],
      "source": [
        "len(word_list)"
      ]
    },
    {
      "cell_type": "markdown",
      "id": "92d856ba",
      "metadata": {
        "id": "92d856ba"
      },
      "source": [
        "Uma abrangência de lista também pode ter uma cláusula `if` que determina quais elementos são incluídos na lista.\n",
        "Por exemplo, aqui está um laço `for` que usamos no [Capítulo 10](https://colab.research.google.com/github/rodrigocarlson/PensePython3ed/blob/main/capitulos/chap10.ipynb) para fazer uma lista somente das palavras em `word_list` que são palíndromos:"
      ]
    },
    {
      "cell_type": "code",
      "execution_count": null,
      "id": "d476e43c",
      "metadata": {
        "tags": [],
        "id": "d476e43c"
      },
      "outputs": [],
      "source": [
        "def is_palindrome(word):\n",
        "    return list(reversed(word)) == list(word)"
      ]
    },
    {
      "cell_type": "code",
      "execution_count": null,
      "id": "6b295593",
      "metadata": {
        "id": "6b295593"
      },
      "outputs": [],
      "source": [
        "palindromes = []\n",
        "\n",
        "for word in word_list:\n",
        "    if is_palindrome(word):\n",
        "        palindromes.append(word)"
      ]
    },
    {
      "cell_type": "code",
      "execution_count": null,
      "id": "f7b1cd91",
      "metadata": {
        "tags": [],
        "id": "f7b1cd91"
      },
      "outputs": [],
      "source": [
        "palindromes[:10]"
      ]
    },
    {
      "cell_type": "markdown",
      "id": "151621d8",
      "metadata": {
        "id": "151621d8"
      },
      "source": [
        "Veja como podemos fazer a mesma coisa com uma abrangência de lista:"
      ]
    },
    {
      "cell_type": "code",
      "execution_count": null,
      "id": "c356d9fb",
      "metadata": {
        "id": "c356d9fb"
      },
      "outputs": [],
      "source": [
        "palindromes = [word for word in word_list if is_palindrome(word)]"
      ]
    },
    {
      "cell_type": "code",
      "execution_count": null,
      "id": "52e32b33",
      "metadata": {
        "tags": [],
        "id": "52e32b33"
      },
      "outputs": [],
      "source": [
        "palindromes[:10]"
      ]
    },
    {
      "cell_type": "markdown",
      "id": "5fc4eab1",
      "metadata": {
        "id": "5fc4eab1"
      },
      "source": [
        "Quando uma abrangência de lista é usada como argumento para uma função, geralmente podemos omitir os colchetes.\n",
        "Por exemplo, suponha que queremos somar $1 / 2^n$ para valores de $n$ de 0 a 9.\n",
        "Podemos usar uma abrangência de lista como esta:"
      ]
    },
    {
      "cell_type": "code",
      "execution_count": null,
      "id": "dcf239d7",
      "metadata": {
        "id": "dcf239d7"
      },
      "outputs": [],
      "source": [
        "sum([1/2**n for n in range(10)])"
      ]
    },
    {
      "cell_type": "markdown",
      "id": "2ee312e0",
      "metadata": {
        "id": "2ee312e0"
      },
      "source": [
        "Ou podemos deixar de fora os colchetes assim:"
      ]
    },
    {
      "cell_type": "code",
      "execution_count": null,
      "id": "b9bdec8d",
      "metadata": {
        "id": "b9bdec8d"
      },
      "outputs": [],
      "source": [
        "sum(1/2**n for n in range(10))"
      ]
    },
    {
      "cell_type": "markdown",
      "id": "3d56d584",
      "metadata": {
        "id": "3d56d584"
      },
      "source": [
        "Neste exemplo, o argumento é tecnicamente uma **expressão geradora**, não uma abrangência de lista, e nunca realmente faz uma lista.\n",
        "Mas, fora isso, o comportamento é o mesmo.\n",
        "\n",
        "Abrangências de listas e expressões geradoras são concisas e fáceis de ler, pelo menos para expressões simples.\n",
        "E elas são geralmente mais rápidas do que os laços `for` equivalentes, às vezes muito mais rápidas.\n",
        "Então, se você está bravo comigo por não mencioná-las antes, eu entendo.\n",
        "\n",
        "Mas, em minha defesa, abrnagências de lista são mais difíceis de depurar porque você não pode colocar uma instrução `print` dentro do laço.\n",
        "Eu sugiro que você as use apenas se a computação for simples o suficiente para que você provavelmente acerte na primeira vez.\n",
        "Ou considere escrever e depurar um laço `for` e então convertê-lo em uma abrangência de lista."
      ]
    },
    {
      "cell_type": "markdown",
      "id": "f9fac860",
      "metadata": {
        "id": "f9fac860"
      },
      "source": [
        "## `any` e `all`\n",
        "\n",
        "O Python fornece uma função interna, `any`, que recebe uma sequência de valores booleanos e devolve `True` se algum dos valores for `True`:"
      ]
    },
    {
      "cell_type": "code",
      "execution_count": null,
      "id": "81a15164",
      "metadata": {
        "id": "81a15164"
      },
      "outputs": [],
      "source": [
        "any([False, False, True])"
      ]
    },
    {
      "cell_type": "markdown",
      "id": "43217186",
      "metadata": {
        "id": "43217186"
      },
      "source": [
        "`any` é frequentemente usada com expressões geradoras:"
      ]
    },
    {
      "cell_type": "code",
      "execution_count": null,
      "id": "7756c9ea",
      "metadata": {
        "id": "7756c9ea"
      },
      "outputs": [],
      "source": [
        "any(letter == 't' for letter in 'monty')"
      ]
    },
    {
      "cell_type": "markdown",
      "id": "22395487",
      "metadata": {
        "id": "22395487"
      },
      "source": [
        "Esse exemplo não é muito útil porque faz a mesma coisa que o operador `in`.\n",
        "Mas poderíamos usar `any` para escrever soluções concisas para alguns dos exercícios no [Capítulo 7](https://colab.research.google.com/github/rodrigocarlson/PensePython3ed/blob/main/capitulos/chap07.ipynb). Por exemplo, podemos escrever `uses_none` assim:"
      ]
    },
    {
      "cell_type": "code",
      "execution_count": null,
      "id": "70133073",
      "metadata": {
        "id": "70133073"
      },
      "outputs": [],
      "source": [
        "def uses_none(word, forbidden):\n",
        "    \"\"\"Verifica se uma palavra evita letras proibidas.\"\"\"\n",
        "    return not any(letter in forbidden for letter in word)"
      ]
    },
    {
      "cell_type": "code",
      "execution_count": null,
      "id": "aec0523b",
      "metadata": {
        "tags": [],
        "id": "aec0523b"
      },
      "outputs": [],
      "source": [
        "uses_none('banana', 'xyz')"
      ]
    },
    {
      "cell_type": "code",
      "execution_count": null,
      "id": "863252da",
      "metadata": {
        "tags": [],
        "id": "863252da"
      },
      "outputs": [],
      "source": [
        "uses_none('apple', 'efg')"
      ]
    },
    {
      "cell_type": "markdown",
      "id": "fbefe3c1",
      "metadata": {
        "id": "fbefe3c1"
      },
      "source": [
        "Esta função percorre as letras em `word` e verifica se alguma delas está em `forbidden`.\n",
        "Usar `any` com uma expressão geradora é eficiente porque ela para imediatamente se encontrar um valor `True`, então não precisa percorrer toda a sequência.\n",
        "\n",
        "O Python fornece outra função interna, `all`, que devolve `True` se cada elemento da sequência for `True`.\n",
        "Podemos usá-la para escrever uma versão concisa de `uses_all`:"
      ]
    },
    {
      "cell_type": "code",
      "execution_count": null,
      "id": "4b4046aa",
      "metadata": {
        "id": "4b4046aa"
      },
      "outputs": [],
      "source": [
        "def uses_all(word, required):\n",
        "    \"\"\"Verifique se uma palavra usa todas as letras necessárias.\"\"\"\n",
        "    return all(letter in word for letter in required)"
      ]
    },
    {
      "cell_type": "code",
      "execution_count": null,
      "id": "5c6addfb",
      "metadata": {
        "tags": [],
        "id": "5c6addfb"
      },
      "outputs": [],
      "source": [
        "uses_all('banana', 'ban')"
      ]
    },
    {
      "cell_type": "code",
      "execution_count": null,
      "id": "54df18a1",
      "metadata": {
        "tags": [],
        "id": "54df18a1"
      },
      "outputs": [],
      "source": [
        "uses_all('apple', 'api')"
      ]
    },
    {
      "cell_type": "markdown",
      "id": "8d9f7364",
      "metadata": {
        "id": "8d9f7364"
      },
      "source": [
        "Expressões que usam `any` e `all` podem ser concisas, eficientes e fáceis de ler."
      ]
    },
    {
      "cell_type": "markdown",
      "id": "911857a3",
      "metadata": {
        "id": "911857a3"
      },
      "source": [
        "## Tuplas nomeadas\n",
        "\n",
        "O módulo `collections` possui uma função chamada `namedtuple` que pode ser usada para criar classes simples.\n",
        "Por exemplo, o objeto `Point` no [Capítulo 16](https://colab.research.google.com/github/rodrigocarlson/PensePython3ed/blob/main/capitulos/chap16.ipynb) tem apenas dois atributos, `x` e `y`.\n",
        "Veja como a definimos:"
      ]
    },
    {
      "cell_type": "code",
      "execution_count": null,
      "id": "3550c5a4",
      "metadata": {
        "id": "3550c5a4"
      },
      "outputs": [],
      "source": [
        "class Point:\n",
        "    \"\"\"Representa um ponto no espaço 2-D.\"\"\"\n",
        "\n",
        "    def __init__(self, x, y):\n",
        "        self.x = x\n",
        "        self.y = y\n",
        "\n",
        "    def __str__(self):\n",
        "        return f'({self.x}, {self.y})'"
      ]
    },
    {
      "cell_type": "markdown",
      "id": "36f08927",
      "metadata": {
        "id": "36f08927"
      },
      "source": [
        "É muito código para transmitir uma pequena quantidade de informação.\n",
        "`namedtuple` fornece uma maneira mais concisa de definir classes como esta:"
      ]
    },
    {
      "cell_type": "code",
      "execution_count": null,
      "id": "4852da0c",
      "metadata": {
        "id": "4852da0c"
      },
      "outputs": [],
      "source": [
        "from collections import namedtuple\n",
        "\n",
        "Point = namedtuple('Point', ['x', 'y'])"
      ]
    },
    {
      "cell_type": "markdown",
      "id": "942a0877",
      "metadata": {
        "id": "942a0877"
      },
      "source": [
        "O primeiro argumento é o nome da classe que você quer criar. O\n",
        "segundo é uma lista dos atributos que os objetos `Point` devem ter.\n",
        "O resultado é um objeto classe, e é por isso que ele é atribuído a um nome de variável em maiúsculas.\n",
        "\n",
        "Uma classe criada com `namedtuple` fornece um método `__init__` que atribui valores aos atributos e um `__str__` que exibe o objeto em um formato legível.\n",
        "Então podemos criar e exibir um objeto `Point` como este:"
      ]
    },
    {
      "cell_type": "code",
      "execution_count": null,
      "id": "8acb172d",
      "metadata": {
        "id": "8acb172d"
      },
      "outputs": [],
      "source": [
        "p = Point(1, 2)\n",
        "p"
      ]
    },
    {
      "cell_type": "markdown",
      "id": "b42ee9a2",
      "metadata": {
        "id": "b42ee9a2"
      },
      "source": [
        "`Point` também fornece um método `__eq__` que verifica se dois objetos `Point` são equivalentes -- ou seja, se seus atributos são os mesmos:"
      ]
    },
    {
      "cell_type": "code",
      "execution_count": null,
      "id": "494b78ac",
      "metadata": {
        "id": "494b78ac"
      },
      "outputs": [],
      "source": [
        "p == Point(1, 2)"
      ]
    },
    {
      "cell_type": "markdown",
      "id": "9bcf275a",
      "metadata": {
        "id": "9bcf275a"
      },
      "source": [
        "Você pode acessar os elementos de uma tupla nomeada pelo nome ou pelo índice:"
      ]
    },
    {
      "cell_type": "code",
      "execution_count": null,
      "id": "f59e85f4",
      "metadata": {
        "id": "f59e85f4"
      },
      "outputs": [],
      "source": [
        "p.x, p.y"
      ]
    },
    {
      "cell_type": "code",
      "execution_count": null,
      "id": "742795a9",
      "metadata": {
        "id": "742795a9"
      },
      "outputs": [],
      "source": [
        "p[0], p[1]"
      ]
    },
    {
      "cell_type": "markdown",
      "id": "0768ff41",
      "metadata": {
        "id": "0768ff41"
      },
      "source": [
        "Você também pode tratar uma tupla nomeada como uma tupla, como nesta tarefa:"
      ]
    },
    {
      "cell_type": "code",
      "execution_count": null,
      "id": "df42d98a",
      "metadata": {
        "id": "df42d98a"
      },
      "outputs": [],
      "source": [
        "x, y = p\n",
        "x, y"
      ]
    },
    {
      "cell_type": "markdown",
      "id": "964aa3bd",
      "metadata": {
        "id": "964aa3bd"
      },
      "source": [
        "Mas objetos `namedtuple` são imutáveis.\n",
        "Após os atributos serem inicializados, eles não podem ser alterados:"
      ]
    },
    {
      "cell_type": "code",
      "execution_count": null,
      "id": "e61693ba",
      "metadata": {
        "tags": [],
        "id": "e61693ba"
      },
      "outputs": [],
      "source": [
        "%%expect TypeError\n",
        "\n",
        "p[0] = 3"
      ]
    },
    {
      "cell_type": "code",
      "execution_count": null,
      "id": "871dafae",
      "metadata": {
        "tags": [],
        "id": "871dafae"
      },
      "outputs": [],
      "source": [
        "%%expect AttributeError\n",
        "\n",
        "p.x = 3"
      ]
    },
    {
      "cell_type": "markdown",
      "id": "f2db7783",
      "metadata": {
        "id": "f2db7783"
      },
      "source": [
        "`namedtuple` fornece uma maneira rápida de definir classes simples.\n",
        "A desvantagem é que classes simples nem sempre permanecem simples.\n",
        "Você pode decidir mais tarde que deseja adicionar métodos a uma tupla nomeada.\n",
        "Nesse caso, você pode definir uma nova classe que herda da tupla nomeada:"
      ]
    },
    {
      "cell_type": "code",
      "execution_count": null,
      "id": "586d8c51",
      "metadata": {
        "id": "586d8c51"
      },
      "outputs": [],
      "source": [
        "class Pointier(Point):\n",
        "    \"\"\"Esta classe herda de Point\"\"\""
      ]
    },
    {
      "cell_type": "markdown",
      "id": "805475ce",
      "metadata": {
        "id": "805475ce"
      },
      "source": [
        "Ou nesse ponto você pode mudar para uma definição de classe convencional."
      ]
    },
    {
      "cell_type": "markdown",
      "id": "4f3713a0",
      "metadata": {
        "id": "4f3713a0"
      },
      "source": [
        "## Empacotando argumentos de palavras-chave\n",
        "\n",
        "No [Capítulo 11](https://colab.research.google.com/github/rodrigocarlson/PensePython3ed/blob/main/capitulos/chap11.ipynb), escrevemos uma função que empacota seus argumentos em uma tupla:"
      ]
    },
    {
      "cell_type": "code",
      "execution_count": null,
      "id": "6de26a32",
      "metadata": {
        "id": "6de26a32"
      },
      "outputs": [],
      "source": [
        "def mean(*args):\n",
        "    return sum(args) / len(args)"
      ]
    },
    {
      "cell_type": "markdown",
      "id": "71e3b049",
      "metadata": {
        "id": "71e3b049"
      },
      "source": [
        "Você pode chamar esta função com qualquer número de argumentos:"
      ]
    },
    {
      "cell_type": "code",
      "execution_count": null,
      "id": "ecb6a9fa",
      "metadata": {
        "id": "ecb6a9fa"
      },
      "outputs": [],
      "source": [
        "mean(1, 2, 3)"
      ]
    },
    {
      "cell_type": "markdown",
      "id": "486a690f",
      "metadata": {
        "id": "486a690f"
      },
      "source": [
        "Mas o operador `*` não empacota argumentos de palavra-chave.\n",
        "Então, chamar essa função com um argumento de palavra-chave causa um erro:"
      ]
    },
    {
      "cell_type": "code",
      "execution_count": null,
      "id": "5871229d",
      "metadata": {
        "tags": [],
        "id": "5871229d"
      },
      "outputs": [],
      "source": [
        "%%expect TypeError\n",
        "\n",
        "mean(1, 2, start=3)"
      ]
    },
    {
      "cell_type": "markdown",
      "id": "eb7f9281",
      "metadata": {
        "id": "eb7f9281"
      },
      "source": [
        "Para empacotar argumentos de palavras-chave, podemos usar o operador `**`:"
      ]
    },
    {
      "cell_type": "code",
      "execution_count": null,
      "id": "b274db6a",
      "metadata": {
        "id": "b274db6a"
      },
      "outputs": [],
      "source": [
        "def mean(*args, **kwargs):\n",
        "    print(kwargs)\n",
        "    return sum(args) / len(args)"
      ]
    },
    {
      "cell_type": "markdown",
      "id": "067bf7c4",
      "metadata": {
        "id": "067bf7c4"
      },
      "source": [
        "O parâmetro *keyword-packing* pode ter qualquer nome, mas `kwargs` é uma escolha comum.\n",
        "O resultado é um dicionário que mapeia palavras-chave para valores:"
      ]
    },
    {
      "cell_type": "code",
      "execution_count": null,
      "id": "3a1b131c",
      "metadata": {
        "id": "3a1b131c"
      },
      "outputs": [],
      "source": [
        "mean(1, 2, start=3)"
      ]
    },
    {
      "cell_type": "markdown",
      "id": "07be77f3",
      "metadata": {
        "id": "07be77f3"
      },
      "source": [
        "Neste exemplo, o valor de `kwargs` é exibido, mas de outra forma não tem efeito.\n",
        "\n",
        "Mas o operador `**` também pode ser usado em uma lista de argumentos para desempacotar um dicionário.\n",
        "Por exemplo, aqui está uma versão de `mean` que empacota quaisquer argumentos de palavra-chave que obtém e, em seguida, os desempacota como argumentos de palavra-chave para `sum`:"
      ]
    },
    {
      "cell_type": "code",
      "execution_count": null,
      "id": "a0305500",
      "metadata": {
        "id": "a0305500"
      },
      "outputs": [],
      "source": [
        "def mean(*args, **kwargs):\n",
        "    return sum(args, **kwargs) / len(args)"
      ]
    },
    {
      "cell_type": "markdown",
      "id": "ba00858c",
      "metadata": {
        "id": "ba00858c"
      },
      "source": [
        "Agora, se chamarmos `mean` com `start` como argumento de palavra-chave, ele será passado para a soma, que o usa como ponto de partida da soma.\n",
        "No exemplo a seguir, `start=3` adiciona `3` à soma antes de calcular a média, então a soma é `6` e o resultado é `3`:"
      ]
    },
    {
      "cell_type": "code",
      "execution_count": null,
      "id": "457d5610",
      "metadata": {
        "id": "457d5610"
      },
      "outputs": [],
      "source": [
        "mean(1, 2, start=3)"
      ]
    },
    {
      "cell_type": "markdown",
      "id": "949a2ca3",
      "metadata": {
        "id": "949a2ca3"
      },
      "source": [
        "Como outro exemplo, se tivermos um dicionário com chaves `x` e `y`, podemos usá-lo com o operador de desempacotamento para criar um objeto `Point`:"
      ]
    },
    {
      "cell_type": "code",
      "execution_count": null,
      "id": "020c1243",
      "metadata": {
        "id": "020c1243"
      },
      "outputs": [],
      "source": [
        "d = dict(x=1, y=2)\n",
        "Point(**d)"
      ]
    },
    {
      "cell_type": "markdown",
      "id": "8aaf128a",
      "metadata": {
        "id": "8aaf128a"
      },
      "source": [
        "Sem o operador unpack, `d` é tratado como um único argumento posicional, então ele é atribuído a `x`, e obtemos um `TypeError` porque não há um segundo argumento para atribuir a `y`:"
      ]
    },
    {
      "cell_type": "code",
      "execution_count": null,
      "id": "ba91298b",
      "metadata": {
        "tags": [],
        "id": "ba91298b"
      },
      "outputs": [],
      "source": [
        "%%expect TypeError\n",
        "\n",
        "d = dict(x=1, y=2)\n",
        "Point(d)"
      ]
    },
    {
      "cell_type": "markdown",
      "id": "e8acb958",
      "metadata": {
        "id": "e8acb958"
      },
      "source": [
        "When you are working with functions that have a large number of keyword arguments, it is often useful to create and pass around dictionaries that specify frequently used options.\n",
        "\n",
        "Ao trabalhar com funções que têm um grande número de argumentos de palavras-chave, geralmente é útil criar e passar adiante dicionários que especifiquem opções usadas com frequência:"
      ]
    },
    {
      "cell_type": "code",
      "execution_count": null,
      "id": "1b36b5ed",
      "metadata": {
        "id": "1b36b5ed"
      },
      "outputs": [],
      "source": [
        "def pack_and_print(**kwargs):\n",
        "    print(kwargs)\n",
        "\n",
        "pack_and_print(a=1, b=2)"
      ]
    },
    {
      "cell_type": "markdown",
      "id": "e046e382",
      "metadata": {
        "id": "e046e382"
      },
      "source": [
        "For example, here's a function called `add` that takes two numbers and returns their sum.\n",
        "In includes a doctest that checks whether `2 + 2` is `4`.\n",
        "\n",
        "## Depuração\n",
        "\n",
        "Nos capítulos anteriores, usamos `doctest` para testar funções.\n",
        "Por exemplo, aqui está uma função chamada `add` que recebe dois números e devolve sua soma.\n",
        "Incluí um doctest que verifica se `2 + 2` é `4`:"
      ]
    },
    {
      "cell_type": "code",
      "execution_count": null,
      "id": "e1366e43",
      "metadata": {
        "id": "e1366e43"
      },
      "outputs": [],
      "source": [
        "def add(a, b):\n",
        "    '''Adiciona dois números.\n",
        "\n",
        "    >>> add(2, 2)\n",
        "    4\n",
        "    '''\n",
        "    return a + b"
      ]
    },
    {
      "cell_type": "markdown",
      "id": "a5e332d3",
      "metadata": {
        "id": "a5e332d3"
      },
      "source": [
        "Esta função recebe um objeto função e executa seus doctests:"
      ]
    },
    {
      "cell_type": "code",
      "execution_count": null,
      "id": "13802dc4",
      "metadata": {
        "id": "13802dc4"
      },
      "outputs": [],
      "source": [
        "from doctest import run_docstring_examples\n",
        "\n",
        "def run_doctests(func):\n",
        "    run_docstring_examples(func, globals(), name=func.__name__)"
      ]
    },
    {
      "cell_type": "markdown",
      "id": "2d752a40",
      "metadata": {
        "id": "2d752a40"
      },
      "source": [
        "Então podemos testar `add` assim:"
      ]
    },
    {
      "cell_type": "code",
      "execution_count": null,
      "id": "2136083a",
      "metadata": {
        "id": "2136083a"
      },
      "outputs": [],
      "source": [
        "run_doctests(add)"
      ]
    },
    {
      "cell_type": "markdown",
      "id": "77d36e9b",
      "metadata": {
        "id": "77d36e9b"
      },
      "source": [
        "Não há saída, o que significa que todos os testes passaram.\n",
        "\n",
        "O Python fornece outra ferramenta para executar testes automatizados, chamada `unittest`.\n",
        "É um pouco mais complicado de usar, mas aqui está um exemplo:"
      ]
    },
    {
      "cell_type": "code",
      "execution_count": null,
      "id": "d6bc8bae",
      "metadata": {
        "id": "d6bc8bae"
      },
      "outputs": [],
      "source": [
        "from unittest import TestCase\n",
        "\n",
        "class TestExample(TestCase):\n",
        "\n",
        "    def test_add(self):\n",
        "        result = add(2, 2)\n",
        "        self.assertEqual(result, 4)"
      ]
    },
    {
      "cell_type": "markdown",
      "id": "59b4212a",
      "metadata": {
        "id": "59b4212a"
      },
      "source": [
        "Primeiro importamos `TestCase`, que é uma classe no módulo `unittest`.\n",
        "Para usá-lo, temos que definir uma nova classe que herda de `TestCase` e ​​fornece pelo menos um método de teste.\n",
        "O nome do método de teste deve começar com `test` e deve indicar qual função ele testa.\n",
        "\n",
        "Neste exemplo, `test_add` testa a função `add` chamando-a, salvando o resultado e invocando `assertEqual`, que é herdado de `TestCase`.\n",
        "`assertEqual` recebe dois argumentos e verifica se eles são iguais.\n",
        "\n",
        "Para executar este método de teste, temos que executar uma função em `unittest` chamada `main` e fornecer vários argumentos de palavra-chave.\n",
        "A função a seguir mostra os detalhes -- se você estiver curioso, pode pedir a um assistente virtual para explicar como funciona:"
      ]
    },
    {
      "cell_type": "code",
      "execution_count": null,
      "id": "96587ab7",
      "metadata": {
        "id": "96587ab7"
      },
      "outputs": [],
      "source": [
        "import unittest\n",
        "\n",
        "def run_unittest():\n",
        "    unittest.main(argv=[''], verbosity=0, exit=False)"
      ]
    },
    {
      "cell_type": "markdown",
      "id": "5409ea0c",
      "metadata": {
        "id": "5409ea0c"
      },
      "source": [
        "`run_unittest` não recebe `TestExample` como argumento -- em vez disso, ele procura por classes que herdam de `TestCase`.\n",
        "Então ele procura por métodos que começam com `test` e os executa.\n",
        "Esse processo é chamado de **descoberta de teste**.\n",
        "\n",
        "Aqui está o que acontece quando chamamos `run_unittest`:"
      ]
    },
    {
      "cell_type": "code",
      "execution_count": null,
      "id": "d3db5642",
      "metadata": {
        "id": "d3db5642"
      },
      "outputs": [],
      "source": [
        "run_unittest()"
      ]
    },
    {
      "cell_type": "markdown",
      "id": "7775304a",
      "metadata": {
        "id": "7775304a"
      },
      "source": [
        "`unittest.main` fornece o número de testes executados e os resultados.\n",
        "Neste caso, `OK` indica que os testes passaram.\n",
        "\n",
        "Para ver o que acontece quando um teste falha, adicionaremos um método de teste incorreto a `TestExample`:"
      ]
    },
    {
      "cell_type": "code",
      "execution_count": null,
      "id": "e5320931",
      "metadata": {
        "id": "e5320931"
      },
      "outputs": [],
      "source": [
        "%%add_method_to TestExample\n",
        "\n",
        "    def test_add_broken(self):\n",
        "        result = add(2, 2)\n",
        "        self.assertEqual(result, 100)"
      ]
    },
    {
      "cell_type": "markdown",
      "id": "96810614",
      "metadata": {
        "id": "96810614"
      },
      "source": [
        "Veja o que acontece quando executamos os testes:"
      ]
    },
    {
      "cell_type": "code",
      "execution_count": null,
      "id": "c8d4fa4a",
      "metadata": {
        "id": "c8d4fa4a"
      },
      "outputs": [],
      "source": [
        "run_unittest()"
      ]
    },
    {
      "cell_type": "markdown",
      "id": "64b743cb",
      "metadata": {
        "id": "64b743cb"
      },
      "source": [
        "O relatório inclui o método de teste que falhou e uma mensagem de erro mostrando onde.\n",
        "O resumo indica que dois testes foram executados e um falhou.\n",
        "\n",
        "Nos exercícios abaixo, sugerirei alguns *prompts* que você pode usar para pedir a um assistente virtual mais informações sobre `unittest`."
      ]
    },
    {
      "cell_type": "markdown",
      "id": "7d0fb256",
      "metadata": {
        "id": "7d0fb256"
      },
      "source": [
        "## Glossário\n",
        "\n",
        "**fábrica** (*factory*)****\n",
        "Uma função usada para criar objetos, geralmente passada como um parâmetro para uma função.\n",
        "\n",
        "**expressão condicional** (*conditional expression*)**:**\n",
        "Uma expressão que usa uma condicional para selecionar um de dois valores.\n",
        "\n",
        "**abrangência de lista** (*list comprehension*)**:**\n",
        "Uma maneira concisa de percorrer uma sequência e criar uma lista.\n",
        "\n",
        "**expressãp geradora** (*generator expression*)**:**\n",
        "Semelhante a uma abrangência de lista, exceto que não cria uma lista.\n",
        "\n",
        "**test discovery** (*test discovery*)**:**\n",
        "Um processo usado para encontrar e executar testes."
      ]
    },
    {
      "cell_type": "markdown",
      "id": "bc03f15d",
      "metadata": {
        "id": "bc03f15d"
      },
      "source": [
        "## Exercícios"
      ]
    },
    {
      "cell_type": "code",
      "execution_count": null,
      "id": "5029c76d",
      "metadata": {
        "tags": [],
        "id": "5029c76d"
      },
      "outputs": [],
      "source": [
        "# Esta célula diz ao Jupyter para fornecer informações detalhadas de depuração\n",
        "# quando ocorre um erro de tempo de execução. Execute-a antes de trabalhar nos\n",
        "# exercícios.\n",
        "\n",
        "%xmode Verbose"
      ]
    },
    {
      "cell_type": "markdown",
      "id": "fe10415e",
      "metadata": {
        "id": "fe10415e"
      },
      "source": [
        "### Pergunte a um assistente virtual\n",
        "\n",
        "Há alguns tópicos neste capítulo que você pode querer aprender.\n",
        "Aqui estão algumas perguntas para fazer a um assistente virtual.\n",
        "\n",
        "* \"Quais são os métodos e operadores da classe set do Python?\" (\"*What are the methods and operators of Python's set class?*\")\n",
        "\n",
        "* \"Quais são os métodos e operadores da classe Counter do Python?\" (\"*What are the methods and operators of Python's Counter class?*\")\n",
        "\n",
        "* \"Qual é a diferença entre uma abrangência de lista do Python e uma expressão geradora?\" (\"*What is the difference between a Python list comprehension and a generator expression?*\")\n",
        "\n",
        "* \"Quando devo usar `namedtuple` do Python em vez de definir uma nova classe?\" (\"*When should I use Python's `namedtuple` rather than define a new class?*\")\n",
        "\n",
        "* \"Quais são alguns usos de empacotamento e desempacotamento de argumentos de palavras-chave ?\" (\"*What are some uses of packing and unpacking keyword arguments?\")\n",
        "\n",
        "* \"Como `unittest` faz a descoberta de testes?\" (\"*How does `unittest` do test discovery?*\")\n",
        "\n",
        "* \"Junto com `assertEqual`, quais são os métodos mais comumente usados ​​em `unittest.TestCase`?\" (\"*Along with `assertEqual`, what are the most commonly used methods in `unittest.TestCase`?*\")\n",
        "\n",
        "* \"Quais são os prós e contras de `doctest` e `unittest`?\" (\"*What are the pros and cons of `doctest` and `unittest`?*\")\n",
        "\n",
        "Para os exercícios a seguir, considere pedir ajuda a um assistente virtual, mas, como sempre, lembre-se de testar os resultados."
      ]
    },
    {
      "cell_type": "markdown",
      "id": "c61ecde2",
      "metadata": {
        "id": "c61ecde2"
      },
      "source": [
        "One of the exercises in Chapter 7 asks for a function called `uses_none` that takes a word and a string of forbidden letters, and returns `True` if the word does not use any of the letters. Here's a solution.\n",
        "\n",
        "### Exercício\n",
        "\n",
        "Um dos exercícios no Capítulo 7 pede uma função chamada `uses_none` que recebe uma palavra e uma *string* de letras proibidas e devolve `True` se a palavra não usa nenhuma das letras. Aqui está uma solução:"
      ]
    },
    {
      "cell_type": "code",
      "execution_count": null,
      "id": "f75b48e0",
      "metadata": {
        "id": "f75b48e0"
      },
      "outputs": [],
      "source": [
        "def uses_none(word, forbidden):\n",
        "    for letter in word.lower():\n",
        "        if letter in forbidden.lower():\n",
        "            return False\n",
        "    return True"
      ]
    },
    {
      "cell_type": "markdown",
      "id": "b558b8b3",
      "metadata": {
        "id": "b558b8b3"
      },
      "source": [
        "Escreva uma versão desta função que use operações `set` em vez de um laço `for`.\n",
        "Dica: pergunte a um assistente virtual \"Como eu calculo a interseção de conjuntos Python?\""
      ]
    },
    {
      "cell_type": "markdown",
      "id": "e97dfead",
      "metadata": {
        "tags": [],
        "id": "e97dfead"
      },
      "source": [
        "Você pode usar este esboço para começar:"
      ]
    },
    {
      "cell_type": "code",
      "execution_count": null,
      "id": "2024d4c6",
      "metadata": {
        "tags": [],
        "id": "2024d4c6"
      },
      "outputs": [],
      "source": [
        "def uses_none(word, forbidden):\n",
        "    \"\"\"Verifica se uma palavra evita letras proibidas.\n",
        "\n",
        "    >>> uses_none('banana', 'xyz')\n",
        "    True\n",
        "    >>> uses_none('apple', 'efg')\n",
        "    False\n",
        "    >>> uses_none('', 'abc')\n",
        "    True\n",
        "    \"\"\"\n",
        "    return False"
      ]
    },
    {
      "cell_type": "code",
      "execution_count": null,
      "id": "46a13618",
      "metadata": {
        "id": "46a13618"
      },
      "outputs": [],
      "source": [
        "# A solução vai aqui"
      ]
    },
    {
      "cell_type": "code",
      "execution_count": null,
      "id": "160a29b3",
      "metadata": {
        "tags": [],
        "id": "160a29b3"
      },
      "outputs": [],
      "source": [
        "from doctest import run_docstring_examples\n",
        "\n",
        "def run_doctests(func):\n",
        "    run_docstring_examples(func, globals(), name=func.__name__)"
      ]
    },
    {
      "cell_type": "code",
      "execution_count": null,
      "id": "8db988e6",
      "metadata": {
        "tags": [],
        "id": "8db988e6"
      },
      "outputs": [],
      "source": [
        "run_doctests(uses_none)"
      ]
    },
    {
      "cell_type": "markdown",
      "id": "d2d670cf",
      "metadata": {
        "id": "d2d670cf"
      },
      "source": [
        "### Exercício\n",
        "\n",
        "Scrabble é um jogo de tabuleiro cujo objetivo é usar peças de letras para formar palavras.\n",
        "Por exemplo, se tivermos peças com as letras `T`, `A`, `B`, `L`, `E`, podemos soletrar `BELT` e `LATE` usando um subconjunto das peças -- mas não podemos soletrar `BEET` porque não temos dois `E`s.\n",
        "\n",
        "Escreva uma função que recebe uma *string* de letras e uma palavra e verifica se as letras podem formar a palavra, levando em consideração quantas vezes cada letra aparece:"
      ]
    },
    {
      "cell_type": "markdown",
      "id": "091919bd",
      "metadata": {
        "tags": [],
        "id": "091919bd"
      },
      "source": [
        "Você pode usar o seguinte esboço para começar:"
      ]
    },
    {
      "cell_type": "code",
      "execution_count": null,
      "id": "b3c2c475",
      "metadata": {
        "tags": [],
        "id": "b3c2c475"
      },
      "outputs": [],
      "source": [
        "def can_spell(letters, word):\n",
        "    \"\"\"Verifica se as letras formam a palavra.\n",
        "\n",
        "    >>> can_spell('table', 'belt')\n",
        "    True\n",
        "    >>> can_spell('table', 'late')\n",
        "    True\n",
        "    >>> can_spell('table', 'beet')\n",
        "    False\n",
        "    \"\"\"\n",
        "    return False"
      ]
    },
    {
      "cell_type": "code",
      "execution_count": null,
      "id": "a67768c0",
      "metadata": {
        "id": "a67768c0"
      },
      "outputs": [],
      "source": [
        "# A solução vai aqui"
      ]
    },
    {
      "cell_type": "code",
      "execution_count": null,
      "id": "7900d2ed",
      "metadata": {
        "tags": [],
        "id": "7900d2ed"
      },
      "outputs": [],
      "source": [
        "run_doctests(can_spell)"
      ]
    },
    {
      "cell_type": "markdown",
      "id": "de2dc099",
      "metadata": {
        "id": "de2dc099"
      },
      "source": [
        "### Exercício\n",
        "\n",
        "Em um dos exercícios do [Capítulo 17](https://colab.research.google.com/github/rodrigocarlson/PensePython3ed/blob/main/capitulos/chap17.ipynb), minha solução para `has_straightflush` usa o seguinte método, que particiona uma `PokerHand` em uma lista de quatro mãos, em que cada mão contém cartas do mesmo naipe:"
      ]
    },
    {
      "cell_type": "code",
      "execution_count": null,
      "id": "661f1635",
      "metadata": {
        "id": "661f1635"
      },
      "outputs": [],
      "source": [
        "    def partition(self):\n",
        "        \"\"\"Faça uma lista de quatro mãos, cada uma contendo apenas um naipe.\"\"\"\n",
        "        hands = []\n",
        "        for i in range(4):\n",
        "            hands.append(PokerHand())\n",
        "\n",
        "        for card in self.cards:\n",
        "            hands[card.suit].add_card(card)\n",
        "\n",
        "        return hands"
      ]
    },
    {
      "cell_type": "markdown",
      "id": "cd04a7a3",
      "metadata": {
        "id": "cd04a7a3"
      },
      "source": [
        "Escreva uma versão simplificada desta função usando um `defaultdict`."
      ]
    },
    {
      "cell_type": "markdown",
      "id": "c236c5c7",
      "metadata": {
        "tags": [],
        "id": "c236c5c7"
      },
      "source": [
        "Aqui está um esboço da classe `PokerHand` e da função `partition_suits` que você pode usar para começar:"
      ]
    },
    {
      "cell_type": "code",
      "execution_count": null,
      "id": "b9cf2e47",
      "metadata": {
        "tags": [],
        "id": "b9cf2e47"
      },
      "outputs": [],
      "source": [
        "class PokerHand(Hand):\n",
        "\n",
        "    def partition(self):\n",
        "        return {}"
      ]
    },
    {
      "cell_type": "code",
      "execution_count": null,
      "id": "33f15964",
      "metadata": {
        "id": "33f15964"
      },
      "outputs": [],
      "source": [
        "# A solução vai aqui"
      ]
    },
    {
      "cell_type": "markdown",
      "id": "9b176e67",
      "metadata": {
        "tags": [],
        "id": "9b176e67"
      },
      "source": [
        "Para testar seu código, faremos um baralho e o embaralharemos:"
      ]
    },
    {
      "cell_type": "code",
      "execution_count": null,
      "id": "339f912a",
      "metadata": {
        "tags": [],
        "id": "339f912a"
      },
      "outputs": [],
      "source": [
        "cards = Deck.make_cards()\n",
        "deck = Deck(cards)\n",
        "deck.shuffle()"
      ]
    },
    {
      "cell_type": "markdown",
      "id": "d253e3ad",
      "metadata": {
        "tags": [],
        "id": "d253e3ad"
      },
      "source": [
        "Então crie uma `PokerHand` e adicione sete cartas a ela:"
      ]
    },
    {
      "cell_type": "code",
      "execution_count": null,
      "id": "b4efde58",
      "metadata": {
        "tags": [],
        "id": "b4efde58"
      },
      "outputs": [],
      "source": [
        "random_hand = PokerHand('random')\n",
        "\n",
        "for i in range(7):\n",
        "    card = deck.pop_card()\n",
        "    random_hand.add_card(card)\n",
        "\n",
        "print(random_hand)"
      ]
    },
    {
      "cell_type": "markdown",
      "id": "a714e145",
      "metadata": {
        "tags": [],
        "id": "a714e145"
      },
      "source": [
        "Se você invocar `partition` e exibir os resultados, cada mão deverá conter cartas de apenas um naipe:"
      ]
    },
    {
      "cell_type": "code",
      "execution_count": null,
      "id": "bfddf015",
      "metadata": {
        "tags": [],
        "id": "bfddf015"
      },
      "outputs": [],
      "source": [
        "hand_dict = random_hand.partition()\n",
        "\n",
        "for hand in hand_dict.values():\n",
        "    print(hand)\n",
        "    print()"
      ]
    },
    {
      "cell_type": "markdown",
      "id": "218798e3",
      "metadata": {
        "id": "218798e3"
      },
      "source": [
        "### Exercício\n",
        "\n",
        "Aqui está a função do Capítulo 11 que calcula os números de Fibonacci:"
      ]
    },
    {
      "cell_type": "code",
      "execution_count": null,
      "id": "f854f6d5",
      "metadata": {
        "id": "f854f6d5"
      },
      "outputs": [],
      "source": [
        "def fibonacci(n):\n",
        "    if n == 0:\n",
        "        return 0\n",
        "\n",
        "    if n == 1:\n",
        "        return 1\n",
        "\n",
        "    return fibonacci(n-1) + fibonacci(n-2)"
      ]
    },
    {
      "cell_type": "markdown",
      "id": "6acab624",
      "metadata": {
        "id": "6acab624"
      },
      "source": [
        "Escreva uma versão desta função com uma única instrução `return` que use duas expressões condicionais, uma aninhada dentro da outra."
      ]
    },
    {
      "cell_type": "code",
      "execution_count": null,
      "id": "4efa9382",
      "metadata": {
        "id": "4efa9382"
      },
      "outputs": [],
      "source": [
        "# A solução vai aqui"
      ]
    },
    {
      "cell_type": "code",
      "execution_count": null,
      "id": "6440d14b",
      "metadata": {
        "tags": [],
        "id": "6440d14b"
      },
      "outputs": [],
      "source": [
        "fibonacci(10)    # deve ser 55"
      ]
    },
    {
      "cell_type": "code",
      "execution_count": null,
      "id": "3b9d5bac",
      "metadata": {
        "tags": [],
        "id": "3b9d5bac"
      },
      "outputs": [],
      "source": [
        "fibonacci(20)    # deve ser 6765"
      ]
    },
    {
      "cell_type": "markdown",
      "id": "2deb0e1f",
      "metadata": {
        "id": "2deb0e1f"
      },
      "source": [
        "### Exercício\n",
        "A seguir está uma função que calcula o coeficiente binomial\n",
        "recursivamente:"
      ]
    },
    {
      "cell_type": "code",
      "execution_count": null,
      "id": "9a9e43fa",
      "metadata": {
        "id": "9a9e43fa"
      },
      "outputs": [],
      "source": [
        "def binomial_coeff(n, k):\n",
        "    \"\"\"Calcule o coeficiente binomial \"n escolhea k\".\n",
        "\n",
        "    n: número de tentativas\n",
        "    k: número de sucessos\n",
        "\n",
        "    returns: int\n",
        "    \"\"\"\n",
        "    if k == 0:\n",
        "        return 1\n",
        "\n",
        "    if n == 0:\n",
        "        return 0\n",
        "\n",
        "    return binomial_coeff(n-1, k) + binomial_coeff(n-1, k-1)"
      ]
    },
    {
      "cell_type": "markdown",
      "id": "656c61f6",
      "metadata": {
        "id": "656c61f6"
      },
      "source": [
        "Reescreva o corpo da função usando expressões condicionais aninhadas.\n",
        "\n",
        "Esta função não é muito eficiente porque acaba computando os mesmos valores repetidamente.\n",
        "Torne-a mais eficiente usando memoização, conforme descrito no [Capítulo 10](https://colab.research.google.com/github/rodrigocarlson/PensePython3ed/blob/main/capitulos/chap10.ipynb)."
      ]
    },
    {
      "cell_type": "code",
      "execution_count": null,
      "id": "07226bce",
      "metadata": {
        "id": "07226bce"
      },
      "outputs": [],
      "source": [
        "# A solução vai aqui"
      ]
    },
    {
      "cell_type": "code",
      "execution_count": null,
      "id": "1e3b8009",
      "metadata": {
        "id": "1e3b8009"
      },
      "outputs": [],
      "source": [
        "binomial_coeff(10, 4)    # deve ser 210"
      ]
    },
    {
      "cell_type": "markdown",
      "id": "921719dc",
      "metadata": {
        "id": "921719dc"
      },
      "source": [
        "### Exercício\n",
        "\n",
        "Aqui está o método `__str__` da classe `Deck` no [Capítulo 17](https://colab.research.google.com/github/rodrigocarlson/PensePython3ed/blob/main/capitulos/chap17.ipynb):"
      ]
    },
    {
      "cell_type": "code",
      "execution_count": null,
      "id": "4fd0793d",
      "metadata": {
        "id": "4fd0793d"
      },
      "outputs": [],
      "source": [
        "%%add_method_to Deck\n",
        "\n",
        "    def __str__(self):\n",
        "        res = []\n",
        "        for card in self.cards:\n",
        "            res.append(str(card))\n",
        "        return '\\n'.join(res)"
      ]
    },
    {
      "cell_type": "markdown",
      "id": "27f189cf",
      "metadata": {
        "id": "27f189cf"
      },
      "source": [
        "Escreva uma versão mais concisa deste método com uma abrangência de lista ou expressão geradora:"
      ]
    },
    {
      "cell_type": "code",
      "execution_count": null,
      "id": "2aa7da71",
      "metadata": {
        "tags": [],
        "id": "2aa7da71"
      },
      "outputs": [],
      "source": [
        "# A solução vai aqui"
      ]
    },
    {
      "cell_type": "markdown",
      "id": "25525582",
      "metadata": {
        "tags": [],
        "id": "25525582"
      },
      "source": [
        "Você pode usar este exemplo para testar sua solução:"
      ]
    },
    {
      "cell_type": "code",
      "execution_count": null,
      "id": "cd8bb7d2",
      "metadata": {
        "tags": [],
        "id": "cd8bb7d2"
      },
      "outputs": [],
      "source": [
        "cards = Deck.make_cards()\n",
        "deck = Deck(cards)\n",
        "print(deck)"
      ]
    },
    {
      "cell_type": "code",
      "execution_count": null,
      "id": "16ce7d9f",
      "metadata": {
        "id": "16ce7d9f"
      },
      "outputs": [],
      "source": []
    },
    {
      "cell_type": "markdown",
      "id": "a7f4edf8",
      "metadata": {
        "tags": [],
        "id": "a7f4edf8"
      },
      "source": [
        "[Pense Python: 3ª Edição](https://rodrigocarlson.github.io/PensePython3ed/)\n",
        "\n",
        "Copyright 2024 [Allen B. Downey](https://allendowney.com/) (versão original)\n",
        "\n",
        "Copyright 2025 [Rodrigo Castelan Carlson](https://rodrigocarlson.paginas.ufsc.br/) (desta versão)\n",
        "\n",
        "Foram preservadas as mesmas licenças da versão original.\n",
        "\n",
        "Licença dos códigos: [MIT License](https://mit-license.org/)\n",
        "\n",
        "Licença dos textos: [Creative Commons Attribution-NonCommercial-ShareAlike 4.0 International](https://creativecommons.org/licenses/by-nc-sa/4.0/)"
      ]
    }
  ],
  "metadata": {
    "celltoolbar": "Tags",
    "kernelspec": {
      "display_name": "Python 3 (ipykernel)",
      "language": "python",
      "name": "python3"
    },
    "language_info": {
      "codemirror_mode": {
        "name": "ipython",
        "version": 3
      },
      "file_extension": ".py",
      "mimetype": "text/x-python",
      "name": "python",
      "nbconvert_exporter": "python",
      "pygments_lexer": "ipython3",
      "version": "3.10.11"
    },
    "colab": {
      "provenance": []
    }
  },
  "nbformat": 4,
  "nbformat_minor": 5
}