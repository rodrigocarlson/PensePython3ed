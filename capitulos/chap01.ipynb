{
  "cells": [
    {
      "cell_type": "markdown",
      "id": "1331faa1",
      "metadata": {
        "id": "1331faa1"
      },
      "source": [
        "Você pode adquirir versões impressas e de e-book do *Think Python 3e* (em inglês) em\n",
        "[Bookshop.org](https://bookshop.org/a/98697/9781098155438) e\n",
        "[Amazon](https://www.amazon.com/_/dp/1098155432?smid=ATVPDKIKX0DER&_encoding=UTF8&tag=oreilly20-20&_encoding=UTF8&tag=greenteapre01-20&linkCode=ur2&linkId=e2a529f94920295d27ec8a06e757dc7c&camp=1789&creative=9325).\n",
        "\n",
        "Uma versão em língua portuguesa da 3ª edição foi publicada pela editora [Novatec](https://novatec.com.br/livros/pense-em-python-3ed/)."
      ]
    },
    {
      "cell_type": "markdown",
      "id": "a14edb7e",
      "metadata": {
        "tags": [],
        "id": "a14edb7e"
      },
      "source": [
        "# Bem-vindo\n",
        "\n",
        "Este é o *notebook* Jupyter para o Capítulo 1 de [*Pense Python*, 3ª edição](https://rodrigocarlson.github.io/PensePython3ed/), por Allen B. Downey e traduzido por Rodrigo Castelan Carlson.\n",
        "\n",
        "Se você não estiver familiarizado com os notebooks Jupyter,\n",
        "[clique aqui para uma breve introdução](https://colab.research.google.com/github/rodrigocarlson/PensePython3ed/blob/main/capitulos/jupyter_intro.ipynb).\n",
        "\n",
        "E, se você ainda não estiver executando este notebook no Colab, [clique aqui para executar este notebook no Colab](https://colab.research.google.com/github/rodrigocarlson/PensePython3ed/blob/main/capitulos/chap01.ipynb)."
      ]
    },
    {
      "cell_type": "markdown",
      "id": "3b4a1f57",
      "metadata": {
        "tags": [],
        "id": "3b4a1f57"
      },
      "source": [
        "A célula a seguir baixa um arquivo e executa um código que é usado especificamente para este livro.\n",
        "Você não precisa entender este código ainda, mas deve executá-lo antes de fazer qualquer outra coisa neste *notebook*.\n",
        "Lembre-se de que você pode executar o código selecionando a célula e pressionando o botão *play* (um triângulo em um círculo) ou mantendo pressionado `Shift` e pressionando `Enter`."
      ]
    },
    {
      "cell_type": "code",
      "execution_count": null,
      "id": "213f9d96",
      "metadata": {
        "tags": [],
        "id": "213f9d96"
      },
      "outputs": [],
      "source": [
        "from os.path import basename, exists\n",
        "\n",
        "def download(url):\n",
        "    filename = basename(url)\n",
        "    if not exists(filename):\n",
        "        from urllib.request import urlretrieve\n",
        "\n",
        "        local, _ = urlretrieve(url, filename)\n",
        "        print(\"Downloaded \" + str(local))\n",
        "    return filename\n",
        "\n",
        "download('https://github.com/AllenDowney/ThinkPython/raw/v3/thinkpython.py');\n",
        "\n",
        "import thinkpython"
      ]
    },
    {
      "cell_type": "markdown",
      "source": [
        "NOTA DO TRADUTOR: as *strings* e nomes de variáveis em inglês presentes nos códigos apresentados no livro não foram traduzidos para o português, apenas os comentários."
      ],
      "metadata": {
        "id": "ggRHpEQojOeb"
      },
      "id": "ggRHpEQojOeb"
    },
    {
      "cell_type": "markdown",
      "id": "333a6fc9",
      "metadata": {
        "tags": [],
        "id": "333a6fc9"
      },
      "source": [
        "# Programação como uma forma de pensar\n",
        "\n",
        "O primeiro objetivo deste livro é ensinar você a programar em Python.\n",
        "Mas aprender a programar significa aprender uma nova maneira de pensar, então o segundo objetivo deste livro é ajudar você a pensar como um cientista da computação.\n",
        "Essa maneira de pensar combina algumas das melhores características da matemática, engenharia e ciências naturais.\n",
        "Como matemáticos, cientistas da computação usam linguagens formais para denotar ideias -- especificamente computações.\n",
        "Como engenheiros, eles projetam coisas, montando componentes em sistemas e avaliando compromissos entre alternativas.\n",
        "Como cientistas, eles observam o comportamento de sistemas complexos, formam hipóteses e testam previsões.\n",
        "\n",
        "Começaremos com os elementos mais básicos da programação e avançaremos.\n",
        "Neste capítulo, veremos como Python representa números, letras e palavras.\n",
        "E você aprenderá a executar operações aritméticas.\n",
        "\n",
        "Você também começará a aprender o vocabulário da programação, incluindo termos como operador, expressão, valor e tipo.\n",
        "Esse vocabulário é importante -- você precisará dele para entender o restante do livro, para se comunicar com outros programadores e para usar e entender assistentes virtuais."
      ]
    },
    {
      "cell_type": "markdown",
      "id": "a371aea3",
      "metadata": {
        "id": "a371aea3"
      },
      "source": [
        "## Operadores aritméticos\n",
        "\n",
        "Um **operador aritmético** é um símbolo que representa uma computação aritmética. Por exemplo, o sinal de mais, `+`, realiza a adição:"
      ]
    },
    {
      "cell_type": "code",
      "execution_count": null,
      "id": "2568ec84",
      "metadata": {
        "id": "2568ec84"
      },
      "outputs": [],
      "source": [
        "30 + 12"
      ]
    },
    {
      "cell_type": "markdown",
      "id": "fc0e7ce8",
      "metadata": {
        "id": "fc0e7ce8"
      },
      "source": [
        "O sinal de menos, `-`, é o operador que realiza a subtração:"
      ]
    },
    {
      "cell_type": "code",
      "execution_count": null,
      "id": "c4e75456",
      "metadata": {
        "id": "c4e75456"
      },
      "outputs": [],
      "source": [
        "43 - 1"
      ]
    },
    {
      "cell_type": "markdown",
      "id": "63e4e780",
      "metadata": {
        "id": "63e4e780"
      },
      "source": [
        "O asterisco, `*`, realiza a multiplicação:"
      ]
    },
    {
      "cell_type": "code",
      "execution_count": null,
      "id": "022a7b16",
      "metadata": {
        "id": "022a7b16"
      },
      "outputs": [],
      "source": [
        "6 * 7"
      ]
    },
    {
      "cell_type": "markdown",
      "id": "a6192d13",
      "metadata": {
        "id": "a6192d13"
      },
      "source": [
        "E a barra, `/`, realiza a divisão:"
      ]
    },
    {
      "cell_type": "code",
      "execution_count": null,
      "id": "05ae1098",
      "metadata": {
        "id": "05ae1098"
      },
      "outputs": [],
      "source": [
        "84 / 2"
      ]
    },
    {
      "cell_type": "markdown",
      "id": "641ad233",
      "metadata": {
        "id": "641ad233"
      },
      "source": [
        "Observe que o resultado da divisão é `42.0` em vez de `42`. Isso ocorre porque há dois tipos de números em Python:\n",
        "\n",
        "* **inteiros**, que representam números sem parte fracionária ou decimal, e\n",
        "\n",
        "* **números de ponto flutuante**, que representam números inteiros e números com ponto decimal.\n",
        "\n",
        "Se você adicionar, subtrair ou multiplicar dois inteiros, o resultado será um inteiro.\n",
        "Mas se você dividir dois inteiros, o resultado será um número de ponto flutuante.\n",
        "Python fornece outro operador, `//`, que realiza a **divisão inteira**.\n",
        "O resultado da divisão inteira é sempre um inteiro:"
      ]
    },
    {
      "cell_type": "code",
      "execution_count": null,
      "id": "4df5bcaa",
      "metadata": {
        "id": "4df5bcaa"
      },
      "outputs": [],
      "source": [
        "84 // 2"
      ]
    },
    {
      "cell_type": "markdown",
      "id": "b2a620ab",
      "metadata": {
        "id": "b2a620ab"
      },
      "source": [
        "A divisão inteira também é chamada de \"divisão de piso\" (\"*floor division*\") porque sempre arredonda para baixo (em direção ao \"piso\"):"
      ]
    },
    {
      "cell_type": "code",
      "execution_count": null,
      "id": "ef08d549",
      "metadata": {
        "id": "ef08d549"
      },
      "outputs": [],
      "source": [
        "85 // 2"
      ]
    },
    {
      "cell_type": "markdown",
      "id": "41e2886a",
      "metadata": {
        "id": "41e2886a"
      },
      "source": [
        "Finalmente, o operador `**` realiza a exponenciação; ou seja, eleva um\n",
        "número a uma potência:"
      ]
    },
    {
      "cell_type": "code",
      "execution_count": null,
      "id": "df933e80",
      "metadata": {
        "id": "df933e80"
      },
      "outputs": [],
      "source": [
        "7 ** 2"
      ]
    },
    {
      "cell_type": "markdown",
      "id": "b2502fb6",
      "metadata": {
        "id": "b2502fb6"
      },
      "source": [
        "Em algumas outras linguagens, o acento circunflexo, `^`, é usado para exponenciação, mas em Python é um operador bit a bit ('bitwise') chamado XOR.\n",
        "Se você não estiver familiarizado com operadores bit a bit, o resultado pode ser inesperado:"
      ]
    },
    {
      "cell_type": "code",
      "execution_count": null,
      "id": "306b6b88",
      "metadata": {
        "id": "306b6b88"
      },
      "outputs": [],
      "source": [
        "7 ^ 2"
      ]
    },
    {
      "cell_type": "markdown",
      "id": "30078370",
      "metadata": {
        "id": "30078370"
      },
      "source": [
        "Não abordarei operadores bitwise neste livro, mas você pode ler sobre\n",
        "eles em <http://wiki.python.org/moin/BitwiseOperators> (em inglês)."
      ]
    },
    {
      "cell_type": "markdown",
      "id": "0f5b7e97",
      "metadata": {
        "id": "0f5b7e97"
      },
      "source": [
        "## Expressões\n",
        "\n",
        "Uma coleção de operadores e números é chamada de **expressão**.\n",
        "Uma expressão pode conter qualquer número de operadores e números.\n",
        "Por exemplo, aqui está uma expressão que contém dois operadores:"
      ]
    },
    {
      "cell_type": "code",
      "execution_count": null,
      "id": "6e68101d",
      "metadata": {
        "id": "6e68101d"
      },
      "outputs": [],
      "source": [
        "6 + 6 ** 2"
      ]
    },
    {
      "cell_type": "markdown",
      "id": "8e95039c",
      "metadata": {
        "id": "8e95039c"
      },
      "source": [
        "Observe que a exponenciação acontece antes da adição.\n",
        "Python segue a ordem de operações que você pode ter aprendido em uma aula de matemática: a exponenciação acontece antes da multiplicação e divisão, que acontecem antes da adição e subtração.\n",
        "\n",
        "No exemplo a seguir, a multiplicação acontece antes da adição:"
      ]
    },
    {
      "cell_type": "code",
      "execution_count": null,
      "id": "ffc25598",
      "metadata": {
        "id": "ffc25598"
      },
      "outputs": [],
      "source": [
        "12 + 5 * 6"
      ]
    },
    {
      "cell_type": "markdown",
      "id": "914a60d8",
      "metadata": {
        "id": "914a60d8"
      },
      "source": [
        "Se você quiser que a adição aconteça primeiro, você pode usar parênteses."
      ]
    },
    {
      "cell_type": "code",
      "execution_count": null,
      "id": "8dd1bd9a",
      "metadata": {
        "id": "8dd1bd9a"
      },
      "outputs": [],
      "source": [
        "(12 + 5) * 6"
      ]
    },
    {
      "cell_type": "markdown",
      "id": "67ae0ae9",
      "metadata": {
        "id": "67ae0ae9"
      },
      "source": [
        "Toda expressão tem um **valor**.\n",
        "Por exemplo, a expressão `6 * 7` tem o valor `42`."
      ]
    },
    {
      "cell_type": "markdown",
      "id": "caebaa51",
      "metadata": {
        "id": "caebaa51"
      },
      "source": [
        "## Funções aritméticas\n",
        "\n",
        "Além dos operadores aritméticos, Python fornece algumas **funções** que funcionam com números.\n",
        "Por exemplo, a função `round` recebe um número de ponto flutuante e o arredonda para o inteiro mais próximo:"
      ]
    },
    {
      "cell_type": "code",
      "execution_count": null,
      "id": "1e3d5e01",
      "metadata": {
        "id": "1e3d5e01"
      },
      "outputs": [],
      "source": [
        "round(42.4)"
      ]
    },
    {
      "cell_type": "code",
      "execution_count": null,
      "id": "d1b220b9",
      "metadata": {
        "id": "d1b220b9"
      },
      "outputs": [],
      "source": [
        "round(42.6)"
      ]
    },
    {
      "cell_type": "markdown",
      "id": "f5738b4b",
      "metadata": {
        "id": "f5738b4b"
      },
      "source": [
        "A função `abs` calcula o valor absoluto de um número.\n",
        "Para um número positivo, o valor absoluto é o próprio número:"
      ]
    },
    {
      "cell_type": "code",
      "execution_count": null,
      "id": "ff742476",
      "metadata": {
        "id": "ff742476"
      },
      "outputs": [],
      "source": [
        "abs(42)"
      ]
    },
    {
      "cell_type": "markdown",
      "id": "e518494a",
      "metadata": {
        "id": "e518494a"
      },
      "source": [
        "Para um número negativo, o valor absoluto é positivo:"
      ]
    },
    {
      "cell_type": "code",
      "execution_count": null,
      "id": "9247c1a3",
      "metadata": {
        "id": "9247c1a3"
      },
      "outputs": [],
      "source": [
        "abs(-42)"
      ]
    },
    {
      "cell_type": "markdown",
      "id": "6969ce45",
      "metadata": {
        "id": "6969ce45"
      },
      "source": [
        "Quando usamos uma função como essa, dizemos que estamos **chamando** a função.\n",
        "Uma expressão que chama uma função é uma **chamada de função**.\n",
        "\n",
        "Quando você chama uma função, os parênteses são necessários.\n",
        "Se você os deixar de fora, receberá uma mensagem de erro."
      ]
    },
    {
      "cell_type": "markdown",
      "id": "5a73bfd5",
      "metadata": {
        "tags": [],
        "id": "5a73bfd5"
      },
      "source": [
        "OBSERVAÇÃO: A célula a seguir usa `%%expect`, que é um \"comando mágico\" do Jupyter, o que significa que esperamos que o código nesta célula produza um erro. Para mais informações sobre este tópico, consulte a\n",
        "[introdução ao *notebook* Jupyter](https://colab.research.google.com/github/rodrigocarlson/PensePython3ed/blob/main/capitulos/jupyter_intro.ipynb)."
      ]
    },
    {
      "cell_type": "code",
      "execution_count": null,
      "id": "4674b7ca",
      "metadata": {
        "tags": [],
        "id": "4674b7ca"
      },
      "outputs": [],
      "source": [
        "%%expect SyntaxError\n",
        "\n",
        "abs 42"
      ]
    },
    {
      "cell_type": "markdown",
      "id": "7d356f1b",
      "metadata": {
        "id": "7d356f1b"
      },
      "source": [
        "Você pode ignorar a primeira linha desta mensagem; ela não contém nenhuma informação que precisamos entender agora.\n",
        "A segunda linha é o código que contém o erro, com um acento circunflexo (`^`) abaixo dele para indicar onde o erro foi descoberto.\n",
        "\n",
        "A última linha indica que este é um **erro de sintaxe**, o que significa que há algo errado com a estrutura da expressão.\n",
        "Neste exemplo, o problema é que uma chamada de função requer parênteses.\n",
        "\n",
        "Vamos ver o que acontece se você deixar de fora os parênteses *e* o valor:"
      ]
    },
    {
      "cell_type": "code",
      "execution_count": null,
      "id": "7d3e8127",
      "metadata": {
        "id": "7d3e8127"
      },
      "outputs": [],
      "source": [
        "abs"
      ]
    },
    {
      "cell_type": "markdown",
      "id": "94478885",
      "metadata": {
        "id": "94478885"
      },
      "source": [
        "Um nome de função por si só é uma expressão legal que tem um valor.\n",
        "Quando é exibido, o valor indica que `abs` é uma função e inclui algumas informações adicionais que explicarei mais tarde."
      ]
    },
    {
      "cell_type": "markdown",
      "id": "31a85d17",
      "metadata": {
        "id": "31a85d17"
      },
      "source": [
        "## *Strings*\n",
        "Além de números, Python também pode representar sequências de letras, que são chamadas de ***strings*** porque as letras são encadeadas juntas como contas em um colar.\n",
        "Para escrever uma *string*, podemos colocar uma sequência de letras dentro de aspas simples:"
      ]
    },
    {
      "cell_type": "code",
      "execution_count": null,
      "id": "bd8ae45f",
      "metadata": {
        "id": "bd8ae45f"
      },
      "outputs": [],
      "source": [
        "'Hello'"
      ]
    },
    {
      "cell_type": "markdown",
      "id": "d20050d8",
      "metadata": {
        "id": "d20050d8"
      },
      "source": [
        "Também é legal usar aspas duplas:"
      ]
    },
    {
      "cell_type": "code",
      "execution_count": null,
      "id": "01d0055e",
      "metadata": {
        "id": "01d0055e"
      },
      "outputs": [],
      "source": [
        "\"world\""
      ]
    },
    {
      "cell_type": "markdown",
      "id": "76f5edb7",
      "metadata": {
        "id": "76f5edb7"
      },
      "source": [
        "Aspas duplas facilitam a escrita de uma *string* que contém um apóstrofo, que é o mesmo símbolo de uma aspa simples:"
      ]
    },
    {
      "cell_type": "code",
      "execution_count": null,
      "id": "0295acab",
      "metadata": {
        "id": "0295acab"
      },
      "outputs": [],
      "source": [
        "\"it's a small \""
      ]
    },
    {
      "cell_type": "markdown",
      "id": "d62d4b1c",
      "metadata": {
        "id": "d62d4b1c"
      },
      "source": [
        "*Strings* também podem conter espaços, pontuação e dígitos:"
      ]
    },
    {
      "cell_type": "code",
      "execution_count": null,
      "id": "cf918917",
      "metadata": {
        "id": "cf918917"
      },
      "outputs": [],
      "source": [
        "'Well, '"
      ]
    },
    {
      "cell_type": "markdown",
      "id": "9ad47f7a",
      "metadata": {
        "id": "9ad47f7a"
      },
      "source": [
        "O operador `+` funciona com *strings*; ele une duas *strings* em uma única *string*, o que é chamado de **concatenação**:"
      ]
    },
    {
      "cell_type": "code",
      "execution_count": null,
      "id": "aefe6af1",
      "metadata": {
        "id": "aefe6af1"
      },
      "outputs": [],
      "source": [
        "'Well, ' + \"it's a small \" + 'world.'"
      ]
    },
    {
      "cell_type": "markdown",
      "id": "0ad969a3",
      "metadata": {
        "id": "0ad969a3"
      },
      "source": [
        "O operador `*` também funciona com *strings*; ele faz várias cópias de uma *string* e as concatena:"
      ]
    },
    {
      "cell_type": "code",
      "execution_count": null,
      "id": "42e9e4e2",
      "metadata": {
        "id": "42e9e4e2"
      },
      "outputs": [],
      "source": [
        "'Spam, ' * 4"
      ]
    },
    {
      "cell_type": "markdown",
      "id": "dfba16a5",
      "metadata": {
        "id": "dfba16a5"
      },
      "source": [
        "Os outros operadores aritméticos não funcionam com strings.\n",
        "\n",
        "Python fornece uma função chamada `len` que calcula o comprimento de uma string:"
      ]
    },
    {
      "cell_type": "code",
      "execution_count": null,
      "id": "a5e837db",
      "metadata": {
        "id": "a5e837db"
      },
      "outputs": [],
      "source": [
        "len('Spam')"
      ]
    },
    {
      "cell_type": "markdown",
      "id": "d91e00b3",
      "metadata": {
        "id": "d91e00b3"
      },
      "source": [
        "Observe que `len` conta as letras entre aspas, mas não as aspas.\n",
        "\n",
        "Ao criar uma string, certifique-se de usar aspas simples.\n",
        "A crase, também conhecida como acento grave, causa um erro de sintaxe:"
      ]
    },
    {
      "cell_type": "code",
      "execution_count": null,
      "id": "e3f65f19",
      "metadata": {
        "tags": [],
        "id": "e3f65f19"
      },
      "outputs": [],
      "source": [
        "%%expect SyntaxError\n",
        "\n",
        "`Hello`"
      ]
    },
    {
      "cell_type": "markdown",
      "id": "40d893d1",
      "metadata": {
        "id": "40d893d1"
      },
      "source": [
        "Aspas inglesas, também conhecidas como aspas curvas, também são ilegais:"
      ]
    },
    {
      "cell_type": "code",
      "execution_count": null,
      "id": "a705b980",
      "metadata": {
        "tags": [],
        "id": "a705b980"
      },
      "outputs": [],
      "source": [
        "%%expect SyntaxError\n",
        "\n",
        "‘Hello’"
      ]
    },
    {
      "cell_type": "markdown",
      "id": "5471d4f8",
      "metadata": {
        "id": "5471d4f8"
      },
      "source": [
        "## Valores e tipos\n",
        "\n",
        "Até agora, vimos três tipos de valores:\n",
        "\n",
        "* `2` é um inteiro,\n",
        "\n",
        "* `42.0` é um número de ponto flutuante e\n",
        "\n",
        "* `'Hello'` é uma string.\n",
        "\n",
        "Um tipo de valor é chamado de **tipo**.\n",
        "Todo valor tem um tipo -- ou às vezes dizemos que ele \"pertence a\" um tipo.\n",
        "\n",
        "O Python fornece uma função chamada `type` que informa o tipo de qualquer valor.\n",
        "O tipo de um inteiro é `int`:"
      ]
    },
    {
      "cell_type": "code",
      "execution_count": null,
      "id": "3df8e2c5",
      "metadata": {
        "id": "3df8e2c5"
      },
      "outputs": [],
      "source": [
        "type(2)"
      ]
    },
    {
      "cell_type": "markdown",
      "id": "b137814c",
      "metadata": {
        "id": "b137814c"
      },
      "source": [
        "O tipo de um número de ponto flutuante é `float`:"
      ]
    },
    {
      "cell_type": "code",
      "execution_count": null,
      "id": "c4732c8d",
      "metadata": {
        "id": "c4732c8d"
      },
      "outputs": [],
      "source": [
        "type(42.0)"
      ]
    },
    {
      "cell_type": "markdown",
      "id": "266dea4e",
      "metadata": {
        "id": "266dea4e"
      },
      "source": [
        "E o tipo de uma string é `str`:"
      ]
    },
    {
      "cell_type": "code",
      "execution_count": null,
      "id": "8f65ac45",
      "metadata": {
        "id": "8f65ac45"
      },
      "outputs": [],
      "source": [
        "type('Hello, World!')"
      ]
    },
    {
      "cell_type": "markdown",
      "id": "76d216ed",
      "metadata": {
        "id": "76d216ed"
      },
      "source": [
        "Os tipos `int`, `float` e `str` podem ser usados ​​como funções.\n",
        "Por exemplo, `int` pode receber um número de ponto flutuante e convertê-lo em um inteiro (sempre arredondando para baixo):"
      ]
    },
    {
      "cell_type": "code",
      "execution_count": null,
      "id": "84b22f2f",
      "metadata": {
        "id": "84b22f2f"
      },
      "outputs": [],
      "source": [
        "int(42.9)"
      ]
    },
    {
      "cell_type": "markdown",
      "id": "dcd8d114",
      "metadata": {
        "id": "dcd8d114"
      },
      "source": [
        "E `float` pode converter um inteiro em um valor de ponto flutuante:"
      ]
    },
    {
      "cell_type": "code",
      "execution_count": null,
      "id": "9b66ee21",
      "metadata": {
        "id": "9b66ee21"
      },
      "outputs": [],
      "source": [
        "float(42)"
      ]
    },
    {
      "cell_type": "markdown",
      "id": "eda70b61",
      "metadata": {
        "id": "eda70b61"
      },
      "source": [
        "Agora, aqui está algo que pode ser confuso.\n",
        "O que você obtém se colocar uma sequência de dígitos entre aspas?"
      ]
    },
    {
      "cell_type": "code",
      "execution_count": null,
      "id": "f64e107c",
      "metadata": {
        "id": "f64e107c"
      },
      "outputs": [],
      "source": [
        "'126'"
      ]
    },
    {
      "cell_type": "markdown",
      "id": "fdded653",
      "metadata": {
        "id": "fdded653"
      },
      "source": [
        "Parece um número, mas na verdade é uma *string*:"
      ]
    },
    {
      "cell_type": "code",
      "execution_count": null,
      "id": "609a8153",
      "metadata": {
        "id": "609a8153"
      },
      "outputs": [],
      "source": [
        "type('126')"
      ]
    },
    {
      "cell_type": "markdown",
      "id": "2683ac35",
      "metadata": {
        "id": "2683ac35"
      },
      "source": [
        "Se você tentar usá-la como um número, poderá obter um erro:"
      ]
    },
    {
      "cell_type": "code",
      "execution_count": null,
      "id": "1cf21da4",
      "metadata": {
        "tags": [],
        "id": "1cf21da4"
      },
      "outputs": [],
      "source": [
        "%%expect TypeError\n",
        "\n",
        "'126' / 3"
      ]
    },
    {
      "cell_type": "markdown",
      "id": "32c11cc4",
      "metadata": {
        "id": "32c11cc4"
      },
      "source": [
        "Este exemplo gera um `TypeError`, o que significa que os valores na expressão, que são chamados de **operandos**, têm o tipo errado.\n",
        "A mensagem de erro indica que o operador `/` não suporta os tipos desses valores, que são `str` e `int`.\n",
        "\n",
        "Se você tiver uma *string* que contém dígitos, você pode usar `int` para convertê-la em um inteiro:"
      ]
    },
    {
      "cell_type": "code",
      "execution_count": null,
      "id": "d45e6a60",
      "metadata": {
        "id": "d45e6a60"
      },
      "outputs": [],
      "source": [
        "int('126') / 3"
      ]
    },
    {
      "cell_type": "markdown",
      "id": "86935d56",
      "metadata": {
        "id": "86935d56"
      },
      "source": [
        "Se você tiver uma *string* que contém dígitos e um ponto decimal, você pode usar `float` para convertê-la em um número de ponto flutuante:"
      ]
    },
    {
      "cell_type": "code",
      "execution_count": null,
      "id": "db30b719",
      "metadata": {
        "id": "db30b719"
      },
      "outputs": [],
      "source": [
        "float('12.6')"
      ]
    },
    {
      "cell_type": "markdown",
      "id": "03103ef4",
      "metadata": {
        "id": "03103ef4"
      },
      "source": [
        "Ao escrever um inteiro grande, você pode ficar tentado a usar vírgulas\n",
        "entre grupos de dígitos, como em `1,000,000`.\n",
        "Esta é uma expressão legal em Python, mas o resultado não é um inteiro:\n",
        "\n",
        "NOTA DO TRADUTOR: os números em Python seguem a conveção da língua inglesa em que o separador decimal é um ponto e o separador de milhar é uma vírgula."
      ]
    },
    {
      "cell_type": "code",
      "execution_count": null,
      "id": "d72b6af1",
      "metadata": {
        "id": "d72b6af1"
      },
      "outputs": [],
      "source": [
        "1,000,000"
      ]
    },
    {
      "cell_type": "markdown",
      "id": "3d24af71",
      "metadata": {
        "id": "3d24af71"
      },
      "source": [
        "Python interpreta `1.000.000` como uma sequência de inteiros separados por vírgulas.\n",
        "Aprenderemos mais sobre esse tipo de sequência mais tarde.\n",
        "\n",
        "Você pode usar sublinhados para tornar números grandes mais fáceis de ler:"
      ]
    },
    {
      "cell_type": "code",
      "execution_count": null,
      "id": "e19bf7e7",
      "metadata": {
        "id": "e19bf7e7"
      },
      "outputs": [],
      "source": [
        "1_000_000"
      ]
    },
    {
      "cell_type": "markdown",
      "id": "1761cbac",
      "metadata": {
        "id": "1761cbac"
      },
      "source": [
        "## Linguagens formais e naturais\n",
        "\n",
        "**Linguagens naturais** são as linguagens (línguas) que as pessoas falam, como inglês, espanhol e francês. Elas não foram projetadas por pessoas; elas evoluíram naturalmente.\n",
        "\n",
        "**Linguagens formais** são linguagens projetadas por pessoas para aplicações específicas.\n",
        "Por exemplo, a notação que os matemáticos usam é uma linguagem formal que é particularmente boa em denotar relacionamentos entre números e símbolos.\n",
        "Da mesma forma, linguagens de programação são linguagens formais que foram projetadas para expressar computações."
      ]
    },
    {
      "cell_type": "markdown",
      "id": "1bf3d2dc",
      "metadata": {
        "id": "1bf3d2dc"
      },
      "source": [
        "Embora as linguagens formais e naturais tenham algumas características em\n",
        "comum, há diferenças importantes:\n",
        "\n",
        "* Ambiguidade: As linguagens naturais são cheias de ambiguidade, com as quais as pessoas lidam usando pistas contextuais e outras informações. As linguagens formais são projetadas para serem quase ou completamente inequívocas, o que significa que qualquer programa tem exatamente um significado, independentemente do contexto.\n",
        "\n",
        "* Redundância: Para compensar a ambiguidade e reduzir mal-entendidos,\n",
        "as linguagens naturais usam redundância. Como resultado, elas são\n",
        "frequentemente prolixas. As linguagens formais são menos redundantes e mais concisas.\n",
        "\n",
        "* Literalidade: As linguagens naturais são cheias de expressões idiomáticas e metáforas. As linguagens formais significam exatamente o que dizem."
      ]
    },
    {
      "cell_type": "markdown",
      "id": "78a1cec8",
      "metadata": {
        "id": "78a1cec8"
      },
      "source": [
        "Como todos nós crescemos falando línguas naturais, às vezes é difícil se adaptar a linguagens formais.\n",
        "As linguagens formais são mais densas do que as línguas naturais, então leva mais tempo para lê-las.\n",
        "Além disso, a estrutura é importante, então nem sempre é melhor ler de cima para baixo, da esquerda para a direita.\n",
        "Finalmente, os detalhes importam. Pequenos erros de ortografia e\n",
        "pontuação, que você pode ignorar em línguas naturais, podem fazer uma grande diferença em uma linguagem formal."
      ]
    },
    {
      "cell_type": "markdown",
      "id": "4358fa9a",
      "metadata": {
        "id": "4358fa9a"
      },
      "source": [
        "## Depuração (*Debbuging*)\n",
        "\n",
        "Programadores cometem erros. Por motivos caprichosos, erros de programação são chamados de ***bugs*** e o processo de rastreá-los é chamado de **depuração** (*Debbuging*).\n",
        "\n",
        "Programação, e especialmente depuração, às vezes traz emoções fortes. Se você está lutando com um *bug* difícil, você pode se sentir bravo, triste ou envergonhado.\n",
        "\n",
        "Preparar-se para essas reações pode ajudá-lo a lidar com elas. Uma abordagem é pensar no computador como um funcionário com certos pontos fortes, como velocidade e precisão, e fraquezas específicas, como falta de empatia e incapacidade de entender o panorama geral.\n",
        "\n",
        "Seu trabalho é ser um bom gerente: encontre maneiras de aproveitar os pontos fortes e mitigar os pontos fracos. E encontre maneiras de usar suas emoções para se envolver com o problema, sem deixar que suas reações interfiram em sua capacidade de trabalhar efetivamente.\n",
        "\n",
        "Aprender a depurar pode ser frustrante, mas é uma habilidade valiosa que é útil para muitas atividades além da programação. No final de cada capítulo, há uma seção, como esta, com minhas sugestões para depuração. Espero que ajudem!"
      ]
    },
    {
      "cell_type": "markdown",
      "id": "33b8ad00",
      "metadata": {
        "id": "33b8ad00"
      },
      "source": [
        "## Glossário\n",
        "\n",
        "NOTA DO TRADUTOR: no glossário optou-se por manter entre parênteses a palavara ou expressão original em inglês mesmo quando não é usada corriqueiramente em língua portuguesa. O objetivo é expor o leitor à terminologia em língua inglesa. Esta familiarização pode ser útil ao ler documentação ou outros livros disponíveis apenas em inglês.\n",
        "\n",
        "**operador aritmético** (*arithmetic operator*)**:**\n",
        "Um símbolo, como `+` e `*`, que denota uma operação aritmética como adição ou multiplicação.\n",
        "\n",
        "**inteiro** (*integer*)**:**\n",
        "Um tipo que representa números sem parte fracionária ou decimal.\n",
        "\n",
        "**ponto flutuante** (*floating-point*)**:**\n",
        "Um tipo que representa números inteiros e números com partes decimais.\n",
        "\n",
        "**divisão inteira** (*integer division*)**:**\n",
        "Um operador, `//`, que divide dois números e arredonda o resultado para baixo para um inteiro.\n",
        "\n",
        "**expressão** (*expression*)**:**\n",
        "Uma combinação de variáveis, valores e operadores.\n",
        "\n",
        "**valor** (*value*)**:**\n",
        "Um número inteiro, número de ponto flutuante ou *string* -- ou um dos outros tipos de valores que veremos mais tarde.\n",
        "\n",
        "**função** (*function)**:**\n",
        "Uma sequência de instruções com um nome e que executa alguma operação útil.\n",
        "As funções podem ou não receber argumentos e podem ou não produzir um resultado.\n",
        "\n",
        "**chamada de função** (*function call*)**:**\n",
        "Uma expressão -- ou parte de uma expressão -- que executa uma função.\n",
        "Consiste no nome da função seguido por uma lista de argumentos entre parênteses.\n",
        "\n",
        "**erro de sintaxe** (*syntax error*)**:**\n",
        "Um erro em um programa que o torna impossível de ser analisado -- e, portanto, impossível de executar.\n",
        "\n",
        "NOTA DO TRADUTOR: no texto original é usada a palavra *parse* no lugar de \"ser analisado\". Neste contexto, a definição refere-se à análise realizada por um interpretador ou compilador.\n",
        "\n",
        "***string*:**\n",
        "Um tipo que representa sequências de caracteres.\n",
        "\n",
        "**concatenação** (*concatenation*)**:**\n",
        "Unir duas *strings* de ponta a ponta.\n",
        "\n",
        "**tipo** (*type*)**:**\n",
        "Uma categoria de valores.\n",
        "Os tipos que vimos até agora são inteiros (tipo `int`), números de ponto flutuante (tipo `float`) e *strings* (tipo `str`).\n",
        "\n",
        "**operando** (*operand*)**:**\n",
        "Um dos valores nos quais um operador opera.\n",
        "\n",
        "**linguagem natural** (*natural language*)**:**\n",
        "Qualquer uma das línguas que as pessoas falam e que evoluíram naturalmente.\n",
        "\n",
        "**linguagem formal** (*formal language*)**:**\n",
        "Qualquer uma das línguas que as pessoas projetaram para propósitos específicos, como representar ideias matemáticas ou programas de computador.\n",
        "Todas as linguagens de programação são linguagens formais.\n",
        "\n",
        "**bug:**\n",
        "Um erro em um programa.\n",
        "\n",
        "**depuração** (*debugging*)**:**\n",
        "O processo de encontrar e corrigir erros.\n"
      ]
    },
    {
      "cell_type": "markdown",
      "id": "ed4ec01b",
      "metadata": {
        "id": "ed4ec01b"
      },
      "source": [
        "## Exercícios"
      ]
    },
    {
      "cell_type": "code",
      "execution_count": null,
      "id": "06d3e72c",
      "metadata": {
        "tags": [],
        "id": "06d3e72c"
      },
      "outputs": [],
      "source": [
        "# Esta célula diz ao Jupyter para fornecer informações detalhadas de depuração\n",
        "# quando ocorre um erro de tempo de execução. Execute-a antes de trabalhar nos\n",
        "# exercícios.\n",
        "\n",
        "%xmode Verbose"
      ]
    },
    {
      "cell_type": "markdown",
      "id": "23adf208",
      "metadata": {
        "id": "23adf208"
      },
      "source": [
        "### Pergunte a um assistente virtual\n",
        "\n",
        "À medida que você trabalha neste livro, há várias maneiras de usar um assistente virtual ou *chatbot* para ajudá-lo a aprender.\n",
        "\n",
        "* Se quiser saber mais sobre um tópico do capítulo ou se algo não estiver claro, você pode pedir uma explicação.\n",
        "\n",
        "* Se estiver com dificuldade em algum dos exercícios, pode pedir ajuda.\n",
        "\n",
        "Em cada capítulo, sugerirei exercícios que você pode fazer com um assistente virtual, mas recomendo que você tente as coisas sozinho e veja o que funciona para você."
      ]
    },
    {
      "cell_type": "markdown",
      "id": "ebf1a451",
      "metadata": {
        "id": "ebf1a451"
      },
      "source": [
        "NOTA DO TRADUTOR: os exemplos de uso do assitente virtual serão mantidas em inglês e português.\n",
        "\n",
        "Aqui estão alguns tópicos sobre os quais você pode perguntar a um assistente virtual:\n",
        "\n",
        "* Anteriormente, mencionei operadores bit a bit, mas não expliquei por que o valor de `7 ^ 2` é 5. Tente perguntar \"Quais são os operadores bit a bit em Python?\" ou \"Qual é o valor de `7 XOR 2`?\" (\"*What are the bitwise operators in Python?*\" ou \"*What is the value of `7 XOR 2`?*\")\n",
        "\n",
        "* Também mencionei a ordem das operações. Para mais detalhes, pergunte \"Qual é a ordem das operações em Python?\" (\"*What is the order of operations in Python?*\")\n",
        "\n",
        "* A função `round`, que usamos para arredondar um número de ponto flutuante para o inteiro mais próximo, pode receber um segundo argumento. Tente perguntar \"Quais são os argumentos da função round?\" ou \"Como arredondo pi para três casas decimais?\" (\"*What are the arguments of the round function?*\" ou \"*How do I round pi off to three decimal places?*\")\n",
        "\n",
        "* Há mais um operador aritmético que não mencionei; tente perguntar \"Qual é o operador de módulo em Python?\" (\"*What is the modulus operator in Python?*\")\n",
        "\n",
        "NOTA DO TRADUTOR: em português o operador módulo tende a ser confundido com módulo ou valor absoluto.\n"
      ]
    },
    {
      "cell_type": "markdown",
      "id": "9be3e1c7",
      "metadata": {
        "id": "9be3e1c7"
      },
      "source": [
        "A maioria dos assistentes virtuais conhece Python, então eles respondem perguntas como essas de forma bastante confiável.\n",
        "Mas lembre-se de que essas ferramentas cometem erros.\n",
        "Se você obtiver código de um *chatbot*, teste-o!"
      ]
    },
    {
      "cell_type": "markdown",
      "id": "03c1ef93",
      "metadata": {
        "id": "03c1ef93"
      },
      "source": [
        "### Exercício\n",
        "\n",
        "Você pode estar se perguntando o que `round` faz se um número termina em `0.5`.\n",
        "A resposta é que às vezes ele arredonda para cima e às vezes para baixo.\n",
        "Experimente estes exemplos e veja se consegue descobrir qual regra ele segue:"
      ]
    },
    {
      "cell_type": "code",
      "execution_count": null,
      "id": "5d358f37",
      "metadata": {
        "id": "5d358f37"
      },
      "outputs": [],
      "source": [
        "round(42.5)"
      ]
    },
    {
      "cell_type": "code",
      "execution_count": null,
      "id": "12aa59a3",
      "metadata": {
        "id": "12aa59a3"
      },
      "outputs": [],
      "source": [
        "round(43.5)"
      ]
    },
    {
      "cell_type": "markdown",
      "id": "dd2f890e",
      "metadata": {
        "id": "dd2f890e"
      },
      "source": [
        "Se você estiver curioso, pergunte a um assistente virtual: \"Se um número termina em 0.5, o Python arredonda para cima ou para baixo?\" (\"*If a number ends in 0.5, does Python round up or down?*\")"
      ]
    },
    {
      "cell_type": "markdown",
      "id": "2cd03bcb",
      "metadata": {
        "id": "2cd03bcb"
      },
      "source": [
        "### Exercício\n",
        "Quando você aprende sobre um novo recurso, você deve experimentá-lo e cometer erros de propósito.\n",
        "Dessa forma, você aprende as mensagens de erro e, quando as vir novamente, saberá o que elas significam.\n",
        "É melhor cometer erros agora e deliberadamente do que mais tarde e acidentalmente.\n",
        "\n",
        "1. Você pode usar um sinal de menos para fazer um número negativo como `-2`. O que acontece se você colocar um sinal de mais antes de um número? E quanto a `2++2`?\n",
        "\n",
        "2. O que acontece se você tiver dois valores sem operador entre eles, como `4 2`?\n",
        "\n",
        "3. Se você chamar uma função como `round(42.5)`, o que acontece se você deixar de fora um ou ambos os parênteses?"
      ]
    },
    {
      "cell_type": "markdown",
      "id": "1fb0adfe",
      "metadata": {
        "id": "1fb0adfe"
      },
      "source": [
        "### Exercício\n",
        "\n",
        "Lembre-se de que toda expressão tem um valor, todo valor tem um tipo, e que podemos usar a função `type` para encontrar o tipo de qualquer valor.\n",
        "\n",
        "Qual é o tipo do valor das seguintes expressões? Dê o seu melhor palpite para cada uma delas e então use `type` para descobrir.\n",
        "\n",
        "* `765`\n",
        "\n",
        "* `2.718`\n",
        "\n",
        "* `'2 pi'`\n",
        "\n",
        "* `abs(-7)`\n",
        "\n",
        "* `abs(-7.0)`\n",
        "\n",
        "* `abs`\n",
        "\n",
        "* `int`\n",
        "\n",
        "* `type`"
      ]
    },
    {
      "cell_type": "markdown",
      "id": "23762eec",
      "metadata": {
        "id": "23762eec"
      },
      "source": [
        "### Exercício\n",
        "\n",
        "As perguntas a seguir dão a você uma chance de praticar a escrita de expressões aritméticas.\n",
        "\n",
        "1. Quantos segundos há em 42 minutos e 42 segundos?\n",
        "\n",
        "2. Quantas milhas há em 10 quilômetros? Dica: há 1,61 quilômetros em uma milha.\n",
        "\n",
        "3. Se você corre uma corrida de 10 quilômetros em 42 minutos e 42 segundos, qual é seu ritmo médio em segundos por milha?\n",
        "\n",
        "4. Qual é seu ritmo médio em minutos e segundos por milha?\n",
        "\n",
        "5. Qual é sua velocidade média em milhas por hora?\n",
        "\n",
        "Se você já sabe sobre variáveis, pode usá-las para este exercício.\n",
        "Se não sabe, pode fazer o exercício sem elas -- as veremos no próximo capítulo."
      ]
    },
    {
      "cell_type": "code",
      "execution_count": null,
      "id": "8fb50f30",
      "metadata": {
        "id": "8fb50f30"
      },
      "outputs": [],
      "source": [
        "# A solução vai aqui"
      ]
    },
    {
      "cell_type": "code",
      "execution_count": null,
      "id": "5eceb4fb",
      "metadata": {
        "id": "5eceb4fb"
      },
      "outputs": [],
      "source": [
        "# A solução vai aqui"
      ]
    },
    {
      "cell_type": "code",
      "execution_count": null,
      "id": "fee97d8d",
      "metadata": {
        "id": "fee97d8d"
      },
      "outputs": [],
      "source": [
        "# A solução vai aqui"
      ]
    },
    {
      "cell_type": "code",
      "execution_count": null,
      "id": "a998258c",
      "metadata": {
        "id": "a998258c"
      },
      "outputs": [],
      "source": [
        "# A solução vai aqui"
      ]
    },
    {
      "cell_type": "code",
      "execution_count": null,
      "id": "2e0fc7a9",
      "metadata": {
        "id": "2e0fc7a9"
      },
      "outputs": [],
      "source": [
        "# A solução vai aqui"
      ]
    },
    {
      "cell_type": "code",
      "execution_count": null,
      "id": "d25268d8",
      "metadata": {
        "id": "d25268d8"
      },
      "outputs": [],
      "source": [
        "# A solução vai aqui"
      ]
    },
    {
      "cell_type": "code",
      "execution_count": null,
      "id": "523d9b0f",
      "metadata": {
        "id": "523d9b0f"
      },
      "outputs": [],
      "source": [
        "# A solução vai aqui"
      ]
    },
    {
      "cell_type": "code",
      "execution_count": null,
      "id": "ca083ccf",
      "metadata": {
        "id": "ca083ccf"
      },
      "outputs": [],
      "source": []
    },
    {
      "cell_type": "markdown",
      "id": "a7f4edf8",
      "metadata": {
        "tags": [],
        "id": "a7f4edf8"
      },
      "source": [
        "[Pense Python: 3ª Edição](https://rodrigocarlson.github.io/PensePython3ed/)\n",
        "\n",
        "Copyright 2024 [Allen B. Downey](https://allendowney.com/) (versão original)\n",
        "\n",
        "Copyright 2025 [Rodrigo Castelan Carlson](https://rodrigocarlson.paginas.ufsc.br/) (desta versão)\n",
        "\n",
        "Foram preservadas as mesmas licenças da versão original.\n",
        "\n",
        "Licença dos códigos: [MIT License](https://mit-license.org/)\n",
        "\n",
        "Licença dos textos: [Creative Commons Attribution-NonCommercial-ShareAlike 4.0 International](https://creativecommons.org/licenses/by-nc-sa/4.0/)"
      ]
    },
    {
      "cell_type": "code",
      "source": [],
      "metadata": {
        "id": "2HsQkoAblUZM"
      },
      "id": "2HsQkoAblUZM",
      "execution_count": null,
      "outputs": []
    }
  ],
  "metadata": {
    "celltoolbar": "Tags",
    "kernelspec": {
      "display_name": "Python 3 (ipykernel)",
      "language": "python",
      "name": "python3"
    },
    "language_info": {
      "codemirror_mode": {
        "name": "ipython",
        "version": 3
      },
      "file_extension": ".py",
      "mimetype": "text/x-python",
      "name": "python",
      "nbconvert_exporter": "python",
      "pygments_lexer": "ipython3",
      "version": "3.10.11"
    },
    "colab": {
      "provenance": []
    }
  },
  "nbformat": 4,
  "nbformat_minor": 5
}