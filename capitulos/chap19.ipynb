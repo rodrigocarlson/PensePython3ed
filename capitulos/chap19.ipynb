{
  "cells": [
    {
      "cell_type": "markdown",
      "id": "1331faa1",
      "metadata": {
        "id": "1331faa1"
      },
      "source": [
        "Você pode adquirir versões impressas e de e-book do *Think Python 3e* (em inglês) em\n",
        "[Bookshop.org](https://bookshop.org/a/98697/9781098155438) e\n",
        "[Amazon](https://www.amazon.com/_/dp/1098155432?smid=ATVPDKIKX0DER&_encoding=UTF8&tag=oreilly20-20&_encoding=UTF8&tag=greenteapre01-20&linkCode=ur2&linkId=e2a529f94920295d27ec8a06e757dc7c&camp=1789&creative=9325).\n",
        "\n",
        "Uma versão em língua portuguesa da 3ª edição foi publicada pela editora [Novatec](https://novatec.com.br/livros/pense-em-python-3ed/)."
      ]
    },
    {
      "cell_type": "markdown",
      "id": "171aca73",
      "metadata": {
        "id": "171aca73"
      },
      "source": [
        "# Considerações finais"
      ]
    },
    {
      "cell_type": "markdown",
      "id": "4d551c99",
      "metadata": {
        "id": "4d551c99"
      },
      "source": [
        "Aprender a programar não é fácil, mas se você chegou até aqui, você começou bem.\n",
        "Agora, tenho algumas sugestões de maneiras de continuar aprendendo e aplicar o que aprendeu.\n",
        "\n",
        "Este livro pretende ser uma introdução geral à programação, então não focamos em aplicações específicas.\n",
        "Dependendo dos seus interesses, há uma série de áreas onde você pode aplicar suas novas habilidades.\n",
        "\n",
        "Se você tem interesse em Ciência de Dados, há três livros meus que você pode gostar:\n",
        "\n",
        "* *Think Stats: Exploratory Data Analysis*, O'Reilly Media, 2014.\n",
        "\n",
        "* *Think Bayes: Bayesian Statistics in Python*, O'Reilly Media, 2021.\n",
        "\n",
        "* *Think DSP: Digital Signal Processing in Python*, O'Reilly Media, 2016."
      ]
    },
    {
      "cell_type": "markdown",
      "id": "cceabe36",
      "metadata": {
        "id": "cceabe36"
      },
      "source": [
        "Se você tem interesse em modelagem física e sistemas complexos, pode gostar de:\n",
        "\n",
        "* *Modeling and Simulation in Python: An Introduction for Scientists and Engineers*, No Starch Press, 2023.\n",
        "\n",
        "* *Think Complexity: Complexity Science and Computational Modeling*, O'Reilly Media, 2018.\n",
        "\n",
        "Eles usam NumPy, SciPy, pandas e outras bibliotecas Python para ciência de dados e computação científica."
      ]
    },
    {
      "cell_type": "markdown",
      "id": "54a39121",
      "metadata": {
        "id": "54a39121"
      },
      "source": [
        "Este livro tenta encontrar um equilíbrio entre princípios gerais de programação e detalhes do Python.\n",
        "Como resultado, ele não inclui todos os recursos da linguagem Python.\n",
        "Para mais informações sobre Python e bons conselhos sobre como usá-lo, recomendo *Fluent Python: Clear, Concise, and Effective Programming*, segunda edição de Luciano Ramalho, O'Reilly Media, 2022.\n",
        "\n",
        "Após uma introdução à programação, um próximo passo comum é aprender sobre estruturas de dados e algoritmos.\n",
        "Tenho um trabalho em andamento sobre este tópico, chamado *Data Structures and Information Retrieval in Python*.\n",
        "Uma versão eletrônica gratuita está disponível na Green Tea Press em <https://greenteapress.com>."
      ]
    },
    {
      "cell_type": "markdown",
      "id": "a1598510",
      "metadata": {
        "id": "a1598510"
      },
      "source": [
        "À medida que você trabalha em programas mais complexos, você encontrará novos desafios.\n",
        "Você pode achar útil revisar as seções deste livro sobre depuração.\n",
        "Em particular, lembre-se dos Seis R's da depuração do [Capítulo 12](https://colab.research.google.com/github/rodrigocarlson/PensePython3ed/blob/main/capitulos/chap12.ipynb): leitura, execução, ruminação, esquiva, recuo e descanso.\n",
        "\n",
        "Este livro sugere ferramentas para ajudar na depuração, incluindo as funções `print` e `repr`, a função `structshape` no [Capítulo 11](https://colab.research.google.com/github/rodrigocarlson/PensePython3ed/blob/main/capitulos/chap11.ipynb) -- e as funções internas `isinstance`, `hasattr` e `vars` no [Capítulo 14](https://colab.research.google.com/github/rodrigocarlson/PensePython3ed/blob/main/capitulos/chap14.ipynb)."
      ]
    },
    {
      "cell_type": "markdown",
      "id": "fb4dd345",
      "metadata": {
        "id": "fb4dd345"
      },
      "source": [
        "Ele também sugere ferramentas para testar programas, incluindo a instrução `assert`, o módulo `doctest` e o módulo `unittest`.\n",
        "Incluir testes em seus programas é uma das melhores maneiras de prevenir e detectar erros e economizar tempo de depuração.\n",
        "\n",
        "Mas o melhor tipo de depuração é aquele que você não precisa fazer.\n",
        "Se você usar um processo de desenvolvimento incremental conforme descrito no [Capítulo 6](https://colab.research.google.com/github/rodrigocarlson/PensePython3ed/blob/main/capitulos/chap06.ipynb) -- e testar conforme avança -- você cometerá menos erros e os encontrará mais rapidamente quando os fizer.\n",
        "Além disso, lembre-se do encapsulamento e generalização do [Capítulo 4](https://colab.research.google.com/github/rodrigocarlson/PensePython3ed/blob/main/capitulos/chap04.ipynb), que é particularmente útil quando você está desenvolvendo código em notebooks Jupyter."
      ]
    },
    {
      "cell_type": "markdown",
      "id": "0d29933e",
      "metadata": {
        "id": "0d29933e"
      },
      "source": [
        "Ao longo deste livro, sugeri maneiras de usar assistentes virtuais para ajudar você a aprender, programar e depurar.\n",
        "Espero que você esteja achando essas ferramentas úteis.\n",
        "\n",
        "Além de assistentes virtuais como o ChatGPT, você também pode querer usar uma ferramenta como o Copilot que completa o código automaticamente conforme você digita.\n",
        "Eu não recomendei usar essas ferramentas, inicialmente, porque elas podem ser opressivas para iniciantes.\n",
        "Mas você pode querer explorá-las agora.\n",
        "\n",
        "Usar ferramentas de IA efetivamente requer alguma experimentação e reflexão para encontrar um fluxo que funcione para você.\n",
        "Se você acha que é um incômodo copiar código do ChatGPT para o Jupyter, você pode preferir algo como o Copilot.\n",
        "Mas o trabalho cognitivo que você faz para compor um *prompt* e interpretar a resposta pode ser tão valioso quanto o código que a ferramenta gera, na mesma linha da depuração do pato de borracha."
      ]
    },
    {
      "cell_type": "markdown",
      "id": "c28d6815",
      "metadata": {
        "id": "c28d6815"
      },
      "source": [
        "Conforme você ganha experiência em programação, pode ser que você queira explorar outros ambientes de desenvolvimento.\n",
        "Acho que os notebooks Jupyter são um bom lugar para começar, mas eles são relativamente novos e não são tão amplamente usados ​​quanto os ambientes de desenvolvimento integrado (IDE, do inglês *integrated development environments*) convencionais.\n",
        "Para Python, as IDEs mais populares incluem PyCharm e Spyder -- e Thonny, que geralmente é recomendado para iniciantes.\n",
        "Outras IDEs, como Visual Studio Code e Eclipse, funcionam com outras linguagens de programação também.\n",
        "Ou, como uma alternativa mais simples, você pode escrever programas Python usando qualquer editor de texto que desejar.\n",
        "\n",
        "À medida que você continua sua jornada de programação, você não precisa ir sozinho!\n",
        "Se você mora em uma cidade ou perto dela, há uma boa chance de haver um grupo de usuários Python do qual você pode participar.\n",
        "Esses grupos geralmente são amigáveis ​​para iniciantes, então não tenha medo.\n",
        "Se não houver nenhum grupo perto de você, você pode participar de eventos remotamente.\n",
        "Além disso, fique de olho nas conferências regionais do Python."
      ]
    },
    {
      "cell_type": "markdown",
      "id": "28cb22bf",
      "metadata": {
        "id": "28cb22bf"
      },
      "source": [
        "Uma das melhores maneiras de melhorar suas habilidades de programação é aprender outra linguagem.\n",
        "Se você tem interesse em estatística e ciência de dados, talvez queira aprender R.\n",
        "Mas eu recomendo particularmente aprender uma linguagem funcional como Racket ou Elixir.\n",
        "A programação funcional requer um tipo diferente de pensamento, que muda a maneira como você pensa sobre programas.\n",
        "\n",
        "Boa sorte!"
      ]
    },
    {
      "cell_type": "code",
      "execution_count": null,
      "id": "e2783577",
      "metadata": {
        "id": "e2783577"
      },
      "outputs": [],
      "source": []
    },
    {
      "cell_type": "markdown",
      "id": "a7f4edf8",
      "metadata": {
        "tags": [],
        "id": "a7f4edf8"
      },
      "source": [
        "[Pense Python: 3ª Edição](https://rodrigocarlson.github.io/PensePython3ed/)\n",
        "\n",
        "Copyright 2024 [Allen B. Downey](https://allendowney.com/) (versão original)\n",
        "\n",
        "Copyright 2025 [Rodrigo Castelan Carlson](https://rodrigocarlson.paginas.ufsc.br/) (desta versão)\n",
        "\n",
        "Foram preservadas as mesmas licenças da versão original.\n",
        "\n",
        "Licença dos códigos: [MIT License](https://mit-license.org/)\n",
        "\n",
        "Licença dos textos: [Creative Commons Attribution-NonCommercial-ShareAlike 4.0 International](https://creativecommons.org/licenses/by-nc-sa/4.0/)"
      ]
    }
  ],
  "metadata": {
    "kernelspec": {
      "display_name": "Python 3 (ipykernel)",
      "language": "python",
      "name": "python3"
    },
    "language_info": {
      "codemirror_mode": {
        "name": "ipython",
        "version": 3
      },
      "file_extension": ".py",
      "mimetype": "text/x-python",
      "name": "python",
      "nbconvert_exporter": "python",
      "pygments_lexer": "ipython3",
      "version": "3.10.14"
    },
    "colab": {
      "provenance": []
    }
  },
  "nbformat": 4,
  "nbformat_minor": 5
}