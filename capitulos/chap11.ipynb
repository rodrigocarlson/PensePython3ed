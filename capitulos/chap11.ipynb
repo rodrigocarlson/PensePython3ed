{
  "cells": [
    {
      "cell_type": "markdown",
      "id": "1331faa1",
      "metadata": {
        "id": "1331faa1"
      },
      "source": [
        "Você pode adquirir versões impressas e de e-book do *Think Python 3e* (em inglês) em\n",
        "[Bookshop.org](https://bookshop.org/a/98697/9781098155438) e\n",
        "[Amazon](https://www.amazon.com/_/dp/1098155432?smid=ATVPDKIKX0DER&_encoding=UTF8&tag=oreilly20-20&_encoding=UTF8&tag=greenteapre01-20&linkCode=ur2&linkId=e2a529f94920295d27ec8a06e757dc7c&camp=1789&creative=9325).\n",
        "\n",
        "Uma versão em língua portuguesa da 3ª edição foi publicada pela editora [Novatec](https://novatec.com.br/livros/pense-em-python-3ed/)."
      ]
    },
    {
      "cell_type": "code",
      "execution_count": null,
      "id": "295ac6d7",
      "metadata": {
        "tags": [],
        "id": "295ac6d7"
      },
      "outputs": [],
      "source": [
        "from os.path import basename, exists\n",
        "\n",
        "def download(url):\n",
        "    filename = basename(url)\n",
        "    if not exists(filename):\n",
        "        from urllib.request import urlretrieve\n",
        "\n",
        "        local, _ = urlretrieve(url, filename)\n",
        "        print(\"Downloaded \" + str(local))\n",
        "    return filename\n",
        "\n",
        "download('https://github.com/AllenDowney/ThinkPython/raw/v3/thinkpython.py');\n",
        "download('https://github.com/AllenDowney/ThinkPython/raw/v3/diagram.py');\n",
        "\n",
        "import thinkpython"
      ]
    },
    {
      "cell_type": "markdown",
      "id": "5705b2a6",
      "metadata": {
        "tags": [],
        "id": "5705b2a6"
      },
      "source": [
        "# Tuplas\n",
        "\n",
        "Este capítulo apresenta mais um tipo interno, a tupla, e então mostra como listas, dicionários e tuplas funcionam juntos.\n",
        "Ele também apresenta a atribuição de tuplas e um recurso útil para funções com listas de argumentos de comprimento variável: os operadores de empacotamento e desempacotamento.\n",
        "\n",
        "Nos exercícios, usaremos tuplas, junto com listas e dicionários, para resolver mais quebra-cabeças de palavras e implementar algoritmos eficientes."
      ]
    },
    {
      "cell_type": "markdown",
      "id": "19474596",
      "metadata": {
        "id": "19474596"
      },
      "source": [
        "## Tuplas são como listas\n",
        "\n",
        "Uma tupla é uma sequência de valores. Os valores podem ser de qualquer tipo e são indexados por inteiros, então tuplas são muito parecidas com listas.\n",
        "A diferença importante é que tuplas são imutáveis.\n",
        "\n",
        "Para criar uma tupla, você pode escrever uma lista de valores separados por vírgulas:"
      ]
    },
    {
      "cell_type": "code",
      "execution_count": null,
      "id": "fb0bdca2",
      "metadata": {
        "id": "fb0bdca2"
      },
      "outputs": [],
      "source": [
        "t = 'l', 'u', 'p', 'i', 'n'\n",
        "type(t)"
      ]
    },
    {
      "cell_type": "markdown",
      "id": "a2ec15d8",
      "metadata": {
        "id": "a2ec15d8"
      },
      "source": [
        "Embora não seja necessário, é comum colocar tuplas entre parênteses:"
      ]
    },
    {
      "cell_type": "code",
      "execution_count": null,
      "id": "5a6da881",
      "metadata": {
        "id": "5a6da881"
      },
      "outputs": [],
      "source": [
        "t = ('l', 'u', 'p', 'i', 'n')\n",
        "type(t)"
      ]
    },
    {
      "cell_type": "markdown",
      "id": "9194a159",
      "metadata": {
        "id": "9194a159"
      },
      "source": [
        "Para criar uma tupla com um único elemento, você precisa incluir uma vírgula final:"
      ]
    },
    {
      "cell_type": "code",
      "execution_count": null,
      "id": "e2596ca7",
      "metadata": {
        "id": "e2596ca7"
      },
      "outputs": [],
      "source": [
        "t1 = 'p',\n",
        "type(t1)"
      ]
    },
    {
      "cell_type": "markdown",
      "id": "e39b95a5",
      "metadata": {
        "id": "e39b95a5"
      },
      "source": [
        "Um único valor entre parênteses não é uma tupla:"
      ]
    },
    {
      "cell_type": "code",
      "execution_count": null,
      "id": "a0d350a6",
      "metadata": {
        "id": "a0d350a6"
      },
      "outputs": [],
      "source": [
        "t2 = ('p')\n",
        "type(t2)"
      ]
    },
    {
      "cell_type": "markdown",
      "id": "a64bfb64",
      "metadata": {
        "id": "a64bfb64"
      },
      "source": [
        "Outra maneira de criar uma tupla é a função interna `tuple`. Sem\n",
        "argumento, ela cria uma tupla vazia:"
      ]
    },
    {
      "cell_type": "code",
      "execution_count": null,
      "id": "c9100ee4",
      "metadata": {
        "id": "c9100ee4"
      },
      "outputs": [],
      "source": [
        "t = tuple()\n",
        "t"
      ]
    },
    {
      "cell_type": "markdown",
      "id": "f3447831",
      "metadata": {
        "id": "f3447831"
      },
      "source": [
        "Se o argumento for uma sequência (*string*, lista ou tupla), o resultado será uma tupla com os elementos da sequência:"
      ]
    },
    {
      "cell_type": "code",
      "execution_count": null,
      "id": "44bd3d83",
      "metadata": {
        "id": "44bd3d83"
      },
      "outputs": [],
      "source": [
        "t = tuple('lupin')\n",
        "t"
      ]
    },
    {
      "cell_type": "markdown",
      "id": "2e48b980",
      "metadata": {
        "id": "2e48b980"
      },
      "source": [
        "Como `tuple` é o nome de uma função interna, você deve evitar usá-lo como um nome de variável.\n",
        "\n",
        "A maioria dos operadores de listas também funciona com tuplas.\n",
        "Por exemplo, o operador de colchetes indexa um elemento:"
      ]
    },
    {
      "cell_type": "code",
      "execution_count": null,
      "id": "92e55b2c",
      "metadata": {
        "id": "92e55b2c"
      },
      "outputs": [],
      "source": [
        "t[0]"
      ]
    },
    {
      "cell_type": "markdown",
      "id": "2f702785",
      "metadata": {
        "id": "2f702785"
      },
      "source": [
        "E o operador de fatiamento seleciona um intervalo de elementos:"
      ]
    },
    {
      "cell_type": "code",
      "execution_count": null,
      "id": "38ee5c2a",
      "metadata": {
        "id": "38ee5c2a"
      },
      "outputs": [],
      "source": [
        "t[1:3]"
      ]
    },
    {
      "cell_type": "markdown",
      "id": "c9ed9af2",
      "metadata": {
        "id": "c9ed9af2"
      },
      "source": [
        "O operador `+` concatena tuplas:"
      ]
    },
    {
      "cell_type": "code",
      "execution_count": null,
      "id": "2e0e311a",
      "metadata": {
        "id": "2e0e311a"
      },
      "outputs": [],
      "source": [
        "tuple('lup') + ('i', 'n')"
      ]
    },
    {
      "cell_type": "markdown",
      "id": "1d7dcd6d",
      "metadata": {
        "id": "1d7dcd6d"
      },
      "source": [
        "E o operador `*` duplica uma tupla um determinado número de vezes:"
      ]
    },
    {
      "cell_type": "code",
      "execution_count": null,
      "id": "8bb7d715",
      "metadata": {
        "id": "8bb7d715"
      },
      "outputs": [],
      "source": [
        "tuple('spam') * 2"
      ]
    },
    {
      "cell_type": "markdown",
      "id": "a53ce8bd",
      "metadata": {
        "id": "a53ce8bd"
      },
      "source": [
        "A função `sorted` funciona com tuplas -- mas o resultado é uma lista, não uma tupla."
      ]
    },
    {
      "cell_type": "code",
      "execution_count": null,
      "id": "e653e00f",
      "metadata": {
        "id": "e653e00f"
      },
      "outputs": [],
      "source": [
        "sorted(t)"
      ]
    },
    {
      "cell_type": "markdown",
      "id": "50e5cadc",
      "metadata": {
        "id": "50e5cadc"
      },
      "source": [
        "A função `reversed` também funciona com tuplas:"
      ]
    },
    {
      "cell_type": "code",
      "execution_count": null,
      "id": "8969188d",
      "metadata": {
        "id": "8969188d"
      },
      "outputs": [],
      "source": [
        "reversed(t)"
      ]
    },
    {
      "cell_type": "markdown",
      "id": "f6d973c5",
      "metadata": {
        "id": "f6d973c5"
      },
      "source": [
        "O resultado é um objeto `reversed`, que podemos converter em uma lista ou tupla:"
      ]
    },
    {
      "cell_type": "code",
      "execution_count": null,
      "id": "65d7ebaa",
      "metadata": {
        "id": "65d7ebaa"
      },
      "outputs": [],
      "source": [
        "tuple(reversed(t))"
      ]
    },
    {
      "cell_type": "markdown",
      "id": "a7cb9ee6",
      "metadata": {
        "id": "a7cb9ee6"
      },
      "source": [
        "Com base nos exemplos até agora, pode parecer que tuplas são a mesma coisa que listas."
      ]
    },
    {
      "cell_type": "markdown",
      "id": "8c3f381e",
      "metadata": {
        "id": "8c3f381e"
      },
      "source": [
        "## Mas tuplas são imutáveis\n",
        "\n",
        "Se você tentar modificar uma tupla com o operador de colchetes, você obtém um `TypeError`:"
      ]
    },
    {
      "cell_type": "code",
      "execution_count": null,
      "id": "b4970fe0",
      "metadata": {
        "tags": [],
        "id": "b4970fe0"
      },
      "outputs": [],
      "source": [
        "%%expect TypeError\n",
        "t[0] = 'L'"
      ]
    },
    {
      "cell_type": "markdown",
      "id": "592ce99c",
      "metadata": {
        "id": "592ce99c"
      },
      "source": [
        "E tuplas não têm nenhum dos métodos que modificam listas, como `append` e `remove`:"
      ]
    },
    {
      "cell_type": "code",
      "execution_count": null,
      "id": "772738cc",
      "metadata": {
        "tags": [],
        "id": "772738cc"
      },
      "outputs": [],
      "source": [
        "%%expect AttributeError\n",
        "\n",
        "t.remove('l')"
      ]
    },
    {
      "cell_type": "markdown",
      "id": "70772ba2",
      "metadata": {
        "id": "70772ba2"
      },
      "source": [
        "Lembre-se de que um \"atributo\" é uma variável ou método associado a um objeto -- esta mensagem de erro significa que tuplas não têm um método chamado `remove`.\n",
        "\n",
        "Como tuplas são imutáveis, elas são hasheáveis, o que significa que podem ser usadas como chaves em um dicionário.\n",
        "Por exemplo, o dicionário a seguir contém duas tuplas como chaves que mapeiam para inteiros:"
      ]
    },
    {
      "cell_type": "code",
      "execution_count": null,
      "id": "37e67042",
      "metadata": {
        "id": "37e67042"
      },
      "outputs": [],
      "source": [
        "d = {}\n",
        "d[1, 2] = 3\n",
        "d[3, 4] = 7"
      ]
    },
    {
      "cell_type": "markdown",
      "id": "47ba17ab",
      "metadata": {
        "id": "47ba17ab"
      },
      "source": [
        "\n",
        "Podemos obter o valor associado a uma tupla em um dicionário assim:"
      ]
    },
    {
      "cell_type": "code",
      "execution_count": null,
      "id": "d809a490",
      "metadata": {
        "id": "d809a490"
      },
      "outputs": [],
      "source": [
        "d[1, 2]"
      ]
    },
    {
      "cell_type": "markdown",
      "id": "f2c0a354",
      "metadata": {
        "id": "f2c0a354"
      },
      "source": [
        "Ou se tivermos uma variável que se refere a uma tupla, podemos usá-la como uma chave:"
      ]
    },
    {
      "cell_type": "code",
      "execution_count": null,
      "id": "dfc42a8b",
      "metadata": {
        "id": "dfc42a8b"
      },
      "outputs": [],
      "source": [
        "t = (3, 4)\n",
        "d[t]"
      ]
    },
    {
      "cell_type": "markdown",
      "id": "2ea8fc3c",
      "metadata": {
        "id": "2ea8fc3c"
      },
      "source": [
        "Tuplas também podem aparecer como valores em um dicionário:"
      ]
    },
    {
      "cell_type": "code",
      "execution_count": null,
      "id": "2debf30c",
      "metadata": {
        "id": "2debf30c"
      },
      "outputs": [],
      "source": [
        "t = tuple('abc')\n",
        "d = {'key': t}\n",
        "d"
      ]
    },
    {
      "cell_type": "markdown",
      "id": "25655ab3",
      "metadata": {
        "id": "25655ab3"
      },
      "source": [
        "## Atribuição de tupla\n",
        "\n",
        "NOTA DO TRADUTOR: também chamada de atribuição simultânea.\n",
        "\n",
        "Você pode colocar uma tupla de variáveis ​​no lado esquerdo de uma atribuição e uma tupla de valores no lado direito:"
      ]
    },
    {
      "cell_type": "code",
      "execution_count": null,
      "id": "1e94ea37",
      "metadata": {
        "id": "1e94ea37"
      },
      "outputs": [],
      "source": [
        "a, b = 1, 2"
      ]
    },
    {
      "cell_type": "markdown",
      "id": "92c00ceb",
      "metadata": {
        "id": "92c00ceb"
      },
      "source": [
        "Os valores são atribuídos às variáveis ​​da esquerda para a direita -- neste exemplo, `a` obtém o valor `1` e `b` obtém o valor `2`.\n",
        "Podemos exibir os resultados assim:"
      ]
    },
    {
      "cell_type": "code",
      "execution_count": null,
      "id": "99c96c7f",
      "metadata": {
        "id": "99c96c7f"
      },
      "outputs": [],
      "source": [
        "a, b"
      ]
    },
    {
      "cell_type": "markdown",
      "id": "6362b36e",
      "metadata": {
        "id": "6362b36e"
      },
      "source": [
        "\n",
        "De maneira mais geral, se o lado esquerdo de uma atribuição for uma tupla, o lado direito pode ser qualquer tipo de sequência -- *string*, lista ou tupla.\n",
        "Por exemplo, para seperar um endereço de e-mail em um nome de usuário e um domínio, você pode escrever:"
      ]
    },
    {
      "cell_type": "code",
      "execution_count": null,
      "id": "b67881ed",
      "metadata": {
        "id": "b67881ed"
      },
      "outputs": [],
      "source": [
        "email = 'monty@python.org'\n",
        "username, domain = email.split('@')"
      ]
    },
    {
      "cell_type": "markdown",
      "id": "d134a94c",
      "metadata": {
        "id": "d134a94c"
      },
      "source": [
        "O valor devolvido por `split` é uma lista com dois elementos-- o primeiro elemento é atribuído a `username`, o segundo a `domain`:"
      ]
    },
    {
      "cell_type": "code",
      "execution_count": null,
      "id": "b4515e2b",
      "metadata": {
        "id": "b4515e2b"
      },
      "outputs": [],
      "source": [
        "username, domain"
      ]
    },
    {
      "cell_type": "markdown",
      "id": "5a7e3c62",
      "metadata": {
        "id": "5a7e3c62"
      },
      "source": [
        "O número de variáveis ​​à esquerda e o número de valores à\n",
        "direita devem ser os mesmos -- caso contrário, você obterá um `ValueError`:"
      ]
    },
    {
      "cell_type": "code",
      "execution_count": null,
      "id": "8e5b4a14",
      "metadata": {
        "tags": [],
        "id": "8e5b4a14"
      },
      "outputs": [],
      "source": [
        "%%expect ValueError\n",
        "a, b = 1, 2, 3"
      ]
    },
    {
      "cell_type": "markdown",
      "id": "808c2928",
      "metadata": {
        "id": "808c2928"
      },
      "source": [
        "Atribuição de tupla é útil se você quiser trocar os valores de duas variáveis.\n",
        "Com atribuições convencionais, você tem que usar uma variável temporária, como esta:"
      ]
    },
    {
      "cell_type": "code",
      "execution_count": null,
      "id": "2389d6de",
      "metadata": {
        "id": "2389d6de"
      },
      "outputs": [],
      "source": [
        "temp = a\n",
        "a = b\n",
        "b = temp"
      ]
    },
    {
      "cell_type": "markdown",
      "id": "98496d02",
      "metadata": {
        "id": "98496d02"
      },
      "source": [
        "Isso funciona, mas com a atribuição de tupla podemos fazer a mesma coisa sem uma variável temporária:"
      ]
    },
    {
      "cell_type": "code",
      "execution_count": null,
      "id": "5512edec",
      "metadata": {
        "id": "5512edec"
      },
      "outputs": [],
      "source": [
        "a, b = b, a"
      ]
    },
    {
      "cell_type": "markdown",
      "id": "a66a87bc",
      "metadata": {
        "id": "a66a87bc"
      },
      "source": [
        "Isso funciona porque todas as expressões do lado direito são avaliadas antes de qualquer uma das atribuições.\n",
        "\n",
        "Também podemos usar atribuição de tupla em uma declaração `for`.\n",
        "Por exemplo, para percorrer os itens em um dicionário, podemos usar o método `items`:"
      ]
    },
    {
      "cell_type": "code",
      "execution_count": null,
      "id": "651ab417",
      "metadata": {
        "id": "651ab417"
      },
      "outputs": [],
      "source": [
        "d = {'one': 1, 'two': 2}\n",
        "\n",
        "for item in d.items():\n",
        "    key, value = item\n",
        "    print(key, '->', value)"
      ]
    },
    {
      "cell_type": "markdown",
      "id": "dd0d4feb",
      "metadata": {
        "id": "dd0d4feb"
      },
      "source": [
        "A cada passagem do laço, `item` recebe uma tupla que contém uma chave e o valor correspondente.\n",
        "\n",
        "Podemos escrever esse laço de repetição de forma mais concisa, assim:"
      ]
    },
    {
      "cell_type": "code",
      "execution_count": null,
      "id": "2c0b7d47",
      "metadata": {
        "id": "2c0b7d47"
      },
      "outputs": [],
      "source": [
        "for key, value in d.items():\n",
        "    print(key, '->', value)"
      ]
    },
    {
      "cell_type": "markdown",
      "id": "f0513578",
      "metadata": {
        "id": "f0513578"
      },
      "source": [
        "A cada passagem pelo laço, uma chave e o valor correspondente são atribuídos diretamente a `chave` e `valor`."
      ]
    },
    {
      "cell_type": "markdown",
      "id": "efedeb37",
      "metadata": {
        "id": "efedeb37"
      },
      "source": [
        "## Tuplas como valores devolvidos\n",
        "\n",
        "A rigor, uma função só pode devolver um valor, mas se o\n",
        "valor for uma tupla, o efeito é o mesmo que retornar vários valores.\n",
        "Por exemplo, se você quiser dividir dois inteiros e calcular o quociente\n",
        "e o resto, é ineficiente calcular `x//y` e então `x%y`. É\n",
        "melhor calcular os dois ao mesmo tempo.\n",
        "\n",
        "A função interna `divmod` recebe dois argumentos e devolve uma tupla\n",
        "de dois valores, o quociente e o resto:"
      ]
    },
    {
      "cell_type": "code",
      "execution_count": null,
      "id": "fff80eaa",
      "metadata": {
        "id": "fff80eaa"
      },
      "outputs": [],
      "source": [
        "divmod(7, 3)"
      ]
    },
    {
      "cell_type": "markdown",
      "id": "33f3c57d",
      "metadata": {
        "id": "33f3c57d"
      },
      "source": [
        "Podemos usar a atribuição de tupla para armazenar os elementos da tupla em duas variáveis:"
      ]
    },
    {
      "cell_type": "code",
      "execution_count": null,
      "id": "4a0eb2a9",
      "metadata": {
        "id": "4a0eb2a9"
      },
      "outputs": [],
      "source": [
        "quotient, remainder = divmod(7, 3)\n",
        "quotient"
      ]
    },
    {
      "cell_type": "code",
      "execution_count": null,
      "id": "d74ba1b6",
      "metadata": {
        "id": "d74ba1b6"
      },
      "outputs": [],
      "source": [
        "remainder"
      ]
    },
    {
      "cell_type": "markdown",
      "id": "15079805",
      "metadata": {
        "id": "15079805"
      },
      "source": [
        "Aqui está um exemplo de uma função que devolve uma tupla:"
      ]
    },
    {
      "cell_type": "code",
      "execution_count": null,
      "id": "dad3b3bb",
      "metadata": {
        "id": "dad3b3bb"
      },
      "outputs": [],
      "source": [
        "def min_max(t):\n",
        "    return min(t), max(t)"
      ]
    },
    {
      "cell_type": "markdown",
      "id": "43c4e1e0",
      "metadata": {
        "id": "43c4e1e0"
      },
      "source": [
        "`max` e `min` são funções internas que encontram os maiores e menores elementos de uma sequência.\n",
        "`min_max` calcula ambos e devolve uma tupla de dois valores:"
      ]
    },
    {
      "cell_type": "code",
      "execution_count": null,
      "id": "fbd90b0e",
      "metadata": {
        "id": "fbd90b0e"
      },
      "outputs": [],
      "source": [
        "min_max([2, 4, 1, 3])"
      ]
    },
    {
      "cell_type": "markdown",
      "id": "86b60e71",
      "metadata": {
        "id": "86b60e71"
      },
      "source": [
        "Podemos atribuir os resultados a variáveis ​​como esta:"
      ]
    },
    {
      "cell_type": "code",
      "execution_count": null,
      "id": "5a101efb",
      "metadata": {
        "id": "5a101efb"
      },
      "outputs": [],
      "source": [
        "low, high = min_max([2, 4, 1, 3])\n",
        "low, high"
      ]
    },
    {
      "cell_type": "markdown",
      "id": "112b5aa2",
      "metadata": {
        "tags": [],
        "id": "112b5aa2"
      },
      "source": [
        "## Empacotamento de argumentos\n",
        "\n",
        "As funções podem receber um número variável de argumentos.\n",
        "Um nome de parâmetro que começa com o operador `*` **empacota** argumentos em uma tupla.\n",
        "Por exemplo, a função a seguir recebe qualquer número de argumentos e calcula sua média aritmética -- ou seja, sua soma dividida pelo número de argumentos:"
      ]
    },
    {
      "cell_type": "code",
      "execution_count": null,
      "id": "0a33e2d0",
      "metadata": {
        "id": "0a33e2d0"
      },
      "outputs": [],
      "source": [
        "def mean(*args):\n",
        "    return sum(args) / len(args)"
      ]
    },
    {
      "cell_type": "markdown",
      "id": "6044fc1b",
      "metadata": {
        "id": "6044fc1b"
      },
      "source": [
        "O parâmetro pode ter qualquer nome que você quiser, mas `args` é o convencional.\n",
        "Podemos chamar a função assim:"
      ]
    },
    {
      "cell_type": "code",
      "execution_count": null,
      "id": "336a08ca",
      "metadata": {
        "id": "336a08ca"
      },
      "outputs": [],
      "source": [
        "mean(1, 2, 3)"
      ]
    },
    {
      "cell_type": "markdown",
      "id": "a5e8b158",
      "metadata": {
        "id": "a5e8b158"
      },
      "source": [
        "Se você tem uma sequência de valores e quer passá-los para uma função como múltiplos argumentos, você pode usar o operador `*` para **desempacotar** a tupla.\n",
        "Por exemplo, `divmod` recebe exatamente dois argumentos -- se você passar uma tupla como parâmetro, você obtém um erro:"
      ]
    },
    {
      "cell_type": "code",
      "execution_count": null,
      "id": "991810bc",
      "metadata": {
        "tags": [],
        "id": "991810bc"
      },
      "outputs": [],
      "source": [
        "%%expect TypeError\n",
        "t = (7, 3)\n",
        "divmod(t)"
      ]
    },
    {
      "cell_type": "markdown",
      "id": "5a9110db",
      "metadata": {
        "id": "5a9110db"
      },
      "source": [
        "Mesmo que a tupla contenha dois elementos, ela conta como um único argumento.\n",
        "Mas se você descompactar a tupla, ela é tratada como dois argumentos:"
      ]
    },
    {
      "cell_type": "code",
      "execution_count": null,
      "id": "f25ebee1",
      "metadata": {
        "id": "f25ebee1"
      },
      "outputs": [],
      "source": [
        "divmod(*t)"
      ]
    },
    {
      "cell_type": "markdown",
      "id": "da554863",
      "metadata": {
        "id": "da554863"
      },
      "source": [
        "Empacotar e desempacotar pode ser útil se você quiser adaptar o comportamento de uma função existente.\n",
        "Por exemplo, esta função recebe qualquer número de argumentos, remove o menor e o maior, e calcula a média do restante:"
      ]
    },
    {
      "cell_type": "code",
      "execution_count": null,
      "id": "7ad64412",
      "metadata": {
        "id": "7ad64412"
      },
      "outputs": [],
      "source": [
        "def trimmed_mean(*args):\n",
        "    low, high = min_max(args)\n",
        "    trimmed = list(args)\n",
        "    trimmed.remove(low)\n",
        "    trimmed.remove(high)\n",
        "    return mean(*trimmed)"
      ]
    },
    {
      "cell_type": "markdown",
      "id": "d1e05e49",
      "metadata": {
        "id": "d1e05e49"
      },
      "source": [
        "Primeiro, ela usa `min_max` para encontrar o maior e o menor elemento.\n",
        "Então, ela converte `args` em uma lista para que possa usar o método `remove`.\n",
        "Finalmente, ela desempacota a lista para que os elementos sejam passados ​​para `mean` como argumentos separados, em vez de uma única lista.\n",
        "\n",
        "Aqui está um exemplo que mostra o efeito:"
      ]
    },
    {
      "cell_type": "code",
      "execution_count": null,
      "id": "b2863701",
      "metadata": {
        "id": "b2863701"
      },
      "outputs": [],
      "source": [
        "mean(1, 2, 3, 10)"
      ]
    },
    {
      "cell_type": "code",
      "execution_count": null,
      "id": "cc1afa29",
      "metadata": {
        "id": "cc1afa29"
      },
      "outputs": [],
      "source": [
        "trimmed_mean(1, 2, 3, 10)"
      ]
    },
    {
      "cell_type": "markdown",
      "id": "35e04996",
      "metadata": {
        "id": "35e04996"
      },
      "source": [
        "Esse tipo de média \"aparada\" é usada em alguns esportes com julgamento subjetivo -- como salto ornamental e ginástica -- para reduzir o efeito de um juiz cuja pontuação desvia da dos demais."
      ]
    },
    {
      "cell_type": "markdown",
      "id": "c4572cd2",
      "metadata": {
        "id": "c4572cd2"
      },
      "source": [
        "## Zip\n",
        "\n",
        "Tuplas são úteis para percorrer os elementos de duas sequências e executar operações em elementos correspondentes.\n",
        "Por exemplo, suponha que dois times joguem uma série de sete jogos, e nós registramos suas pontuações em duas listas, uma para cada time:"
      ]
    },
    {
      "cell_type": "code",
      "execution_count": null,
      "id": "ad3e6f81",
      "metadata": {
        "id": "ad3e6f81"
      },
      "outputs": [],
      "source": [
        "scores1 = [1, 2, 4, 5, 1, 5, 2]\n",
        "scores2 = [5, 5, 2, 2, 5, 2, 3]"
      ]
    },
    {
      "cell_type": "markdown",
      "id": "b44f228b",
      "metadata": {
        "id": "b44f228b"
      },
      "source": [
        "Vamos ver quantos jogos cada time ganhou.\n",
        "Usaremos `zip`, que é uma função interna que recebe duas ou mais sequências e devolve um **objeto zip**, assim chamado porque ele pareia os elementos das sequências como os dentes de um zíper:"
      ]
    },
    {
      "cell_type": "code",
      "execution_count": null,
      "id": "9ce313ce",
      "metadata": {
        "id": "9ce313ce"
      },
      "outputs": [],
      "source": [
        "zip(scores1, scores2)"
      ]
    },
    {
      "cell_type": "markdown",
      "id": "9adcf8f9",
      "metadata": {
        "id": "9adcf8f9"
      },
      "source": [
        "Podemos usar o objeto zip para percorrer os valores nas sequências em pares:"
      ]
    },
    {
      "cell_type": "code",
      "execution_count": null,
      "id": "321d9c30",
      "metadata": {
        "id": "321d9c30"
      },
      "outputs": [],
      "source": [
        "for pair in zip(scores1, scores2):\n",
        "     print(pair)"
      ]
    },
    {
      "cell_type": "markdown",
      "id": "51d1dabb",
      "metadata": {
        "id": "51d1dabb"
      },
      "source": [
        "A cada passagem pelo laço, `pair` recebe uma tupla de pontuações.\n",
        "Então podemos atribuir as pontuações às variáveis ​​e contar as vitórias do primeiro time, assim:"
      ]
    },
    {
      "cell_type": "code",
      "execution_count": null,
      "id": "7eb73d5d",
      "metadata": {
        "id": "7eb73d5d"
      },
      "outputs": [],
      "source": [
        "wins = 0\n",
        "for team1, team2 in zip(scores1, scores2):\n",
        "    if team1 > team2:\n",
        "        wins += 1\n",
        "\n",
        "wins"
      ]
    },
    {
      "cell_type": "markdown",
      "id": "ad740fcd",
      "metadata": {
        "id": "ad740fcd"
      },
      "source": [
        "Infelizmente, o primeiro time venceu apenas três jogos e perdeu a série.\n",
        "\n",
        "Se você tem duas listas e quer uma lista de pares, você pode usar `zip` e `list`:"
      ]
    },
    {
      "cell_type": "code",
      "execution_count": null,
      "id": "9529baa8",
      "metadata": {
        "id": "9529baa8"
      },
      "outputs": [],
      "source": [
        "t = list(zip(scores1, scores2))\n",
        "t"
      ]
    },
    {
      "cell_type": "markdown",
      "id": "ec4249fa",
      "metadata": {
        "id": "ec4249fa"
      },
      "source": [
        "O resultado é uma lista de tuplas, então podemos obter o resultado do último jogo assim:"
      ]
    },
    {
      "cell_type": "code",
      "execution_count": null,
      "id": "dbde77b8",
      "metadata": {
        "id": "dbde77b8"
      },
      "outputs": [],
      "source": [
        "t[-1]"
      ]
    },
    {
      "cell_type": "markdown",
      "id": "436486b9",
      "metadata": {
        "id": "436486b9"
      },
      "source": [
        "Se você tem uma lista de chaves e uma lista de valores, você pode usar `zip` e `dict` para fazer um dicionário.\n",
        "Por exemplo, aqui está como podemos fazer um dicionário que mapeia cada letra para a sua posição no alfabeto:"
      ]
    },
    {
      "cell_type": "code",
      "execution_count": null,
      "id": "dbb7d0b3",
      "metadata": {
        "id": "dbb7d0b3"
      },
      "outputs": [],
      "source": [
        "letters = 'abcdefghijklmnopqrstuvwxyz'\n",
        "numbers = range(len(letters))\n",
        "letter_map = dict(zip(letters, numbers))"
      ]
    },
    {
      "cell_type": "markdown",
      "id": "b4de6974",
      "metadata": {
        "id": "b4de6974"
      },
      "source": [
        "Agora podemos procurar uma letra e obter seu índice no alfabeto:"
      ]
    },
    {
      "cell_type": "code",
      "execution_count": null,
      "id": "49e3fd8e",
      "metadata": {
        "id": "49e3fd8e"
      },
      "outputs": [],
      "source": [
        "letter_map['a'], letter_map['z']"
      ]
    },
    {
      "cell_type": "markdown",
      "id": "cc632542",
      "metadata": {
        "id": "cc632542"
      },
      "source": [
        "Neste mapeamento, o índice de `'a'` é `0` e o índice de `'z'` é `25`.\n",
        "\n",
        "Se você precisar percorrer os elementos de uma sequência e seus índices, você pode usar a função interna `enumerate`:"
      ]
    },
    {
      "cell_type": "code",
      "execution_count": null,
      "id": "9e4f3e51",
      "metadata": {
        "id": "9e4f3e51"
      },
      "outputs": [],
      "source": [
        "enumerate('abc')"
      ]
    },
    {
      "cell_type": "markdown",
      "id": "92ad45bb",
      "metadata": {
        "id": "92ad45bb"
      },
      "source": [
        "O resultado é um **objeto enumerate** que percorre uma sequência de pares, em que cada par contém um índice (começando em 0) e um elemento da sequência fornecida:"
      ]
    },
    {
      "cell_type": "code",
      "execution_count": null,
      "id": "c1dcb46d",
      "metadata": {
        "id": "c1dcb46d"
      },
      "outputs": [],
      "source": [
        "for index, element in enumerate('abc'):\n",
        "    print(index, element)"
      ]
    },
    {
      "cell_type": "markdown",
      "id": "cf0b55d7",
      "metadata": {
        "id": "cf0b55d7"
      },
      "source": [
        "## Comparando e Ordenando\n",
        "\n",
        "Os operadores relacionais funcionam com tuplas e outras sequências.\n",
        "Por exemplo, se você usar o operador `<` com tuplas, ele começa comparando o primeiro elemento de cada sequência.\n",
        "Se eles forem iguais, ele passa para o próximo par de elementos, e assim por diante, até encontrar um par que seja diferente:"
      ]
    },
    {
      "cell_type": "code",
      "execution_count": null,
      "id": "aed20c28",
      "metadata": {
        "id": "aed20c28"
      },
      "outputs": [],
      "source": [
        "(0, 1, 2) < (0, 3, 4)"
      ]
    },
    {
      "cell_type": "markdown",
      "id": "65ceea86",
      "metadata": {
        "id": "65ceea86"
      },
      "source": [
        "Elementos subsequentes não são considerados -- mesmo que sejam realmente grandes:"
      ]
    },
    {
      "cell_type": "code",
      "execution_count": null,
      "id": "4d9e73b3",
      "metadata": {
        "id": "4d9e73b3"
      },
      "outputs": [],
      "source": [
        "(0, 1, 2000000) < (0, 3, 4)"
      ]
    },
    {
      "cell_type": "markdown",
      "id": "55e4a35e",
      "metadata": {
        "id": "55e4a35e"
      },
      "source": [
        "Essa maneira de comparar tuplas é útil para ordenar uma lista de tuplas ou encontrar o mínimo ou máximo.\n",
        "Como exemplo, vamos encontrar a letra mais comum em uma palavra.\n",
        "No capítulo anterior, escrevemos `value_counts`, que recebe uma *string* e devolve um dicionário que mapeia cada letra para o número de vezes que ela aparece:"
      ]
    },
    {
      "cell_type": "code",
      "execution_count": null,
      "id": "2077dfa9",
      "metadata": {
        "id": "2077dfa9"
      },
      "outputs": [],
      "source": [
        "def value_counts(string):\n",
        "    counter = {}\n",
        "    for letter in string:\n",
        "        if letter not in counter:\n",
        "            counter[letter] = 1\n",
        "        else:\n",
        "            counter[letter] += 1\n",
        "    return counter"
      ]
    },
    {
      "cell_type": "markdown",
      "id": "a80012c1",
      "metadata": {
        "id": "a80012c1"
      },
      "source": [
        "Aqui está o resultado para a *string* `'banana'`:"
      ]
    },
    {
      "cell_type": "code",
      "execution_count": null,
      "id": "b3d40516",
      "metadata": {
        "id": "b3d40516"
      },
      "outputs": [],
      "source": [
        "counter = value_counts('banana')\n",
        "counter"
      ]
    },
    {
      "cell_type": "markdown",
      "id": "cc1ea4a7",
      "metadata": {
        "id": "cc1ea4a7"
      },
      "source": [
        "Com apenas três itens, podemos ver facilmente que a letra mais frequente é `'a'`, que aparece três vezes.\n",
        "Mas se houvesse mais itens, seria útil ordená-los automaticamente.\n",
        "\n",
        "Podemos obter os itens de `counter` assim:"
      ]
    },
    {
      "cell_type": "code",
      "execution_count": null,
      "id": "8288c28f",
      "metadata": {
        "id": "8288c28f"
      },
      "outputs": [],
      "source": [
        "items = counter.items()\n",
        "items"
      ]
    },
    {
      "cell_type": "markdown",
      "id": "ac8dea7a",
      "metadata": {
        "id": "ac8dea7a"
      },
      "source": [
        "O resultado é um objeto `dict_items` que se comporta como uma lista de tuplas, então podemos ordená-lo assim:"
      ]
    },
    {
      "cell_type": "code",
      "execution_count": null,
      "id": "bbbade35",
      "metadata": {
        "id": "bbbade35"
      },
      "outputs": [],
      "source": [
        "sorted(items)"
      ]
    },
    {
      "cell_type": "markdown",
      "id": "b690d17a",
      "metadata": {
        "id": "b690d17a"
      },
      "source": [
        "O comportamento padrão é usar o primeiro elemento de cada tupla para ordenar a lista e usar o segundo elemento para desempatar.\n",
        "\n",
        "No entanto, para encontrar os itens com as contagens mais altas, queremos usar o segundo elemento para ordenar a lista.\n",
        "Podemos fazer isso escrevendo uma função que recebe uma tupla e devolve o segundo elemento:"
      ]
    },
    {
      "cell_type": "code",
      "execution_count": null,
      "id": "a4c31795",
      "metadata": {
        "id": "a4c31795"
      },
      "outputs": [],
      "source": [
        "def second_element(t):\n",
        "    return t[1]"
      ]
    },
    {
      "cell_type": "markdown",
      "id": "b964aa14",
      "metadata": {
        "id": "b964aa14"
      },
      "source": [
        "Então podemos passar essa função para `sorted` como um argumento opcional chamado `key`, que indica que essa função deve ser usada para calcular a **chave de ordenação** para cada item:"
      ]
    },
    {
      "cell_type": "code",
      "execution_count": null,
      "id": "f3d3619a",
      "metadata": {
        "id": "f3d3619a"
      },
      "outputs": [],
      "source": [
        "sorted_items = sorted(items, key=second_element)\n",
        "sorted_items"
      ]
    },
    {
      "cell_type": "markdown",
      "id": "4dc96848",
      "metadata": {
        "id": "4dc96848"
      },
      "source": [
        "A chave de ordenação determina a ordem dos itens na lista.\n",
        "A letra com a contagem mais baixa aparece primeiro, e a letra com a contagem mais alta aparece por último.\n",
        "Então podemos encontrar a letra mais comum assim:"
      ]
    },
    {
      "cell_type": "code",
      "execution_count": null,
      "id": "f078c8a6",
      "metadata": {
        "id": "f078c8a6"
      },
      "outputs": [],
      "source": [
        "sorted_items[-1]"
      ]
    },
    {
      "cell_type": "markdown",
      "id": "d0d8b999",
      "metadata": {
        "id": "d0d8b999"
      },
      "source": [
        "Se quisermos apenas o máximo, não precisamos ordenar a lista.\n",
        "Podemos usar `max`, que também recebe `key` como argumento opcional:"
      ]
    },
    {
      "cell_type": "code",
      "execution_count": null,
      "id": "54030d8f",
      "metadata": {
        "id": "54030d8f"
      },
      "outputs": [],
      "source": [
        "max(items, key=second_element)"
      ]
    },
    {
      "cell_type": "markdown",
      "id": "8a8327df",
      "metadata": {
        "id": "8a8327df"
      },
      "source": [
        "Para encontrar a letra com a menor contagem, poderíamos usar `min` da mesma maneira."
      ]
    },
    {
      "cell_type": "markdown",
      "id": "a62394a5",
      "metadata": {
        "id": "a62394a5"
      },
      "source": [
        "## Invertendo um dicionário\n",
        "\n",
        "Suponha que você queira inverter um dicionário para poder usa um valor para obter a chave correspondente.\n",
        "Por exemplo, se você tem um contador de palavras que mapeia cada palavra para o número de vezes que ela aparece, você pode fazer um dicionário que mapeia os inteiros para as palavras que aparecem esse número de vezes.\n",
        "\n",
        "Mas há um problema -- as chaves em um dicionário precisam ser únicas, mas os valores não. Por exemplo, em um contador de palavras, pode haver muitas palavras com a mesma contagem.\n",
        "\n",
        "Então, uma maneira de inverter um dicionário é criar um novo dicionário onde os valores são listas de chaves do dicionário original.\n",
        "Como exemplo, vamos contar as letras em `parrot`;"
      ]
    },
    {
      "cell_type": "code",
      "execution_count": null,
      "id": "ef158f81",
      "metadata": {
        "id": "ef158f81"
      },
      "outputs": [],
      "source": [
        "d =  value_counts('parrot')\n",
        "d"
      ]
    },
    {
      "cell_type": "markdown",
      "id": "f4570eae",
      "metadata": {
        "id": "f4570eae"
      },
      "source": [
        "Se invertermos esse dicionário, o resultado deve ser `{1: ['p', 'a', 'o', 't'], 2: ['r']}`, o que indica que as letras que aparecem uma vez são `'p'`, `'a'`, `'o'` e `'t'`, e a letra que aparece duas vezes é `'r'`.\n",
        "\n",
        "A função a seguir recebe um dicionário e devolve seu inverso como um novo dicionário:"
      ]
    },
    {
      "cell_type": "code",
      "execution_count": null,
      "id": "d3607b8d",
      "metadata": {
        "id": "d3607b8d"
      },
      "outputs": [],
      "source": [
        "def invert_dict(d):\n",
        "    new = {}\n",
        "    for key, value in d.items():\n",
        "        if value not in new:\n",
        "            new[value] = [key]\n",
        "        else:\n",
        "            new[value].append(key)\n",
        "    return new"
      ]
    },
    {
      "cell_type": "markdown",
      "id": "ca5fa025",
      "metadata": {
        "id": "ca5fa025"
      },
      "source": [
        "A instrução `for` percorre as chaves e valores em `d`.\n",
        "Se o valor ainda não estiver no novo dicionário, ele é adicionado e associado a uma lista que contém um único elemento.\n",
        "Caso contrário, ele é anexado à lista existente.\n",
        "\n",
        "Podemos testá-lo assim:"
      ]
    },
    {
      "cell_type": "code",
      "execution_count": null,
      "id": "692d9cf8",
      "metadata": {
        "id": "692d9cf8"
      },
      "outputs": [],
      "source": [
        "invert_dict(d)"
      ]
    },
    {
      "cell_type": "markdown",
      "id": "4cfb1693",
      "metadata": {
        "id": "4cfb1693"
      },
      "source": [
        "E obtemos o resultado que esperávamos.\n",
        "\n",
        "Este é o primeiro exemplo que vimos onde os valores no dicionário são listas.\n",
        "Veremos mais!"
      ]
    },
    {
      "cell_type": "markdown",
      "id": "6d138cd7",
      "metadata": {
        "tags": [],
        "id": "6d138cd7"
      },
      "source": [
        "## Depuração\n",
        "\n",
        "Listas, dicionários e tuplas são **estruturas de dados**.\n",
        "Neste capítulo, estamos começando a ver estruturas de dados compostas, como listas de tuplas ou dicionários que contêm tuplas como chaves e listas como valores.\n",
        "Estruturas de dados compostas são úteis, mas são propensas a erros causados ​​quando uma estrutura de dados tem o tipo, tamanho ou estrutura errados.\n",
        "Por exemplo, se uma função espera uma lista de inteiros e você fornece a ela um inteiro simples\n",
        "(não em uma lista), provavelmente não funcionará.\n",
        "\n",
        "Para ajudar a depurar esses tipos de erros, escrevi um módulo chamado `structshape` que fornece uma função, também chamada `structshape`, que recebe qualquer tipo de estrutura de dados como argumento e devovlve uma *string* que resume sua estrutura.\n",
        "Você pode baixá-lo em\n",
        "<https://raw.githubusercontent.com/AllenDowney/ThinkPython/v3/structshape.py>."
      ]
    },
    {
      "cell_type": "code",
      "execution_count": null,
      "id": "e9f03e91",
      "metadata": {
        "tags": [],
        "id": "e9f03e91"
      },
      "outputs": [],
      "source": [
        "download('https://raw.githubusercontent.com/AllenDowney/ThinkPython/v3/structshape.py');"
      ]
    },
    {
      "cell_type": "markdown",
      "id": "646f4d55",
      "metadata": {
        "id": "646f4d55"
      },
      "source": [
        "Podemos importá-lo assim:"
      ]
    },
    {
      "cell_type": "code",
      "execution_count": null,
      "id": "90ab624a",
      "metadata": {
        "id": "90ab624a"
      },
      "outputs": [],
      "source": [
        "from structshape import structshape"
      ]
    },
    {
      "cell_type": "markdown",
      "id": "86cc6ccc",
      "metadata": {
        "id": "86cc6ccc"
      },
      "source": [
        "Aqui está um exemplo com uma lista simples:"
      ]
    },
    {
      "cell_type": "code",
      "execution_count": null,
      "id": "6794330f",
      "metadata": {
        "id": "6794330f"
      },
      "outputs": [],
      "source": [
        "t = [1, 2, 3]\n",
        "structshape(t)"
      ]
    },
    {
      "cell_type": "markdown",
      "id": "9de4f6ec",
      "metadata": {
        "id": "9de4f6ec"
      },
      "source": [
        "Aqui está uma lista de listas:"
      ]
    },
    {
      "cell_type": "code",
      "execution_count": null,
      "id": "54cd185b",
      "metadata": {
        "id": "54cd185b"
      },
      "outputs": [],
      "source": [
        "t2 = [[1,2], [3,4], [5,6]]\n",
        "structshape(t2)"
      ]
    },
    {
      "cell_type": "markdown",
      "id": "aced9984",
      "metadata": {
        "id": "aced9984"
      },
      "source": [
        "Se os elementos da lista não forem do mesmo tipo, `structshape` os agrupa\n",
        "por tipo:"
      ]
    },
    {
      "cell_type": "code",
      "execution_count": null,
      "id": "04028afd",
      "metadata": {
        "id": "04028afd"
      },
      "outputs": [],
      "source": [
        "t3 = [1, 2, 3, 4.0, '5', '6', [7], [8], 9]\n",
        "structshape(t3)"
      ]
    },
    {
      "cell_type": "markdown",
      "id": "f63ff690",
      "metadata": {
        "id": "f63ff690"
      },
      "source": [
        "Aqui está uma lista de tuplas:"
      ]
    },
    {
      "cell_type": "code",
      "execution_count": null,
      "id": "b5d45c88",
      "metadata": {
        "id": "b5d45c88"
      },
      "outputs": [],
      "source": [
        "s = 'abc'\n",
        "lt = list(zip(t, s))\n",
        "structshape(lt)"
      ]
    },
    {
      "cell_type": "markdown",
      "id": "c9ec67eb",
      "metadata": {
        "id": "c9ec67eb"
      },
      "source": [
        "E aqui está um dicionário com três itens que mapeiam inteiros para strings:"
      ]
    },
    {
      "cell_type": "code",
      "execution_count": null,
      "id": "15131907",
      "metadata": {
        "id": "15131907"
      },
      "outputs": [],
      "source": [
        "d = dict(lt)\n",
        "structshape(d)"
      ]
    },
    {
      "cell_type": "markdown",
      "id": "f29bb82b",
      "metadata": {
        "id": "f29bb82b"
      },
      "source": [
        "Se você estiver tendo problemas para acompanhar as suas estruturas de dados, `structshape` pode ajudar."
      ]
    },
    {
      "cell_type": "markdown",
      "id": "79d93082",
      "metadata": {
        "id": "79d93082"
      },
      "source": [
        "## Glossário\n",
        "\n",
        "**empacotar** (*pack*)**:**\n",
        "Coletar vários argumentos em uma tupla.\n",
        "\n",
        "**desempacotar** (*unpack*)**:**\n",
        "Tratare uma tupla (ou outra sequência) como vários argumentos.\n",
        "\n",
        "**objeto *zip*:** (*zip object*)**:**\n",
        "O resultado da chamada da função interna `zip`, que pode ser usado para percorrer uma sequência de tuplas.\n",
        "\n",
        "**objeto *enumerate*** (*enumerate object*)**:**\n",
        "O resultado da chamada da função interna `enumerate`, que pode ser usado para percorrer uma sequência de tuplas.\n",
        "\n",
        "**chave de ordenação** (*sort key*)**:**\n",
        "Um valor, ou função que calcula um valor, usado para ordenar os elementos de uma coleção.\n",
        "\n",
        "**estrutura de dados** (*data structure*)**:**\n",
        "Uma coleção de valores, organizada para executar certas operações de forma eficiente."
      ]
    },
    {
      "cell_type": "markdown",
      "id": "1471b3c0",
      "metadata": {
        "id": "1471b3c0"
      },
      "source": [
        "## Exercícios"
      ]
    },
    {
      "cell_type": "code",
      "execution_count": null,
      "id": "c65d68d2",
      "metadata": {
        "tags": [],
        "id": "c65d68d2"
      },
      "outputs": [],
      "source": [
        "# Esta célula diz ao Jupyter para fornecer informações detalhadas de depuração\n",
        "# quando ocorre um erro de tempo de execução. Execute-a antes de trabalhar nos\n",
        "# exercícios.\n",
        "\n",
        "%xmode Verbose"
      ]
    },
    {
      "cell_type": "markdown",
      "id": "97a0352d",
      "metadata": {
        "id": "97a0352d"
      },
      "source": [
        "### Pergunte a um assistente virtual\n",
        "\n",
        "Os exercícios neste capítulo podem ser mais difíceis do que os exercícios dos capítulos anteriores, então eu recomendo que você peça ajuda a um assistente virtual.\n",
        "Quando você faz perguntas mais difíceis, você pode descobrir que as respostas não estão corretas na primeira tentativa, então esta é uma chance de praticar a elaboração de bons *prompts* e dar continuidade com bons refinamentos.\n",
        "\n",
        "Uma estratégia que você pode considerar é dividir um grande problema em partes que podem ser resolvidas com funções simples.\n",
        "Peça ao assistente virtual para escrever as funções e as teste.\n",
        "Então, quando elas estiverem funcionando, peça uma solução para o problema original.\n",
        "\n",
        "Para alguns dos exercícios abaixo, eu faço sugestões sobre quais estruturas de dados e algoritmos usar.\n",
        "Você pode achar essas sugestões úteis quando trabalhar nos problemas, mas elas também são bons *prompts* para passar para um assistente virtual."
      ]
    },
    {
      "cell_type": "markdown",
      "id": "f90e011f",
      "metadata": {
        "id": "f90e011f"
      },
      "source": [
        "### Exercício\n",
        "\n",
        "Neste capítulo eu disse que tuplas podem ser usadas como chaves em dicionários porque são hasheáveis, e são hasheáveis ​​porque são imutáveis.\n",
        "Mas isso nem sempre é verdade.\n",
        "\n",
        "Se uma tupla contém um valor mutável, como uma lista ou um dicionário, a tupla não é mais hasheável porque contém elementos que não são hasheáveis. Como exemplo, aqui está uma tupla que contém duas listas de inteiros:"
      ]
    },
    {
      "cell_type": "code",
      "execution_count": null,
      "id": "4416fe4a",
      "metadata": {
        "id": "4416fe4a"
      },
      "outputs": [],
      "source": [
        "list0 = [1, 2, 3]\n",
        "list1 = [4, 5]\n",
        "\n",
        "t = (list0, list1)\n",
        "t"
      ]
    },
    {
      "cell_type": "markdown",
      "id": "02799077",
      "metadata": {
        "id": "02799077"
      },
      "source": [
        "Escreva uma linha de código que acrescente o valor `6` ao final da segunda lista em `t`. Se você exibir `t`, o resultado deve ser `([1, 2, 3], [4, 5, 6])`."
      ]
    },
    {
      "cell_type": "code",
      "execution_count": null,
      "id": "e6eda0e4",
      "metadata": {
        "tags": [],
        "id": "e6eda0e4"
      },
      "outputs": [],
      "source": [
        "# A solução vai aqui"
      ]
    },
    {
      "cell_type": "markdown",
      "id": "644b1dfb",
      "metadata": {
        "id": "644b1dfb"
      },
      "source": [
        "Tente criar um dicionário que mapeie `t` para uma *string* e confirme se você obtém um `TypeError`."
      ]
    },
    {
      "cell_type": "code",
      "execution_count": null,
      "id": "4fae1acc",
      "metadata": {
        "tags": [],
        "id": "4fae1acc"
      },
      "outputs": [],
      "source": [
        "# A solução vai aqui"
      ]
    },
    {
      "cell_type": "markdown",
      "id": "fb77a352",
      "metadata": {
        "id": "fb77a352"
      },
      "source": [
        "Para mais informações sobre este tópico, pergunte a um assistente virtual: \"As tuplas do Python são sempre hasheáveis?\" (\"*Are Python tuples always hashable?*\")."
      ]
    },
    {
      "cell_type": "markdown",
      "id": "bdfc8c27",
      "metadata": {
        "tags": [],
        "id": "bdfc8c27"
      },
      "source": [
        "### Exercício\n",
        "\n",
        "Neste capítulo, fizemos um dicionário que mapeia cada letra para seu índice no alfabeto:"
      ]
    },
    {
      "cell_type": "code",
      "execution_count": null,
      "id": "855c7ed2",
      "metadata": {
        "id": "855c7ed2"
      },
      "outputs": [],
      "source": [
        "letters = 'abcdefghijklmnopqrstuvwxyz'\n",
        "numbers = range(len(letters))\n",
        "letter_map = dict(zip(letters, numbers))"
      ]
    },
    {
      "cell_type": "markdown",
      "id": "a8cd720b",
      "metadata": {
        "id": "a8cd720b"
      },
      "source": [
        "Por exemplo, o índice de `'a'` é `0`:"
      ]
    },
    {
      "cell_type": "code",
      "execution_count": null,
      "id": "3c921f68",
      "metadata": {
        "id": "3c921f68"
      },
      "outputs": [],
      "source": [
        "letter_map['a']"
      ]
    },
    {
      "cell_type": "markdown",
      "id": "a04c25db",
      "metadata": {
        "id": "a04c25db"
      },
      "source": [
        "Para ir na outra direção, podemos usar indexação de lista.\n",
        "Por exemplo, a letra no índice `1` é `'b'`:"
      ]
    },
    {
      "cell_type": "code",
      "execution_count": null,
      "id": "b029b0da",
      "metadata": {
        "id": "b029b0da"
      },
      "outputs": [],
      "source": [
        "letters[1]"
      ]
    },
    {
      "cell_type": "markdown",
      "id": "165ab770",
      "metadata": {
        "id": "165ab770"
      },
      "source": [
        "Podemos usar `letter_map` e `letters` para codificar e decodificar palavras usando uma cifra de César.\n",
        "\n",
        "Uma cifra de César é uma forma fraca de criptografia que envolve deslocar cada letra por um número fixo de lugares no alfabeto, voltando ao início se necessário. Por exemplo, `'a'` deslocado por 2 é `'c'` e `'z'` deslocado por 1 é `'a'`.\n",
        "\n",
        "Escreva uma função chamada `shift_word` que recebe como parâmetros uma *string* e um inteiro e devolve uma nova *string* que contém as letras da *string* deslocadas pelo número de lugares fornecido.\n",
        "\n",
        "Para testar sua função, confirme que \"cheer\" deslocado por 7 é \"jolly\" e \"melon\" deslocado por 16 é \"cubed\".\n",
        "\n",
        "Dicas: Use o operador de módulo para voltar de `'z'` para `'a'`.\n",
        "Percorra as letras da palavra, desloque cada uma e coloque o resultado em uma lista de letras. Em seguida, use `join` para concatenar as letras em uma *string*."
      ]
    },
    {
      "cell_type": "markdown",
      "id": "e7478b18",
      "metadata": {
        "tags": [],
        "id": "e7478b18"
      },
      "source": [
        "Você pode usar este esboço para começar:"
      ]
    },
    {
      "cell_type": "code",
      "execution_count": null,
      "id": "1cc07036",
      "metadata": {
        "tags": [],
        "id": "1cc07036"
      },
      "outputs": [],
      "source": [
        "def shift_word(word, n):\n",
        "    \"\"\"Desloca as letras de `word` de `n` lugares.\n",
        "\n",
        "    >>> shift_word('cheer', 7)\n",
        "    'jolly'\n",
        "    >>> shift_word('melon', 16)\n",
        "    'cubed'\n",
        "    \"\"\"\n",
        "    return None"
      ]
    },
    {
      "cell_type": "code",
      "execution_count": null,
      "id": "96560a0e",
      "metadata": {
        "id": "96560a0e"
      },
      "outputs": [],
      "source": [
        "# A solução vai aqui"
      ]
    },
    {
      "cell_type": "code",
      "execution_count": null,
      "id": "c026c6d1",
      "metadata": {
        "tags": [],
        "id": "c026c6d1"
      },
      "outputs": [],
      "source": [
        "shift_word('cheer', 7)"
      ]
    },
    {
      "cell_type": "code",
      "execution_count": null,
      "id": "5814999d",
      "metadata": {
        "tags": [],
        "id": "5814999d"
      },
      "outputs": [],
      "source": [
        "shift_word('melon', 16)"
      ]
    },
    {
      "cell_type": "markdown",
      "id": "39a67af9",
      "metadata": {
        "tags": [],
        "id": "39a67af9"
      },
      "source": [
        "Você pode usar `doctest` para testar sua função:"
      ]
    },
    {
      "cell_type": "code",
      "execution_count": null,
      "id": "9464d140",
      "metadata": {
        "tags": [],
        "id": "9464d140"
      },
      "outputs": [],
      "source": [
        "from doctest import run_docstring_examples\n",
        "\n",
        "def run_doctests(func):\n",
        "    run_docstring_examples(func, globals(), name=func.__name__)\n",
        "\n",
        "run_doctests(shift_word)"
      ]
    },
    {
      "cell_type": "markdown",
      "id": "779f13af",
      "metadata": {
        "id": "779f13af"
      },
      "source": [
        "To get the items in decreasing order, you can use `reversed` along with `sorted` or you can pass `reverse=True` as a keyword parameter to `sorted`.\n",
        "\n",
        "### Exercício\n",
        "\n",
        "Escreva uma função chamada `most_frequent_letters` que recebe uma *string* e exibe as letras em ordem decrescente de frequência.\n",
        "\n",
        "Para obter os itens em ordem decrescente, você pode usar `reversed` junto com `sorted` ou pode passar `reverse=True` como um parâmetro de palavra-chave para `sorted`:"
      ]
    },
    {
      "cell_type": "markdown",
      "id": "d71923e6",
      "metadata": {
        "tags": [],
        "id": "d71923e6"
      },
      "source": [
        "Você pode usar este esboço da função para começar:"
      ]
    },
    {
      "cell_type": "code",
      "execution_count": null,
      "id": "4309d0b5",
      "metadata": {
        "tags": [],
        "id": "4309d0b5"
      },
      "outputs": [],
      "source": [
        "def most_frequent_letters(string):\n",
        "    return None"
      ]
    },
    {
      "cell_type": "code",
      "execution_count": null,
      "id": "52228828",
      "metadata": {
        "id": "52228828"
      },
      "outputs": [],
      "source": [
        "# A solução vai aqui"
      ]
    },
    {
      "cell_type": "markdown",
      "id": "c6354c44",
      "metadata": {
        "tags": [],
        "id": "c6354c44"
      },
      "source": [
        "E este exemplo para testar sua função:"
      ]
    },
    {
      "cell_type": "code",
      "execution_count": null,
      "id": "3bf2aa0d",
      "metadata": {
        "tags": [],
        "id": "3bf2aa0d"
      },
      "outputs": [],
      "source": [
        "most_frequent_letters('brontosaurus')"
      ]
    },
    {
      "cell_type": "markdown",
      "id": "2ca1e337",
      "metadata": {
        "tags": [],
        "id": "2ca1e337"
      },
      "source": [
        "Quando sua função estiver funcionando, você pode usar o código a seguir para exibir as letras mais comuns em *Drácula*, que podemos baixar do Projeto Gutenberg."
      ]
    },
    {
      "cell_type": "code",
      "execution_count": null,
      "id": "e4fbf5d9",
      "metadata": {
        "tags": [],
        "id": "e4fbf5d9"
      },
      "outputs": [],
      "source": [
        "download('https://www.gutenberg.org/cache/epub/345/pg345.txt');"
      ]
    },
    {
      "cell_type": "code",
      "execution_count": null,
      "id": "817ec689",
      "metadata": {
        "tags": [],
        "id": "817ec689"
      },
      "outputs": [],
      "source": [
        "string = open('pg345.txt').read()\n",
        "most_frequent_letters(string)"
      ]
    },
    {
      "cell_type": "markdown",
      "id": "211c09c9",
      "metadata": {
        "tags": [],
        "id": "211c09c9"
      },
      "source": [
        "According to Zim's \"Codes and Secret Writing\", the sequence of letters in decreasing order of frequency in English starts with \"ETAONRISH\".\n",
        "How does this sequence compare with the results from *Dracula*?"
      ]
    },
    {
      "cell_type": "markdown",
      "id": "cbe9933e",
      "metadata": {
        "id": "cbe9933e"
      },
      "source": [
        "### Exercício\n",
        "\n",
        "Em um exercício anterior, testamos se duas *strings* são anagramas ordenando as letras em ambas as palavras e verificando se as letras estão na mesma ordem.\n",
        "Agora vamos tornar o problema um pouco mais desafiador.\n",
        "\n",
        "Vamos escrever um programa que recebe uma lista de palavras e exibe todos os conjuntos de palavras que são anagramas.\n",
        "Aqui está um exemplo de como a pode ser a saída:\n",
        "\n",
        "['deltas', 'desalt', 'lasted', 'salted', 'slated', 'staled']\n",
        "['retainers', 'ternaries']\n",
        "['generating', 'greatening']\n",
        "['resmelts', 'smelters', 'termless']\n",
        "\n",
        "Dica: para cada palavra na lista de palavras, ordene as letras e junte-as novamente em uma *string*. Crie um dicionário que mapeia essa *string* ordenada para uma lista de palavras que são anagramas dela."
      ]
    },
    {
      "cell_type": "markdown",
      "id": "4b9ed2a8",
      "metadata": {
        "tags": [],
        "id": "4b9ed2a8"
      },
      "source": [
        "As células a seguir baixam `words.txt` e leem as palavras em uma lista:"
      ]
    },
    {
      "cell_type": "code",
      "execution_count": null,
      "id": "941719c1",
      "metadata": {
        "tags": [],
        "id": "941719c1"
      },
      "outputs": [],
      "source": [
        "download('https://raw.githubusercontent.com/AllenDowney/ThinkPython/v3/words.txt');"
      ]
    },
    {
      "cell_type": "code",
      "execution_count": null,
      "id": "d2ec641b",
      "metadata": {
        "tags": [],
        "id": "d2ec641b"
      },
      "outputs": [],
      "source": [
        "word_list = open('words.txt').read().split()"
      ]
    },
    {
      "cell_type": "markdown",
      "id": "e4cc2c8c",
      "metadata": {
        "tags": [],
        "id": "e4cc2c8c"
      },
      "source": [
        "Aqui está a função `sort_word` que usamos antes:"
      ]
    },
    {
      "cell_type": "code",
      "execution_count": null,
      "id": "7ae29f73",
      "metadata": {
        "tags": [],
        "id": "7ae29f73"
      },
      "outputs": [],
      "source": [
        "def sort_word(word):\n",
        "    return ''.join(sorted(word))"
      ]
    },
    {
      "cell_type": "code",
      "execution_count": null,
      "id": "013819a5",
      "metadata": {
        "id": "013819a5"
      },
      "outputs": [],
      "source": [
        "# A solução vai aqui"
      ]
    },
    {
      "cell_type": "markdown",
      "id": "70faa9f5",
      "metadata": {
        "tags": [],
        "id": "70faa9f5"
      },
      "source": [
        "Para encontrar a lista mais longa de anagramas, você pode usar a seguinte função, que recebe um par chave-valor em que a chave é uma *string* e o valor é uma lista de palavras.\n",
        "Ela devolve o comprimento da lista:"
      ]
    },
    {
      "cell_type": "code",
      "execution_count": null,
      "id": "fbf9ede3",
      "metadata": {
        "tags": [],
        "id": "fbf9ede3"
      },
      "outputs": [],
      "source": [
        "def value_length(pair):\n",
        "    key, value = pair\n",
        "    return len(value)"
      ]
    },
    {
      "cell_type": "markdown",
      "id": "dcda6e28",
      "metadata": {
        "tags": [],
        "id": "dcda6e28"
      },
      "source": [
        "Podemos usar essa função como uma chave de classificação para encontrar as listas mais longas de anagramas:"
      ]
    },
    {
      "cell_type": "code",
      "execution_count": null,
      "id": "55435050",
      "metadata": {
        "tags": [],
        "id": "55435050"
      },
      "outputs": [],
      "source": [
        "anagram_items = sorted(anagram_dict.items(), key=value_length)\n",
        "for key, value in anagram_items[-10:]:\n",
        "    print(value)"
      ]
    },
    {
      "cell_type": "markdown",
      "id": "0b6d5add",
      "metadata": {
        "tags": [],
        "id": "0b6d5add"
      },
      "source": [
        "Se você quiser saber as palavras mais longas que possuem anagramas, você pode usar o seguinte laço de repetição para exibir algumas delas:"
      ]
    },
    {
      "cell_type": "code",
      "execution_count": null,
      "id": "6a9320c2",
      "metadata": {
        "tags": [],
        "id": "6a9320c2"
      },
      "outputs": [],
      "source": [
        "longest = 7\n",
        "\n",
        "for key, value in anagram_items:\n",
        "    if len(value) > 1:\n",
        "        word_len = len(value[0])\n",
        "        if word_len > longest:\n",
        "            longest = word_len\n",
        "            print(value)"
      ]
    },
    {
      "cell_type": "markdown",
      "id": "4fbe939e",
      "metadata": {
        "id": "4fbe939e"
      },
      "source": [
        "### Exercício\n",
        "\n",
        "Escreva uma função chamada `word_distance` que recebe duas palavras com o mesmo comprimento e devolve o número de lugares onde as duas palavras diferem.\n",
        "\n",
        "Dica: Use `zip` para percorrer as letras correspondentes das palavras."
      ]
    },
    {
      "cell_type": "markdown",
      "id": "8b48dbdc",
      "metadata": {
        "tags": [],
        "id": "8b48dbdc"
      },
      "source": [
        "Aqui está um esboço da função com doctests que você pode usar para verificar sua função:"
      ]
    },
    {
      "cell_type": "code",
      "execution_count": null,
      "id": "3d5a75f8",
      "metadata": {
        "tags": [],
        "id": "3d5a75f8"
      },
      "outputs": [],
      "source": [
        "def word_distance(word1, word2):\n",
        "    \"\"\"Calcula o número de lugares onde duas palavras diferem.\n",
        "\n",
        "    >>> word_distance(\"hello\", \"hxllo\")\n",
        "    1\n",
        "    >>> word_distance(\"ample\", \"apply\")\n",
        "    2\n",
        "    >>> word_distance(\"kitten\", \"mutton\")\n",
        "    3\n",
        "    \"\"\"\n",
        "    return None"
      ]
    },
    {
      "cell_type": "code",
      "execution_count": null,
      "id": "a9816dde",
      "metadata": {
        "id": "a9816dde"
      },
      "outputs": [],
      "source": [
        "# A solução vai aqui"
      ]
    },
    {
      "cell_type": "code",
      "execution_count": null,
      "id": "753a23c1",
      "metadata": {
        "tags": [],
        "id": "753a23c1"
      },
      "outputs": [],
      "source": [
        "from doctest import run_docstring_examples\n",
        "\n",
        "def run_doctests(func):\n",
        "    run_docstring_examples(func, globals(), name=func.__name__)\n",
        "\n",
        "run_doctests(word_distance)"
      ]
    },
    {
      "cell_type": "markdown",
      "id": "066eec59",
      "metadata": {
        "id": "066eec59"
      },
      "source": [
        "### Exercício\n",
        "\n",
        "\"Metátese\" é a transposição de letras em uma palavra.\n",
        "Duas palavras formam um \"par de metátese\" se você puder transformar uma na outra trocando duas letras, como `converse` e ​​`conserve`.\n",
        "Escreva um programa que encontre todos os pares de metátese na lista de palavras.\n",
        "\n",
        "Dica: As palavras em um par de metáteses devem ser anagramas uma da outra.\n",
        "\n",
        "Crédito: Este exercício é inspirado em um exemplo em <http://puzzlers.org>."
      ]
    },
    {
      "cell_type": "code",
      "execution_count": null,
      "id": "57649075",
      "metadata": {
        "id": "57649075"
      },
      "outputs": [],
      "source": [
        "# A solução vai aqui"
      ]
    },
    {
      "cell_type": "markdown",
      "id": "6a028806",
      "metadata": {
        "tags": [],
        "id": "6a028806"
      },
      "source": [
        "### Exercício\n",
        "\n",
        "Este é um exercício bônus que não está no livro.\n",
        "É mais desafiador do que os outros exercícios deste capítulo, então você pode pedir ajuda a um assistente virtual ou voltar a ele depois de ler mais alguns capítulos.\n",
        "\n",
        "Aqui está outro quebra-cabeças do Car Talk\n",
        "(<http://www.cartalk.com/content/puzzlers>):\n",
        "\n",
        "> Qual é a palavra mais longa em inglês que continua sendo uma palavra\n",
        "> válida em inglês, à medida que você remove suas letras uma de cada vez?\n",
        ">\n",
        "> Agora, as letras podem ser removidas de qualquer extremidade ou do\n",
        "> meio, mas você não pode reorganizar nenhuma das letras. Toda vez que\n",
        "> você tira uma letra, você acaba ficando com outra palavra em inglês. Se\n",
        "> você fizer isso, você acabará ficando com apenas uma letra e essa\n",
        "> também será  uma palavra em inglês---uma que é encontrada no\n",
        "> dicionário. Eu quero  saber qual é a palavra mais longa e quantas\n",
        "> letras ela tem?\n",
        ">\n",
        "> Vou dar um pequeno exemplo modesto: *Sprite*. Ok? Você começa\n",
        "> com *sprite*, tira uma letra, uma do interior da\n",
        "> palavra, tira o *r*, e ficamos com a palavra *spite*, então\n",
        "> tiramos o *e* do final, ficamos com *spit*, tiramos o *s*, ficamos\n",
        "> com *pit*, *it* e *I*.\n",
        "\n",
        "Escreva um programa para encontrar todas as palavras que podem ser reduzidas dessa forma, e então encontre a mais longa.\n",
        "\n",
        "Este exercício é um pouco mais desafiador do que a maioria, então aqui estão algumas sugestões:\n",
        "\n",
        "1. Você pode querer escrever uma função que pegue uma palavra e calcule uma lista de todas as palavras que podem ser formadas removendo uma letra.\n",
        "Estas são as \"crianças\" da palavra.\n",
        "\n",
        "2. Recursivamente, uma palavra é redutível se qualquer uma de suas filhas for redutível. Como caso base, você pode considerar a *string* vazia\n",
        "redutível.\n",
        "\n",
        "3. A lista de palavras que temos usado não contém palavras de uma única letra. Então você pode ter que adicionar \"I\" e \"a\".\n",
        "\n",
        "4. Para melhorar o desempenho do seu programa, você pode querer\n",
        "memoizar as palavras que são conhecidas por serem redutíveis."
      ]
    },
    {
      "cell_type": "code",
      "execution_count": null,
      "id": "c19bf833",
      "metadata": {
        "id": "c19bf833"
      },
      "outputs": [],
      "source": [
        "# A solução vai aqui"
      ]
    },
    {
      "cell_type": "code",
      "execution_count": null,
      "id": "2d9764d6",
      "metadata": {
        "id": "2d9764d6"
      },
      "outputs": [],
      "source": [
        "# A solução vai aqui"
      ]
    },
    {
      "cell_type": "code",
      "execution_count": null,
      "id": "5e4f5d8e",
      "metadata": {
        "id": "5e4f5d8e"
      },
      "outputs": [],
      "source": [
        "# A solução vai aqui"
      ]
    },
    {
      "cell_type": "code",
      "execution_count": null,
      "id": "27d311dd",
      "metadata": {
        "id": "27d311dd"
      },
      "outputs": [],
      "source": [
        "# A solução vai aqui"
      ]
    },
    {
      "cell_type": "code",
      "execution_count": null,
      "id": "68c27c7e",
      "metadata": {
        "id": "68c27c7e"
      },
      "outputs": [],
      "source": [
        "# A solução vai aqui"
      ]
    },
    {
      "cell_type": "markdown",
      "id": "a7f4edf8",
      "metadata": {
        "tags": [],
        "id": "a7f4edf8"
      },
      "source": [
        "[Pense Python: 3ª Edição](https://rodrigocarlson.github.io/PensePython3ed/)\n",
        "\n",
        "Copyright 2024 [Allen B. Downey](https://allendowney.com/) (versão original)\n",
        "\n",
        "Copyright 2025 [Rodrigo Castelan Carlson](https://rodrigocarlson.paginas.ufsc.br/) (desta versão)\n",
        "\n",
        "Foram preservadas as mesmas licenças da versão original.\n",
        "\n",
        "Licença dos códigos: [MIT License](https://mit-license.org/)\n",
        "\n",
        "Licença dos textos: [Creative Commons Attribution-NonCommercial-ShareAlike 4.0 International](https://creativecommons.org/licenses/by-nc-sa/4.0/)"
      ]
    }
  ],
  "metadata": {
    "celltoolbar": "Tags",
    "kernelspec": {
      "display_name": "Python 3 (ipykernel)",
      "language": "python",
      "name": "python3"
    },
    "language_info": {
      "codemirror_mode": {
        "name": "ipython",
        "version": 3
      },
      "file_extension": ".py",
      "mimetype": "text/x-python",
      "name": "python",
      "nbconvert_exporter": "python",
      "pygments_lexer": "ipython3",
      "version": "3.10.11"
    },
    "colab": {
      "provenance": []
    }
  },
  "nbformat": 4,
  "nbformat_minor": 5
}