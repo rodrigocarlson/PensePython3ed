{
  "cells": [
    {
      "cell_type": "markdown",
      "id": "1331faa1",
      "metadata": {
        "id": "1331faa1"
      },
      "source": [
        "Você pode adquirir versões impressas e de e-book do *Think Python 3e* (em inglês) em\n",
        "[Bookshop.org](https://bookshop.org/a/98697/9781098155438) e\n",
        "[Amazon](https://www.amazon.com/_/dp/1098155432?smid=ATVPDKIKX0DER&_encoding=UTF8&tag=oreilly20-20&_encoding=UTF8&tag=greenteapre01-20&linkCode=ur2&linkId=e2a529f94920295d27ec8a06e757dc7c&camp=1789&creative=9325).\n",
        "\n",
        "Uma versão em língua portuguesa da 3ª edição foi publicada pela editora [Novatec](https://novatec.com.br/livros/pense-em-python-3ed/)."
      ]
    },
    {
      "cell_type": "code",
      "execution_count": null,
      "id": "217fc9bf",
      "metadata": {
        "tags": [],
        "id": "217fc9bf"
      },
      "outputs": [],
      "source": [
        "from os.path import basename, exists\n",
        "\n",
        "def download(url):\n",
        "    filename = basename(url)\n",
        "    if not exists(filename):\n",
        "        from urllib.request import urlretrieve\n",
        "\n",
        "        local, _ = urlretrieve(url, filename)\n",
        "        print(\"Downloaded \" + str(local))\n",
        "    return filename\n",
        "\n",
        "download('https://github.com/AllenDowney/ThinkPython/raw/v3/thinkpython.py');\n",
        "download('https://github.com/AllenDowney/ThinkPython/raw/v3/diagram.py');\n",
        "\n",
        "import thinkpython"
      ]
    },
    {
      "cell_type": "markdown",
      "id": "ced31782",
      "metadata": {
        "tags": [],
        "id": "ced31782"
      },
      "source": [
        "# Herança\n",
        "\n",
        "O recurso de linguagem mais frequentemente associado à programação orientada a objetos é **herança**.\n",
        "Herança é a capacidade de definir uma nova classe que é uma versão modificada de uma classe existente.\n",
        "Neste capítulo, demonstro herança usando classes que representam cartas de baralho, baralhos de cartas e mãos de pôquer.\n",
        "Se você não joga pôquer, não se preocupe -- eu lhe direi o que você precisa saber."
      ]
    },
    {
      "cell_type": "markdown",
      "id": "b19c4dae",
      "metadata": {
        "id": "b19c4dae"
      },
      "source": [
        "## Representando cartas\n",
        "\n",
        "Há 52 cartas em um baralho padrão -- cada uma delas pertence a um dos quatro naipes (*suit*) e a uma das treze classificações (*rank*).\n",
        "Os naipes são Espadas, Copas, Ouros e Paus (*Spades, Hearts, Diamonds, and Clubs*).\n",
        "As classificações são Ás (*Ace*), 2, 3, 4, 5, 6, 7, 8, 9, 10, Valete (*Jack*), Rainha (*Queen*) e Rei (*King*).\n",
        "Dependendo do jogo que você está jogando, um Ás pode ser maior que Rei ou menor que 2.\n",
        "\n",
        "Se quisermos definir um novo objeto para representar uma carta de baralho, é óbvio quais devem ser os atributos: `rank` e `suit`.\n",
        "É menos óbvio qual tipo os atributos devem ser.\n",
        "Uma possibilidade é usar strings como `'Spade'` para naipes e `'Queen'` para classificações.\n",
        "Um problema com essa implementação é que não seria fácil comparar cartas para ver qual tem uma classificação ou naipe maior.\n",
        "\n",
        "Uma alternativa é usar números inteiros para **codificar** as classificações e os naipes.\n",
        "Neste contexto, \"codificar\" significa que vamos definir um mapeamento entre números e naipes, ou entre números e classificações.\n",
        "Este tipo de codificação não é para ser um segredo (isso seria \"criptografia\")."
      ]
    },
    {
      "cell_type": "markdown",
      "id": "a9bafecf",
      "metadata": {
        "id": "a9bafecf"
      },
      "source": [
        "Por exemplo, esta tabela mostra os naipes e os códigos inteiros correspondentes:\n",
        "\n",
        "| Suit | Code |\n",
        "| --- | --- |\n",
        "|  Spades     |   3  |\n",
        "|  Hearts     |   2  |\n",
        "|  Diamonds   |   1  |\n",
        "|  Clubs      |   0  |\n",
        "\n",
        "\n",
        "Com esta codificação, podemos comparar naipes comparando seus códigos."
      ]
    },
    {
      "cell_type": "markdown",
      "id": "a1b46b1a",
      "metadata": {
        "id": "a1b46b1a"
      },
      "source": [
        "Para codificar as classificações, usaremos o inteiro `2` para representar a classificação `2`, `3` para representar `3` e assim por diante até `10`.\n",
        "A tabela a seguir mostra os códigos para as cartas de figuras.\n",
        "\n",
        "| Rank | Code |\n",
        "| --- | --- |\n",
        "|  Jack     |   11  |\n",
        "|  Queen   |   12  |\n",
        "|  King      |   13  |\n",
        "\n",
        "E podemos usar `1` ou `14` para representar um Ás, dependendo se queremos que ele seja considerado menor ou maior que as outras classificações.\n",
        "\n",
        "Para representar essas codificações, usaremos duas listas de *strings*, uma com os nomes dos naipes e a outra com os nomes das classificações.\n",
        "\n",
        "Aqui está uma definição para uma classe que representa uma carta de baralho, com essas listas de strings como **variáveis ​​de classe**, que são variáveis ​​definidas dentro de uma definição de classe, mas não dentro de um método."
      ]
    },
    {
      "cell_type": "code",
      "execution_count": 3,
      "id": "ef26adf0",
      "metadata": {
        "id": "ef26adf0"
      },
      "outputs": [],
      "source": [
        "class Card:\n",
        "    \"\"\"Representa uma carta de baralho padrão.\"\"\"\n",
        "\n",
        "    suit_names = ['Clubs', 'Diamonds', 'Hearts', 'Spades']\n",
        "    rank_names = [None, 'Ace', '2', '3', '4', '5', '6', '7',\n",
        "                  '8', '9', '10', 'Jack', 'Queen', 'King', 'Ace']"
      ]
    },
    {
      "cell_type": "markdown",
      "id": "d63f798a",
      "metadata": {
        "id": "d63f798a"
      },
      "source": [
        "O primeiro elemento de `rank_names` é `None` porque não há nenhuma carta com classificação zero. Ao incluir `None` como um marcador de posição, obtemos uma lista com a propriedade agradável de que o índice `2` mapeia para a *string* `'2'`, e assim por diante.\n",
        "\n",
        "Variáveis ​​de classe são associadas à classe, em vez de uma instância da classe, então podemos acessá-las assim:"
      ]
    },
    {
      "cell_type": "code",
      "execution_count": null,
      "id": "4e4bd268",
      "metadata": {
        "id": "4e4bd268"
      },
      "outputs": [],
      "source": [
        "Card.suit_names"
      ]
    },
    {
      "cell_type": "markdown",
      "id": "c837fff6",
      "metadata": {
        "id": "c837fff6"
      },
      "source": [
        "Podemos usar `suit_names` para procurar um naipe e obter a *string* correspondente:"
      ]
    },
    {
      "cell_type": "code",
      "execution_count": null,
      "id": "8aec2a6a",
      "metadata": {
        "id": "8aec2a6a"
      },
      "outputs": [],
      "source": [
        "Card.suit_names[0]"
      ]
    },
    {
      "cell_type": "markdown",
      "id": "a59d905e",
      "metadata": {
        "id": "a59d905e"
      },
      "source": [
        "E `rank_names` para usar com uma classificação:"
      ]
    },
    {
      "cell_type": "code",
      "execution_count": null,
      "id": "baf029e9",
      "metadata": {
        "id": "baf029e9"
      },
      "outputs": [],
      "source": [
        "Card.rank_names[11]"
      ]
    },
    {
      "cell_type": "markdown",
      "id": "50dda19b",
      "metadata": {
        "id": "50dda19b"
      },
      "source": [
        "## Atributos de carta\n",
        "\n",
        "Aqui está um método `__init__` para a classe `Card` -- ele recebe `suit` e `rank` como parâmetros e os atribui a atributos com os mesmos nomes:"
      ]
    },
    {
      "cell_type": "code",
      "execution_count": 7,
      "id": "91320ea3",
      "metadata": {
        "id": "91320ea3"
      },
      "outputs": [],
      "source": [
        "%%add_method_to Card\n",
        "\n",
        "    def __init__(self, suit, rank):\n",
        "        self.suit = suit\n",
        "        self.rank = rank"
      ]
    },
    {
      "cell_type": "markdown",
      "id": "31a2782d",
      "metadata": {
        "id": "31a2782d"
      },
      "source": [
        "Agora podemos criar um objeto `Card` como este:"
      ]
    },
    {
      "cell_type": "code",
      "execution_count": 8,
      "id": "c04bb77e",
      "metadata": {
        "id": "c04bb77e"
      },
      "outputs": [],
      "source": [
        "queen = Card(1, 12)"
      ]
    },
    {
      "cell_type": "markdown",
      "id": "85e5cf5d",
      "metadata": {
        "id": "85e5cf5d"
      },
      "source": [
        "Podemos usar a nova instância para acessar os atributos:"
      ]
    },
    {
      "cell_type": "code",
      "execution_count": null,
      "id": "b182e6fa",
      "metadata": {
        "id": "b182e6fa"
      },
      "outputs": [],
      "source": [
        "queen.suit, queen.rank"
      ]
    },
    {
      "cell_type": "markdown",
      "id": "449225d3",
      "metadata": {
        "id": "449225d3"
      },
      "source": [
        "Também é legal usar a instância para acessar as variáveis ​​de classe:"
      ]
    },
    {
      "cell_type": "code",
      "execution_count": null,
      "id": "17ce1a51",
      "metadata": {
        "id": "17ce1a51"
      },
      "outputs": [],
      "source": [
        "queen.suit_names"
      ]
    },
    {
      "cell_type": "markdown",
      "id": "97232ffa",
      "metadata": {
        "id": "97232ffa"
      },
      "source": [
        "Mas se você usar a classe, fica mais claro que elas são variáveis ​​de classe, não atributos."
      ]
    },
    {
      "cell_type": "markdown",
      "id": "7a0a79ae",
      "metadata": {
        "id": "7a0a79ae"
      },
      "source": [
        "## Exibindo cartas\n",
        "\n",
        "Aqui está um método `__str__` para objetos `Card`:"
      ]
    },
    {
      "cell_type": "code",
      "execution_count": 11,
      "id": "6709b45a",
      "metadata": {
        "id": "6709b45a"
      },
      "outputs": [],
      "source": [
        "%%add_method_to Card\n",
        "\n",
        "    def __str__(self):\n",
        "        rank_name = Card.rank_names[self.rank]\n",
        "        suit_name = Card.suit_names[self.suit]\n",
        "        return f'{rank_name} of {suit_name}'"
      ]
    },
    {
      "cell_type": "markdown",
      "id": "d6c51352",
      "metadata": {
        "id": "d6c51352"
      },
      "source": [
        "Quando exibimos uma `Card`, o Python chama o método `__str__` para obter uma representação legível do carta:"
      ]
    },
    {
      "cell_type": "code",
      "execution_count": null,
      "id": "e7f9304d",
      "metadata": {
        "id": "e7f9304d"
      },
      "outputs": [],
      "source": [
        "print(queen)"
      ]
    },
    {
      "cell_type": "markdown",
      "id": "76044b9e",
      "metadata": {
        "id": "76044b9e"
      },
      "source": [
        "O diagrama seguinte representa o objeto da classe `Card` e a instância Card.\n",
        "`Card` é um objeto classe, então seu tipo é `type`.\n",
        "`queen` é uma instância de `Card`, então seu tipo é `Card`.\n",
        "Para economizar espaço, não desenhei o conteúdo de `suit_names` e `rank_names`."
      ]
    },
    {
      "cell_type": "code",
      "execution_count": 13,
      "id": "d589ed70",
      "metadata": {
        "tags": [],
        "id": "d589ed70"
      },
      "outputs": [],
      "source": [
        "from diagram import Binding, Value, Frame, Stack\n",
        "\n",
        "bindings = [Binding(Value(name), draw_value=False)\n",
        "            for name in ['suit_names', 'rank_names']]\n",
        "\n",
        "frame1 = Frame(bindings, name='type', dy=-0.5, offsetx=0.77)\n",
        "binding1 = Binding(Value('Card'), frame1)\n",
        "\n",
        "bindings = [Binding(Value(name), Value(value))\n",
        "            for name, value in zip(['suit', 'rank'], [1, 11])]\n",
        "\n",
        "frame2 = Frame(bindings, name='Card', dy=-0.3, offsetx=0.33)\n",
        "binding2 = Binding(Value('queen'), frame2)\n",
        "\n",
        "stack = Stack([binding1, binding2], dy=-1.2)"
      ]
    },
    {
      "cell_type": "code",
      "execution_count": null,
      "id": "5518455f",
      "metadata": {
        "tags": [],
        "id": "5518455f"
      },
      "outputs": [],
      "source": [
        "from diagram import diagram, Bbox, make_list, adjust\n",
        "\n",
        "width, height, x, y = [2.11, 2.14, 0.35, 1.76]\n",
        "ax = diagram(width, height)\n",
        "bbox = stack.draw(ax, x, y)\n",
        "\n",
        "value = make_list([])\n",
        "bbox2 = value.draw(ax, x+1.66, y)\n",
        "\n",
        "value = make_list([])\n",
        "bbox3 = value.draw(ax, x+1.66, y-0.5)\n",
        "\n",
        "bbox = Bbox.union([bbox, bbox2, bbox3])\n",
        "#adjust(x, y, bbox)"
      ]
    },
    {
      "cell_type": "markdown",
      "id": "ccb8e41d",
      "metadata": {
        "id": "ccb8e41d"
      },
      "source": [
        "Cada instância de `Card` tem seus próprios atributos `suit` e `rank`, mas há apenas um objeto classe `Card` e apenas uma cópia das variáveis ​​de classe `suit_names` e `rank_names`."
      ]
    },
    {
      "cell_type": "markdown",
      "id": "98c6508d",
      "metadata": {
        "id": "98c6508d"
      },
      "source": [
        "## Comparando cartas\n",
        "\n",
        "Suponha que criamos um segundo objeto `Card` com o mesmo naipe e classificação:"
      ]
    },
    {
      "cell_type": "code",
      "execution_count": null,
      "id": "cadb115d",
      "metadata": {
        "id": "cadb115d"
      },
      "outputs": [],
      "source": [
        "queen2 = Card(1, 12)\n",
        "print(queen2)"
      ]
    },
    {
      "cell_type": "markdown",
      "id": "3c92779c",
      "metadata": {
        "id": "3c92779c"
      },
      "source": [
        "Se usarmos o operador `==` para compará-los, ele verifica se `queen` e `queen2` se referem ao mesmo objeto:"
      ]
    },
    {
      "cell_type": "code",
      "execution_count": null,
      "id": "6a625fde",
      "metadata": {
        "id": "6a625fde"
      },
      "outputs": [],
      "source": [
        "queen == queen2"
      ]
    },
    {
      "cell_type": "markdown",
      "id": "278d8abe",
      "metadata": {
        "id": "278d8abe"
      },
      "source": [
        "Eles não se referem ao mesmo objeto, então ele devolve `False`.\n",
        "Podemos mudar esse comportamento definindo o método especial `__eq__`:"
      ]
    },
    {
      "cell_type": "code",
      "execution_count": null,
      "id": "4f394e57",
      "metadata": {
        "id": "4f394e57"
      },
      "outputs": [],
      "source": [
        "%%add_method_to Card\n",
        "\n",
        "    def __eq__(self, other):\n",
        "        return self.suit == other.suit and self.rank == other.rank"
      ]
    },
    {
      "cell_type": "markdown",
      "id": "bd66a9d3",
      "metadata": {
        "id": "bd66a9d3"
      },
      "source": [
        "`__eq__` recebe dois objetos `Card` como parâmetros e devolve `True` se eles tiverem o mesmo naipe e classificação, mesmo que não sejam o mesmo objeto.\n",
        "Em outras palavras, ele verifica se eles são equivalentes, mesmo que não sejam idênticos.\n",
        "\n",
        "Quando usamos o operador `==` com objetos `Card`, o Python chama o método `__eq__`:"
      ]
    },
    {
      "cell_type": "code",
      "execution_count": null,
      "id": "2c10425b",
      "metadata": {
        "id": "2c10425b"
      },
      "outputs": [],
      "source": [
        "queen == queen2"
      ]
    },
    {
      "cell_type": "markdown",
      "id": "23d99d3e",
      "metadata": {
        "id": "23d99d3e"
      },
      "source": [
        "Como segundo teste, vamos criar uma carta com o mesmo naipe e um valor diferente:"
      ]
    },
    {
      "cell_type": "code",
      "execution_count": null,
      "id": "c2a695b4",
      "metadata": {
        "id": "c2a695b4"
      },
      "outputs": [],
      "source": [
        "six = Card(1, 6)\n",
        "print(six)"
      ]
    },
    {
      "cell_type": "markdown",
      "id": "c5f66404",
      "metadata": {
        "id": "c5f66404"
      },
      "source": [
        "Podemos confirmar que `queen` e `six` não são equivalentes:"
      ]
    },
    {
      "cell_type": "code",
      "execution_count": null,
      "id": "400c3340",
      "metadata": {
        "id": "400c3340"
      },
      "outputs": [],
      "source": [
        "queen == six"
      ]
    },
    {
      "cell_type": "markdown",
      "id": "1dcb561f",
      "metadata": {
        "id": "1dcb561f"
      },
      "source": [
        "Se usarmos o operador `!=`, Python invoca um método especial chamado `__ne__`, se existir.\n",
        "Caso contrário, ele invoca `__eq__` e inverte o resultado -- então se `__eq__` devolver `True`, o resultado do operador `!=` será `False`:"
      ]
    },
    {
      "cell_type": "code",
      "execution_count": null,
      "id": "c7d731b6",
      "metadata": {
        "id": "c7d731b6"
      },
      "outputs": [],
      "source": [
        "queen != queen2"
      ]
    },
    {
      "cell_type": "code",
      "execution_count": null,
      "id": "d2be6c82",
      "metadata": {
        "id": "d2be6c82"
      },
      "outputs": [],
      "source": [
        "queen != six"
      ]
    },
    {
      "cell_type": "markdown",
      "id": "77c48464",
      "metadata": {
        "id": "77c48464"
      },
      "source": [
        "Agora, suponha que queremos comparar duas cartas para ver qual é maior.\n",
        "Se usarmos um dos operadores relacionais, obtemos um `TypeError`:"
      ]
    },
    {
      "cell_type": "code",
      "execution_count": null,
      "id": "aa63fe2a",
      "metadata": {
        "tags": [],
        "id": "aa63fe2a"
      },
      "outputs": [],
      "source": [
        "%%expect TypeError\n",
        "\n",
        "queen < queen2"
      ]
    },
    {
      "cell_type": "markdown",
      "id": "4db0ad52",
      "metadata": {
        "id": "4db0ad52"
      },
      "source": [
        "Para alterar o comportamento do operador `<`, podemos definir um método especial chamado `__lt__`, que é a abreviação de \"menor que (em inglês \"*less than*\").\n",
        "Para o propósito deste exemplo, vamos supor que o naipe é mais importante que a classificação -- então todas as Espadas superam todos as Copas, que superam todos os Ouros, e assim por diante.\n",
        "Se duas cartas tiverem o mesmo naipe, aquela com a classificação mais alta vence.\n",
        "\n",
        "Para implementar essa lógica, usaremos o método a seguir, que devolve uma tupla contendo o naipe e a classificação de uma carta, nessa ordem:"
      ]
    },
    {
      "cell_type": "code",
      "execution_count": null,
      "id": "b2126f79",
      "metadata": {
        "id": "b2126f79"
      },
      "outputs": [],
      "source": [
        "%%add_method_to Card\n",
        "\n",
        "    def to_tuple(self):\n",
        "        return (self.suit, self.rank)"
      ]
    },
    {
      "cell_type": "markdown",
      "id": "d5062348",
      "metadata": {
        "id": "d5062348"
      },
      "source": [
        "Podemos usar este método para escrever `__lt__`:"
      ]
    },
    {
      "cell_type": "code",
      "execution_count": null,
      "id": "d4d0a652",
      "metadata": {
        "id": "d4d0a652"
      },
      "outputs": [],
      "source": [
        "%%add_method_to Card\n",
        "\n",
        "    def __lt__(self, other):\n",
        "        return self.to_tuple() < other.to_tuple()"
      ]
    },
    {
      "cell_type": "markdown",
      "id": "bd9ef8f5",
      "metadata": {
        "id": "bd9ef8f5"
      },
      "source": [
        "A comparação de tuplas compara os primeiros elementos de cada tupla, que representam os naipes.\n",
        "Se forem iguais, ela compara os segundos elementos, que representam as classificações.\n",
        "\n",
        "Agora, se usarmos o operador `<`, ele invoca o método `__lt__`:"
      ]
    },
    {
      "cell_type": "code",
      "execution_count": null,
      "id": "9d4ea1f8",
      "metadata": {
        "id": "9d4ea1f8"
      },
      "outputs": [],
      "source": [
        "six < queen"
      ]
    },
    {
      "cell_type": "markdown",
      "id": "83289a77",
      "metadata": {
        "id": "83289a77"
      },
      "source": [
        "Se usarmos o operador `>`, ele invoca um método especial chamado `__gt__`, se existir.\n",
        "Caso contrário, ele invoca `__lt__` com os argumentos na ordem oposta:"
      ]
    },
    {
      "cell_type": "code",
      "execution_count": null,
      "id": "676ede7e",
      "metadata": {
        "id": "676ede7e"
      },
      "outputs": [],
      "source": [
        "queen < queen2"
      ]
    },
    {
      "cell_type": "code",
      "execution_count": null,
      "id": "3c4854fb",
      "metadata": {
        "id": "3c4854fb"
      },
      "outputs": [],
      "source": [
        "queen > queen2"
      ]
    },
    {
      "cell_type": "markdown",
      "id": "5d0a91de",
      "metadata": {
        "id": "5d0a91de"
      },
      "source": [
        "Por fim, se usarmos o operador `<=`, ele invoca um método especial chamado `__le__`:"
      ]
    },
    {
      "cell_type": "code",
      "execution_count": null,
      "id": "27280fc2",
      "metadata": {
        "id": "27280fc2"
      },
      "outputs": [],
      "source": [
        "%%add_method_to Card\n",
        "\n",
        "    def __le__(self, other):\n",
        "        return self.to_tuple() <= other.to_tuple()"
      ]
    },
    {
      "cell_type": "markdown",
      "id": "6c85ac69",
      "metadata": {
        "id": "6c85ac69"
      },
      "source": [
        "Assim podemos verificar se uma carta é menor ou igual a outra:"
      ]
    },
    {
      "cell_type": "code",
      "execution_count": null,
      "id": "bea50d85",
      "metadata": {
        "id": "bea50d85"
      },
      "outputs": [],
      "source": [
        "queen <= queen2"
      ]
    },
    {
      "cell_type": "code",
      "execution_count": null,
      "id": "8d539454",
      "metadata": {
        "id": "8d539454"
      },
      "outputs": [],
      "source": [
        "queen <= six"
      ]
    },
    {
      "cell_type": "markdown",
      "id": "7af7b289",
      "metadata": {
        "id": "7af7b289"
      },
      "source": [
        "Se usarmos o operador `>=`, ele usa `__ge__` se existir. Caso contrário, ele invoca `__le__` com os argumentos na ordem oposta:"
      ]
    },
    {
      "cell_type": "code",
      "execution_count": null,
      "id": "e7edb7cb",
      "metadata": {
        "id": "e7edb7cb"
      },
      "outputs": [],
      "source": [
        "queen >= six"
      ]
    },
    {
      "cell_type": "markdown",
      "id": "fe2a81cc",
      "metadata": {
        "id": "fe2a81cc"
      },
      "source": [
        "Conforme os definimos, esses métodos são completos no sentido de que podemos comparar quaisquer dois objetos `Card`, e consistentes no sentido de que os resultados de diferentes operadores não se contradizem.\n",
        "Com essas duas propriedades, podemos dizer que os objetos `Card` são **totalmente ordenados**.\n",
        "E isso significa, como veremos em breve, que eles podem ser ordenados."
      ]
    },
    {
      "cell_type": "markdown",
      "id": "199f8bfc",
      "metadata": {
        "id": "199f8bfc"
      },
      "source": [
        "## Baralhos\n",
        "\n",
        "Agora que temos objetos que representam cartas, vamos definir objetos que representam baralhos.\n",
        "A seguir está uma definição de classe para `Deck` com um método `__init__` que recebe uma lista de objetos `Card` como um parâmetro e a atribui a um atributo chamado `cards`:"
      ]
    },
    {
      "cell_type": "code",
      "execution_count": null,
      "id": "b55140e3",
      "metadata": {
        "id": "b55140e3"
      },
      "outputs": [],
      "source": [
        "class Deck:\n",
        "\n",
        "    def __init__(self, cards):\n",
        "        self.cards = cards"
      ]
    },
    {
      "cell_type": "markdown",
      "id": "2d529789",
      "metadata": {
        "id": "2d529789"
      },
      "source": [
        "Para criar uma lista que conté as 52 cartas de um baralho padrão, usaremos o seguinte método estático:"
      ]
    },
    {
      "cell_type": "code",
      "execution_count": null,
      "id": "836f1a32",
      "metadata": {
        "id": "836f1a32"
      },
      "outputs": [],
      "source": [
        "%%add_method_to Deck\n",
        "\n",
        "    def make_cards():\n",
        "        cards = []\n",
        "        for suit in range(4):\n",
        "            for rank in range(2, 15):\n",
        "                card = Card(suit, rank)\n",
        "                cards.append(card)\n",
        "        return cards"
      ]
    },
    {
      "cell_type": "markdown",
      "id": "47ae8f71",
      "metadata": {
        "id": "47ae8f71"
      },
      "source": [
        "Em `make_cards`, o laço externo enumera os naipes de `0` a `3`.\n",
        "O laço interno enumera as classificações de `2` a `14` -- em que `14` representa um Ás que supera um Rei.\n",
        "Cada iteração cria uma nova `Card` com o naipe e classificação atuais e a acrescenta a `cards`.\n",
        "\n",
        "Veja como fazemos uma lista de cartas e um objeto `Deck` que a contém:"
      ]
    },
    {
      "cell_type": "code",
      "execution_count": null,
      "id": "ca50c79b",
      "metadata": {
        "id": "ca50c79b"
      },
      "outputs": [],
      "source": [
        "cards = Deck.make_cards()\n",
        "deck = Deck(cards)\n",
        "len(deck.cards)"
      ]
    },
    {
      "cell_type": "markdown",
      "id": "032ec302",
      "metadata": {
        "id": "032ec302"
      },
      "source": [
        "O baralho contém 52 cartas, como pretendido."
      ]
    },
    {
      "cell_type": "markdown",
      "id": "c2ec7f01",
      "metadata": {
        "tags": [],
        "id": "c2ec7f01"
      },
      "source": [
        "## Exibindo o baralho\n",
        "\n",
        "Aqui está um método `__str__` para `Deck`:"
      ]
    },
    {
      "cell_type": "code",
      "execution_count": null,
      "id": "1f1b923e",
      "metadata": {
        "id": "1f1b923e"
      },
      "outputs": [],
      "source": [
        "%%add_method_to Deck\n",
        "\n",
        "    def __str__(self):\n",
        "        res = []\n",
        "        for card in self.cards:\n",
        "            res.append(str(card))\n",
        "        return '\\n'.join(res)"
      ]
    },
    {
      "cell_type": "markdown",
      "id": "660f18e6",
      "metadata": {
        "id": "660f18e6"
      },
      "source": [
        "Este método demonstra uma maneira eficiente de acumular uma grande *string* -- construindo uma lista de *strings* e então usando o método de *string* `join`.\n",
        "\n",
        "Testaremos este método com um baralho que contém apenas duas cartas:"
      ]
    },
    {
      "cell_type": "code",
      "execution_count": null,
      "id": "0c55a663",
      "metadata": {
        "id": "0c55a663"
      },
      "outputs": [],
      "source": [
        "small_deck = Deck([queen, six])"
      ]
    },
    {
      "cell_type": "markdown",
      "id": "91c7145f",
      "metadata": {
        "id": "91c7145f"
      },
      "source": [
        "Se chamarmos `str`, ele invoca `__str__`:"
      ]
    },
    {
      "cell_type": "code",
      "execution_count": null,
      "id": "fb3350ef",
      "metadata": {
        "id": "fb3350ef"
      },
      "outputs": [],
      "source": [
        "str(small_deck)"
      ]
    },
    {
      "cell_type": "markdown",
      "id": "00270656",
      "metadata": {
        "id": "00270656"
      },
      "source": [
        "Quando o Jupyter exibe uma *string*, ele mostra a forma \"representacional\" da *string*, que representa uma nova linha com a sequência `\\n`.\n",
        "\n",
        "No entanto, se exibirmos o resultado, o Jupyter mostra a forma \"imprimível\" da string, que exibe a nova linha como espaço em branco:"
      ]
    },
    {
      "cell_type": "code",
      "execution_count": null,
      "id": "d67f8fd5",
      "metadata": {
        "id": "d67f8fd5"
      },
      "outputs": [],
      "source": [
        "print(small_deck)"
      ]
    },
    {
      "cell_type": "markdown",
      "id": "e97810c4",
      "metadata": {
        "id": "e97810c4"
      },
      "source": [
        "Então as cartas aparecem em linhas separadas."
      ]
    },
    {
      "cell_type": "markdown",
      "id": "52d3d597",
      "metadata": {
        "id": "52d3d597"
      },
      "source": [
        "## Adicionar, remover, embaralhar e ordenar\n",
        "\n",
        "Para distribuir cartas, gostaríamos de um método que removesse uma carta do baralho e a devolvesse. O método de lista `pop` fornece uma maneira conveniente de fazer isso:"
      ]
    },
    {
      "cell_type": "code",
      "execution_count": null,
      "id": "3836c48c",
      "metadata": {
        "id": "3836c48c"
      },
      "outputs": [],
      "source": [
        "%%add_method_to Deck\n",
        "\n",
        "    def take_card(self):\n",
        "        return self.cards.pop()"
      ]
    },
    {
      "cell_type": "markdown",
      "id": "1fcef47b",
      "metadata": {
        "id": "1fcef47b"
      },
      "source": [
        "Veja como o usamos:"
      ]
    },
    {
      "cell_type": "code",
      "execution_count": null,
      "id": "5afccad6",
      "metadata": {
        "id": "5afccad6"
      },
      "outputs": [],
      "source": [
        "card = deck.take_card()\n",
        "print(card)"
      ]
    },
    {
      "cell_type": "markdown",
      "id": "65427954",
      "metadata": {
        "id": "65427954"
      },
      "source": [
        "Podemos confirmar que restam `51` cartas no baralho:"
      ]
    },
    {
      "cell_type": "code",
      "execution_count": null,
      "id": "58f9473a",
      "metadata": {
        "id": "58f9473a"
      },
      "outputs": [],
      "source": [
        "len(deck.cards)"
      ]
    },
    {
      "cell_type": "markdown",
      "id": "7ca3614e",
      "metadata": {
        "id": "7ca3614e"
      },
      "source": [
        "Para adicionar uma carta, podemos usar o método de lista `append`:"
      ]
    },
    {
      "cell_type": "code",
      "execution_count": null,
      "id": "f3eac4b5",
      "metadata": {
        "id": "f3eac4b5"
      },
      "outputs": [],
      "source": [
        "%%add_method_to Deck\n",
        "\n",
        "    def put_card(self, card):\n",
        "        self.cards.append(card)"
      ]
    },
    {
      "cell_type": "markdown",
      "id": "2ecd8703",
      "metadata": {
        "id": "2ecd8703"
      },
      "source": [
        "Por exemplo, podemos recolocar a carta que acabamos de tirar:"
      ]
    },
    {
      "cell_type": "code",
      "execution_count": null,
      "id": "f234eff4",
      "metadata": {
        "id": "f234eff4"
      },
      "outputs": [],
      "source": [
        "deck.put_card(card)\n",
        "len(deck.cards)"
      ]
    },
    {
      "cell_type": "markdown",
      "id": "8b5af8ce",
      "metadata": {
        "id": "8b5af8ce"
      },
      "source": [
        "Para embaralhar o baralho, podemos usar a função `shuffle` do módulo `random`:"
      ]
    },
    {
      "cell_type": "code",
      "execution_count": null,
      "id": "81e60a08",
      "metadata": {
        "id": "81e60a08"
      },
      "outputs": [],
      "source": [
        "import random"
      ]
    },
    {
      "cell_type": "code",
      "execution_count": null,
      "id": "b630cbb8",
      "metadata": {
        "tags": [],
        "id": "b630cbb8"
      },
      "outputs": [],
      "source": [
        "# Esta célula inicializa o gerador de números aleatórios para que\n",
        "# sempre obtenhamos os mesmos resultados.\n",
        "\n",
        "random.seed(3)"
      ]
    },
    {
      "cell_type": "code",
      "execution_count": null,
      "id": "bea615ea",
      "metadata": {
        "id": "bea615ea"
      },
      "outputs": [],
      "source": [
        "%%add_method_to Deck\n",
        "\n",
        "    def shuffle(self):\n",
        "        random.shuffle(self.cards)"
      ]
    },
    {
      "cell_type": "markdown",
      "id": "a8cb1a7f",
      "metadata": {
        "id": "a8cb1a7f"
      },
      "source": [
        "Se embaralharmos o baralho e exibirmos as primeiras cartas, veremos que elas não estão em nenhuma ordem aparente:"
      ]
    },
    {
      "cell_type": "code",
      "execution_count": null,
      "id": "6b0f6b02",
      "metadata": {
        "id": "6b0f6b02"
      },
      "outputs": [],
      "source": [
        "deck.shuffle()\n",
        "for card in deck.cards[:4]:\n",
        "    print(card)"
      ]
    },
    {
      "cell_type": "markdown",
      "id": "a198dde3",
      "metadata": {
        "id": "a198dde3"
      },
      "source": [
        "Para ordenar os cartas, podemos usar o método de lista `sort`, que odena os elementos \"no lugar\" -- ou seja, ele modifica a lista em vez de criar uma nova lista:"
      ]
    },
    {
      "cell_type": "code",
      "execution_count": null,
      "id": "6bff10b6",
      "metadata": {
        "id": "6bff10b6"
      },
      "outputs": [],
      "source": [
        "%%add_method_to Deck\n",
        "\n",
        "    def sort(self):\n",
        "        self.cards.sort()"
      ]
    },
    {
      "cell_type": "markdown",
      "id": "d4f017c7",
      "metadata": {
        "id": "d4f017c7"
      },
      "source": [
        "Quando invocamos `sort`, ele usa o método `__lt__` para comparar cartas:"
      ]
    },
    {
      "cell_type": "code",
      "execution_count": null,
      "id": "568a6583",
      "metadata": {
        "id": "568a6583"
      },
      "outputs": [],
      "source": [
        "deck.sort()"
      ]
    },
    {
      "cell_type": "markdown",
      "id": "2bb966fd",
      "metadata": {
        "id": "2bb966fd"
      },
      "source": [
        "Se exibirmos os primeiros cartões, podemos confirmar que eles estão em ordem crescente:"
      ]
    },
    {
      "cell_type": "code",
      "execution_count": null,
      "id": "54e91c91",
      "metadata": {
        "id": "54e91c91"
      },
      "outputs": [],
      "source": [
        "for card in deck.cards[:4]:\n",
        "    print(card)"
      ]
    },
    {
      "cell_type": "markdown",
      "id": "5c41ce4d",
      "metadata": {
        "id": "5c41ce4d"
      },
      "source": [
        "Neste exemplo, `Deck.sort` não faz nada além de invocar `list.sort`.\n",
        "Passar responsabilidade dessa forma é chamado de **delegação**."
      ]
    },
    {
      "cell_type": "markdown",
      "id": "0502961b",
      "metadata": {
        "id": "0502961b"
      },
      "source": [
        "## Pais e filhos\n",
        "\n",
        "Herança é a capacidade de definir uma nova classe que é uma versão modificada de uma classe existente.\n",
        "Como exemplo, digamos que queremos que uma classe represente uma \"mão\", ou seja, as cartas seguradas por um jogador.\n",
        "\n",
        "* Uma mão é semelhante a um baralho -- ambas são compostas de uma coleção de cartas e ambas exigem operações como adicionar e remover cartas.\n",
        "\n",
        "* Uma mão também é diferente de um baralho -- há operações que queremos para mãos que não fazem sentido para um baralho. Por exemplo, no pôquer, podemos comparar duas mãos para ver qual ganha. No bridge, podemos calcular uma pontuação para uma mão para fazer um lance.\n",
        "\n",
        "Esse relacionamento entre classes -- onde uma é uma versão especializada da outra -- leva à herança.\n",
        "\n",
        "Para definir uma nova classe que é baseada em uma classe existente, colocamos o nome da classe existente entre parênteses."
      ]
    },
    {
      "cell_type": "code",
      "execution_count": null,
      "id": "f39fc598",
      "metadata": {
        "id": "f39fc598"
      },
      "outputs": [],
      "source": [
        "class Hand(Deck):\n",
        "    \"\"\"Representa uma mão de cartas de baralho.\"\"\""
      ]
    },
    {
      "cell_type": "markdown",
      "id": "339295cd",
      "metadata": {
        "id": "339295cd"
      },
      "source": [
        "Esta definição indica que `Hand` herda de `Deck`, o que significa que objetos `Hand` podem acessar métodos definidos em `Deck`, como `take_card` e `put_card`.\n",
        "\n",
        "`Hand` também herda `__init__` de `Deck`, mas se definirmos `__init__` na classe `Hand`, ele sobrescreve o da classe `Deck`:"
      ]
    },
    {
      "cell_type": "code",
      "execution_count": null,
      "id": "9e7a1045",
      "metadata": {
        "id": "9e7a1045"
      },
      "outputs": [],
      "source": [
        "%%add_method_to Hand\n",
        "\n",
        "    def __init__(self, label=''):\n",
        "        self.label = label\n",
        "        self.cards = []"
      ]
    },
    {
      "cell_type": "markdown",
      "id": "9b6a763a",
      "metadata": {
        "id": "9b6a763a"
      },
      "source": [
        "Esta versão de `__init__` recebe uma *string* opcional como parâmetro e sempre começa com uma lista vazia de cartas.\n",
        "Quando criamos uma `Hand`, o Python invoca este método, não o de `Deck` -- o que podemos confirmar verificando se o resultado tem um atributo `label`:"
      ]
    },
    {
      "cell_type": "code",
      "execution_count": null,
      "id": "8de8cff4",
      "metadata": {
        "id": "8de8cff4"
      },
      "outputs": [],
      "source": [
        "hand = Hand('player 1')\n",
        "hand.label"
      ]
    },
    {
      "cell_type": "markdown",
      "id": "b1e2a67d",
      "metadata": {
        "id": "b1e2a67d"
      },
      "source": [
        "To deal a card, we can use `take_card` to remove a card from a `Deck`, and `put_card` to add the card to a `Hand`.\n",
        "Para distribuir uma carta, podemos usar `take_card` para remover uma carta de um `Deck` e `put_card` para adicionar a carta a uma `Hand`:"
      ]
    },
    {
      "cell_type": "code",
      "execution_count": null,
      "id": "9f582ce0",
      "metadata": {
        "id": "9f582ce0"
      },
      "outputs": [],
      "source": [
        "deck = Deck(cards)\n",
        "card = deck.take_card()\n",
        "hand.put_card(card)\n",
        "print(hand)"
      ]
    },
    {
      "cell_type": "markdown",
      "id": "dc2ce06b",
      "metadata": {
        "id": "dc2ce06b"
      },
      "source": [
        "Vamos encapsular esse código em um método `Deck` chamado `move_cards`:"
      ]
    },
    {
      "cell_type": "code",
      "execution_count": null,
      "id": "180069eb",
      "metadata": {
        "id": "180069eb"
      },
      "outputs": [],
      "source": [
        "%%add_method_to Deck\n",
        "\n",
        "    def move_cards(self, other, num):\n",
        "        for i in range(num):\n",
        "            card = self.take_card()\n",
        "            other.put_card(card)"
      ]
    },
    {
      "cell_type": "markdown",
      "id": "16e6c404",
      "metadata": {
        "id": "16e6c404"
      },
      "source": [
        "Este método é polimórfico -- ou seja, ele funciona com mais de um tipo: `self` e `other` podem ser uma `Hand` ou um `Deck`.\n",
        "Então podemos usar este método para distribuir uma carta de `Deck` para uma `Hand`, de uma `Hand` para outra, ou de uma `Hand` de volta para um `Deck`:"
      ]
    },
    {
      "cell_type": "markdown",
      "id": "e648a722",
      "metadata": {
        "id": "e648a722"
      },
      "source": [
        "Quando uma nova classe herda de uma existente, a existente é chamada de **mãe** e a nova classe é chamada de **filha**. Em geral:\n",
        "\n",
        "* Instâncias da classe filha devem ter todos os atributos da classe mãe, mas podem ter atributos adicionais.\n",
        "\n",
        "* A classe filha deve ter todos os métodos da classe mãe, mas pode ter métodos adicionais.\n",
        "\n",
        "* Se uma classe filha sobrescreve um método da classe mãe, o novo método deve usar os mesmos parâmetros e devolver um resultado compatível.\n",
        "\n",
        "Este conjunto de regras é chamado de \"princípio de substituição de Liskov\" em homenagem à cientista da computação Barbara Liskov.\n",
        "\n",
        "Se você seguir essas regras, qualquer função ou método projetado para trabalhar com uma instância de uma classe mãe, como um `Deck`, também funcionará com instâncias de uma classe filha, como `Hand`.\n",
        "Se você violar essas regras, seu código entrará em colapso como um castelo de cartas (desculpe-me)."
      ]
    },
    {
      "cell_type": "markdown",
      "id": "e80873dd",
      "metadata": {
        "id": "e80873dd"
      },
      "source": [
        "## Especialização\n",
        "\n",
        "Vamos criar uma classe chamada `BridgeHand` que representa uma mão no bridge -- um jogo de cartas amplamente jogado.\n",
        "Nós herdaremos de `Hand` e adicionaremos um novo método chamado `high_card_point_count` que avalia uma mão usando um método de \"ponto de carta alta\", que soma pontos para as cartas altas na mão.\n",
        "\n",
        "Aqui está uma definição de classe que contém como uma variável de classe um dicionário que mapeia nomes de cartas para seus valores de pontos:"
      ]
    },
    {
      "cell_type": "code",
      "execution_count": null,
      "id": "b9e949cf",
      "metadata": {
        "id": "b9e949cf"
      },
      "outputs": [],
      "source": [
        "class BridgeHand(Hand):\n",
        "    \"\"\"Representa uma mão de bridge.\"\"\"\n",
        "\n",
        "    hcp_dict = {\n",
        "        'Ace': 4,\n",
        "        'King': 3,\n",
        "        'Queen': 2,\n",
        "        'Jack': 1,\n",
        "    }"
      ]
    },
    {
      "cell_type": "markdown",
      "id": "4c038717",
      "metadata": {
        "id": "4c038717"
      },
      "source": [
        "Dada a classificação de uma carta, como `12`, podemos usar `Card.rank_names` para obter a representação em string da classificação e, então, usar `hcp_dict` para obter sua pontuação:"
      ]
    },
    {
      "cell_type": "code",
      "execution_count": null,
      "id": "0586b764",
      "metadata": {
        "id": "0586b764"
      },
      "outputs": [],
      "source": [
        "rank = 12\n",
        "rank_name = Card.rank_names[rank]\n",
        "score = BridgeHand.hcp_dict.get(rank_name, 0)\n",
        "rank_name, score"
      ]
    },
    {
      "cell_type": "markdown",
      "id": "c3a7820d",
      "metadata": {
        "id": "c3a7820d"
      },
      "source": [
        "O método a seguir percorre as cartas em um `BridgeHand` e soma suas pontuações:"
      ]
    },
    {
      "cell_type": "code",
      "execution_count": null,
      "id": "f01e8027",
      "metadata": {
        "id": "f01e8027"
      },
      "outputs": [],
      "source": [
        "%%add_method_to BridgeHand\n",
        "\n",
        "    def high_card_point_count(self):\n",
        "        count = 0\n",
        "        for card in self.cards:\n",
        "            rank_name = Card.rank_names[card.rank]\n",
        "            count += BridgeHand.hcp_dict.get(rank_name, 0)\n",
        "        return count"
      ]
    },
    {
      "cell_type": "code",
      "execution_count": null,
      "id": "227bef61",
      "metadata": {
        "tags": [],
        "id": "227bef61"
      },
      "outputs": [],
      "source": [
        "# Esta célula cria um novo Deck e\n",
        "# inicializa o gerador de números aleatórios\n",
        "\n",
        "cards = Deck.make_cards()\n",
        "deck = Deck(cards)\n",
        "random.seed(3)"
      ]
    },
    {
      "cell_type": "markdown",
      "id": "94535d8e",
      "metadata": {
        "id": "94535d8e"
      },
      "source": [
        "To test it, we'll deal a hand with five cards -- a bridge hand usually has thirteen, but it's  easier to test code with small examples.\n",
        "Para testar, vamos distribuir uma mão com cinco cartas -- uma mão de bridge geralmente tem treze, mas é mais fácil testar o código com pequenos exemplos:"
      ]
    },
    {
      "cell_type": "code",
      "execution_count": null,
      "id": "f7d9275a",
      "metadata": {
        "id": "f7d9275a"
      },
      "outputs": [],
      "source": [
        "hand = BridgeHand('player 2')\n",
        "\n",
        "deck.shuffle()\n",
        "deck.move_cards(hand, 5)\n",
        "print(hand)"
      ]
    },
    {
      "cell_type": "markdown",
      "id": "a1bd2521",
      "metadata": {
        "id": "a1bd2521"
      },
      "source": [
        "E aqui está a pontuação total do Rei e da Rainha:"
      ]
    },
    {
      "cell_type": "code",
      "execution_count": null,
      "id": "ceb63a74",
      "metadata": {
        "id": "ceb63a74"
      },
      "outputs": [],
      "source": [
        "hand.high_card_point_count()"
      ]
    },
    {
      "cell_type": "markdown",
      "id": "b4f5e107",
      "metadata": {
        "id": "b4f5e107"
      },
      "source": [
        "`BridgeHand` herda as variáveis ​​e métodos de `Hand` e adiciona uma variável de classe e um método que são específicos para bridge.\n",
        "Essa maneira de usar herança é chamada de **especialização** porque define uma nova classe que é especializada para um uso particular, como jogar bridge."
      ]
    },
    {
      "cell_type": "markdown",
      "id": "b493622d",
      "metadata": {
        "id": "b493622d"
      },
      "source": [
        "## Depuração\n",
        "\n",
        "A herança é um recurso útil.\n",
        "Alguns programas que seriam repetitivos sem herança podem ser escritos de forma mais concisa com ela.\n",
        "Além disso, a herança pode facilitar a reutilização de código, já que você pode personalizar o comportamento de uma classe mãe sem precisar modificá-la.\n",
        "Em alguns casos, a estrutura de herança reflete a estrutura natural do problema, o que torna o projeto mais fácil de entender.\n",
        "\n",
        "Por outro lado, a herança pode tornar os programas difíceis de ler.\n",
        "Quando um método é invocado, às vezes não fica claro onde encontrar sua definição -- o código relevante pode estar espalhado por vários módulos.\n",
        "\n",
        "Sempre que você não tiver certeza sobre o fluxo de execução em seu programa, a solução mais simples é adicionar instruções `print` no início dos métodos relevantes.\n",
        "Se `Deck.shuffle` exibir uma mensagem que diga algo como `Running Deck.shuffle`, então, conforme o programa é executado, ele rastreia o fluxo de execução.\n",
        "\n",
        "Como alternativa, você pode usar a função a seguir, que recebe um objeto e um nome de método (como uma *string*) e devolve a classe que fornece a definição do método."
      ]
    },
    {
      "cell_type": "code",
      "execution_count": null,
      "id": "20633d57",
      "metadata": {
        "id": "20633d57"
      },
      "outputs": [],
      "source": [
        "def find_defining_class(obj, method_name):\n",
        "    \"\"\"Encontra a classe onde o método fornecido é definido.\"\"\"\n",
        "    for typ in type(obj).mro():\n",
        "        if method_name in vars(typ):\n",
        "            return typ\n",
        "    return f'Method {method_name} not found.'"
      ]
    },
    {
      "cell_type": "markdown",
      "id": "1ee8f2da",
      "metadata": {
        "id": "1ee8f2da"
      },
      "source": [
        "`find_defining_class` uses the `mro` method to get the list of class objects (types) that will be searched for methods.\n",
        "\"MRO\" stands for \"method resolution order\", which is the sequence of classes Python searches to \"resolve\" a method name -- that is, to find the function object the name refers to.\n",
        "\n",
        "As an example, let's instantiate a `BridgeHand` and then find the defining class of `shuffle`.\n",
        "\n",
        "`find_defining_class` usa o método `mro` para obter a lista de objetos classe (tipos) que serão pesquisados ​​por métodos.\n",
        "\"MRO\" significa \"*method resolution order*\", que é a sequência de classes que o Python pesquisa para \"resolver\" um nome de método -- ou seja, para encontrar o objeto de função ao qual o nome se refere.\n",
        "\n",
        "Como exemplo, vamos instanciar um `BridgeHand` e então encontrar a definição da classe `shuffle`."
      ]
    },
    {
      "cell_type": "code",
      "execution_count": null,
      "id": "c5bec04f",
      "metadata": {
        "id": "c5bec04f"
      },
      "outputs": [],
      "source": [
        "hand = BridgeHand('player 3')\n",
        "find_defining_class(hand, 'shuffle')"
      ]
    },
    {
      "cell_type": "markdown",
      "id": "eeb70a14",
      "metadata": {
        "id": "eeb70a14"
      },
      "source": [
        "O método `shuffle` para o objeto `BridgeHand` é o mesmo em `Deck`."
      ]
    },
    {
      "cell_type": "markdown",
      "id": "07f4c4bb",
      "metadata": {
        "id": "07f4c4bb"
      },
      "source": [
        "## Glossário\n",
        "\n",
        "**herança** (*inheritance*)**:**\n",
        "A capacidade de definir uma nova classe que é uma versão modificada de uma classe previamente definida.\n",
        "\n",
        "**codificar** (*encode*)**:**\n",
        "Representar um conjunto de valores usando outro conjunto de valores construindo um mapeamento entre eles.\n",
        "\n",
        "**variável de classe** (*class variable*)**:**\n",
        "Uma variável definida dentro de uma definição de classe, mas não dentro de um método.\n",
        "\n",
        "**totalmente ordenado** (*totally ordered*)**:**\n",
        "Um conjunto de objetos é totalmente ordenado se pudermos comparar quaisquer dois elementos e os resultados forem consistentes.\n",
        "\n",
        "**delegação** (*delegation*)**:**\n",
        "Quando um método passa a responsabilidade para outro método para fazer a maior parte ou todo o trabalho.\n",
        "\n",
        "**classe mãe** (*parent class*)**:**\n",
        "Uma classe da qual se herda.\n",
        "\n",
        "**classe filha** (*child class*)**:**\n",
        "Uma classe que herda de outra classe.\n",
        "\n",
        "**especialização** (*specialization*)**:**\n",
        "Uma maneira de usar herança para criar uma nova classe que é uma versão especializada de uma classe existente."
      ]
    },
    {
      "cell_type": "markdown",
      "id": "1aea9b2b",
      "metadata": {
        "id": "1aea9b2b"
      },
      "source": [
        "## Exercícios"
      ]
    },
    {
      "cell_type": "code",
      "execution_count": null,
      "id": "e281457a",
      "metadata": {
        "tags": [],
        "id": "e281457a"
      },
      "outputs": [],
      "source": [
        "# Esta célula diz ao Jupyter para fornecer informações detalhadas de depuração\n",
        "# quando ocorre um erro de tempo de execução. Execute-a antes de trabalhar nos\n",
        "# exercícios.\n",
        "\n",
        "%xmode Verbose"
      ]
    },
    {
      "cell_type": "markdown",
      "id": "7913e6b1",
      "metadata": {
        "id": "7913e6b1"
      },
      "source": [
        "### Pergunte a um assistente virtual\n",
        "\n",
        "Quando corre bem, a programação orientada a objetos pode tornar os programas mais legíveis, testáveis ​​e reutilizáveis.\n",
        "Mas também pode tornar os programas complicados e difíceis de manter.\n",
        "Como resultado, a POO é um tópico de controverso -- algumas pessoas adoram, outras não.\n",
        "\n",
        "Para saber mais sobre o tópico, pergunte a um assistente virtual:\n",
        "\n",
        "* Quais são alguns prós e contras da programação orientada a objetos? (*What are some pros and cons of object-oriented programming?*)\n",
        "\n",
        "* O que significa quando as pessoas dizem \"favorecer a composição em vez da herança\"? (What does it mean when people say \"favor composition over inheritance\"?)\n",
        "\n",
        "* O que é o princípio de substituição de Liskov? (*What is the Liskov substitution principle?*)\n",
        "\n",
        "* Python é uma linguagem orientada a objetos? (*Is Python an object-oriented language?*)\n",
        "\n",
        "* Quais são os requisitos para que um conjunto seja totalmente ordenado? (*What are the requirements for a set to be totally ordered?*)\n",
        "\n",
        "E, como sempre, considere usar um assistente virtual para ajudar com os exercícios a seguir."
      ]
    },
    {
      "cell_type": "markdown",
      "id": "1af81269",
      "metadata": {
        "id": "1af81269"
      },
      "source": [
        "### Exercício\n",
        "\n",
        "No bridge de contrato, um truque é uma rodada do jogo em que cada um dos quatro jogadores joga uma carta.\n",
        "Para representar essas cartas, definiremos uma classe que herda de `Deck`.:"
      ]
    },
    {
      "cell_type": "code",
      "execution_count": null,
      "id": "47d9ce31",
      "metadata": {
        "id": "47d9ce31"
      },
      "outputs": [],
      "source": [
        "class Trick(Deck):\n",
        "    \"\"\"RRepresenta um truque no bridge de contrato.\"\"\""
      ]
    },
    {
      "cell_type": "markdown",
      "id": "9916d562",
      "metadata": {
        "id": "9916d562"
      },
      "source": [
        "Como exemplo, considere este truque, onde o primeiro jogador lidera com o 3 de Ouros, o que significa que os Ouros são o \"naipe inicial\".\n",
        "O segundo e o terceiro jogadores \"seguem o naipe\", o que significa que eles jogam uma carta com o naipe inicial.\n",
        "O quarto jogador joga uma carta de um naipe diferente, o que significa que eles não podem ganhar o truque.\n",
        "Então o vencedor deste truque é o terceiro jogador, porque ele jogou a carta mais alta no naipe inicial:"
      ]
    },
    {
      "cell_type": "code",
      "execution_count": null,
      "id": "7bb54059",
      "metadata": {
        "id": "7bb54059"
      },
      "outputs": [],
      "source": [
        "cards = [Card(1, 3),\n",
        "         Card(1, 10),\n",
        "         Card(1, 12),\n",
        "         Card(2, 13)]\n",
        "trick = Trick(cards)\n",
        "print(trick)"
      ]
    },
    {
      "cell_type": "markdown",
      "id": "c94a1337",
      "metadata": {
        "id": "c94a1337"
      },
      "source": [
        "Escreva um método `Trick` chamado `find_winner` que percorre as cartas no `Trick` e devolve o índice da carta que ganha.\n",
        "No exemplo anterior, o índice da carta vencedora é `2`:"
      ]
    },
    {
      "cell_type": "markdown",
      "id": "60c43389",
      "metadata": {
        "tags": [],
        "id": "60c43389"
      },
      "source": [
        "Você pode usar o seguinte esboço para começar:"
      ]
    },
    {
      "cell_type": "code",
      "execution_count": null,
      "id": "72a410d7",
      "metadata": {
        "tags": [],
        "id": "72a410d7"
      },
      "outputs": [],
      "source": [
        "%%add_method_to Trick\n",
        "\n",
        "    def find_winner(self):\n",
        "        return 0"
      ]
    },
    {
      "cell_type": "code",
      "execution_count": null,
      "id": "b09cceb1",
      "metadata": {
        "tags": [],
        "id": "b09cceb1"
      },
      "outputs": [],
      "source": [
        "# A solução vai aqui"
      ]
    },
    {
      "cell_type": "markdown",
      "id": "d7e3b94c",
      "metadata": {
        "tags": [],
        "id": "d7e3b94c"
      },
      "source": [
        "Se você testar seu método com o exemplo anterior, o índice da carta vencedora deverá ser `2`:"
      ]
    },
    {
      "cell_type": "code",
      "execution_count": null,
      "id": "e185c2f7",
      "metadata": {
        "tags": [],
        "id": "e185c2f7"
      },
      "outputs": [],
      "source": [
        "trick.find_winner()"
      ]
    },
    {
      "cell_type": "markdown",
      "id": "b5b9fb4b",
      "metadata": {
        "id": "b5b9fb4b"
      },
      "source": [
        "### Exercício\n",
        "\n",
        "Os próximos exercícios pedem para você escrever funções que ordenam mãos de pôquer.\n",
        "Se você não está familiarizado com pôquer, explicarei o que você precisa saber.\n",
        "Usaremos a seguinte classe para representar mãos de pôquer:"
      ]
    },
    {
      "cell_type": "code",
      "execution_count": null,
      "id": "2558ddd1",
      "metadata": {
        "id": "2558ddd1"
      },
      "outputs": [],
      "source": [
        "class PokerHand(Hand):\n",
        "    \"\"\"Representa uma mão de pôquer.\"\"\"\n",
        "\n",
        "    def get_suit_counts(self):\n",
        "        counter = {}\n",
        "        for card in self.cards:\n",
        "            key = card.suit\n",
        "            counter[key] = counter.get(key, 0) + 1\n",
        "        return counter\n",
        "\n",
        "    def get_rank_counts(self):\n",
        "        counter = {}\n",
        "        for card in self.cards:\n",
        "            key = card.rank\n",
        "            counter[key] = counter.get(key, 0) + 1\n",
        "        return counter"
      ]
    },
    {
      "cell_type": "markdown",
      "id": "2daecced",
      "metadata": {
        "id": "2daecced"
      },
      "source": [
        "`PokerHand` possui dois métodos que ajudarão com os exercícios.\n",
        "\n",
        "* `get_suit_counts` percorre as cartas no `PokerHand`, conta o número de cartas em cada naipe e devolve um dicionário que mapeia cada código de naipe para o número de vezes que ele aparece.\n",
        "\n",
        "* `get_rank_counts` faz a mesma coisa com as classificações das cartas, devolvendo um dicionário que mapeia cada código de classificação para o número de vezes que ele aparece.\n",
        "\n",
        "Todos os exercícios a seguir podem ser feitos usando apenas os recursos do Python que aprendemos até agora, mas alguns deles são mais difíceis do que a maioria dos exercícios anteriores.\n",
        "Eu o encorajo a pedir ajuda a um assitente virtual.\n",
        "\n",
        "Para problemas como esse, geralmente funciona bem pedir conselhos gerais sobre estratégias e algoritmos.\n",
        "Então você pode escrever o código sozinho ou pedir código.\n",
        "Se você pedir código, talvez queira fornecer as definições de classe relevantes como parte do *prompt*."
      ]
    },
    {
      "cell_type": "markdown",
      "id": "ccc2d8ca",
      "metadata": {
        "id": "ccc2d8ca"
      },
      "source": [
        "Como primeiro exercício, escreveremos um método chamado `has_flush` que verifica se uma mão tem um \"*flush*\" -- ou seja, se contém pelo menos cinco cartas do mesmo naipe.\n",
        "\n",
        "Na maioria das variedades de pôquer, uma mão contém cinco ou sete cartas, mas há algumas variações exóticas em que uma mão contém outros números de cartas.\n",
        "Mas, independentemente de quantas cartas há em uma mão, as únicas que contam são as cinco que formam a melhor mão."
      ]
    },
    {
      "cell_type": "markdown",
      "id": "6911a0f6",
      "metadata": {
        "tags": [],
        "id": "6911a0f6"
      },
      "source": [
        "Você pode usar o seguinte esboço para começar:"
      ]
    },
    {
      "cell_type": "code",
      "execution_count": null,
      "id": "7aa25f29",
      "metadata": {
        "tags": [],
        "id": "7aa25f29"
      },
      "outputs": [],
      "source": [
        "%%add_method_to PokerHand\n",
        "\n",
        "    def has_flush(self):\n",
        "        \"\"\"Verifica se esta mão tem um flush.\"\"\"\n",
        "        return False"
      ]
    },
    {
      "cell_type": "code",
      "execution_count": null,
      "id": "72c769d5",
      "metadata": {
        "tags": [],
        "id": "72c769d5"
      },
      "outputs": [],
      "source": [
        "# A solução vai aqui"
      ]
    },
    {
      "cell_type": "markdown",
      "id": "07878cb3",
      "metadata": {
        "tags": [],
        "id": "07878cb3"
      },
      "source": [
        "Para testar esse método, construiremos uma mão com cinco cartas, todas de Paus, para que ela contenha um flush:"
      ]
    },
    {
      "cell_type": "code",
      "execution_count": null,
      "id": "e1c4f474",
      "metadata": {
        "tags": [],
        "id": "e1c4f474"
      },
      "outputs": [],
      "source": [
        "good_hand = PokerHand('good_hand')\n",
        "\n",
        "suit = 0\n",
        "for rank in range(10, 15):\n",
        "    card = Card(suit, rank)\n",
        "    good_hand.put_card(card)\n",
        "\n",
        "print(good_hand)"
      ]
    },
    {
      "cell_type": "markdown",
      "id": "83698207",
      "metadata": {
        "tags": [],
        "id": "83698207"
      },
      "source": [
        "Se invocarmos `get_suit_counts`, podemos confirmar que o código de classificação `0` aparece `5` vezes:"
      ]
    },
    {
      "cell_type": "code",
      "execution_count": null,
      "id": "c91e3bdb",
      "metadata": {
        "tags": [],
        "id": "c91e3bdb"
      },
      "outputs": [],
      "source": [
        "good_hand.get_suit_counts()"
      ]
    },
    {
      "cell_type": "markdown",
      "id": "fdec7276",
      "metadata": {
        "tags": [],
        "id": "fdec7276"
      },
      "source": [
        "Então `has_flush` deve devolver `True`:"
      ]
    },
    {
      "cell_type": "code",
      "execution_count": null,
      "id": "a60e233d",
      "metadata": {
        "tags": [],
        "id": "a60e233d"
      },
      "outputs": [],
      "source": [
        "good_hand.has_flush()"
      ]
    },
    {
      "cell_type": "markdown",
      "id": "ba10e1ba",
      "metadata": {
        "tags": [],
        "id": "ba10e1ba"
      },
      "source": [
        "Como segundo teste, construiremos uma mão com três paus e dois outros naipes:"
      ]
    },
    {
      "cell_type": "code",
      "execution_count": null,
      "id": "ae5063e2",
      "metadata": {
        "tags": [],
        "id": "ae5063e2"
      },
      "outputs": [],
      "source": [
        "cards = [Card(0, 2),\n",
        "         Card(0, 3),\n",
        "         Card(2, 4),\n",
        "         Card(3, 5),\n",
        "         Card(0, 7),\n",
        "        ]\n",
        "\n",
        "bad_hand = PokerHand('bad hand')\n",
        "for card in cards:\n",
        "    bad_hand.put_card(card)\n",
        "\n",
        "print(bad_hand)"
      ]
    },
    {
      "cell_type": "markdown",
      "id": "8611610f",
      "metadata": {
        "tags": [],
        "id": "8611610f"
      },
      "source": [
        "Então `has_flush` deve devolver `False`:"
      ]
    },
    {
      "cell_type": "code",
      "execution_count": null,
      "id": "940928ba",
      "metadata": {
        "tags": [],
        "id": "940928ba"
      },
      "outputs": [],
      "source": [
        "bad_hand.has_flush()"
      ]
    },
    {
      "cell_type": "markdown",
      "id": "ad716880",
      "metadata": {
        "id": "ad716880"
      },
      "source": [
        "### Exercício\n",
        "\n",
        "Escreva um método chamado `has_straight` que verifica se uma mão contém um *straight*, que é um conjunto de cinco cartas com classificações consecutivas.\n",
        "Por exemplo, se uma mão contém classificações `5`, `6`, `7`, `8` e `9`, ela contém um *straight*.\n",
        "\n",
        "Um Ás pode vir antes de um dois ou depois de um Rei, então `Ás`, `2`, `3`, `4`, `5` é um *straight*, assim como `10`, `Valete`, `Rainha`, `Rei`, `Ás`.\n",
        "Mas um *straight* não pode \"dar a volta\", então `Rei`, `Ás`, `2`, `3`, `4` não é um *straight*."
      ]
    },
    {
      "cell_type": "markdown",
      "id": "bbd04e50",
      "metadata": {
        "tags": [],
        "id": "bbd04e50"
      },
      "source": [
        "Você pode usar o seguinte esboço para começar.\n",
        "Ele inclui algumas linhas de código que contam o número de Ases -- representados com o código `1` ou `14` -- e armazenam o total em ambos os locais do contador:"
      ]
    },
    {
      "cell_type": "code",
      "execution_count": null,
      "id": "6513ef14",
      "metadata": {
        "tags": [],
        "id": "6513ef14"
      },
      "outputs": [],
      "source": [
        "%%add_method_to PokerHand\n",
        "\n",
        "    def has_straight(self, n=5):\n",
        "        \"\"\"Verifica se esta mão tem um straight com pelo menos `n` cartas.\"\"\"\n",
        "        counter = self.get_rank_counts()\n",
        "        aces = counter.get(1, 0) + counter.get(14, 0)\n",
        "        counter[1] = aces\n",
        "        counter[14] = aces\n",
        "\n",
        "        return False"
      ]
    },
    {
      "cell_type": "code",
      "execution_count": null,
      "id": "8a220d67",
      "metadata": {
        "tags": [],
        "id": "8a220d67"
      },
      "outputs": [],
      "source": [
        "# A solução vai aqui"
      ]
    },
    {
      "cell_type": "markdown",
      "id": "d2e576bf",
      "metadata": {
        "tags": [],
        "id": "d2e576bf"
      },
      "source": [
        "`good_hand`, que criamos para o exercício anterior, contém uma sequência.\n",
        "Se usarmos `get_rank_counts`, podemos confirmar que ele tem pelo menos uma carta com cada uma das cinco classificações consecutivas:"
      ]
    },
    {
      "cell_type": "code",
      "execution_count": null,
      "id": "5a422cae",
      "metadata": {
        "tags": [],
        "id": "5a422cae"
      },
      "outputs": [],
      "source": [
        "good_hand.get_rank_counts()"
      ]
    },
    {
      "cell_type": "markdown",
      "id": "009a20dd",
      "metadata": {
        "tags": [],
        "id": "009a20dd"
      },
      "source": [
        "Então `has_straight` deve devolver `True`:"
      ]
    },
    {
      "cell_type": "code",
      "execution_count": null,
      "id": "24483b99",
      "metadata": {
        "tags": [],
        "id": "24483b99"
      },
      "outputs": [],
      "source": [
        "good_hand.has_straight()"
      ]
    },
    {
      "cell_type": "markdown",
      "id": "1d79b2b6",
      "metadata": {
        "tags": [],
        "id": "1d79b2b6"
      },
      "source": [
        "`bad_hand` não contém um *straight*, então `has_straight` deve devolver `False`."
      ]
    },
    {
      "cell_type": "code",
      "execution_count": null,
      "id": "69f7cea9",
      "metadata": {
        "tags": [],
        "id": "69f7cea9"
      },
      "outputs": [],
      "source": [
        "bad_hand.has_straight()"
      ]
    },
    {
      "cell_type": "markdown",
      "id": "c1ecebd3",
      "metadata": {
        "id": "c1ecebd3"
      },
      "source": [
        "### Exercício\n",
        "\n",
        "Uma mão tem um *straight flush* se contiver um conjunto de cinco cartas que são um *straight* e um *flush* -- isto é, cinco cartas do mesmo naipe com classificações consecutivas.\n",
        "Escreva um método `PokerHand` que verifica se uma mão tem um *straight flush*."
      ]
    },
    {
      "cell_type": "markdown",
      "id": "94570008",
      "metadata": {
        "tags": [],
        "id": "94570008"
      },
      "source": [
        "Você pode usar o seguinte esboço para começar:"
      ]
    },
    {
      "cell_type": "code",
      "execution_count": null,
      "id": "88bd35fb",
      "metadata": {
        "tags": [],
        "id": "88bd35fb"
      },
      "outputs": [],
      "source": [
        "%%add_method_to PokerHand\n",
        "\n",
        "    def has_straightflush(self):\n",
        "        \"\"\"Verifique se esta mão tem um straight flush.\"\"\"\n",
        "        return False"
      ]
    },
    {
      "cell_type": "code",
      "execution_count": null,
      "id": "5e602773",
      "metadata": {
        "tags": [],
        "id": "5e602773"
      },
      "outputs": [],
      "source": [
        "# A solução vai aqui"
      ]
    },
    {
      "cell_type": "code",
      "execution_count": null,
      "id": "997b120d",
      "metadata": {
        "tags": [],
        "id": "997b120d"
      },
      "outputs": [],
      "source": [
        "# A solução vai aqui"
      ]
    },
    {
      "cell_type": "markdown",
      "id": "4a1e17b1",
      "metadata": {
        "tags": [],
        "id": "4a1e17b1"
      },
      "source": [
        "Use os exemplos a seguir para testar seu método:"
      ]
    },
    {
      "cell_type": "code",
      "execution_count": null,
      "id": "23704ab4",
      "metadata": {
        "tags": [],
        "id": "23704ab4"
      },
      "outputs": [],
      "source": [
        "good_hand.has_straightflush()     # deve devolver True"
      ]
    },
    {
      "cell_type": "code",
      "execution_count": null,
      "id": "7d8d2fdb",
      "metadata": {
        "tags": [],
        "id": "7d8d2fdb"
      },
      "outputs": [],
      "source": [
        "bad_hand.has_straightflush()     # deve devolver False"
      ]
    },
    {
      "cell_type": "markdown",
      "id": "9127ceb1",
      "metadata": {
        "tags": [],
        "id": "9127ceb1"
      },
      "source": [
        "Note que não é suficiente verificar se uma mão tem um *straight* e um *flush*.\n",
        "Para ver o porquê, considere a seguinte mão."
      ]
    },
    {
      "cell_type": "code",
      "execution_count": null,
      "id": "4c5727d9",
      "metadata": {
        "tags": [],
        "id": "4c5727d9"
      },
      "outputs": [],
      "source": [
        "from copy import deepcopy\n",
        "\n",
        "straight_and_flush = deepcopy(bad_hand)\n",
        "straight_and_flush.put_card(Card(0, 6))\n",
        "straight_and_flush.put_card(Card(0, 9))\n",
        "print(straight_and_flush)"
      ]
    },
    {
      "cell_type": "markdown",
      "id": "c4ed18e4",
      "metadata": {
        "tags": [],
        "id": "c4ed18e4"
      },
      "source": [
        "Esta mão contém um *straight* e um *flush*, mas não são as mesmas cinco cartas:"
      ]
    },
    {
      "cell_type": "code",
      "execution_count": null,
      "id": "7e65e951",
      "metadata": {
        "tags": [],
        "id": "7e65e951"
      },
      "outputs": [],
      "source": [
        " straight_and_flush.has_straight(), straight_and_flush.has_flush()"
      ]
    },
    {
      "cell_type": "markdown",
      "id": "5ff4e160",
      "metadata": {
        "tags": [],
        "id": "5ff4e160"
      },
      "source": [
        "Portanto, não contém um *straight flush*:"
      ]
    },
    {
      "cell_type": "code",
      "execution_count": null,
      "id": "758fc922",
      "metadata": {
        "tags": [],
        "id": "758fc922"
      },
      "outputs": [],
      "source": [
        "straight_and_flush.has_straightflush()    # deve devolver False"
      ]
    },
    {
      "cell_type": "markdown",
      "id": "dd742401",
      "metadata": {
        "id": "dd742401"
      },
      "source": [
        "### Exercício\n",
        "\n",
        "Uma mão de pôquer tem um par se contiver duas ou mais cartas com o mesmo valor.\n",
        "Escreva um método `PokerHand` que verifica se uma mão contém um par."
      ]
    },
    {
      "cell_type": "markdown",
      "id": "00464353",
      "metadata": {
        "tags": [],
        "id": "00464353"
      },
      "source": [
        "Você pode usar o seguinte esboço para começar:"
      ]
    },
    {
      "cell_type": "code",
      "execution_count": null,
      "id": "15a81a40",
      "metadata": {
        "tags": [],
        "id": "15a81a40"
      },
      "outputs": [],
      "source": [
        "%%add_method_to PokerHand\n",
        "\n",
        "    def check_sets(self, *need_list):\n",
        "        return True"
      ]
    },
    {
      "cell_type": "code",
      "execution_count": null,
      "id": "bc7ca211",
      "metadata": {
        "tags": [],
        "id": "bc7ca211"
      },
      "outputs": [],
      "source": [
        "# A solução vai aqui"
      ]
    },
    {
      "cell_type": "code",
      "execution_count": null,
      "id": "20b65d89",
      "metadata": {
        "tags": [],
        "id": "20b65d89"
      },
      "outputs": [],
      "source": [
        "# A solução vai aqui"
      ]
    },
    {
      "cell_type": "markdown",
      "id": "9f001207",
      "metadata": {
        "id": "9f001207"
      },
      "source": [
        "Para testar seu método, aqui está uma mão que tem um par:"
      ]
    },
    {
      "cell_type": "code",
      "execution_count": null,
      "id": "57e616be",
      "metadata": {
        "id": "57e616be"
      },
      "outputs": [],
      "source": [
        "pair = deepcopy(bad_hand)\n",
        "pair.put_card(Card(1, 2))\n",
        "print(pair)"
      ]
    },
    {
      "cell_type": "code",
      "execution_count": null,
      "id": "b8d87fd8",
      "metadata": {
        "id": "b8d87fd8"
      },
      "outputs": [],
      "source": [
        "pair.has_pair()    # deve retornar True"
      ]
    },
    {
      "cell_type": "code",
      "execution_count": null,
      "id": "3016e99a",
      "metadata": {
        "id": "3016e99a"
      },
      "outputs": [],
      "source": [
        "bad_hand.has_pair()    # deve retornar False"
      ]
    },
    {
      "cell_type": "code",
      "execution_count": null,
      "id": "852e3b11",
      "metadata": {
        "id": "852e3b11"
      },
      "outputs": [],
      "source": [
        "good_hand.has_pair()   # deve retornar False"
      ]
    },
    {
      "cell_type": "markdown",
      "id": "c4180a64",
      "metadata": {
        "id": "c4180a64"
      },
      "source": [
        "### Exercício\n",
        "\n",
        "Uma mão tem um *full house* se contiver três cartas de um valor e duas cartas de outro valor.\n",
        "Escreva um método `PokerHand` que verifica se uma mão tem um *full house*."
      ]
    },
    {
      "cell_type": "markdown",
      "id": "5aa80ee6",
      "metadata": {
        "tags": [],
        "id": "5aa80ee6"
      },
      "source": [
        "Você pode usar o seguinte esboço para começar:"
      ]
    },
    {
      "cell_type": "code",
      "execution_count": null,
      "id": "1f95601d",
      "metadata": {
        "tags": [],
        "id": "1f95601d"
      },
      "outputs": [],
      "source": [
        "%%add_method_to PokerHand\n",
        "\n",
        "    def has_full_house(self):\n",
        "        return False"
      ]
    },
    {
      "cell_type": "code",
      "execution_count": null,
      "id": "420ca0fd",
      "metadata": {
        "tags": [],
        "id": "420ca0fd"
      },
      "outputs": [],
      "source": [
        "# A solução vai aqui"
      ]
    },
    {
      "cell_type": "markdown",
      "id": "f020cf9e",
      "metadata": {
        "tags": [],
        "id": "f020cf9e"
      },
      "source": [
        "Você pode usar esta mão para testar seu método:"
      ]
    },
    {
      "cell_type": "code",
      "execution_count": null,
      "id": "1e4957cb",
      "metadata": {
        "tags": [],
        "id": "1e4957cb"
      },
      "outputs": [],
      "source": [
        "boat = deepcopy(pair)\n",
        "boat.put_card(Card(2, 2))\n",
        "boat.put_card(Card(2, 3))\n",
        "print(boat)"
      ]
    },
    {
      "cell_type": "code",
      "execution_count": null,
      "id": "4dc8b899",
      "metadata": {
        "tags": [],
        "id": "4dc8b899"
      },
      "outputs": [],
      "source": [
        "boat.has_full_house()     # deve devolver True"
      ]
    },
    {
      "cell_type": "code",
      "execution_count": null,
      "id": "86229763",
      "metadata": {
        "tags": [],
        "id": "86229763"
      },
      "outputs": [],
      "source": [
        "pair.has_full_house()     # deve devolver False"
      ]
    },
    {
      "cell_type": "code",
      "execution_count": null,
      "id": "7f1b3664",
      "metadata": {
        "tags": [],
        "id": "7f1b3664"
      },
      "outputs": [],
      "source": [
        "good_hand.has_full_house()     # deve devolver False"
      ]
    },
    {
      "cell_type": "markdown",
      "id": "666340c1",
      "metadata": {
        "id": "666340c1"
      },
      "source": [
        "### Exercício\n",
        "\n",
        "Este exercício é um conto de advertência sobre um erro comum que pode ser difícil de depurar.\n",
        "Considere a seguinte definição de classe:"
      ]
    },
    {
      "cell_type": "code",
      "execution_count": null,
      "id": "85b47651",
      "metadata": {
        "id": "85b47651"
      },
      "outputs": [],
      "source": [
        "class Kangaroo:\n",
        "    \"\"\"Um Canguru é um marsupial.\"\"\"\n",
        "\n",
        "    def __init__(self, name, contents=[]):\n",
        "        \"\"\"Inicializar o conteúdo da bolsa.\n",
        "\n",
        "        name: string\n",
        "        contents: conteúdo inicial da bolsa.\n",
        "        \"\"\"\n",
        "        self.name = name\n",
        "        self.contents = contents\n",
        "\n",
        "    def __str__(self):\n",
        "        \"\"\"Retorna uma string representando este Canguru.\n",
        "        \"\"\"\n",
        "        t = [ self.name + ' has pouch contents:' ]\n",
        "        for obj in self.contents:\n",
        "            s = '    ' + object.__str__(obj)\n",
        "            t.append(s)\n",
        "        return '\\n'.join(t)\n",
        "\n",
        "    def put_in_pouch(self, item):\n",
        "        \"\"\"Adiciona um novo item ao conteúdo da bolsa.\n",
        "\n",
        "        item: objeto a ser adicionado\n",
        "        \"\"\"\n",
        "        self.contents.append(item)"
      ]
    },
    {
      "cell_type": "markdown",
      "id": "1e349832",
      "metadata": {
        "id": "1e349832"
      },
      "source": [
        "`__init__` recebe dois parâmetros: `name` é obrigatório, mas `contents` é opcional -- se não for fornecido, o valor padrão é uma lista vazia.\n",
        "\n",
        "`__str__` devolve uma *string* representando o objeto que inclui o nome e o conteúdo da bolsa.\n",
        "\n",
        "`put_in_pouch` recebe qualquer objeto e o acrescenta a `contents`.\n",
        "\n",
        "Agora vamos ver como essa classe funciona.\n",
        "Criaremos dois objetos `Kangaroo` com os nomes `'Kanga'` e `'Roo'`:"
      ]
    },
    {
      "cell_type": "code",
      "execution_count": null,
      "id": "13f1e1f3",
      "metadata": {
        "id": "13f1e1f3"
      },
      "outputs": [],
      "source": [
        "kanga = Kangaroo('Kanga')\n",
        "roo = Kangaroo('Roo')"
      ]
    },
    {
      "cell_type": "markdown",
      "id": "533982d1",
      "metadata": {
        "id": "533982d1"
      },
      "source": [
        "À bolsa de Kanga adicionaremos duas *strings* e Roo:"
      ]
    },
    {
      "cell_type": "code",
      "execution_count": null,
      "id": "e882e2d6",
      "metadata": {
        "id": "e882e2d6"
      },
      "outputs": [],
      "source": [
        "kanga.put_in_pouch('wallet')\n",
        "kanga.put_in_pouch('car keys')\n",
        "kanga.put_in_pouch(roo)"
      ]
    },
    {
      "cell_type": "markdown",
      "id": "41cd6d6e",
      "metadata": {
        "id": "41cd6d6e"
      },
      "source": [
        "Se exibirmos `kanga`, parece que tudo funcionou:"
      ]
    },
    {
      "cell_type": "code",
      "execution_count": null,
      "id": "724805bb",
      "metadata": {
        "id": "724805bb"
      },
      "outputs": [],
      "source": [
        "print(kanga)"
      ]
    },
    {
      "cell_type": "markdown",
      "id": "0ba26163",
      "metadata": {
        "id": "0ba26163"
      },
      "source": [
        "Mas o que acontece se exibirmos `roo`?"
      ]
    },
    {
      "cell_type": "code",
      "execution_count": null,
      "id": "3f6cff16",
      "metadata": {
        "id": "3f6cff16"
      },
      "outputs": [],
      "source": [
        "print(roo)"
      ]
    },
    {
      "cell_type": "markdown",
      "id": "a2aef813",
      "metadata": {
        "id": "a2aef813"
      },
      "source": [
        "A bolsa de Roo contém o mesmo conteúdo que a de Kanga, incluindo uma referência a `roo`!\n",
        "\n",
        "Veja se consegue descobrir o que deu errado.\n",
        "Então pergunte a um assistente virtual, \"O que há de errado com o programa a seguir?\" (\"*What's wrong with the following program?*\") e cole a definição de `Kangaroo`."
      ]
    },
    {
      "cell_type": "code",
      "execution_count": null,
      "id": "6ef15c8c",
      "metadata": {
        "id": "6ef15c8c"
      },
      "outputs": [],
      "source": []
    },
    {
      "cell_type": "markdown",
      "id": "a7f4edf8",
      "metadata": {
        "tags": [],
        "id": "a7f4edf8"
      },
      "source": [
        "[Pense Python: 3ª Edição](https://rodrigocarlson.github.io/PensePython3ed/)\n",
        "\n",
        "Copyright 2024 [Allen B. Downey](https://allendowney.com/) (versão original)\n",
        "\n",
        "Copyright 2025 [Rodrigo Castelan Carlson](https://rodrigocarlson.paginas.ufsc.br/) (desta versão)\n",
        "\n",
        "Foram preservadas as mesmas licenças da versão original.\n",
        "\n",
        "Licença dos códigos: [MIT License](https://mit-license.org/)\n",
        "\n",
        "Licença dos textos: [Creative Commons Attribution-NonCommercial-ShareAlike 4.0 International](https://creativecommons.org/licenses/by-nc-sa/4.0/)"
      ]
    }
  ],
  "metadata": {
    "celltoolbar": "Tags",
    "kernelspec": {
      "display_name": "Python 3 (ipykernel)",
      "language": "python",
      "name": "python3"
    },
    "language_info": {
      "codemirror_mode": {
        "name": "ipython",
        "version": 3
      },
      "file_extension": ".py",
      "mimetype": "text/x-python",
      "name": "python",
      "nbconvert_exporter": "python",
      "pygments_lexer": "ipython3",
      "version": "3.10.11"
    },
    "colab": {
      "provenance": []
    }
  },
  "nbformat": 4,
  "nbformat_minor": 5
}