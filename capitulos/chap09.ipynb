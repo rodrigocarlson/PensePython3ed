{
  "cells": [
    {
      "cell_type": "markdown",
      "id": "1331faa1",
      "metadata": {
        "id": "1331faa1"
      },
      "source": [
        "Você pode adquirir versões impressas e de e-book do *Think Python 3e* (em inglês) em\n",
        "[Bookshop.org](https://bookshop.org/a/98697/9781098155438) e\n",
        "[Amazon](https://www.amazon.com/_/dp/1098155432?smid=ATVPDKIKX0DER&_encoding=UTF8&tag=oreilly20-20&_encoding=UTF8&tag=greenteapre01-20&linkCode=ur2&linkId=e2a529f94920295d27ec8a06e757dc7c&camp=1789&creative=9325).\n",
        "\n",
        "Uma versão em língua portuguesa da 3ª edição foi publicada pela editora [Novatec](https://novatec.com.br/livros/pense-em-python-3ed/)."
      ]
    },
    {
      "cell_type": "code",
      "execution_count": null,
      "id": "bde1c3f9",
      "metadata": {
        "tags": [],
        "id": "bde1c3f9"
      },
      "outputs": [],
      "source": [
        "from os.path import basename, exists\n",
        "\n",
        "def download(url):\n",
        "    filename = basename(url)\n",
        "    if not exists(filename):\n",
        "        from urllib.request import urlretrieve\n",
        "\n",
        "        local, _ = urlretrieve(url, filename)\n",
        "        print(\"Downloaded \" + str(local))\n",
        "    return filename\n",
        "\n",
        "download('https://github.com/AllenDowney/ThinkPython/raw/v3/thinkpython.py');\n",
        "download('https://github.com/AllenDowney/ThinkPython/raw/v3/diagram.py');\n",
        "\n",
        "import thinkpython"
      ]
    },
    {
      "cell_type": "markdown",
      "id": "3c25ca7e",
      "metadata": {
        "id": "3c25ca7e"
      },
      "source": [
        "# Listas\n",
        "\n",
        "Este capítulo apresenta um dos tipos internos mais úteis do Python, listas.\n",
        "Você também aprenderá mais sobre objetos e o que pode acontecer quando várias variáveis ​​se referem ao mesmo objeto.\n",
        "\n",
        "Nos exercícios no final do capítulo, faremos uma lista de palavras e a usaremos para procurar palavras especiais como palíndromos e anagramas."
      ]
    },
    {
      "cell_type": "markdown",
      "id": "4d32b3e2",
      "metadata": {
        "id": "4d32b3e2"
      },
      "source": [
        "## Uma lista é uma sequência\n",
        "\n",
        "Como uma *string*, uma **lista** é uma sequência de valores. Em uma *string*, os valores são caracteres; em uma lista, eles podem ser de qualquer tipo.\n",
        "Os valores em uma lista são chamados de **elementos**.\n",
        "\n",
        "Existem várias maneiras de criar uma nova lista; a mais simples é colocar os elementos entre colchetes (`[` e `]`).\n",
        "Por exemplo, aqui está uma lista de dois inteiros:"
      ]
    },
    {
      "cell_type": "code",
      "execution_count": null,
      "id": "a16a119b",
      "metadata": {
        "id": "a16a119b"
      },
      "outputs": [],
      "source": [
        "numbers = [42, 123]"
      ]
    },
    {
      "cell_type": "markdown",
      "id": "b5d6112c",
      "metadata": {
        "id": "b5d6112c"
      },
      "source": [
        "E aqui está uma lista de três *strings*:"
      ]
    },
    {
      "cell_type": "code",
      "execution_count": null,
      "id": "ac7a4a0b",
      "metadata": {
        "id": "ac7a4a0b"
      },
      "outputs": [],
      "source": [
        "cheeses = ['Cheddar', 'Edam', 'Gouda']"
      ]
    },
    {
      "cell_type": "markdown",
      "id": "dda58c67",
      "metadata": {
        "id": "dda58c67"
      },
      "source": [
        "The elements of a list don't have to be the same type.\n",
        "The following list contains a string, a float, an integer, and even another list.\n",
        "Os elementos de uma lista não precisam ser do mesmo tipo.\n",
        "A lista a seguir contém uma *string*, um *float*, um inteiro e até mesmo outra lista:"
      ]
    },
    {
      "cell_type": "code",
      "execution_count": null,
      "id": "18fb0e21",
      "metadata": {
        "id": "18fb0e21"
      },
      "outputs": [],
      "source": [
        "t = ['spam', 2.0, 5, [10, 20]]"
      ]
    },
    {
      "cell_type": "markdown",
      "id": "147fa217",
      "metadata": {
        "id": "147fa217"
      },
      "source": [
        "Uma lista dentro de outra lista está **aninhada**.\n",
        "\n",
        "Uma lista que não contém elementos é chamada de lista vazia; você pode criar uma com colchetes vazios, `[]`:"
      ]
    },
    {
      "cell_type": "code",
      "execution_count": null,
      "id": "0ff58916",
      "metadata": {
        "id": "0ff58916"
      },
      "outputs": [],
      "source": [
        "empty = []"
      ]
    },
    {
      "cell_type": "markdown",
      "id": "f95381bc",
      "metadata": {
        "id": "f95381bc"
      },
      "source": [
        "A função `len` devolve o comprimento de uma lista:"
      ]
    },
    {
      "cell_type": "code",
      "execution_count": null,
      "id": "f3153f36",
      "metadata": {
        "id": "f3153f36"
      },
      "outputs": [],
      "source": [
        "len(cheeses)"
      ]
    },
    {
      "cell_type": "markdown",
      "id": "371403a3",
      "metadata": {
        "id": "371403a3"
      },
      "source": [
        "O comprimento de uma lista vazia é `0`:"
      ]
    },
    {
      "cell_type": "code",
      "execution_count": null,
      "id": "58727d35",
      "metadata": {
        "tags": [],
        "id": "58727d35"
      },
      "outputs": [],
      "source": [
        "len(empty)"
      ]
    },
    {
      "cell_type": "markdown",
      "id": "d3589a5d",
      "metadata": {
        "id": "d3589a5d"
      },
      "source": [
        "A figura a seguir mostra o diagrama de estado para `cheeses`, `numbers` e `empty`."
      ]
    },
    {
      "cell_type": "code",
      "execution_count": null,
      "id": "25582cad",
      "metadata": {
        "tags": [],
        "id": "25582cad"
      },
      "outputs": [],
      "source": [
        "from diagram import make_list, Binding, Value\n",
        "\n",
        "list1 = make_list(cheeses, dy=-0.3, offsetx=0.17)\n",
        "binding1 = Binding(Value('cheeses'), list1)\n",
        "\n",
        "list2 = make_list(numbers, dy=-0.3, offsetx=0.17)\n",
        "binding2 = Binding(Value('numbers'), list2)\n",
        "\n",
        "list3 = make_list(empty, dy=-0.3, offsetx=0.1)\n",
        "binding3 = Binding(Value('empty'), list3)"
      ]
    },
    {
      "cell_type": "code",
      "execution_count": null,
      "id": "925c7d67",
      "metadata": {
        "tags": [],
        "id": "925c7d67"
      },
      "outputs": [],
      "source": [
        "from diagram import diagram, adjust, Bbox\n",
        "\n",
        "width, height, x, y = [3.66, 1.58, 0.45, 1.2]\n",
        "ax = diagram(width, height)\n",
        "bbox1 = binding1.draw(ax, x, y)\n",
        "bbox2 = binding2.draw(ax, x+2.25, y)\n",
        "bbox3 = binding3.draw(ax, x+2.25, y-1.0)\n",
        "\n",
        "bbox = Bbox.union([bbox1, bbox2, bbox3])\n",
        "#adjust(x, y, bbox)"
      ]
    },
    {
      "cell_type": "markdown",
      "id": "503f25d8",
      "metadata": {
        "id": "503f25d8"
      },
      "source": [
        "As listas são representadas por caixas com a palavra \"lista\" do lado de fora e os elementos numerados da lista dentro."
      ]
    },
    {
      "cell_type": "markdown",
      "id": "e0b8ff01",
      "metadata": {
        "id": "e0b8ff01"
      },
      "source": [
        "## Listas são mutáveis\n",
        "\n",
        "Para ler um elemento de uma lista, podemos usar o operador de colchetes.\n",
        "O índice do primeiro elemento é `0`:"
      ]
    },
    {
      "cell_type": "code",
      "execution_count": null,
      "id": "9deb85a3",
      "metadata": {
        "id": "9deb85a3"
      },
      "outputs": [],
      "source": [
        "cheeses[0]"
      ]
    },
    {
      "cell_type": "markdown",
      "id": "9747e951",
      "metadata": {
        "id": "9747e951"
      },
      "source": [
        "Diferentemente de *strings*, listas são mutáveis. Quando o operador de colchetes aparece no lado esquerdo de uma atribuição, ele identifica o elemento da lista ao qual o novo valor será atribuído:"
      ]
    },
    {
      "cell_type": "code",
      "execution_count": null,
      "id": "98ec5d9c",
      "metadata": {
        "id": "98ec5d9c"
      },
      "outputs": [],
      "source": [
        "numbers[1] = 17\n",
        "numbers"
      ]
    },
    {
      "cell_type": "markdown",
      "id": "5097a517",
      "metadata": {
        "id": "5097a517"
      },
      "source": [
        "O segundo elemento de `numbers`, que costumava ser `123`, agora é `17`.\n",
        "\n",
        "Os índices de lista funcionam da mesma forma que os índices de *strings*:\n",
        "\n",
        "- Qualquer expressão inteira pode ser usada como um índice.\n",
        "\n",
        "- Se você tentar ler ou escrever um elemento que não existe, você obtém\n",
        "um `IndexError`.\n",
        "\n",
        "- Se um índice tiver um valor negativo, ele conta de trás para frente a partir do final da lista.\n",
        "\n",
        "O operador `in` funciona em listas -- ele verifica se um dado elemento aparece em qualquer lugar da lista:"
      ]
    },
    {
      "cell_type": "code",
      "execution_count": null,
      "id": "000aed26",
      "metadata": {
        "id": "000aed26"
      },
      "outputs": [],
      "source": [
        "'Edam' in cheeses"
      ]
    },
    {
      "cell_type": "code",
      "execution_count": null,
      "id": "bcb8929c",
      "metadata": {
        "id": "bcb8929c"
      },
      "outputs": [],
      "source": [
        "'Wensleydale' in cheeses"
      ]
    },
    {
      "cell_type": "markdown",
      "id": "89d01ebf",
      "metadata": {
        "id": "89d01ebf"
      },
      "source": [
        "Embora uma lista possa conter outra lista, a lista aninhada ainda conta como um único elemento -- portanto, na lista a seguir, há apenas quatro elementos:"
      ]
    },
    {
      "cell_type": "code",
      "execution_count": null,
      "id": "5ad51a26",
      "metadata": {
        "id": "5ad51a26"
      },
      "outputs": [],
      "source": [
        "t = ['spam', 2.0, 5, [10, 20]]\n",
        "len(t)"
      ]
    },
    {
      "cell_type": "markdown",
      "id": "4e0ea41d",
      "metadata": {
        "id": "4e0ea41d"
      },
      "source": [
        "E `10` não é considerado um elemento de `t` porque é um elemento de uma lista aninhada, não de `t`:"
      ]
    },
    {
      "cell_type": "code",
      "execution_count": null,
      "id": "156dbc10",
      "metadata": {
        "id": "156dbc10"
      },
      "outputs": [],
      "source": [
        "10 in t"
      ]
    },
    {
      "cell_type": "markdown",
      "id": "1ee7a4d9",
      "metadata": {
        "id": "1ee7a4d9"
      },
      "source": [
        "## Fatiamento de listas\n",
        "\n",
        "O operador de fatiamento funciona em listas da mesma forma que funciona em *strings*. O exemplo a seguir seleciona o segundo e o terceiro elementos de uma lista de quatro letras:"
      ]
    },
    {
      "cell_type": "code",
      "execution_count": null,
      "id": "70b16371",
      "metadata": {
        "id": "70b16371"
      },
      "outputs": [],
      "source": [
        "letters = ['a', 'b', 'c', 'd']\n",
        "letters[1:3]"
      ]
    },
    {
      "cell_type": "markdown",
      "id": "bc59d952",
      "metadata": {
        "id": "bc59d952"
      },
      "source": [
        "Se você omitir o primeiro índice, o fatiamento começará do início:"
      ]
    },
    {
      "cell_type": "code",
      "execution_count": null,
      "id": "e67bab33",
      "metadata": {
        "id": "e67bab33"
      },
      "outputs": [],
      "source": [
        "letters[:2]"
      ]
    },
    {
      "cell_type": "markdown",
      "id": "1aaaae86",
      "metadata": {
        "id": "1aaaae86"
      },
      "source": [
        "Se você omitir o segundo, o fatiamento vai para o final:"
      ]
    },
    {
      "cell_type": "code",
      "execution_count": null,
      "id": "a310f506",
      "metadata": {
        "id": "a310f506"
      },
      "outputs": [],
      "source": [
        "letters[2:]"
      ]
    },
    {
      "cell_type": "markdown",
      "id": "67ad02e8",
      "metadata": {
        "id": "67ad02e8"
      },
      "source": [
        "Então, se você omitir ambos, a fatia será uma cópia da lista inteira:"
      ]
    },
    {
      "cell_type": "code",
      "execution_count": null,
      "id": "1385a75e",
      "metadata": {
        "id": "1385a75e"
      },
      "outputs": [],
      "source": [
        "letters[:]"
      ]
    },
    {
      "cell_type": "markdown",
      "id": "9232c1ef",
      "metadata": {
        "id": "9232c1ef"
      },
      "source": [
        "Outra maneira de copiar uma lista é usar a função `list`:"
      ]
    },
    {
      "cell_type": "code",
      "execution_count": null,
      "id": "a0ca0135",
      "metadata": {
        "id": "a0ca0135"
      },
      "outputs": [],
      "source": [
        "list(letters)"
      ]
    },
    {
      "cell_type": "markdown",
      "id": "50e4b182",
      "metadata": {
        "id": "50e4b182"
      },
      "source": [
        "Como `list` é o nome de uma função interna, você deve evitar usá-la como nome de variável.\n"
      ]
    },
    {
      "cell_type": "markdown",
      "id": "1b057c0c",
      "metadata": {
        "id": "1b057c0c"
      },
      "source": [
        "## Operações com listas\n",
        "\n",
        "O operador `+` concatena listas:"
      ]
    },
    {
      "cell_type": "code",
      "execution_count": null,
      "id": "66804de0",
      "metadata": {
        "id": "66804de0"
      },
      "outputs": [],
      "source": [
        "t1 = [1, 2]\n",
        "t2 = [3, 4]\n",
        "t1 + t2"
      ]
    },
    {
      "cell_type": "markdown",
      "id": "474a5c40",
      "metadata": {
        "id": "474a5c40"
      },
      "source": [
        "O operador `*` repete uma lista um determinado número de vezes:"
      ]
    },
    {
      "cell_type": "code",
      "execution_count": null,
      "id": "96620f93",
      "metadata": {
        "id": "96620f93"
      },
      "outputs": [],
      "source": [
        "['spam'] * 4"
      ]
    },
    {
      "cell_type": "markdown",
      "id": "5b33bc51",
      "metadata": {
        "id": "5b33bc51"
      },
      "source": [
        "Nenhum outro operador matemático funciona com listas, mas a função interna `sum` soma os seus elementos:"
      ]
    },
    {
      "cell_type": "code",
      "execution_count": null,
      "id": "0808ed08",
      "metadata": {
        "id": "0808ed08"
      },
      "outputs": [],
      "source": [
        "sum(t1)"
      ]
    },
    {
      "cell_type": "markdown",
      "id": "f216a14d",
      "metadata": {
        "id": "f216a14d"
      },
      "source": [
        "E `min` e `max` encontram os menores e maiores elementos:"
      ]
    },
    {
      "cell_type": "code",
      "execution_count": null,
      "id": "7ed7e53d",
      "metadata": {
        "id": "7ed7e53d"
      },
      "outputs": [],
      "source": [
        "min(t1)"
      ]
    },
    {
      "cell_type": "code",
      "execution_count": null,
      "id": "dda02e4e",
      "metadata": {
        "id": "dda02e4e"
      },
      "outputs": [],
      "source": [
        "max(t2)"
      ]
    },
    {
      "cell_type": "markdown",
      "id": "533a2009",
      "metadata": {
        "id": "533a2009"
      },
      "source": [
        "## Métodos de listas\n",
        "\n",
        "O Python fornece métodos que operam em listas. Por exemplo, `append` adiciona um novo elemento ao final de uma lista:"
      ]
    },
    {
      "cell_type": "code",
      "execution_count": null,
      "id": "bcf04ef9",
      "metadata": {
        "id": "bcf04ef9"
      },
      "outputs": [],
      "source": [
        "letters.append('e')\n",
        "letters"
      ]
    },
    {
      "cell_type": "markdown",
      "id": "ccc57f77",
      "metadata": {
        "id": "ccc57f77"
      },
      "source": [
        "`extend` recebe uma lista como argumento e acrescenta todos os elementos:"
      ]
    },
    {
      "cell_type": "code",
      "execution_count": null,
      "id": "be55916d",
      "metadata": {
        "id": "be55916d"
      },
      "outputs": [],
      "source": [
        "letters.extend(['f', 'g'])\n",
        "letters"
      ]
    },
    {
      "cell_type": "markdown",
      "id": "0f39d9f6",
      "metadata": {
        "id": "0f39d9f6"
      },
      "source": [
        "Existem dois métodos que removem elementos de uma lista.\n",
        "Se você souber o índice do elemento que deseja, você pode usar `pop`:"
      ]
    },
    {
      "cell_type": "code",
      "execution_count": null,
      "id": "b22da905",
      "metadata": {
        "id": "b22da905"
      },
      "outputs": [],
      "source": [
        "t = ['a', 'b', 'c']\n",
        "t.pop(1)"
      ]
    },
    {
      "cell_type": "markdown",
      "id": "6729415a",
      "metadata": {
        "id": "6729415a"
      },
      "source": [
        "O valor devolvido é o elemento que foi removido.\n",
        "E podemos confirmar que a lista foi modificada:"
      ]
    },
    {
      "cell_type": "code",
      "execution_count": null,
      "id": "01bdff91",
      "metadata": {
        "id": "01bdff91"
      },
      "outputs": [],
      "source": [
        "t"
      ]
    },
    {
      "cell_type": "markdown",
      "id": "1e97ee7d",
      "metadata": {
        "id": "1e97ee7d"
      },
      "source": [
        "Se você souber o elemento que deseja remover (mas não o índice), você pode usar `remove`:"
      ]
    },
    {
      "cell_type": "code",
      "execution_count": null,
      "id": "babe366e",
      "metadata": {
        "id": "babe366e"
      },
      "outputs": [],
      "source": [
        "t = ['a', 'b', 'c']\n",
        "t.remove('b')"
      ]
    },
    {
      "cell_type": "markdown",
      "id": "60e710fe",
      "metadata": {
        "id": "60e710fe"
      },
      "source": [
        "O valor devovldio de `remove` é `None`.\n",
        "Mas podemos confirmar que a lista foi modificada:"
      ]
    },
    {
      "cell_type": "code",
      "execution_count": null,
      "id": "f80f5b1d",
      "metadata": {
        "id": "f80f5b1d"
      },
      "outputs": [],
      "source": [
        "t"
      ]
    },
    {
      "cell_type": "markdown",
      "id": "2a9448a8",
      "metadata": {
        "id": "2a9448a8"
      },
      "source": [
        "Se o elemento que você solicitou não estiver na lista, isso é um `ValueError`:"
      ]
    },
    {
      "cell_type": "code",
      "execution_count": null,
      "id": "861f8e7e",
      "metadata": {
        "tags": [],
        "id": "861f8e7e"
      },
      "outputs": [],
      "source": [
        "%%expect ValueError\n",
        "\n",
        "t.remove('d')"
      ]
    },
    {
      "cell_type": "markdown",
      "id": "18305f96",
      "metadata": {
        "id": "18305f96"
      },
      "source": [
        "## Listas e *strings*\n",
        "\n",
        "Uma *string* é uma sequência de caracteres e uma lista é uma sequência de valores, mas uma lista de caracteres não é o mesmo que uma string.\n",
        "Para converter uma *string* para uma lista de caracteres, você pode usar a função `list`:"
      ]
    },
    {
      "cell_type": "code",
      "execution_count": null,
      "id": "1b50bc13",
      "metadata": {
        "id": "1b50bc13"
      },
      "outputs": [],
      "source": [
        "s = 'spam'\n",
        "t = list(s)\n",
        "t"
      ]
    },
    {
      "cell_type": "markdown",
      "id": "0291ef69",
      "metadata": {
        "id": "0291ef69"
      },
      "source": [
        "A função `list` quebra uma *string* em letras individuais.\n",
        "Se você quiser quebrar uma *string* em palavras, você pode usar o método `split`:"
      ]
    },
    {
      "cell_type": "code",
      "execution_count": null,
      "id": "c28e5127",
      "metadata": {
        "id": "c28e5127"
      },
      "outputs": [],
      "source": [
        "s = 'pining for the fjords'\n",
        "t = s.split()\n",
        "t"
      ]
    },
    {
      "cell_type": "markdown",
      "id": "0e16909d",
      "metadata": {
        "id": "0e16909d"
      },
      "source": [
        "Um argumento opcional chamado **delimitador** especifica quais caracteres usar como limites de palavras. O exemplo a seguir usa um hífen como delimitador:"
      ]
    },
    {
      "cell_type": "code",
      "execution_count": null,
      "id": "ec6ea206",
      "metadata": {
        "id": "ec6ea206"
      },
      "outputs": [],
      "source": [
        "s = 'ex-parrot'\n",
        "t = s.split('-')\n",
        "t"
      ]
    },
    {
      "cell_type": "markdown",
      "id": "7c61f916",
      "metadata": {
        "id": "7c61f916"
      },
      "source": [
        "Se você tiver uma lista de *strings*, você pode concatená-las em uma única *string* usando `join`.\n",
        "`join` é um método de *string*, então você tem que invocá-lo no delimitador e passar a lista como um argumento:"
      ]
    },
    {
      "cell_type": "code",
      "execution_count": null,
      "id": "75c74d3c",
      "metadata": {
        "id": "75c74d3c"
      },
      "outputs": [],
      "source": [
        "delimiter = ' '\n",
        "t = ['pining', 'for', 'the', 'fjords']\n",
        "s = delimiter.join(t)\n",
        "s"
      ]
    },
    {
      "cell_type": "markdown",
      "id": "bedd842b",
      "metadata": {
        "id": "bedd842b"
      },
      "source": [
        "Neste caso, o delimitador é um caractere de espaço, então `join` coloca um espaço entre as palavras.\n",
        "Para unir *strings* sem espaços, você pode usar a string vazia, `''`, como delimitador."
      ]
    },
    {
      "cell_type": "markdown",
      "id": "181215ce",
      "metadata": {
        "id": "181215ce"
      },
      "source": [
        "## Percorrendo uma lista\n",
        "\n",
        "Você pode usar uma instrução `for` para percorrer os elementos de uma lista."
      ]
    },
    {
      "cell_type": "code",
      "execution_count": null,
      "id": "a5df1e10",
      "metadata": {
        "id": "a5df1e10"
      },
      "outputs": [],
      "source": [
        "for cheese in cheeses:\n",
        "    print(cheese)"
      ]
    },
    {
      "cell_type": "markdown",
      "id": "c0e53a09",
      "metadata": {
        "id": "c0e53a09"
      },
      "source": [
        "Por exemplo, depois de usar `split` para fazer uma lista de palavras, podemos usar `for` para percorrê-las:"
      ]
    },
    {
      "cell_type": "code",
      "execution_count": null,
      "id": "76b2c2e3",
      "metadata": {
        "id": "76b2c2e3"
      },
      "outputs": [],
      "source": [
        "s = 'pining for the fjords'\n",
        "\n",
        "for word in s.split():\n",
        "    print(word)"
      ]
    },
    {
      "cell_type": "markdown",
      "id": "0857b55b",
      "metadata": {
        "id": "0857b55b"
      },
      "source": [
        "Um laço `for` em uma lista vazia nunca executa as instruções do bloco:"
      ]
    },
    {
      "cell_type": "code",
      "execution_count": null,
      "id": "7e844887",
      "metadata": {
        "id": "7e844887"
      },
      "outputs": [],
      "source": [
        "for x in []:\n",
        "    print('This never happens.')"
      ]
    },
    {
      "cell_type": "markdown",
      "id": "6e5f55c9",
      "metadata": {
        "id": "6e5f55c9"
      },
      "source": [
        "## Ordenando listas\n",
        "\n",
        "O Python fornece uma função interna chamada `sorted` que ordena os elementos de uma lista:"
      ]
    },
    {
      "cell_type": "code",
      "execution_count": null,
      "id": "9db54d53",
      "metadata": {
        "id": "9db54d53"
      },
      "outputs": [],
      "source": [
        "scramble = ['c', 'a', 'b']\n",
        "sorted(scramble)"
      ]
    },
    {
      "cell_type": "markdown",
      "id": "44e028cf",
      "metadata": {
        "id": "44e028cf"
      },
      "source": [
        "A lista original não foi alterada."
      ]
    },
    {
      "cell_type": "code",
      "execution_count": null,
      "id": "33d11287",
      "metadata": {
        "id": "33d11287"
      },
      "outputs": [],
      "source": [
        "scramble"
      ]
    },
    {
      "cell_type": "markdown",
      "id": "530146af",
      "metadata": {
        "id": "530146af"
      },
      "source": [
        "`sorted` funciona com qualquer tipo de sequência, não apenas listas. Então podemos ordenar as letras em uma string assim:"
      ]
    },
    {
      "cell_type": "code",
      "execution_count": null,
      "id": "38c7cb0c",
      "metadata": {
        "id": "38c7cb0c"
      },
      "outputs": [],
      "source": [
        "sorted('letters')"
      ]
    },
    {
      "cell_type": "markdown",
      "id": "f90bd9ea",
      "metadata": {
        "id": "f90bd9ea"
      },
      "source": [
        "O resultado é uma lista.\n",
        "Para converter a lista em uma *string*, podemos usar `join`."
      ]
    },
    {
      "cell_type": "code",
      "execution_count": null,
      "id": "2adb2fc3",
      "metadata": {
        "id": "2adb2fc3"
      },
      "outputs": [],
      "source": [
        "''.join(sorted('letters'))"
      ]
    },
    {
      "cell_type": "markdown",
      "id": "a57084e2",
      "metadata": {
        "id": "a57084e2"
      },
      "source": [
        "Com uma *string* vazia como delimitador, os elementos da lista são unidos sem nada entre eles."
      ]
    },
    {
      "cell_type": "markdown",
      "id": "ce98b3d5",
      "metadata": {
        "id": "ce98b3d5"
      },
      "source": [
        "## Objetos e valores\n",
        "\n",
        "Se executarmos essas instruções de atribuição:"
      ]
    },
    {
      "cell_type": "code",
      "execution_count": null,
      "id": "aa547282",
      "metadata": {
        "id": "aa547282"
      },
      "outputs": [],
      "source": [
        "a = 'banana'\n",
        "b = 'banana'"
      ]
    },
    {
      "cell_type": "markdown",
      "id": "33d020aa",
      "metadata": {
        "id": "33d020aa"
      },
      "source": [
        "Sabemos que ambos `a` e `b` se referem a uma *string*, mas não sabemos se eles se referem à *mesma* *string*.\n",
        "Existem dois estados possíveis, mostrados na figura a seguir:"
      ]
    },
    {
      "cell_type": "code",
      "execution_count": null,
      "id": "95a2aded",
      "metadata": {
        "tags": [],
        "id": "95a2aded"
      },
      "outputs": [],
      "source": [
        "from diagram import Frame, Stack\n",
        "\n",
        "s = 'banana'\n",
        "bindings = [Binding(Value(name), Value(repr(s))) for name in 'ab']\n",
        "frame1 = Frame(bindings, dy=-0.25)\n",
        "\n",
        "binding1 = Binding(Value('a'), Value(repr(s)), dy=-0.11)\n",
        "binding2 = Binding(Value('b'), draw_value=False, dy=0.11)\n",
        "frame2 = Frame([binding1, binding2], dy=-0.25)\n",
        "\n",
        "stack = Stack([frame1, frame2], dx=1.7, dy=0)"
      ]
    },
    {
      "cell_type": "code",
      "execution_count": null,
      "id": "3d75a28c",
      "metadata": {
        "tags": [],
        "id": "3d75a28c"
      },
      "outputs": [],
      "source": [
        "width, height, x, y = [2.85, 0.76, 0.17, 0.51]\n",
        "ax = diagram(width, height)\n",
        "bbox = stack.draw(ax, x, y)\n",
        "# adjust(x, y, bbox)"
      ]
    },
    {
      "cell_type": "markdown",
      "id": "2f0b0431",
      "metadata": {
        "id": "2f0b0431"
      },
      "source": [
        "No diagrama à esquerda, `a` e `b` referem-se a dois objetos diferentes que têm o\n",
        "mesmo valor. No diagrama à direita, elas se referem ao mesmo objeto.\n",
        "Para verificar se duas variáveis ​​se referem ao mesmo objeto, você pode usar o operador `is`:"
      ]
    },
    {
      "cell_type": "code",
      "execution_count": null,
      "id": "a37e37bf",
      "metadata": {
        "id": "a37e37bf"
      },
      "outputs": [],
      "source": [
        "a = 'banana'\n",
        "b = 'banana'\n",
        "a is b"
      ]
    },
    {
      "cell_type": "markdown",
      "id": "d1eb0e36",
      "metadata": {
        "id": "d1eb0e36"
      },
      "source": [
        "Neste exemplo, Python criou apenas um objeto *string*, e ambos `a` e `b` se referem a ele.\n",
        "Mas quando você cria duas listas, você obtém dois objetos:"
      ]
    },
    {
      "cell_type": "code",
      "execution_count": null,
      "id": "d6af7316",
      "metadata": {
        "id": "d6af7316"
      },
      "outputs": [],
      "source": [
        "a = [1, 2, 3]\n",
        "b = [1, 2, 3]\n",
        "a is b"
      ]
    },
    {
      "cell_type": "markdown",
      "id": "a8d4c3d4",
      "metadata": {
        "id": "a8d4c3d4"
      },
      "source": [
        "Então o diagrama de estado fica assim:"
      ]
    },
    {
      "cell_type": "code",
      "execution_count": null,
      "id": "dea08b82",
      "metadata": {
        "tags": [],
        "id": "dea08b82"
      },
      "outputs": [],
      "source": [
        "t = [1, 2, 3]\n",
        "binding1 = Binding(Value('a'), Value(repr(t)))\n",
        "binding2 = Binding(Value('b'), Value(repr(t)))\n",
        "frame = Frame([binding1, binding2], dy=-0.25)"
      ]
    },
    {
      "cell_type": "code",
      "execution_count": null,
      "id": "7e66ee69",
      "metadata": {
        "tags": [],
        "id": "7e66ee69"
      },
      "outputs": [],
      "source": [
        "width, height, x, y = [1.16, 0.76, 0.21, 0.51]\n",
        "ax = diagram(width, height)\n",
        "bbox = frame.draw(ax, x, y)\n",
        "# adjust(x, y, bbox)"
      ]
    },
    {
      "cell_type": "markdown",
      "id": "cc115a9f",
      "metadata": {
        "id": "cc115a9f"
      },
      "source": [
        "Neste caso diríamos que as duas listas são **equivalentes**, porque elas têm os mesmos elementos, mas não **idênticas**, porque não são o mesmo objeto.\n",
        "Se dois objetos são idênticos, eles também são equivalentes, mas se são equivalentes, não são necessariamente idênticos."
      ]
    },
    {
      "cell_type": "markdown",
      "id": "a58db021",
      "metadata": {
        "id": "a58db021"
      },
      "source": [
        "## *Aliasing*\n",
        "\n",
        "NOTA DO TRADUTOR: *aliasing* não tem um tradução adequado para o português no contexto de programação é usado corriqueiramente como parte do jargão de um cientista da computação. *Alias* é traduzido com um apelido ou pseudônimo, portanto a ideia é que vários nomes podem se referir à mesma coisa.\n",
        "\n",
        "Se `a` se refere a um objeto e você atribui `b = a`, então ambas as variáveis ​​se referem ao mesmo objeto:"
      ]
    },
    {
      "cell_type": "code",
      "execution_count": null,
      "id": "d6a7eb5b",
      "metadata": {
        "id": "d6a7eb5b"
      },
      "outputs": [],
      "source": [
        "a = [1, 2, 3]\n",
        "b = a\n",
        "b is a"
      ]
    },
    {
      "cell_type": "markdown",
      "id": "f6ab3262",
      "metadata": {
        "id": "f6ab3262"
      },
      "source": [
        "Então o diagrama de estado fica assim:"
      ]
    },
    {
      "cell_type": "code",
      "execution_count": null,
      "id": "dd406791",
      "metadata": {
        "tags": [],
        "id": "dd406791"
      },
      "outputs": [],
      "source": [
        "t = [1, 2, 3]\n",
        "binding1 = Binding(Value('a'), Value(repr(t)), dy=-0.11)\n",
        "binding2 = Binding(Value('b'), draw_value=False, dy=0.11)\n",
        "frame = Frame([binding1, binding2], dy=-0.25)"
      ]
    },
    {
      "cell_type": "code",
      "execution_count": null,
      "id": "552e1e1e",
      "metadata": {
        "tags": [],
        "id": "552e1e1e"
      },
      "outputs": [],
      "source": [
        "width, height, x, y = [1.11, 0.81, 0.17, 0.56]\n",
        "ax = diagram(width, height)\n",
        "bbox = frame.draw(ax, x, y)\n",
        "# adjust(x, y, bbox)"
      ]
    },
    {
      "cell_type": "markdown",
      "id": "c676fde9",
      "metadata": {
        "id": "c676fde9"
      },
      "source": [
        "A associação de uma variável com um objeto é chamada de **referência**.\n",
        "Neste exemplo, há duas referências ao mesmo objeto.\n",
        "\n",
        "Um objeto com mais de uma referência tem mais de um nome, então dizemos que o objeto está ***aliased**.*\n",
        "Se o objeto *aliased* for mutável, as alterações feitas com um nome afetam o outro.\n",
        "Neste exemplo, se alterarmos o objeto ao qual `b` se refere, também estamos alterando o objeto ao qual `a` se refere."
      ]
    },
    {
      "cell_type": "code",
      "execution_count": null,
      "id": "6e3c1b24",
      "metadata": {
        "id": "6e3c1b24"
      },
      "outputs": [],
      "source": [
        "b[0] = 5\n",
        "a"
      ]
    },
    {
      "cell_type": "markdown",
      "id": "e3ef0537",
      "metadata": {
        "id": "e3ef0537"
      },
      "source": [
        "Então diríamos que `a` \"vê\" essa mudança.\n",
        "Embora esse comportamento possa ser útil, ele é propenso a erros.\n",
        "Em geral, é mais seguro evitar *aliasing* quando você está trabalhando com objetos mutáveis.\n",
        "\n",
        "Para objetos imutáveis ​​como *strings*, *aliasing* não é um problema tão grande.\n",
        "Neste exemplo:"
      ]
    },
    {
      "cell_type": "code",
      "execution_count": null,
      "id": "dad8a246",
      "metadata": {
        "id": "dad8a246"
      },
      "outputs": [],
      "source": [
        "a = 'banana'\n",
        "b = 'banana'"
      ]
    },
    {
      "cell_type": "markdown",
      "id": "952bbf60",
      "metadata": {
        "id": "952bbf60"
      },
      "source": [
        "Quase nunca faz diferença se `a` e `b` se referem à mesma *string* ou não."
      ]
    },
    {
      "cell_type": "markdown",
      "id": "35045bef",
      "metadata": {
        "id": "35045bef"
      },
      "source": [
        "## Argumentos de listas\n",
        "\n",
        "Quando você passa uma lista para uma função, a função obtém uma referência à\n",
        "lista. Se a função modifica a lista, o chamador vê a alteração. Por\n",
        "exemplo, `pop_first` usa o método `pop` de lista para remover o primeiro elemento de uma lista:"
      ]
    },
    {
      "cell_type": "code",
      "execution_count": null,
      "id": "613b1845",
      "metadata": {
        "id": "613b1845"
      },
      "outputs": [],
      "source": [
        "def pop_first(lst):\n",
        "    return lst.pop(0)"
      ]
    },
    {
      "cell_type": "markdown",
      "id": "4953b0f9",
      "metadata": {
        "id": "4953b0f9"
      },
      "source": [
        "Podemos usá-lo assim:"
      ]
    },
    {
      "cell_type": "code",
      "execution_count": null,
      "id": "3aff3598",
      "metadata": {
        "id": "3aff3598"
      },
      "outputs": [],
      "source": [
        "letters = ['a', 'b', 'c']\n",
        "pop_first(letters)"
      ]
    },
    {
      "cell_type": "markdown",
      "id": "ef5d3c1e",
      "metadata": {
        "id": "ef5d3c1e"
      },
      "source": [
        "O valor dedevolvido é o primeiro elemento, que foi removido da lista -- como podemos ver exibindo a lista modificada:"
      ]
    },
    {
      "cell_type": "code",
      "execution_count": null,
      "id": "c10e4dcc",
      "metadata": {
        "id": "c10e4dcc"
      },
      "outputs": [],
      "source": [
        "letters"
      ]
    },
    {
      "cell_type": "markdown",
      "id": "e5288e08",
      "metadata": {
        "id": "e5288e08"
      },
      "source": [
        "Neste exemplo, o parâmetro `lst` e a variável `letters` são *aliases* para o mesmo objeto, então o diagrama de estado fica assim:"
      ]
    },
    {
      "cell_type": "code",
      "execution_count": null,
      "id": "a13e72c7",
      "metadata": {
        "tags": [],
        "id": "a13e72c7"
      },
      "outputs": [],
      "source": [
        "lst = make_list('abc', dy=-0.3, offsetx=0.1)\n",
        "binding1 = Binding(Value('letters'), draw_value=False)\n",
        "frame1 = Frame([binding1], name='__main__', loc='left')\n",
        "\n",
        "binding2 = Binding(Value('lst'), draw_value=False, dx=0.61, dy=0.35)\n",
        "frame2 = Frame([binding2], name='pop_first', loc='left', offsetx=0.08)\n",
        "\n",
        "stack = Stack([frame1, frame2], dx=-0.3, dy=-0.5)"
      ]
    },
    {
      "cell_type": "code",
      "execution_count": null,
      "id": "1a06dae9",
      "metadata": {
        "tags": [],
        "id": "1a06dae9"
      },
      "outputs": [],
      "source": [
        "width, height, x, y = [2.04, 1.24, 1.06, 0.85]\n",
        "ax = diagram(width, height)\n",
        "bbox1 = stack.draw(ax, x, y)\n",
        "bbox2 = lst.draw(ax, x+0.5, y)\n",
        "bbox = Bbox.union([bbox1, bbox2])\n",
        "adjust(x, y, bbox)"
      ]
    },
    {
      "cell_type": "markdown",
      "id": "c1a093d2",
      "metadata": {
        "id": "c1a093d2"
      },
      "source": [
        "If the function modifies the object, those changes persist after the function is done.\n",
        "Passar uma referência a um objeto como argumento para uma função cria uma forma de *aliasing*.\n",
        "Se a função modifica o objeto, essas alterações persistem após a função encerrar."
      ]
    },
    {
      "cell_type": "markdown",
      "id": "88c07ec9",
      "metadata": {
        "tags": [],
        "id": "88c07ec9"
      },
      "source": [
        "## Criando uma lista de palavras\n",
        "\n",
        "No capítulo anterior, lemos o arquivo `words.txt` e procuramos por palavras com certas propriedades, como palavras que usam a letra `e`.\n",
        "Porém fizemos a leitura do arquivo inteiro muitas vezes, o que não é eficiente.\n",
        "É melhor ler o arquivo uma vez e colocar as palavras em uma lista.\n",
        "O laço a seguir mostra como:"
      ]
    },
    {
      "cell_type": "code",
      "execution_count": null,
      "id": "6550f0b8",
      "metadata": {
        "tags": [],
        "id": "6550f0b8"
      },
      "outputs": [],
      "source": [
        "download('https://raw.githubusercontent.com/AllenDowney/ThinkPython/v3/words.txt');"
      ]
    },
    {
      "cell_type": "code",
      "execution_count": null,
      "id": "e5a94833",
      "metadata": {
        "id": "e5a94833"
      },
      "outputs": [],
      "source": [
        "word_list = []\n",
        "\n",
        "for line in open('words.txt'):\n",
        "    word = line.strip()\n",
        "    word_list.append(word)\n",
        "\n",
        "len(word_list)"
      ]
    },
    {
      "cell_type": "markdown",
      "id": "44450ffa",
      "metadata": {
        "id": "44450ffa"
      },
      "source": [
        "Antes do laço, `word_list` é inicializada com uma lista vazia.\n",
        "A cada vez que o laço é executado, o método `append` adiciona uma palavra ao final.\n",
        "Quando o laço é concluído, há mais de 113.000 palavras na lista.\n",
        "\n",
        "Outra maneira de fazer a mesma coisa é usar `read` para ler o arquivo inteiro em atribuir a uma *string*:"
      ]
    },
    {
      "cell_type": "code",
      "execution_count": null,
      "id": "32e28204",
      "metadata": {
        "id": "32e28204"
      },
      "outputs": [],
      "source": [
        "string = open('words.txt').read()\n",
        "len(string)"
      ]
    },
    {
      "cell_type": "markdown",
      "id": "65718c7f",
      "metadata": {
        "id": "65718c7f"
      },
      "source": [
        "O resultado é uma única *string* com mais de um milhão de caracteres.\n",
        "Podemos usar o método `split` para dividi-la em uma lista de palavras:"
      ]
    },
    {
      "cell_type": "code",
      "execution_count": null,
      "id": "4e35f7ce",
      "metadata": {
        "id": "4e35f7ce"
      },
      "outputs": [],
      "source": [
        "word_list = string.split()\n",
        "len(word_list)"
      ]
    },
    {
      "cell_type": "markdown",
      "id": "1b5b25a3",
      "metadata": {
        "id": "1b5b25a3"
      },
      "source": [
        "Now, to check whether a string appears in the list, we can use the `in` operator.\n",
        "For example, `'demotic'` is in the list.\n",
        "Agora, para verificar se uma *string* aparece na lista, podemos usar o operador `in`.\n",
        "Por exemplo, `'demotic'` está na lista:"
      ]
    },
    {
      "cell_type": "code",
      "execution_count": null,
      "id": "a778a62a",
      "metadata": {
        "id": "a778a62a"
      },
      "outputs": [],
      "source": [
        "'demotic' in word_list"
      ]
    },
    {
      "cell_type": "markdown",
      "id": "9df6674d",
      "metadata": {
        "id": "9df6674d"
      },
      "source": [
        "Mas `'contrafibularities'` não está:"
      ]
    },
    {
      "cell_type": "code",
      "execution_count": null,
      "id": "63341c0e",
      "metadata": {
        "id": "63341c0e"
      },
      "outputs": [],
      "source": [
        "'contrafibularities' in word_list"
      ]
    },
    {
      "cell_type": "markdown",
      "id": "243c25b6",
      "metadata": {
        "id": "243c25b6"
      },
      "source": [
        "E devo dizer que estou anaspéptico (em inglês, *anaspeptic*) em relação a isso."
      ]
    },
    {
      "cell_type": "markdown",
      "id": "ce9ffd79",
      "metadata": {
        "id": "ce9ffd79"
      },
      "source": [
        "## Depuração\n",
        "\n",
        "Note que a maioria dos métodos de lista modificam o argumento e devolvem `None`.\n",
        "Isso é o oposto dos métodos de *string*, que devolvem uma nova *string* e deixam a original como estava.\n",
        "\n",
        "Se você está acostumado a escrever código de *string* como este:"
      ]
    },
    {
      "cell_type": "code",
      "execution_count": null,
      "id": "88872f14",
      "metadata": {
        "id": "88872f14"
      },
      "outputs": [],
      "source": [
        "word = 'plumage!'\n",
        "word = word.strip('!')\n",
        "word"
      ]
    },
    {
      "cell_type": "markdown",
      "id": "d2117582",
      "metadata": {
        "id": "d2117582"
      },
      "source": [
        "É tentador escrever código de lista como este:"
      ]
    },
    {
      "cell_type": "code",
      "execution_count": null,
      "id": "e28e7135",
      "metadata": {
        "id": "e28e7135"
      },
      "outputs": [],
      "source": [
        "t = [1, 2, 3]\n",
        "t = t.remove(3)           # WRONG!"
      ]
    },
    {
      "cell_type": "markdown",
      "id": "991c439d",
      "metadata": {
        "id": "991c439d"
      },
      "source": [
        "`remove` modifica a lista e devolve `None`, então a próxima operação que você executar com `t` provavelmente falhará:"
      ]
    },
    {
      "cell_type": "code",
      "execution_count": null,
      "id": "97cf0c61",
      "metadata": {
        "tags": [],
        "id": "97cf0c61"
      },
      "outputs": [],
      "source": [
        "%%expect AttributeError\n",
        "\n",
        "t.remove(2)"
      ]
    },
    {
      "cell_type": "markdown",
      "id": "c500e2d8",
      "metadata": {
        "id": "c500e2d8"
      },
      "source": [
        "Esta mensagem de erro requer alguma explicação.\n",
        "Um **atributo** de um objeto é uma variável ou método associado a ele.\n",
        "Neste caso, o valor de `t` é `None`, que é um objeto `NoneType`, que não tem um atributo chamado `remove`, então o resultado é um `AttributeError`.\n",
        "\n",
        "Se você vir uma mensagem de erro como esta, você deve olhar para trás para frente o programa e ver se você chamou um método de lista incorretamente."
      ]
    },
    {
      "cell_type": "markdown",
      "id": "f90db780",
      "metadata": {
        "id": "f90db780"
      },
      "source": [
        "## Glossário\n",
        "\n",
        "**lista** (*list*)**:**\n",
        "Um objeto que contém uma sequência de valores.\n",
        "\n",
        "**elemento** (*element*)**:**\n",
        "Um dos valores em uma lista ou outra sequência.\n",
        "\n",
        "**lista aninhada** (*nested list*)**:**\n",
        "Uma lista que é um elemento de outra lista.\n",
        "\n",
        "**delimitador** (*delimiter*)**:**\n",
        "Um caractere ou *string* usado para indicar onde uma *string* deve ser dividida.\n",
        "\n",
        "**equivalente** (*equivalent*)**:**\n",
        "Ter o mesmo valor.\n",
        "\n",
        "**idêntico** (*identical*)**:**\n",
        "Ser o mesmo objeto (o que implica equivalência).\n",
        "\n",
        "**referência** (*reference*)**:**\n",
        "A associação entre uma variável e seu valor.\n",
        "\n",
        "***aliased*:**\n",
        "Se houver mais de uma variável que se refere a um objeto, o objeto está *aliased*.\n",
        "\n",
        "**atributo** (*attribute*)**:**\n",
        "Um dos valores nomeados associados a um objeto."
      ]
    },
    {
      "cell_type": "markdown",
      "id": "e67864e5",
      "metadata": {
        "id": "e67864e5"
      },
      "source": [
        "## Exercícios"
      ]
    },
    {
      "cell_type": "code",
      "execution_count": null,
      "id": "a4e34564",
      "metadata": {
        "tags": [],
        "id": "a4e34564"
      },
      "outputs": [],
      "source": [
        "# Esta célula diz ao Jupyter para fornecer informações detalhadas de depuração\n",
        "# quando ocorre um erro de tempo de execução. Execute-a antes de trabalhar nos\n",
        "# exercícios.\n",
        "\n",
        "%xmode Verbose"
      ]
    },
    {
      "cell_type": "markdown",
      "id": "ae9c42da",
      "metadata": {
        "id": "ae9c42da"
      },
      "source": [
        "For example, before you ask a question try typing \"Role: Basic Python Programming Instructor\".\n",
        "After that, the responses you get should use only basic features.\n",
        "If you still see features we you haven't learned, you can follow up with \"Can you write that using only basic Python features?\"\n",
        "\n",
        "### Pergunte a um assistente virtual\n",
        "\n",
        "Neste capítulo, usei as palavras \"*contrafibularities*\" e \"*anaspeptic*\", mas elas não são palavras em inglês de verdade.\n",
        "Elas foram usadas no programa de televisão britânico *Black Adder*, Temporada 3, Episódio 2, \"Ink and Incapability\".\n",
        "\n",
        "No entanto, quando perguntei ao ChatGPT 3.5 (versão de 3 de agosto de 2023) de onde essas palavras vieram, ele inicialmente afirmou que elas são do Monty Python e, mais tarde, afirmou que são da peça de Tom Stoppard *Rosencrantz and Guildenstern Are Dead*.\n",
        "\n",
        "Se você perguntar agora, poderá obter resultados diferentes.\n",
        "Mas este exemplo é um lembrete de que assistentes virtuais nem sempre são precisos, então você deve verificar se os resultados estão corretos.\n",
        "À medida que você ganha experiência, terá uma noção de quais perguntas os assistentes virtuais podem responder de forma confiável.\n",
        "Neste exemplo, uma pesquisa convencional na web pode identificar a fonte dessas palavras rapidamente.\n",
        "\n",
        "Se você ficar preso em algum dos exercícios deste capítulo, considere pedir ajuda a um assistente virtual.\n",
        "Se você obtiver um resultado que use recursos que ainda não aprendemos, você pode atribuir ao assistente virtual um \"papel\".\n",
        "\n",
        "Por exemplo, antes de fazer uma pergunta, tente digitar \"Papel: Instrutor de Programação Básica em Python\" (\"*Role: Basic Python Programming Instructor*\").\n",
        "Depois disso, as respostas que você obtiver devem usar apenas recursos básicos.\n",
        "Se você ainda vir recursos que não aprendeu, você pode prosseguir com \"Você consegue escrever isso usando apenas recursos básicos do Python?\" (\"*Can you write that using only basic Python features?*\")."
      ]
    },
    {
      "cell_type": "markdown",
      "id": "31d5b304",
      "metadata": {
        "id": "31d5b304"
      },
      "source": [
        "### Exercício\n",
        "\n",
        "Duas palavras são anagramas se você puder reorganizar as letras de uma para escrever a outra.\n",
        "Por exemplo, `tops` é um anagrama de `stop`.\n",
        "\n",
        "Uma maneira de verificar se duas palavras são anagramas é ordenar as letras em ambas as palavras.\n",
        "Se as listas de letras ordenadas forem as mesmas, as palavras são anagramas.\n",
        "\n",
        "Escreva uma função chamada `is_anagram` que recebe duas strings e devolve `True` se forem anagramas."
      ]
    },
    {
      "cell_type": "markdown",
      "id": "a882bfeb",
      "metadata": {
        "tags": [],
        "id": "a882bfeb"
      },
      "source": [
        "Para começar, aqui está um esboço da função com doctests:"
      ]
    },
    {
      "cell_type": "code",
      "execution_count": null,
      "id": "9c5916ed",
      "metadata": {
        "tags": [],
        "id": "9c5916ed"
      },
      "outputs": [],
      "source": [
        "def is_anagram(word1, word2):\n",
        "    \"\"\"Verifica se duas palavras são anagramas.\n",
        "\n",
        "    >>> is_anagram('tops', 'stop')\n",
        "    True\n",
        "    >>> is_anagram('skate', 'takes')\n",
        "    True\n",
        "    >>> is_anagram('tops', 'takes')\n",
        "    False\n",
        "    >>> is_anagram('skate', 'stop')\n",
        "    False\n",
        "    \"\"\"\n",
        "    return None"
      ]
    },
    {
      "cell_type": "code",
      "execution_count": null,
      "id": "5885cbd3",
      "metadata": {
        "id": "5885cbd3"
      },
      "outputs": [],
      "source": [
        "# A solução vai aqui"
      ]
    },
    {
      "cell_type": "markdown",
      "id": "a86e7403",
      "metadata": {
        "tags": [],
        "id": "a86e7403"
      },
      "source": [
        "Você pode usar `doctest` para testar sua função:"
      ]
    },
    {
      "cell_type": "code",
      "execution_count": null,
      "id": "ce7a96ec",
      "metadata": {
        "tags": [],
        "id": "ce7a96ec"
      },
      "outputs": [],
      "source": [
        "from doctest import run_docstring_examples\n",
        "\n",
        "def run_doctests(func):\n",
        "    run_docstring_examples(func, globals(), name=func.__name__)\n",
        "\n",
        "run_doctests(is_anagram)"
      ]
    },
    {
      "cell_type": "markdown",
      "id": "8501f3ba",
      "metadata": {
        "id": "8501f3ba"
      },
      "source": [
        "Usando sua função e a lista de palavras, encontre todos os anagramas de `takes`."
      ]
    },
    {
      "cell_type": "code",
      "execution_count": null,
      "id": "75e17c7b",
      "metadata": {
        "id": "75e17c7b"
      },
      "outputs": [],
      "source": [
        "# A solução vai aqui"
      ]
    },
    {
      "cell_type": "markdown",
      "id": "7f279f2f",
      "metadata": {
        "id": "7f279f2f"
      },
      "source": [
        "### Exercício\n",
        "\n",
        "O Python fornece uma função interna chamada `reversed` que recebe como argumento uma sequência de elementos -- como uma lista ou uma *string* -- e devolve um objeto `reversed` que contém os elementos em ordem reversa:"
      ]
    },
    {
      "cell_type": "code",
      "execution_count": null,
      "id": "aafa5db5",
      "metadata": {
        "id": "aafa5db5"
      },
      "outputs": [],
      "source": [
        "reversed('parrot')"
      ]
    },
    {
      "cell_type": "markdown",
      "id": "0f95c76f",
      "metadata": {
        "id": "0f95c76f"
      },
      "source": [
        "Se você quiser os elementos invertidos em uma lista, você pode usar a função `list`:"
      ]
    },
    {
      "cell_type": "code",
      "execution_count": null,
      "id": "06cbb42a",
      "metadata": {
        "id": "06cbb42a"
      },
      "outputs": [],
      "source": [
        "list(reversed('parrot'))"
      ]
    },
    {
      "cell_type": "markdown",
      "id": "8fc79a2f",
      "metadata": {
        "id": "8fc79a2f"
      },
      "source": [
        "Ou se você quiser colocá-los em uma *string*, você pode usar o método `join`:"
      ]
    },
    {
      "cell_type": "code",
      "execution_count": null,
      "id": "18a73205",
      "metadata": {
        "id": "18a73205"
      },
      "outputs": [],
      "source": [
        "''.join(reversed('parrot'))"
      ]
    },
    {
      "cell_type": "markdown",
      "id": "ec4ce196",
      "metadata": {
        "id": "ec4ce196"
      },
      "source": [
        "Então podemos escrever uma função que inverte uma palavra assim:"
      ]
    },
    {
      "cell_type": "code",
      "execution_count": null,
      "id": "408932cb",
      "metadata": {
        "id": "408932cb"
      },
      "outputs": [],
      "source": [
        "def reverse_word(word):\n",
        "    return ''.join(reversed(word))"
      ]
    },
    {
      "cell_type": "markdown",
      "id": "21550b5f",
      "metadata": {
        "id": "21550b5f"
      },
      "source": [
        "Um palíndromo é uma palavra que é escrita da mesma forma de trás para frente, como \"noon\" e \"rotator\".\n",
        "Escreva uma função chamada `is_palindrome` que recebe como argumento uma *string* e devolve `True` se for um palíndromo e `False` caso contrário."
      ]
    },
    {
      "cell_type": "markdown",
      "id": "3748b4e0",
      "metadata": {
        "tags": [],
        "id": "3748b4e0"
      },
      "source": [
        "Aqui está um esboço da função com `doctests` que você pode usar para verificar sua função:"
      ]
    },
    {
      "cell_type": "code",
      "execution_count": null,
      "id": "9179d51c",
      "metadata": {
        "tags": [],
        "id": "9179d51c"
      },
      "outputs": [],
      "source": [
        "def is_palindrome(word):\n",
        "    \"\"\"Verifica se uma palavra é um palíndromo.\n",
        "\n",
        "    >>> is_palindrome('bob')\n",
        "    True\n",
        "    >>> is_palindrome('alice')\n",
        "    False\n",
        "    >>> is_palindrome('a')\n",
        "    True\n",
        "    >>> is_palindrome('')\n",
        "    True\n",
        "    \"\"\"\n",
        "    return False"
      ]
    },
    {
      "cell_type": "code",
      "execution_count": null,
      "id": "16d493ad",
      "metadata": {
        "id": "16d493ad"
      },
      "outputs": [],
      "source": [
        "# A solução vai aqui"
      ]
    },
    {
      "cell_type": "code",
      "execution_count": null,
      "id": "33c9b4ec",
      "metadata": {
        "tags": [],
        "id": "33c9b4ec"
      },
      "outputs": [],
      "source": [
        "run_doctests(is_palindrome)"
      ]
    },
    {
      "cell_type": "markdown",
      "id": "ad857abf",
      "metadata": {
        "id": "ad857abf"
      },
      "source": [
        "Você pode usar o seguinte laço de repetição para encontrar todos os palíndromos na lista de palavras com pelo menos 7 letras:"
      ]
    },
    {
      "cell_type": "code",
      "execution_count": null,
      "id": "fea01394",
      "metadata": {
        "tags": [],
        "id": "fea01394"
      },
      "outputs": [],
      "source": [
        "for word in word_list:\n",
        "    if len(word) >= 7 and is_palindrome(word):\n",
        "        print(word)"
      ]
    },
    {
      "cell_type": "markdown",
      "id": "11386f70",
      "metadata": {
        "id": "11386f70"
      },
      "source": [
        "### Exercício\n",
        "\n",
        "Escreva uma função chamada `reverse_sentence` que recebe como argumento uma *string* que contém qualquer número de palavras separadas por espaços.\n",
        "Ela deve devolver uma nova *string* que contém as mesmas palavras em ordem reversa.\n",
        "Por exemplo, se o argumento for \"Reverse this sentence\", o resultado deve ser \"Sentence this reverse\".\n",
        "\n",
        "Dica: você pode usar os métodos `capitalize` para colocar a primeira palavra em maiúscula e converter as outras palavras em minúsculas."
      ]
    },
    {
      "cell_type": "markdown",
      "id": "13882893",
      "metadata": {
        "tags": [],
        "id": "13882893"
      },
      "source": [
        "Para começar, aqui está um esboço da função com `doctests`:"
      ]
    },
    {
      "cell_type": "code",
      "execution_count": null,
      "id": "d9b5b362",
      "metadata": {
        "tags": [],
        "id": "d9b5b362"
      },
      "outputs": [],
      "source": [
        "def reverse_sentence(input_string):\n",
        "    '''Inverte as palavras em uma sequência e coloca a primeira letra em\n",
        "    maiúscula.\n",
        "\n",
        "    >>> reverse_sentence('Reverse this sentence')\n",
        "    'Sentence this reverse'\n",
        "\n",
        "    >>> reverse_sentence('Python')\n",
        "    'Python'\n",
        "\n",
        "    >>> reverse_sentence('')\n",
        "    ''\n",
        "\n",
        "    >>> reverse_sentence('One for all and all for one')\n",
        "    'One for all and all for one'\n",
        "    '''\n",
        "    return None"
      ]
    },
    {
      "cell_type": "code",
      "execution_count": null,
      "id": "a2cb1451",
      "metadata": {
        "id": "a2cb1451"
      },
      "outputs": [],
      "source": [
        "# A solução vai aqui"
      ]
    },
    {
      "cell_type": "code",
      "execution_count": null,
      "id": "769d1c7a",
      "metadata": {
        "tags": [],
        "id": "769d1c7a"
      },
      "outputs": [],
      "source": [
        "run_doctests(reverse_sentence)"
      ]
    },
    {
      "cell_type": "markdown",
      "id": "fb5f24b1",
      "metadata": {
        "id": "fb5f24b1"
      },
      "source": [
        "### Exercício\n",
        "\n",
        "Escreva uma função chamada `total_length` que recebe uma lista de *strings* e devolve o comprimento total das *strings*.\n",
        "O comprimento total das palavras em `word_list` deve ser $902{.}728$."
      ]
    },
    {
      "cell_type": "code",
      "execution_count": null,
      "id": "1fba5377",
      "metadata": {
        "id": "1fba5377"
      },
      "outputs": [],
      "source": [
        "# A solução vai aqui"
      ]
    },
    {
      "cell_type": "code",
      "execution_count": null,
      "id": "21f4cf1c",
      "metadata": {
        "id": "21f4cf1c"
      },
      "outputs": [],
      "source": [
        "# A solução vai aqui"
      ]
    },
    {
      "cell_type": "code",
      "execution_count": null,
      "id": "c3efb216",
      "metadata": {
        "id": "c3efb216"
      },
      "outputs": [],
      "source": []
    },
    {
      "cell_type": "markdown",
      "id": "a7f4edf8",
      "metadata": {
        "tags": [],
        "id": "a7f4edf8"
      },
      "source": [
        "[Pense Python: 3ª Edição](https://rodrigocarlson.github.io/PensePython3ed/)\n",
        "\n",
        "Copyright 2024 [Allen B. Downey](https://allendowney.com/) (versão original)\n",
        "\n",
        "Copyright 2025 [Rodrigo Castelan Carlson](https://rodrigocarlson.paginas.ufsc.br/) (desta versão)\n",
        "\n",
        "Foram preservadas as mesmas licenças da versão original.\n",
        "\n",
        "Licença dos códigos: [MIT License](https://mit-license.org/)\n",
        "\n",
        "Licença dos textos: [Creative Commons Attribution-NonCommercial-ShareAlike 4.0 International](https://creativecommons.org/licenses/by-nc-sa/4.0/)"
      ]
    }
  ],
  "metadata": {
    "celltoolbar": "Tags",
    "kernelspec": {
      "display_name": "Python 3 (ipykernel)",
      "language": "python",
      "name": "python3"
    },
    "language_info": {
      "codemirror_mode": {
        "name": "ipython",
        "version": 3
      },
      "file_extension": ".py",
      "mimetype": "text/x-python",
      "name": "python",
      "nbconvert_exporter": "python",
      "pygments_lexer": "ipython3",
      "version": "3.10.11"
    },
    "colab": {
      "provenance": []
    }
  },
  "nbformat": 4,
  "nbformat_minor": 5
}